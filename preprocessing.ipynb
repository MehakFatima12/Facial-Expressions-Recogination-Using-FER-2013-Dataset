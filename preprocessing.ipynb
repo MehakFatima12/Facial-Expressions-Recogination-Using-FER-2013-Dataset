{
 "cells": [
  {
   "cell_type": "markdown",
   "id": "4050b351-cbcd-4eff-8463-3c39e18a2ebb",
   "metadata": {},
   "source": [
    "**Imports and Setup**"
   ]
  },
  {
   "cell_type": "code",
   "execution_count": 1,
   "id": "b6f834dc-e860-4a35-a329-516a285ef122",
   "metadata": {},
   "outputs": [],
   "source": [
    "import csv\n",
    "import os\n",
    "import numpy as np\n",
    "import h5py"
   ]
  },
  {
   "cell_type": "markdown",
   "id": "77a2655d-8dbb-4625-a18a-092a885e8006",
   "metadata": {},
   "source": [
    "**Define File Paths and Create Lists**"
   ]
  },
  {
   "cell_type": "code",
   "execution_count": 10,
   "id": "af93e57c-7bdc-42cc-ad08-c73567ce1bf3",
   "metadata": {},
   "outputs": [],
   "source": [
    "# File path\n",
    "file = r'F:\\FER-2013 Project\\fer2013_vgg_resnet\\data\\challenges-in-representation-learning-facial-expression-recognition-challenge\\fer2013\\fer2013\\fer2013.csv'\n",
    "# Create lists to store data and labels\n",
    "Training_x = []\n",
    "Training_y = []\n",
    "PublicTest_x = []\n",
    "PublicTest_y = []\n",
    "PrivateTest_x = []\n",
    "PrivateTest_y = []\n",
    "\n",
    "# Path for saving the data\n",
    "datapath = os.path.join('data', 'data.h5')\n",
    "if not os.path.exists(os.path.dirname(datapath)):\n",
    "    os.makedirs(os.path.dirname(datapath))"
   ]
  },
  {
   "cell_type": "markdown",
   "id": "b5f1f767-963f-4eaf-bcca-7e0ceb6d1386",
   "metadata": {},
   "source": [
    "**Read CSV and Populate Lists**"
   ]
  },
  {
   "cell_type": "code",
   "execution_count": 11,
   "id": "f628b3e7-29ce-4b10-af4a-217af55bb26d",
   "metadata": {},
   "outputs": [
    {
     "name": "stdout",
     "output_type": "stream",
     "text": [
      "(28709, 2304)\n",
      "(3589, 2304)\n",
      "(3589, 2304)\n"
     ]
    }
   ],
   "source": [
    "# Read the CSV file and populate lists\n",
    "with open(file, 'r') as csvin:\n",
    "    data = csv.reader(csvin)\n",
    "    for row in data:\n",
    "        if row[-1] == 'Training':\n",
    "            temp_list = [int(pixel) for pixel in row[1].split()]\n",
    "            I = np.asarray(temp_list)\n",
    "            Training_y.append(int(row[0]))\n",
    "            Training_x.append(I.tolist())\n",
    "        \n",
    "        elif row[-1] == 'PublicTest':\n",
    "            temp_list = [int(pixel) for pixel in row[1].split()]\n",
    "            I = np.asarray(temp_list)\n",
    "            PublicTest_y.append(int(row[0]))\n",
    "            PublicTest_x.append(I.tolist())\n",
    "        \n",
    "        elif row[-1] == 'PrivateTest':\n",
    "            temp_list = [int(pixel) for pixel in row[1].split()]\n",
    "            I = np.asarray(temp_list)\n",
    "            PrivateTest_y.append(int(row[0]))\n",
    "            PrivateTest_x.append(I.tolist())\n",
    "\n",
    "# Print shapes to verify\n",
    "print(np.shape(Training_x))\n",
    "print(np.shape(PublicTest_x))\n",
    "print(np.shape(PrivateTest_x))"
   ]
  },
  {
   "cell_type": "markdown",
   "id": "48305ff4-54e2-4879-b16b-78501f59abbb",
   "metadata": {},
   "source": [
    "**Save Data to HDF5 File**"
   ]
  },
  {
   "cell_type": "code",
   "execution_count": 12,
   "id": "baf6961c-4625-4df7-ad68-30ecb0e445ce",
   "metadata": {},
   "outputs": [
    {
     "name": "stdout",
     "output_type": "stream",
     "text": [
      "Save data finish!!!\n"
     ]
    }
   ],
   "source": [
    "# Save data to HDF5 file\n",
    "with h5py.File(datapath, 'w') as datafile:\n",
    "    datafile.create_dataset(\"Training_pixel\", dtype='uint8', data=Training_x)\n",
    "    datafile.create_dataset(\"Training_label\", dtype='int64', data=Training_y)\n",
    "    datafile.create_dataset(\"PublicTest_pixel\", dtype='uint8', data=PublicTest_x)\n",
    "    datafile.create_dataset(\"PublicTest_label\", dtype='int64', data=PublicTest_y)\n",
    "    datafile.create_dataset(\"PrivateTest_pixel\", dtype='uint8', data=PrivateTest_x)\n",
    "    datafile.create_dataset(\"PrivateTest_label\", dtype='int64', data=PrivateTest_y)\n",
    "\n",
    "print(\"Save data finish!!!\")"
   ]
  }
 ],
 "metadata": {
  "kernelspec": {
   "display_name": "Facial Expression Recognition",
   "language": "python",
   "name": "facialexpressionrecogination"
  },
  "language_info": {
   "codemirror_mode": {
    "name": "ipython",
    "version": 3
   },
   "file_extension": ".py",
   "mimetype": "text/x-python",
   "name": "python",
   "nbconvert_exporter": "python",
   "pygments_lexer": "ipython3",
   "version": "3.12.1"
  }
 },
 "nbformat": 4,
 "nbformat_minor": 5
}

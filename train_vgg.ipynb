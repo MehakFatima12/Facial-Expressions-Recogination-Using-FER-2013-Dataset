{
 "cells": [
  {
   "cell_type": "markdown",
   "id": "b479191d-c7fc-4ee2-9dc2-c709f727a53a",
   "metadata": {},
   "source": [
    "**Import Libraries**"
   ]
  },
  {
   "cell_type": "code",
   "execution_count": 1,
   "id": "70d388ba-385f-4803-8e2e-12085265f4e0",
   "metadata": {},
   "outputs": [],
   "source": [
    "from __future__ import print_function\n",
    "\n",
    "import torch\n",
    "import torch.nn as nn\n",
    "import torch.optim as optim\n",
    "import torch.nn.functional as F\n",
    "import torch.backends.cudnn as cudnn\n",
    "import torchvision\n",
    "import transforms as transforms\n",
    "import numpy as np\n",
    "import os\n",
    "import argparse\n",
    "import utils\n",
    "from fer import FER2013\n",
    "from torch.autograd import Variable\n",
    "from models import *"
   ]
  },
  {
   "cell_type": "markdown",
   "id": "c4bf344e-3252-4af1-838d-60ce197d1ce2",
   "metadata": {},
   "source": [
    "**Parse Arguments**"
   ]
  },
  {
   "cell_type": "code",
   "execution_count": 2,
   "id": "3f175f10-4523-49de-947c-3a778d457635",
   "metadata": {},
   "outputs": [],
   "source": [
    "class Opt:\n",
    "    def __init__(self):\n",
    "        self.model = 'VGG19'\n",
    "        self.dataset = 'FER2013'\n",
    "        self.bs = 128\n",
    "        self.lr = 0.01\n",
    "        self.resume = True\n",
    "\n",
    "opt = Opt()"
   ]
  },
  {
   "cell_type": "markdown",
   "id": "7c42126c-e38e-4a29-a018-e1d8d082bc5a",
   "metadata": {},
   "source": [
    "**Setup and configuration**"
   ]
  },
  {
   "cell_type": "code",
   "execution_count": 3,
   "id": "162cfaba-7df0-4eca-8a17-aed642eeb54e",
   "metadata": {},
   "outputs": [],
   "source": [
    "use_cuda = torch.cuda.is_available()\n",
    "best_PublicTest_acc = 0  # best PublicTest accuracy\n",
    "best_PublicTest_acc_epoch = 0\n",
    "best_PrivateTest_acc = 0  # best PrivateTest accuracy\n",
    "best_PrivateTest_acc_epoch = 0\n",
    "start_epoch = 0  # start from epoch 0 or last checkpoint epoch\n",
    "\n",
    "learning_rate_decay_start = 80  # 50\n",
    "learning_rate_decay_every = 5   # 5\n",
    "learning_rate_decay_rate = 0.9  # 0.9\n",
    "\n",
    "cut_size = 44\n",
    "total_epoch = 100\n",
    "\n",
    "path = os.path.join(opt.dataset + '_' + opt.model)"
   ]
  },
  {
   "cell_type": "markdown",
   "id": "07203656-8a89-4429-b8b8-98ac6abe6f40",
   "metadata": {},
   "source": [
    "**Data preparation**"
   ]
  },
  {
   "cell_type": "code",
   "execution_count": 4,
   "id": "7fdee533-ce8e-4c8b-8f5f-d328929f6181",
   "metadata": {},
   "outputs": [
    {
     "name": "stdout",
     "output_type": "stream",
     "text": [
      "==> Preparing data..\n"
     ]
    }
   ],
   "source": [
    "print('==> Preparing data..')\n",
    "transform_train = transforms.Compose([\n",
    "    transforms.RandomCrop(44),\n",
    "    transforms.RandomHorizontalFlip(),\n",
    "    transforms.ToTensor(),\n",
    "])\n",
    "\n",
    "transform_test = transforms.Compose([\n",
    "    transforms.TenCrop(cut_size),\n",
    "    transforms.Lambda(lambda crops: torch.stack([transforms.ToTensor()(crop) for crop in crops])),\n",
    "])\n",
    "\n",
    "trainset = FER2013(split='Training', transform=transform_train)\n",
    "trainloader = torch.utils.data.DataLoader(trainset, batch_size=opt.bs, shuffle=True, num_workers=0)\n",
    "PublicTestset = FER2013(split='PublicTest', transform=transform_test)\n",
    "PublicTestloader = torch.utils.data.DataLoader(PublicTestset, batch_size=opt.bs, shuffle=False, num_workers=0)\n",
    "PrivateTestset = FER2013(split='PrivateTest', transform=transform_test)\n",
    "PrivateTestloader = torch.utils.data.DataLoader(PrivateTestset, batch_size=opt.bs, shuffle=False, num_workers=0)"
   ]
  },
  {
   "cell_type": "markdown",
   "id": "0d64ab7a-30b4-48b7-9152-95c9892d206f",
   "metadata": {},
   "source": [
    "**Model setup**"
   ]
  },
  {
   "cell_type": "code",
   "execution_count": 5,
   "id": "fa018fd6-acbc-429d-bff8-e04d4764423f",
   "metadata": {},
   "outputs": [
    {
     "name": "stdout",
     "output_type": "stream",
     "text": [
      "==> Resuming from checkpoint..\n"
     ]
    },
    {
     "name": "stderr",
     "output_type": "stream",
     "text": [
      "C:\\Users\\USER\\AppData\\Local\\Temp\\ipykernel_19664\\3114030640.py:10: FutureWarning: You are using `torch.load` with `weights_only=False` (the current default value), which uses the default pickle module implicitly. It is possible to construct malicious pickle data which will execute arbitrary code during unpickling (See https://github.com/pytorch/pytorch/blob/main/SECURITY.md#untrusted-models for more details). In a future release, the default value for `weights_only` will be flipped to `True`. This limits the functions that could be executed during unpickling. Arbitrary objects will no longer be allowed to be loaded via this mode unless they are explicitly allowlisted by the user via `torch.serialization.add_safe_globals`. We recommend you start setting `weights_only=True` for any use case where you don't have full control of the loaded file. Please open an issue on GitHub for any issues related to this experimental feature.\n",
      "  checkpoint = torch.load(os.path.join(path, 'PrivateTest_model.t7'))\n"
     ]
    }
   ],
   "source": [
    "if opt.model == 'VGG19':\n",
    "    net = VGG('VGG19')\n",
    "elif opt.model == 'Resnet18':\n",
    "    net = ResNet18()\n",
    "\n",
    "if opt.resume:\n",
    "    # Load checkpoint.\n",
    "    print('==> Resuming from checkpoint..')\n",
    "    assert os.path.isdir(path), 'Error: no checkpoint directory found!'\n",
    "    checkpoint = torch.load(os.path.join(path, 'PrivateTest_model.t7'))\n",
    "\n",
    "    # Check if the checkpoint contains the entire model object or just the state_dict\n",
    "    if isinstance(checkpoint['net'], nn.Module):\n",
    "        # If the checkpoint contains the entire model, assign it to `net`\n",
    "        net = checkpoint['net']\n",
    "    else:\n",
    "        # Otherwise, assume it's a state_dict and load it as usual\n",
    "        net.load_state_dict(checkpoint['net'])\n",
    "\n",
    "    best_PublicTest_acc = checkpoint['best_PublicTest_acc']\n",
    "    best_PrivateTest_acc = checkpoint['best_PrivateTest_acc']\n",
    "    best_PublicTest_acc_epoch = checkpoint['best_PublicTest_acc_epoch']\n",
    "    best_PrivateTest_acc_epoch = checkpoint['best_PrivateTest_acc_epoch']\n",
    "    start_epoch = checkpoint['best_PrivateTest_acc_epoch'] + 1\n",
    "else:\n",
    "    print('==> Building model..')\n",
    "\n",
    "if use_cuda:\n",
    "    net.cuda()\n",
    "\n",
    "criterion = nn.CrossEntropyLoss()\n",
    "optimizer = optim.SGD(net.parameters(), lr=opt.lr, momentum=0.9, weight_decay=5e-4)"
   ]
  },
  {
   "cell_type": "markdown",
   "id": "69107632-9c0c-48a3-9ae6-7b167b9225a5",
   "metadata": {},
   "source": [
    "**Training function**"
   ]
  },
  {
   "cell_type": "code",
   "execution_count": 6,
   "id": "897860cc-a0b8-481b-a6fc-1ed046272c12",
   "metadata": {},
   "outputs": [],
   "source": [
    "def train(epoch):\n",
    "    print('\\nEpoch: %d' % epoch)\n",
    "    global Train_acc\n",
    "    net.train()\n",
    "    train_loss = 0\n",
    "    correct = 0\n",
    "    total = 0\n",
    "\n",
    "    if epoch > learning_rate_decay_start and learning_rate_decay_start >= 0:\n",
    "        frac = (epoch - learning_rate_decay_start) // learning_rate_decay_every\n",
    "        decay_factor = learning_rate_decay_rate ** frac\n",
    "        current_lr = opt.lr * decay_factor\n",
    "        utils.set_lr(optimizer, current_lr)  # set the decayed rate\n",
    "    else:\n",
    "        current_lr = opt.lr\n",
    "    print('learning_rate: %s' % str(current_lr))\n",
    "\n",
    "    for batch_idx, (inputs, targets) in enumerate(trainloader):\n",
    "        if use_cuda:\n",
    "            inputs, targets = inputs.cuda(), targets.cuda()\n",
    "        optimizer.zero_grad()\n",
    "        inputs, targets = Variable(inputs), Variable(targets)\n",
    "        outputs = net(inputs)\n",
    "        loss = criterion(outputs, targets)\n",
    "        loss.backward()\n",
    "        utils.clip_gradient(optimizer, 0.1)\n",
    "        optimizer.step()\n",
    "        train_loss += loss.item()  \n",
    "        _, predicted = torch.max(outputs.data, 1)\n",
    "        total += targets.size(0)\n",
    "        correct += predicted.eq(targets.data).cpu().sum()\n",
    "\n",
    "        utils.progress_bar(batch_idx, len(trainloader), 'Loss: %.3f | Acc: %.3f%% (%d/%d)'\n",
    "                           % (train_loss/(batch_idx+1), 100.*correct/total, correct, total))\n",
    "\n",
    "    Train_acc = 100.*correct/total"
   ]
  },
  {
   "cell_type": "markdown",
   "id": "d88aa8c0-d25c-4bf0-8a86-f66d9412195e",
   "metadata": {},
   "source": [
    "**PublicTest function**"
   ]
  },
  {
   "cell_type": "code",
   "execution_count": 7,
   "id": "c4a79e1b-4df7-4c20-9756-5005b4c448e8",
   "metadata": {},
   "outputs": [],
   "source": [
    "def PublicTest(epoch):\n",
    "    global PublicTest_acc\n",
    "    global best_PublicTest_acc\n",
    "    global best_PublicTest_acc_epoch\n",
    "    net.eval()\n",
    "    PublicTest_loss = 0\n",
    "    correct = 0\n",
    "    total = 0\n",
    "    for batch_idx, (inputs, targets) in enumerate(PublicTestloader):\n",
    "        bs, ncrops, c, h, w = np.shape(inputs)\n",
    "        inputs = inputs.view(-1, c, h, w)\n",
    "        if use_cuda:\n",
    "            inputs, targets = inputs.cuda(), targets.cuda()\n",
    "        inputs, targets = Variable(inputs, volatile=True), Variable(targets)\n",
    "        outputs = net(inputs)\n",
    "        outputs_avg = outputs.view(bs, ncrops, -1).mean(1)  # avg over crops\n",
    "        loss = criterion(outputs_avg, targets)\n",
    "        PublicTest_loss += loss.item()\n",
    "        _, predicted = torch.max(outputs_avg.data, 1)\n",
    "        total += targets.size(0)\n",
    "        correct += predicted.eq(targets.data).cpu().sum()\n",
    "\n",
    "        utils.progress_bar(batch_idx, len(PublicTestloader), 'Loss: %.3f | Acc: %.3f%% (%d/%d)'\n",
    "                           % (PublicTest_loss / (batch_idx + 1), 100. * correct / total, correct, total))\n",
    "\n",
    "    # Save checkpoint.\n",
    "    PublicTest_acc = 100.*correct/total\n",
    "    if PublicTest_acc > best_PublicTest_acc:\n",
    "        print('Saving..')\n",
    "        print(\"best_PublicTest_acc: %0.3f\" % PublicTest_acc)\n",
    "        state = {\n",
    "            'net': net.state_dict() if use_cuda else net,\n",
    "            'acc': PublicTest_acc,\n",
    "            'epoch': epoch,\n",
    "        }\n",
    "        if not os.path.isdir(path):\n",
    "            os.mkdir(path)\n",
    "        torch.save(state, os.path.join(path, 'PublicTest_model.t7'))\n",
    "        best_PublicTest_acc = PublicTest_acc\n",
    "        best_PublicTest_acc_epoch = epoch"
   ]
  },
  {
   "cell_type": "markdown",
   "id": "2e1b4aa1-36e7-4ece-aac7-f648df0f75fd",
   "metadata": {},
   "source": [
    "**PrivateTest function**"
   ]
  },
  {
   "cell_type": "code",
   "execution_count": 8,
   "id": "ab180af2-66e1-4e3a-b4b9-69f9632c1c07",
   "metadata": {},
   "outputs": [],
   "source": [
    "def PrivateTest(epoch):\n",
    "    global PrivateTest_acc\n",
    "    global best_PrivateTest_acc\n",
    "    global best_PrivateTest_acc_epoch\n",
    "    net.eval()\n",
    "    PrivateTest_loss = 0\n",
    "    correct = 0\n",
    "    total = 0\n",
    "\n",
    "    with torch.no_grad():  # Disable gradient computation\n",
    "        for batch_idx, (inputs, targets) in enumerate(PrivateTestloader):\n",
    "            bs, ncrops, c, h, w = np.shape(inputs)\n",
    "            inputs = inputs.view(-1, c, h, w)\n",
    "            if use_cuda:\n",
    "                inputs, targets = inputs.cuda(), targets.cuda()\n",
    "\n",
    "            outputs = net(inputs)\n",
    "            outputs_avg = outputs.view(bs, ncrops, -1).mean(1)  # avg over crops\n",
    "            loss = criterion(outputs_avg, targets)\n",
    "            PrivateTest_loss += loss.item()\n",
    "\n",
    "            _, predicted = torch.max(outputs_avg.data, 1)\n",
    "            correct += predicted.eq(targets.data).cpu().sum()\n",
    "            total += targets.size(0)  # Update the total number of samples\n",
    "\n",
    "            utils.progress_bar(batch_idx, len(PrivateTestloader), 'Loss: %.3f | Acc: %.3f%% (%d/%d)'\n",
    "                               % (PrivateTest_loss / (batch_idx + 1), 100. * correct / total, correct, total))\n",
    "\n",
    "    # Save checkpoint if this is the best accuracy\n",
    "    PrivateTest_acc = 100. * correct / total\n",
    "    if PrivateTest_acc > best_PrivateTest_acc:\n",
    "        print('Saving..')\n",
    "        print(\"best_PrivateTest_acc: %0.3f\" % PrivateTest_acc)\n",
    "        state = {\n",
    "            'net': net.state_dict() if use_cuda else net,\n",
    "            'best_PublicTest_acc': best_PublicTest_acc,\n",
    "            'best_PrivateTest_acc': PrivateTest_acc,\n",
    "            'best_PublicTest_acc_epoch': best_PublicTest_acc_epoch,\n",
    "            'best_PrivateTest_acc_epoch': epoch,\n",
    "        }\n",
    "        if not os.path.isdir(path):\n",
    "            os.mkdir(path)\n",
    "        torch.save(state, os.path.join(path, 'PrivateTest_model.t7'))\n",
    "        best_PrivateTest_acc = PrivateTest_acc\n",
    "        best_PrivateTest_acc_epoch = epoch"
   ]
  },
  {
   "cell_type": "markdown",
   "id": "b3874ced-e237-4c3b-bd52-c5c0ce60ca2c",
   "metadata": {},
   "source": [
    "**Training loop**"
   ]
  },
  {
   "cell_type": "code",
   "execution_count": 9,
   "id": "e04207ac-0951-4b46-86ff-f93d98bab11e",
   "metadata": {
    "scrolled": true
   },
   "outputs": [
    {
     "name": "stdout",
     "output_type": "stream",
     "text": [
      "\n",
      "Epoch: 93\n",
      "learning_rate: 0.008100000000000001\n"
     ]
    },
    {
     "name": "stderr",
     "output_type": "stream",
     "text": [
      "F:\\FER-2013 Project\\fer2013_vgg_resnet\\transforms\\functional.py:63: UserWarning: TypedStorage is deprecated. It will be removed in the future and UntypedStorage will be the only storage class. This should only matter to you if you are using storages directly.  To access UntypedStorage directly, use tensor.untyped_storage() instead of tensor.storage()\n",
      "  img = torch.ByteTensor(torch.ByteStorage.from_buffer(pic.tobytes()))\n"
     ]
    },
    {
     "name": "stdout",
     "output_type": "stream",
     "text": [
      " [=============================>] | Loss: 0.101 | Acc: 96.475% (27697/28709)    225/225 \n"
     ]
    },
    {
     "name": "stderr",
     "output_type": "stream",
     "text": [
      "C:\\Users\\USER\\AppData\\Local\\Temp\\ipykernel_19664\\1887110498.py:14: UserWarning: volatile was removed and now has no effect. Use `with torch.no_grad():` instead.\n",
      "  inputs, targets = Variable(inputs, volatile=True), Variable(targets)\n"
     ]
    },
    {
     "name": "stdout",
     "output_type": "stream",
     "text": [
      " [============================>.] | Loss: 1.438 | Acc: 68.571% (2461/3589)      29/29 \n",
      " [============================>.] | Loss: 1.301 | Acc: 69.880% (2508/3589)      29/29 \n",
      "\n",
      "Epoch: 94\n",
      "learning_rate: 0.008100000000000001\n",
      " [=============================>] | Loss: 0.104 | Acc: 96.336% (27657/28709)    225/225 \n",
      " [============================>.] | Loss: 1.443 | Acc: 68.292% (2451/3589)      29/29 \n",
      " [============================>.] | Loss: 1.278 | Acc: 69.685% (2501/3589)      29/29 \n",
      "\n",
      "Epoch: 95\n",
      "learning_rate: 0.007290000000000001\n",
      " [=============================>] | Loss: 0.102 | Acc: 96.440% (27687/28709)    225/225 \n",
      " [============================>.] | Loss: 1.427 | Acc: 69.490% (2494/3589)      29/29 \n",
      " [============================>.] | Loss: 1.249 | Acc: 70.855% (2543/3589)      29/29 \n",
      "\n",
      "Epoch: 96\n",
      "learning_rate: 0.007290000000000001\n",
      " [=============================>] | Loss: 0.093 | Acc: 96.687% (27758/28709)    225/225 \n",
      " [============================>.] | Loss: 1.499 | Acc: 68.571% (2461/3589)      29/29 \n",
      " [============================>.] | Loss: 1.290 | Acc: 71.134% (2553/3589)      29/29 \n",
      "\n",
      "Epoch: 97\n",
      "learning_rate: 0.007290000000000001\n",
      " [=============================>] | Loss: 0.093 | Acc: 96.663% (27751/28709)    225/225 \n",
      " [============================>.] | Loss: 1.477 | Acc: 68.710% (2466/3589)      29/29 \n",
      " [============================>.] | Loss: 1.285 | Acc: 70.549% (2532/3589)      29/29 \n",
      "\n",
      "Epoch: 98\n",
      "learning_rate: 0.007290000000000001\n",
      " [=============================>] | Loss: 0.098 | Acc: 96.590% (27730/28709)    225/225 \n",
      " [============================>.] | Loss: 1.476 | Acc: 68.515% (2459/3589)      29/29 \n",
      " [============================>.] | Loss: 1.257 | Acc: 70.437% (2528/3589)      29/29 \n",
      "\n",
      "Epoch: 99\n",
      "learning_rate: 0.007290000000000001\n",
      " [=============================>] | Loss: 0.093 | Acc: 96.653% (27748/28709)    225/225 \n",
      " [============================>.] | Loss: 1.464 | Acc: 69.044% (2478/3589)      29/29 \n",
      " [============================>.] | Loss: 1.264 | Acc: 71.106% (2552/3589)      29/29 \n"
     ]
    }
   ],
   "source": [
    "for epoch in range(start_epoch, total_epoch):\n",
    "    train(epoch)\n",
    "    PublicTest(epoch)\n",
    "    PrivateTest(epoch)"
   ]
  },
  {
   "cell_type": "markdown",
   "id": "a1c968e3-c389-49c4-a8a6-3f6214f63045",
   "metadata": {},
   "source": [
    "**Print Results**"
   ]
  },
  {
   "cell_type": "code",
   "execution_count": 11,
   "id": "5007836c-441b-456e-8d04-796a0e9ce047",
   "metadata": {},
   "outputs": [
    {
     "name": "stdout",
     "output_type": "stream",
     "text": [
      "best_PublicTest_acc: 69.546\n",
      "best_PublicTest_acc_epoch: 86\n",
      "best_PrivateTest_acc: 71.580\n",
      "best_PrivateTest_acc_epoch: 92\n"
     ]
    }
   ],
   "source": [
    "print(\"best_PublicTest_acc: %0.3f\" % best_PublicTest_acc)\n",
    "print(\"best_PublicTest_acc_epoch: %d\" % best_PublicTest_acc_epoch)\n",
    "print(\"best_PrivateTest_acc: %0.3f\" % best_PrivateTest_acc)\n",
    "print(\"best_PrivateTest_acc_epoch: %d\" % best_PrivateTest_acc_epoch)"
   ]
  }
 ],
 "metadata": {
  "kernelspec": {
   "display_name": "Facial Expression Recognition",
   "language": "python",
   "name": "facialexpressionrecogination"
  },
  "language_info": {
   "codemirror_mode": {
    "name": "ipython",
    "version": 3
   },
   "file_extension": ".py",
   "mimetype": "text/x-python",
   "name": "python",
   "nbconvert_exporter": "python",
   "pygments_lexer": "ipython3",
   "version": "3.12.1"
  }
 },
 "nbformat": 4,
 "nbformat_minor": 5
}

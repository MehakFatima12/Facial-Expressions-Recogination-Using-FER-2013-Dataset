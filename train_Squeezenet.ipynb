{
 "cells": [
  {
   "cell_type": "code",
   "execution_count": 2,
   "id": "7c0e5d67-02e3-46ea-86db-a913a32f1ef7",
   "metadata": {},
   "outputs": [],
   "source": [
    "from __future__ import print_function\n",
    "\n",
    "import torch\n",
    "import torch.nn as nn\n",
    "import torch.optim as optim\n",
    "import torch.nn.functional as F\n",
    "import torch.backends.cudnn as cudnn\n",
    "import torchvision.transforms as transforms\n",
    "import numpy as np\n",
    "import os\n",
    "import argparse\n",
    "import utils\n",
    "from fer import FER2013\n",
    "from torch.autograd import Variable\n",
    "from models import *\n",
    "from torchvision import models\n",
    "from sklearn.metrics import precision_score, recall_score, f1_score, roc_auc_score, confusion_matrix\n",
    "from sklearn.metrics import precision_recall_fscore_support, roc_auc_score\n",
    "import csv"
   ]
  },
  {
   "cell_type": "code",
   "execution_count": 3,
   "id": "e1af68f3-5415-41b6-af0d-4ae84dcbf04f",
   "metadata": {},
   "outputs": [
    {
     "name": "stderr",
     "output_type": "stream",
     "text": [
      "F:\\FER-2013 Project\\facialexpressionrecogination\\Lib\\site-packages\\torchvision\\models\\_utils.py:208: UserWarning: The parameter 'pretrained' is deprecated since 0.13 and may be removed in the future, please use 'weights' instead.\n",
      "  warnings.warn(\n",
      "F:\\FER-2013 Project\\facialexpressionrecogination\\Lib\\site-packages\\torchvision\\models\\_utils.py:223: UserWarning: Arguments other than a weight enum or `None` for 'weights' are deprecated since 0.13 and may be removed in the future. The current behavior is equivalent to passing `weights=SqueezeNet1_1_Weights.IMAGENET1K_V1`. You can also use `weights=SqueezeNet1_1_Weights.DEFAULT` to get the most up-to-date weights.\n",
      "  warnings.warn(msg)\n"
     ]
    }
   ],
   "source": [
    "model = models.squeezenet1_1(pretrained=True)\n",
    "model.classifier[1] = nn.Conv2d(512, 7, kernel_size=(1,1), stride=(1,1))  "
   ]
  },
  {
   "cell_type": "code",
   "execution_count": 4,
   "id": "4d26b10f-4b4c-41c3-bee5-76bcfd96dbbb",
   "metadata": {},
   "outputs": [],
   "source": [
    "class Opt:\n",
    "    def __init__(self):\n",
    "        self.model = 'SqueezeNet'  \n",
    "        self.dataset = 'FER2013'\n",
    "        self.bs = 128\n",
    "        self.lr = 0.01\n",
    "        self.resume = False\n",
    "\n",
    "opt = Opt()"
   ]
  },
  {
   "cell_type": "code",
   "execution_count": 5,
   "id": "02abe5a9-ca3d-4435-a137-d9d2041ba91a",
   "metadata": {},
   "outputs": [],
   "source": [
    "use_cuda = torch.cuda.is_available()\n",
    "best_Testing_acc = 0 \n",
    "best_Testing_acc_epoch = 0\n",
    "best_Validation_acc = 0 \n",
    "best_Validation_acc_epoch = 0\n",
    "start_epoch = 0  \n",
    "\n",
    "learning_rate_decay_start = 80\n",
    "learning_rate_decay_every = 5\n",
    "learning_rate_decay_rate = 0.9\n",
    "\n",
    "cut_size = 44\n",
    "total_epoch = 100\n",
    "\n",
    "path = os.path.join(opt.dataset + '_' + opt.model)\n",
    "\n",
    "# Lists to save metrics\n",
    "train_acc_list = []\n",
    "train_loss_list = []\n",
    "testing_acc_list = []\n",
    "testing_loss_list = []\n",
    "validation_acc_list = []\n",
    "validation_loss_list = []\n",
    "train_precision_list, train_recall_list, train_f1_list, train_auc_list = [], [], [], []\n",
    "testing_precision_list, testing_recall_list, testing_f1_list, testing_auc_list = [], [], [], []\n",
    "validation_precision_list, validation_recall_list, validation_f1_list, validation_auc_list = [], [], [], []"
   ]
  },
  {
   "cell_type": "code",
   "execution_count": 14,
   "id": "9c249a11-9d8a-4329-b321-2e7fe6902556",
   "metadata": {},
   "outputs": [
    {
     "name": "stdout",
     "output_type": "stream",
     "text": [
      "==> Preparing data..\n"
     ]
    }
   ],
   "source": [
    "print('==> Preparing data..')\n",
    "transform_train = transforms.Compose([\n",
    "    transforms.RandomCrop(44),\n",
    "    transforms.RandomHorizontalFlip(),\n",
    "    transforms.ToTensor(),\n",
    "])\n",
    "\n",
    "transform_test = transforms.Compose([\n",
    "    transforms.TenCrop(cut_size),\n",
    "    transforms.Lambda(lambda crops: torch.stack([transforms.ToTensor()(crop) for crop in crops])),\n",
    "])\n",
    "\n",
    "trainset = FER2013(split='Training', transform=transform_train)\n",
    "trainloader = torch.utils.data.DataLoader(trainset, batch_size=opt.bs, shuffle=True, num_workers=0)\n",
    "Testingset = FER2013(split='Testing', transform=transform_test)\n",
    "Testingloader = torch.utils.data.DataLoader(Testingset, batch_size=opt.bs, shuffle=False, num_workers=0)\n",
    "Validationset = FER2013(split='Validation', transform=transform_test)\n",
    "Validationloader = torch.utils.data.DataLoader(Validationset, batch_size=opt.bs, shuffle=False, num_workers=0)"
   ]
  },
  {
   "cell_type": "code",
   "execution_count": 15,
   "id": "9dbe6f0f-816f-483b-9062-4b25b54f368d",
   "metadata": {},
   "outputs": [
    {
     "name": "stdout",
     "output_type": "stream",
     "text": [
      "==> Building model..\n",
      "==> Starting training from scratch.\n"
     ]
    }
   ],
   "source": [
    "print('==> Building model..')\n",
    "net = models.squeezenet1_1(pretrained=True)\n",
    "net.classifier[1] = nn.Conv2d(512, 7, kernel_size=(1,1), stride=(1,1))\n",
    "\n",
    "if not os.path.isdir(path):\n",
    "    print(\"No checkpoint directory found. Starting training from scratch.\")\n",
    "    opt.resume = False\n",
    "\n",
    "if opt.resume:\n",
    "    print('==> Resuming from checkpoint..')\n",
    "    checkpoint = torch.load(os.path.join(path, 'Validation_model.t7'), map_location=torch.device('cpu'))\n",
    "    net.load_state_dict(checkpoint['net'])\n",
    "    best_Testing_acc = checkpoint['best_Testing_acc']\n",
    "    best_Validation_acc = checkpoint['best_Validation_acc']\n",
    "    best_Testing_acc_epoch = checkpoint['best_Testing_acc_epoch']\n",
    "    best_Validation_acc_epoch = checkpoint['best_Validation_acc_epoch']\n",
    "    start_epoch = checkpoint['best_Validation_acc_epoch'] + 1\n",
    "else:\n",
    "    print('==> Starting training from scratch.')\n",
    "\n",
    "criterion = nn.CrossEntropyLoss()\n",
    "optimizer = optim.SGD(net.parameters(), lr=opt.lr, momentum=0.9, weight_decay=5e-4)"
   ]
  },
  {
   "cell_type": "code",
   "execution_count": 16,
   "id": "655b2bc5-441d-4e91-aba0-e1cf881c5e91",
   "metadata": {},
   "outputs": [],
   "source": [
    "def train(epoch):\n",
    "    print('\\nEpoch: %d' % epoch)\n",
    "    global Train_acc\n",
    "    net.train()\n",
    "    train_loss = 0\n",
    "    correct = 0\n",
    "    total = 0\n",
    "\n",
    "    if epoch > learning_rate_decay_start and learning_rate_decay_start >= 0:\n",
    "        frac = (epoch - learning_rate_decay_start) // learning_rate_decay_every\n",
    "        decay_factor = learning_rate_decay_rate ** frac\n",
    "        current_lr = opt.lr * decay_factor\n",
    "        utils.set_lr(optimizer, current_lr)\n",
    "    else:\n",
    "        current_lr = opt.lr\n",
    "    print('learning_rate: %s' % str(current_lr))\n",
    "\n",
    "    for batch_idx, (inputs, targets) in enumerate(trainloader):\n",
    "        inputs, targets = inputs, targets\n",
    "        optimizer.zero_grad()\n",
    "        inputs, targets = Variable(inputs), Variable(targets)\n",
    "        outputs = net(inputs)\n",
    "        loss = criterion(outputs, targets)\n",
    "        loss.backward()\n",
    "        utils.clip_gradient(optimizer, 0.1)\n",
    "        optimizer.step()\n",
    "        train_loss += loss.item()  \n",
    "        _, predicted = torch.max(outputs.data, 1)\n",
    "        total += targets.size(0)\n",
    "        correct += predicted.eq(targets.data).sum().item()\n",
    "\n",
    "        utils.progress_bar(batch_idx, len(trainloader), 'Loss: %.3f | Acc: %.3f%% (%d/%d)'\n",
    "                           % (train_loss/(batch_idx+1), 100.*correct/total, correct, total))\n",
    "\n",
    "    Train_acc = 100.*correct/total\n",
    "    train_acc_list.append(Train_acc)\n",
    "    train_loss_list.append(train_loss / len(trainloader))\n",
    "\n",
    "    outputs_np = outputs.detach().cpu().numpy()\n",
    "    targets_np = targets.detach().cpu().numpy()\n",
    "    predicted_np = np.argmax(outputs_np, axis=1)\n",
    "    \n",
    "    precision, recall, f1, _ = precision_recall_fscore_support(targets_np, predicted_np, average='weighted')\n",
    "    try:\n",
    "        auc = roc_auc_score(targets_np, outputs_np, multi_class='ovr')\n",
    "    except ValueError:\n",
    "        auc = 0.0  # Handle cases where AUC cannot be calculated\n",
    "    \n",
    "    train_precision_list.append(precision)\n",
    "    train_recall_list.append(recall)\n",
    "    train_f1_list.append(f1)\n",
    "    train_auc_list.append(auc)"
   ]
  },
  {
   "cell_type": "code",
   "execution_count": 17,
   "id": "abf98b02-86be-4bfd-8a3f-e23722d3f18f",
   "metadata": {},
   "outputs": [],
   "source": [
    "def Testing(epoch):\n",
    "    global Testing_acc\n",
    "    global best_Testing_acc\n",
    "    global best_Testing_acc_epoch\n",
    "    net.eval()\n",
    "    Testing_loss = 0\n",
    "    correct = 0\n",
    "    total = 0\n",
    "    for batch_idx, (inputs, targets) in enumerate(Testingloader):\n",
    "        bs, ncrops, c, h, w = np.shape(inputs)\n",
    "        inputs = inputs.view(-1, c, h, w)\n",
    "        inputs, targets = inputs, targets\n",
    "        with torch.no_grad():\n",
    "            outputs = net(inputs)\n",
    "            outputs_avg = outputs.view(bs, ncrops, -1).mean(1)\n",
    "            loss = criterion(outputs_avg, targets)\n",
    "            Testing_loss += loss.item()\n",
    "            _, predicted = torch.max(outputs_avg.data, 1)\n",
    "            total += targets.size(0)\n",
    "            correct += predicted.eq(targets.data).sum().item()\n",
    "\n",
    "        utils.progress_bar(batch_idx, len(Testingloader), 'Loss: %.3f | Acc: %.3f%% (%d/%d)'\n",
    "                           % (Testing_loss / (batch_idx + 1), 100. * correct / total, correct, total))\n",
    "\n",
    "    Testing_acc = 100.*correct/total\n",
    "    if Testing_acc > best_Testing_acc:\n",
    "        print('Saving..')\n",
    "        print(\"best_Testing_acc: %0.3f\" % Testing_acc)\n",
    "        state = {\n",
    "            'net': net.state_dict(),\n",
    "            'acc': Testing_acc,\n",
    "            'epoch': epoch,\n",
    "        }\n",
    "        if not os.path.isdir(path):\n",
    "            os.mkdir(path)\n",
    "        torch.save(state, os.path.join(path, 'Testing_model.t7'))\n",
    "        best_Testing_acc = Testing_acc\n",
    "        best_Testing_acc_epoch = epoch\n",
    "\n",
    "    testing_acc_list.append(Testing_acc)\n",
    "    testing_loss_list.append(Testing_loss / len(Testingloader))\n",
    "    outputs_np = outputs_avg.detach().cpu().numpy()\n",
    "    targets_np = targets.detach().cpu().numpy()\n",
    "    predicted_np = np.argmax(outputs_np, axis=1)\n",
    "    \n",
    "    precision, recall, f1, _ = precision_recall_fscore_support(targets_np, predicted_np, average='weighted')\n",
    "    try:\n",
    "        auc = roc_auc_score(targets_np, outputs_np, multi_class='ovr')\n",
    "    except ValueError:\n",
    "        auc = 0.0\n",
    "    \n",
    "    testing_precision_list.append(precision)\n",
    "    testing_recall_list.append(recall)\n",
    "    testing_f1_list.append(f1)\n",
    "    testing_auc_list.append(auc)\n"
   ]
  },
  {
   "cell_type": "code",
   "execution_count": 18,
   "id": "0a2354ea-5863-4dfc-a8e1-003c9b6c72a3",
   "metadata": {},
   "outputs": [],
   "source": [
    "def Validation(epoch):\n",
    "    global Validation_acc\n",
    "    global best_Validation_acc\n",
    "    global best_Validation_acc_epoch\n",
    "    net.eval()\n",
    "    Validation_loss = 0\n",
    "    correct = 0\n",
    "    total = 0\n",
    "\n",
    "    with torch.no_grad():\n",
    "        for batch_idx, (inputs, targets) in enumerate(Validationloader):\n",
    "            bs, ncrops, c, h, w = np.shape(inputs)\n",
    "            inputs = inputs.view(-1, c, h, w)\n",
    "            inputs, targets = inputs, targets\n",
    "\n",
    "            outputs = net(inputs)\n",
    "            outputs_avg = outputs.view(bs, ncrops, -1).mean(1)\n",
    "            loss = criterion(outputs_avg, targets)\n",
    "            Validation_loss += loss.item()\n",
    "\n",
    "            _, predicted = torch.max(outputs_avg.data, 1)\n",
    "            correct += predicted.eq(targets.data).sum().item()\n",
    "            total += targets.size(0)\n",
    "\n",
    "            utils.progress_bar(batch_idx, len(Validationloader), 'Loss: %.3f | Acc: %.3f%% (%d/%d)'\n",
    "                               % (Validation_loss / (batch_idx + 1), 100. * correct / total, correct, total))\n",
    "\n",
    "    Validation_acc = 100. * correct / total\n",
    "    if Validation_acc > best_Validation_acc:\n",
    "        print('Saving..')\n",
    "        print(\"best_Validation_acc: %0.3f\" % Validation_acc)\n",
    "        state = {\n",
    "            'net': net.state_dict(),\n",
    "            'acc': Validation_acc,\n",
    "            'epoch': epoch,\n",
    "        }\n",
    "        if not os.path.isdir(path):\n",
    "            os.mkdir(path)\n",
    "        torch.save(state, os.path.join(path, 'Validation_model.t7'))\n",
    "        best_Validation_acc = Validation_acc\n",
    "        best_Validation_acc_epoch = epoch\n",
    "\n",
    "    validation_acc_list.append(Validation_acc)\n",
    "    validation_loss_list.append(Validation_loss / len(Validationloader))\n",
    "    outputs_np = outputs_avg.detach().cpu().numpy()\n",
    "    targets_np = targets.detach().cpu().numpy()\n",
    "    predicted_np = np.argmax(outputs_np, axis=1)\n",
    "    \n",
    "    precision, recall, f1, _ = precision_recall_fscore_support(targets_np, predicted_np, average='weighted')\n",
    "    try:\n",
    "        auc = roc_auc_score(targets_np, outputs_np, multi_class='ovr')\n",
    "    except ValueError:\n",
    "        auc = 0.0\n",
    "    \n",
    "    validation_precision_list.append(precision)\n",
    "    validation_recall_list.append(recall)\n",
    "    validation_f1_list.append(f1)\n",
    "    validation_auc_list.append(auc)\n"
   ]
  },
  {
   "cell_type": "code",
   "execution_count": 19,
   "id": "4c1697ec-4132-4bfc-89bb-da108c1861c9",
   "metadata": {},
   "outputs": [],
   "source": [
    "def save_metrics():\n",
    "    metrics_file_path = os.path.join(path, \"metrics.csv\")\n",
    "    \n",
    "    # Combine all metrics into a single table\n",
    "    metrics = zip(\n",
    "        range(1, len(train_acc_list) + 1),  # Epoch numbers\n",
    "        train_acc_list, train_loss_list, train_precision_list, train_recall_list, train_f1_list, train_auc_list,\n",
    "        testing_acc_list, testing_loss_list, testing_precision_list, testing_recall_list, testing_f1_list, testing_auc_list,\n",
    "        validation_acc_list, validation_loss_list, validation_precision_list, validation_recall_list, validation_f1_list, validation_auc_list,\n",
    "    )\n",
    "    \n",
    "    # Write metrics to the CSV file\n",
    "    with open(metrics_file_path, 'w', newline='') as f:\n",
    "        writer = csv.writer(f)\n",
    "        writer.writerow([\n",
    "            \"Epoch\", \n",
    "            \"Train Accuracy\", \"Train Loss\", \"Train Precision\", \"Train Recall\", \"Train F1\", \"Train AUC\",\n",
    "            \"Testing Accuracy\", \"Testing Loss\", \"Testing Precision\", \"Testing Recall\", \"Testing F1\", \"Testing AUC\",\n",
    "            \"Validation Accuracy\", \"Validation Loss\", \"Validation Precision\", \"Validation Recall\", \"Validation F1\", \"Validation AUC\",\n",
    "        ])\n",
    "        for row in metrics:\n",
    "            writer.writerow(row)\n",
    "    \n",
    "    print(f\"Metrics saved to {metrics_file_path}\")"
   ]
  },
  {
   "cell_type": "code",
   "execution_count": 20,
   "id": "204d8f64-d46c-4ae2-81b5-82213c4db28a",
   "metadata": {},
   "outputs": [
    {
     "name": "stdout",
     "output_type": "stream",
     "text": [
      "\n",
      "Epoch: 0\n",
      "learning_rate: 0.01\n",
      " [=============================>] | Loss: 1.903 | Acc: 24.525% (7041/28709)     225/225 \n"
     ]
    },
    {
     "name": "stderr",
     "output_type": "stream",
     "text": [
      "F:\\FER-2013 Project\\facialexpressionrecogination\\Lib\\site-packages\\sklearn\\metrics\\_classification.py:1531: UndefinedMetricWarning: Precision is ill-defined and being set to 0.0 in labels with no predicted samples. Use `zero_division` parameter to control this behavior.\n",
      "  _warn_prf(average, modifier, f\"{metric.capitalize()} is\", len(result))\n"
     ]
    },
    {
     "name": "stdout",
     "output_type": "stream",
     "text": [
      " [============================>.] | Loss: 1.796 | Acc: 24.492% (879/3589)       29/29 \n",
      "Saving..\n",
      "best_Testing_acc: 24.492\n"
     ]
    },
    {
     "name": "stderr",
     "output_type": "stream",
     "text": [
      "F:\\FER-2013 Project\\facialexpressionrecogination\\Lib\\site-packages\\sklearn\\metrics\\_classification.py:1531: UndefinedMetricWarning: Precision is ill-defined and being set to 0.0 in labels with no predicted samples. Use `zero_division` parameter to control this behavior.\n",
      "  _warn_prf(average, modifier, f\"{metric.capitalize()} is\", len(result))\n"
     ]
    },
    {
     "name": "stdout",
     "output_type": "stream",
     "text": [
      " [============================>.] | Loss: 1.796 | Acc: 24.492% (879/3589)       29/29 \n",
      "Saving..\n",
      "best_Validation_acc: 24.492\n",
      "Metrics saved to FER2013_SqueezeNet\\metrics.csv\n",
      "\n",
      "Epoch: 1\n",
      "learning_rate: 0.01\n"
     ]
    },
    {
     "name": "stderr",
     "output_type": "stream",
     "text": [
      "F:\\FER-2013 Project\\facialexpressionrecogination\\Lib\\site-packages\\sklearn\\metrics\\_classification.py:1531: UndefinedMetricWarning: Precision is ill-defined and being set to 0.0 in labels with no predicted samples. Use `zero_division` parameter to control this behavior.\n",
      "  _warn_prf(average, modifier, f\"{metric.capitalize()} is\", len(result))\n"
     ]
    },
    {
     "name": "stdout",
     "output_type": "stream",
     "text": [
      " [=============================>] | Loss: 1.668 | Acc: 33.498% (9617/28709)     225/225 \n"
     ]
    },
    {
     "name": "stderr",
     "output_type": "stream",
     "text": [
      "F:\\FER-2013 Project\\facialexpressionrecogination\\Lib\\site-packages\\sklearn\\metrics\\_classification.py:1531: UndefinedMetricWarning: Precision is ill-defined and being set to 0.0 in labels with no predicted samples. Use `zero_division` parameter to control this behavior.\n",
      "  _warn_prf(average, modifier, f\"{metric.capitalize()} is\", len(result))\n"
     ]
    },
    {
     "name": "stdout",
     "output_type": "stream",
     "text": [
      " [============================>.] | Loss: 1.613 | Acc: 35.386% (1270/3589)      29/29 \n",
      "Saving..\n",
      "best_Testing_acc: 35.386\n"
     ]
    },
    {
     "name": "stderr",
     "output_type": "stream",
     "text": [
      "F:\\FER-2013 Project\\facialexpressionrecogination\\Lib\\site-packages\\sklearn\\metrics\\_classification.py:1531: UndefinedMetricWarning: Precision is ill-defined and being set to 0.0 in labels with no predicted samples. Use `zero_division` parameter to control this behavior.\n",
      "  _warn_prf(average, modifier, f\"{metric.capitalize()} is\", len(result))\n",
      "F:\\FER-2013 Project\\facialexpressionrecogination\\Lib\\site-packages\\sklearn\\metrics\\_classification.py:1531: UndefinedMetricWarning: Recall is ill-defined and being set to 0.0 in labels with no true samples. Use `zero_division` parameter to control this behavior.\n",
      "  _warn_prf(average, modifier, f\"{metric.capitalize()} is\", len(result))\n"
     ]
    },
    {
     "name": "stdout",
     "output_type": "stream",
     "text": [
      " [============================>.] | Loss: 1.613 | Acc: 35.386% (1270/3589)      29/29 \n",
      "Saving..\n",
      "best_Validation_acc: 35.386\n",
      "Metrics saved to FER2013_SqueezeNet\\metrics.csv\n",
      "\n",
      "Epoch: 2\n",
      "learning_rate: 0.01\n"
     ]
    },
    {
     "name": "stderr",
     "output_type": "stream",
     "text": [
      "F:\\FER-2013 Project\\facialexpressionrecogination\\Lib\\site-packages\\sklearn\\metrics\\_classification.py:1531: UndefinedMetricWarning: Precision is ill-defined and being set to 0.0 in labels with no predicted samples. Use `zero_division` parameter to control this behavior.\n",
      "  _warn_prf(average, modifier, f\"{metric.capitalize()} is\", len(result))\n",
      "F:\\FER-2013 Project\\facialexpressionrecogination\\Lib\\site-packages\\sklearn\\metrics\\_classification.py:1531: UndefinedMetricWarning: Recall is ill-defined and being set to 0.0 in labels with no true samples. Use `zero_division` parameter to control this behavior.\n",
      "  _warn_prf(average, modifier, f\"{metric.capitalize()} is\", len(result))\n"
     ]
    },
    {
     "name": "stdout",
     "output_type": "stream",
     "text": [
      " [=============================>] | Loss: 1.504 | Acc: 41.078% (11793/28709)    225/225 \n"
     ]
    },
    {
     "name": "stderr",
     "output_type": "stream",
     "text": [
      "F:\\FER-2013 Project\\facialexpressionrecogination\\Lib\\site-packages\\sklearn\\metrics\\_classification.py:1531: UndefinedMetricWarning: Precision is ill-defined and being set to 0.0 in labels with no predicted samples. Use `zero_division` parameter to control this behavior.\n",
      "  _warn_prf(average, modifier, f\"{metric.capitalize()} is\", len(result))\n"
     ]
    },
    {
     "name": "stdout",
     "output_type": "stream",
     "text": [
      " [============================>.] | Loss: 1.390 | Acc: 45.110% (1619/3589)      29/29 \n",
      "Saving..\n",
      "best_Testing_acc: 45.110\n"
     ]
    },
    {
     "name": "stderr",
     "output_type": "stream",
     "text": [
      "F:\\FER-2013 Project\\facialexpressionrecogination\\Lib\\site-packages\\sklearn\\metrics\\_classification.py:1531: UndefinedMetricWarning: Precision is ill-defined and being set to 0.0 in labels with no predicted samples. Use `zero_division` parameter to control this behavior.\n",
      "  _warn_prf(average, modifier, f\"{metric.capitalize()} is\", len(result))\n",
      "F:\\FER-2013 Project\\facialexpressionrecogination\\Lib\\site-packages\\sklearn\\metrics\\_classification.py:1531: UndefinedMetricWarning: Recall is ill-defined and being set to 0.0 in labels with no true samples. Use `zero_division` parameter to control this behavior.\n",
      "  _warn_prf(average, modifier, f\"{metric.capitalize()} is\", len(result))\n"
     ]
    },
    {
     "name": "stdout",
     "output_type": "stream",
     "text": [
      " [============================>.] | Loss: 1.390 | Acc: 45.110% (1619/3589)      29/29 \n",
      "Saving..\n",
      "best_Validation_acc: 45.110\n",
      "Metrics saved to FER2013_SqueezeNet\\metrics.csv\n",
      "\n",
      "Epoch: 3\n",
      "learning_rate: 0.01\n"
     ]
    },
    {
     "name": "stderr",
     "output_type": "stream",
     "text": [
      "F:\\FER-2013 Project\\facialexpressionrecogination\\Lib\\site-packages\\sklearn\\metrics\\_classification.py:1531: UndefinedMetricWarning: Precision is ill-defined and being set to 0.0 in labels with no predicted samples. Use `zero_division` parameter to control this behavior.\n",
      "  _warn_prf(average, modifier, f\"{metric.capitalize()} is\", len(result))\n",
      "F:\\FER-2013 Project\\facialexpressionrecogination\\Lib\\site-packages\\sklearn\\metrics\\_classification.py:1531: UndefinedMetricWarning: Recall is ill-defined and being set to 0.0 in labels with no true samples. Use `zero_division` parameter to control this behavior.\n",
      "  _warn_prf(average, modifier, f\"{metric.capitalize()} is\", len(result))\n"
     ]
    },
    {
     "name": "stdout",
     "output_type": "stream",
     "text": [
      " [=============================>] | Loss: 1.404 | Acc: 45.905% (13179/28709)    225/225 \n"
     ]
    },
    {
     "name": "stderr",
     "output_type": "stream",
     "text": [
      "F:\\FER-2013 Project\\facialexpressionrecogination\\Lib\\site-packages\\sklearn\\metrics\\_classification.py:1531: UndefinedMetricWarning: Precision is ill-defined and being set to 0.0 in labels with no predicted samples. Use `zero_division` parameter to control this behavior.\n",
      "  _warn_prf(average, modifier, f\"{metric.capitalize()} is\", len(result))\n"
     ]
    },
    {
     "name": "stdout",
     "output_type": "stream",
     "text": [
      " [============================>.] | Loss: 1.276 | Acc: 50.237% (1803/3589)      29/29 \n",
      "Saving..\n",
      "best_Testing_acc: 50.237\n"
     ]
    },
    {
     "name": "stderr",
     "output_type": "stream",
     "text": [
      "F:\\FER-2013 Project\\facialexpressionrecogination\\Lib\\site-packages\\sklearn\\metrics\\_classification.py:1531: UndefinedMetricWarning: Precision is ill-defined and being set to 0.0 in labels with no predicted samples. Use `zero_division` parameter to control this behavior.\n",
      "  _warn_prf(average, modifier, f\"{metric.capitalize()} is\", len(result))\n",
      "F:\\FER-2013 Project\\facialexpressionrecogination\\Lib\\site-packages\\sklearn\\metrics\\_classification.py:1531: UndefinedMetricWarning: Recall is ill-defined and being set to 0.0 in labels with no true samples. Use `zero_division` parameter to control this behavior.\n",
      "  _warn_prf(average, modifier, f\"{metric.capitalize()} is\", len(result))\n"
     ]
    },
    {
     "name": "stdout",
     "output_type": "stream",
     "text": [
      " [============================>.] | Loss: 1.276 | Acc: 50.237% (1803/3589)      29/29 \n",
      "Saving..\n",
      "best_Validation_acc: 50.237\n",
      "Metrics saved to FER2013_SqueezeNet\\metrics.csv\n",
      "\n",
      "Epoch: 4\n",
      "learning_rate: 0.01\n"
     ]
    },
    {
     "name": "stderr",
     "output_type": "stream",
     "text": [
      "F:\\FER-2013 Project\\facialexpressionrecogination\\Lib\\site-packages\\sklearn\\metrics\\_classification.py:1531: UndefinedMetricWarning: Precision is ill-defined and being set to 0.0 in labels with no predicted samples. Use `zero_division` parameter to control this behavior.\n",
      "  _warn_prf(average, modifier, f\"{metric.capitalize()} is\", len(result))\n",
      "F:\\FER-2013 Project\\facialexpressionrecogination\\Lib\\site-packages\\sklearn\\metrics\\_classification.py:1531: UndefinedMetricWarning: Recall is ill-defined and being set to 0.0 in labels with no true samples. Use `zero_division` parameter to control this behavior.\n",
      "  _warn_prf(average, modifier, f\"{metric.capitalize()} is\", len(result))\n"
     ]
    },
    {
     "name": "stdout",
     "output_type": "stream",
     "text": [
      " [=============================>] | Loss: 1.337 | Acc: 48.473% (13916/28709)    225/225 \n"
     ]
    },
    {
     "name": "stderr",
     "output_type": "stream",
     "text": [
      "F:\\FER-2013 Project\\facialexpressionrecogination\\Lib\\site-packages\\sklearn\\metrics\\_classification.py:1531: UndefinedMetricWarning: Precision is ill-defined and being set to 0.0 in labels with no predicted samples. Use `zero_division` parameter to control this behavior.\n",
      "  _warn_prf(average, modifier, f\"{metric.capitalize()} is\", len(result))\n"
     ]
    },
    {
     "name": "stdout",
     "output_type": "stream",
     "text": [
      " [============================>.] | Loss: 1.310 | Acc: 48.760% (1750/3589)      29/29 \n"
     ]
    },
    {
     "name": "stderr",
     "output_type": "stream",
     "text": [
      "F:\\FER-2013 Project\\facialexpressionrecogination\\Lib\\site-packages\\sklearn\\metrics\\_classification.py:1531: UndefinedMetricWarning: Precision is ill-defined and being set to 0.0 in labels with no predicted samples. Use `zero_division` parameter to control this behavior.\n",
      "  _warn_prf(average, modifier, f\"{metric.capitalize()} is\", len(result))\n"
     ]
    },
    {
     "name": "stdout",
     "output_type": "stream",
     "text": [
      " [============================>.] | Loss: 1.310 | Acc: 48.760% (1750/3589)      29/29 \n",
      "Metrics saved to FER2013_SqueezeNet\\metrics.csv\n",
      "\n",
      "Epoch: 5\n",
      "learning_rate: 0.01\n"
     ]
    },
    {
     "name": "stderr",
     "output_type": "stream",
     "text": [
      "F:\\FER-2013 Project\\facialexpressionrecogination\\Lib\\site-packages\\sklearn\\metrics\\_classification.py:1531: UndefinedMetricWarning: Precision is ill-defined and being set to 0.0 in labels with no predicted samples. Use `zero_division` parameter to control this behavior.\n",
      "  _warn_prf(average, modifier, f\"{metric.capitalize()} is\", len(result))\n"
     ]
    },
    {
     "name": "stdout",
     "output_type": "stream",
     "text": [
      " [=============================>] | Loss: 1.310 | Acc: 49.974% (14347/28709)    225/225 \n"
     ]
    },
    {
     "name": "stderr",
     "output_type": "stream",
     "text": [
      "F:\\FER-2013 Project\\facialexpressionrecogination\\Lib\\site-packages\\sklearn\\metrics\\_classification.py:1531: UndefinedMetricWarning: Precision is ill-defined and being set to 0.0 in labels with no predicted samples. Use `zero_division` parameter to control this behavior.\n",
      "  _warn_prf(average, modifier, f\"{metric.capitalize()} is\", len(result))\n"
     ]
    },
    {
     "name": "stdout",
     "output_type": "stream",
     "text": [
      " [============================>.] | Loss: 1.206 | Acc: 53.748% (1929/3589)      29/29 \n",
      "Saving..\n",
      "best_Testing_acc: 53.748\n"
     ]
    },
    {
     "name": "stderr",
     "output_type": "stream",
     "text": [
      "F:\\FER-2013 Project\\facialexpressionrecogination\\Lib\\site-packages\\sklearn\\metrics\\_classification.py:1531: UndefinedMetricWarning: Precision is ill-defined and being set to 0.0 in labels with no predicted samples. Use `zero_division` parameter to control this behavior.\n",
      "  _warn_prf(average, modifier, f\"{metric.capitalize()} is\", len(result))\n",
      "F:\\FER-2013 Project\\facialexpressionrecogination\\Lib\\site-packages\\sklearn\\metrics\\_classification.py:1531: UndefinedMetricWarning: Recall is ill-defined and being set to 0.0 in labels with no true samples. Use `zero_division` parameter to control this behavior.\n",
      "  _warn_prf(average, modifier, f\"{metric.capitalize()} is\", len(result))\n"
     ]
    },
    {
     "name": "stdout",
     "output_type": "stream",
     "text": [
      " [============================>.] | Loss: 1.206 | Acc: 53.748% (1929/3589)      29/29 \n",
      "Saving..\n",
      "best_Validation_acc: 53.748\n",
      "Metrics saved to FER2013_SqueezeNet\\metrics.csv\n",
      "\n",
      "Epoch: 6\n",
      "learning_rate: 0.01\n"
     ]
    },
    {
     "name": "stderr",
     "output_type": "stream",
     "text": [
      "F:\\FER-2013 Project\\facialexpressionrecogination\\Lib\\site-packages\\sklearn\\metrics\\_classification.py:1531: UndefinedMetricWarning: Precision is ill-defined and being set to 0.0 in labels with no predicted samples. Use `zero_division` parameter to control this behavior.\n",
      "  _warn_prf(average, modifier, f\"{metric.capitalize()} is\", len(result))\n",
      "F:\\FER-2013 Project\\facialexpressionrecogination\\Lib\\site-packages\\sklearn\\metrics\\_classification.py:1531: UndefinedMetricWarning: Recall is ill-defined and being set to 0.0 in labels with no true samples. Use `zero_division` parameter to control this behavior.\n",
      "  _warn_prf(average, modifier, f\"{metric.capitalize()} is\", len(result))\n"
     ]
    },
    {
     "name": "stdout",
     "output_type": "stream",
     "text": [
      " [=============================>] | Loss: 1.273 | Acc: 51.573% (14806/28709)    224/225 225/225 \n"
     ]
    },
    {
     "name": "stderr",
     "output_type": "stream",
     "text": [
      "F:\\FER-2013 Project\\facialexpressionrecogination\\Lib\\site-packages\\sklearn\\metrics\\_classification.py:1531: UndefinedMetricWarning: Precision is ill-defined and being set to 0.0 in labels with no predicted samples. Use `zero_division` parameter to control this behavior.\n",
      "  _warn_prf(average, modifier, f\"{metric.capitalize()} is\", len(result))\n"
     ]
    },
    {
     "name": "stdout",
     "output_type": "stream",
     "text": [
      " [============================>.] | Loss: 1.204 | Acc: 53.831% (1932/3589)      29/29 \n",
      "Saving..\n",
      "best_Testing_acc: 53.831\n"
     ]
    },
    {
     "name": "stderr",
     "output_type": "stream",
     "text": [
      "F:\\FER-2013 Project\\facialexpressionrecogination\\Lib\\site-packages\\sklearn\\metrics\\_classification.py:1531: UndefinedMetricWarning: Precision is ill-defined and being set to 0.0 in labels with no predicted samples. Use `zero_division` parameter to control this behavior.\n",
      "  _warn_prf(average, modifier, f\"{metric.capitalize()} is\", len(result))\n",
      "F:\\FER-2013 Project\\facialexpressionrecogination\\Lib\\site-packages\\sklearn\\metrics\\_classification.py:1531: UndefinedMetricWarning: Recall is ill-defined and being set to 0.0 in labels with no true samples. Use `zero_division` parameter to control this behavior.\n",
      "  _warn_prf(average, modifier, f\"{metric.capitalize()} is\", len(result))\n"
     ]
    },
    {
     "name": "stdout",
     "output_type": "stream",
     "text": [
      " [============================>.] | Loss: 1.204 | Acc: 53.831% (1932/3589)      29/29 \n",
      "Saving..\n",
      "best_Validation_acc: 53.831\n",
      "Metrics saved to FER2013_SqueezeNet\\metrics.csv\n",
      "\n",
      "Epoch: 7\n",
      "learning_rate: 0.01\n"
     ]
    },
    {
     "name": "stderr",
     "output_type": "stream",
     "text": [
      "F:\\FER-2013 Project\\facialexpressionrecogination\\Lib\\site-packages\\sklearn\\metrics\\_classification.py:1531: UndefinedMetricWarning: Precision is ill-defined and being set to 0.0 in labels with no predicted samples. Use `zero_division` parameter to control this behavior.\n",
      "  _warn_prf(average, modifier, f\"{metric.capitalize()} is\", len(result))\n",
      "F:\\FER-2013 Project\\facialexpressionrecogination\\Lib\\site-packages\\sklearn\\metrics\\_classification.py:1531: UndefinedMetricWarning: Recall is ill-defined and being set to 0.0 in labels with no true samples. Use `zero_division` parameter to control this behavior.\n",
      "  _warn_prf(average, modifier, f\"{metric.capitalize()} is\", len(result))\n"
     ]
    },
    {
     "name": "stdout",
     "output_type": "stream",
     "text": [
      " [=============================>] | Loss: 1.255 | Acc: 52.088% (14954/28709)    225/225 \n"
     ]
    },
    {
     "name": "stderr",
     "output_type": "stream",
     "text": [
      "F:\\FER-2013 Project\\facialexpressionrecogination\\Lib\\site-packages\\sklearn\\metrics\\_classification.py:1531: UndefinedMetricWarning: Precision is ill-defined and being set to 0.0 in labels with no predicted samples. Use `zero_division` parameter to control this behavior.\n",
      "  _warn_prf(average, modifier, f\"{metric.capitalize()} is\", len(result))\n"
     ]
    },
    {
     "name": "stdout",
     "output_type": "stream",
     "text": [
      " [============================>.] | Loss: 1.200 | Acc: 54.110% (1942/3589)      29/29 \n",
      "Saving..\n",
      "best_Testing_acc: 54.110\n"
     ]
    },
    {
     "name": "stderr",
     "output_type": "stream",
     "text": [
      "F:\\FER-2013 Project\\facialexpressionrecogination\\Lib\\site-packages\\sklearn\\metrics\\_classification.py:1531: UndefinedMetricWarning: Precision is ill-defined and being set to 0.0 in labels with no predicted samples. Use `zero_division` parameter to control this behavior.\n",
      "  _warn_prf(average, modifier, f\"{metric.capitalize()} is\", len(result))\n",
      "F:\\FER-2013 Project\\facialexpressionrecogination\\Lib\\site-packages\\sklearn\\metrics\\_classification.py:1531: UndefinedMetricWarning: Recall is ill-defined and being set to 0.0 in labels with no true samples. Use `zero_division` parameter to control this behavior.\n",
      "  _warn_prf(average, modifier, f\"{metric.capitalize()} is\", len(result))\n"
     ]
    },
    {
     "name": "stdout",
     "output_type": "stream",
     "text": [
      " [============================>.] | Loss: 1.200 | Acc: 54.110% (1942/3589)      29/29 \n",
      "Saving..\n",
      "best_Validation_acc: 54.110\n",
      "Metrics saved to FER2013_SqueezeNet\\metrics.csv\n",
      "\n",
      "Epoch: 8\n",
      "learning_rate: 0.01\n"
     ]
    },
    {
     "name": "stderr",
     "output_type": "stream",
     "text": [
      "F:\\FER-2013 Project\\facialexpressionrecogination\\Lib\\site-packages\\sklearn\\metrics\\_classification.py:1531: UndefinedMetricWarning: Precision is ill-defined and being set to 0.0 in labels with no predicted samples. Use `zero_division` parameter to control this behavior.\n",
      "  _warn_prf(average, modifier, f\"{metric.capitalize()} is\", len(result))\n",
      "F:\\FER-2013 Project\\facialexpressionrecogination\\Lib\\site-packages\\sklearn\\metrics\\_classification.py:1531: UndefinedMetricWarning: Recall is ill-defined and being set to 0.0 in labels with no true samples. Use `zero_division` parameter to control this behavior.\n",
      "  _warn_prf(average, modifier, f\"{metric.capitalize()} is\", len(result))\n"
     ]
    },
    {
     "name": "stdout",
     "output_type": "stream",
     "text": [
      " [=============================>] | Loss: 1.233 | Acc: 53.011% (15219/28709)    225/225 \n"
     ]
    },
    {
     "name": "stderr",
     "output_type": "stream",
     "text": [
      "F:\\FER-2013 Project\\facialexpressionrecogination\\Lib\\site-packages\\sklearn\\metrics\\_classification.py:1531: UndefinedMetricWarning: Precision is ill-defined and being set to 0.0 in labels with no predicted samples. Use `zero_division` parameter to control this behavior.\n",
      "  _warn_prf(average, modifier, f\"{metric.capitalize()} is\", len(result))\n"
     ]
    },
    {
     "name": "stdout",
     "output_type": "stream",
     "text": [
      " [============================>.] | Loss: 1.171 | Acc: 55.587% (1995/3589)      29/29 \n",
      "Saving..\n",
      "best_Testing_acc: 55.587\n"
     ]
    },
    {
     "name": "stderr",
     "output_type": "stream",
     "text": [
      "F:\\FER-2013 Project\\facialexpressionrecogination\\Lib\\site-packages\\sklearn\\metrics\\_classification.py:1531: UndefinedMetricWarning: Precision is ill-defined and being set to 0.0 in labels with no predicted samples. Use `zero_division` parameter to control this behavior.\n",
      "  _warn_prf(average, modifier, f\"{metric.capitalize()} is\", len(result))\n",
      "F:\\FER-2013 Project\\facialexpressionrecogination\\Lib\\site-packages\\sklearn\\metrics\\_classification.py:1531: UndefinedMetricWarning: Recall is ill-defined and being set to 0.0 in labels with no true samples. Use `zero_division` parameter to control this behavior.\n",
      "  _warn_prf(average, modifier, f\"{metric.capitalize()} is\", len(result))\n"
     ]
    },
    {
     "name": "stdout",
     "output_type": "stream",
     "text": [
      " [============================>.] | Loss: 1.171 | Acc: 55.587% (1995/3589)      29/29 \n",
      "Saving..\n",
      "best_Validation_acc: 55.587\n",
      "Metrics saved to FER2013_SqueezeNet\\metrics.csv\n",
      "\n",
      "Epoch: 9\n",
      "learning_rate: 0.01\n"
     ]
    },
    {
     "name": "stderr",
     "output_type": "stream",
     "text": [
      "F:\\FER-2013 Project\\facialexpressionrecogination\\Lib\\site-packages\\sklearn\\metrics\\_classification.py:1531: UndefinedMetricWarning: Precision is ill-defined and being set to 0.0 in labels with no predicted samples. Use `zero_division` parameter to control this behavior.\n",
      "  _warn_prf(average, modifier, f\"{metric.capitalize()} is\", len(result))\n",
      "F:\\FER-2013 Project\\facialexpressionrecogination\\Lib\\site-packages\\sklearn\\metrics\\_classification.py:1531: UndefinedMetricWarning: Recall is ill-defined and being set to 0.0 in labels with no true samples. Use `zero_division` parameter to control this behavior.\n",
      "  _warn_prf(average, modifier, f\"{metric.capitalize()} is\", len(result))\n"
     ]
    },
    {
     "name": "stdout",
     "output_type": "stream",
     "text": [
      " [=============================>] | Loss: 1.219 | Acc: 53.656% (15404/28709)    225/225 \n",
      " [============================>.] | Loss: 1.189 | Acc: 54.751% (1965/3589)      29/29 \n"
     ]
    },
    {
     "name": "stderr",
     "output_type": "stream",
     "text": [
      "F:\\FER-2013 Project\\facialexpressionrecogination\\Lib\\site-packages\\sklearn\\metrics\\_classification.py:1531: UndefinedMetricWarning: Precision is ill-defined and being set to 0.0 in labels with no predicted samples. Use `zero_division` parameter to control this behavior.\n",
      "  _warn_prf(average, modifier, f\"{metric.capitalize()} is\", len(result))\n",
      "F:\\FER-2013 Project\\facialexpressionrecogination\\Lib\\site-packages\\sklearn\\metrics\\_classification.py:1531: UndefinedMetricWarning: Recall is ill-defined and being set to 0.0 in labels with no true samples. Use `zero_division` parameter to control this behavior.\n",
      "  _warn_prf(average, modifier, f\"{metric.capitalize()} is\", len(result))\n"
     ]
    },
    {
     "name": "stdout",
     "output_type": "stream",
     "text": [
      " [============================>.] | Loss: 1.189 | Acc: 54.751% (1965/3589)      29/29 \n",
      "Metrics saved to FER2013_SqueezeNet\\metrics.csv\n",
      "\n",
      "Epoch: 10\n",
      "learning_rate: 0.01\n"
     ]
    },
    {
     "name": "stderr",
     "output_type": "stream",
     "text": [
      "F:\\FER-2013 Project\\facialexpressionrecogination\\Lib\\site-packages\\sklearn\\metrics\\_classification.py:1531: UndefinedMetricWarning: Precision is ill-defined and being set to 0.0 in labels with no predicted samples. Use `zero_division` parameter to control this behavior.\n",
      "  _warn_prf(average, modifier, f\"{metric.capitalize()} is\", len(result))\n",
      "F:\\FER-2013 Project\\facialexpressionrecogination\\Lib\\site-packages\\sklearn\\metrics\\_classification.py:1531: UndefinedMetricWarning: Recall is ill-defined and being set to 0.0 in labels with no true samples. Use `zero_division` parameter to control this behavior.\n",
      "  _warn_prf(average, modifier, f\"{metric.capitalize()} is\", len(result))\n"
     ]
    },
    {
     "name": "stdout",
     "output_type": "stream",
     "text": [
      " [=============================>] | Loss: 1.199 | Acc: 54.349% (15603/28709)    225/225 \n",
      " [============================>.] | Loss: 1.135 | Acc: 56.032% (2011/3589)      29/29 \n",
      "Saving..\n",
      "best_Testing_acc: 56.032\n"
     ]
    },
    {
     "name": "stderr",
     "output_type": "stream",
     "text": [
      "F:\\FER-2013 Project\\facialexpressionrecogination\\Lib\\site-packages\\sklearn\\metrics\\_classification.py:1531: UndefinedMetricWarning: Precision is ill-defined and being set to 0.0 in labels with no predicted samples. Use `zero_division` parameter to control this behavior.\n",
      "  _warn_prf(average, modifier, f\"{metric.capitalize()} is\", len(result))\n",
      "F:\\FER-2013 Project\\facialexpressionrecogination\\Lib\\site-packages\\sklearn\\metrics\\_classification.py:1531: UndefinedMetricWarning: Recall is ill-defined and being set to 0.0 in labels with no true samples. Use `zero_division` parameter to control this behavior.\n",
      "  _warn_prf(average, modifier, f\"{metric.capitalize()} is\", len(result))\n"
     ]
    },
    {
     "name": "stdout",
     "output_type": "stream",
     "text": [
      " [============================>.] | Loss: 1.135 | Acc: 56.032% (2011/3589)      29/29 \n",
      "Saving..\n",
      "best_Validation_acc: 56.032\n",
      "Metrics saved to FER2013_SqueezeNet\\metrics.csv\n",
      "\n",
      "Epoch: 11\n",
      "learning_rate: 0.01\n"
     ]
    },
    {
     "name": "stderr",
     "output_type": "stream",
     "text": [
      "F:\\FER-2013 Project\\facialexpressionrecogination\\Lib\\site-packages\\sklearn\\metrics\\_classification.py:1531: UndefinedMetricWarning: Precision is ill-defined and being set to 0.0 in labels with no predicted samples. Use `zero_division` parameter to control this behavior.\n",
      "  _warn_prf(average, modifier, f\"{metric.capitalize()} is\", len(result))\n",
      "F:\\FER-2013 Project\\facialexpressionrecogination\\Lib\\site-packages\\sklearn\\metrics\\_classification.py:1531: UndefinedMetricWarning: Recall is ill-defined and being set to 0.0 in labels with no true samples. Use `zero_division` parameter to control this behavior.\n",
      "  _warn_prf(average, modifier, f\"{metric.capitalize()} is\", len(result))\n"
     ]
    },
    {
     "name": "stdout",
     "output_type": "stream",
     "text": [
      " [=============================>] | Loss: 1.184 | Acc: 54.900% (15741/28672)    224/225 =============================>] | Loss: 1.184 | Acc: 54.899% (15761/28709)    225/225 \n"
     ]
    },
    {
     "name": "stderr",
     "output_type": "stream",
     "text": [
      "F:\\FER-2013 Project\\facialexpressionrecogination\\Lib\\site-packages\\sklearn\\metrics\\_classification.py:1531: UndefinedMetricWarning: Precision is ill-defined and being set to 0.0 in labels with no predicted samples. Use `zero_division` parameter to control this behavior.\n",
      "  _warn_prf(average, modifier, f\"{metric.capitalize()} is\", len(result))\n"
     ]
    },
    {
     "name": "stdout",
     "output_type": "stream",
     "text": [
      " [============================>.] | Loss: 1.130 | Acc: 56.924% (2043/3589)      29/29 \n",
      "Saving..\n",
      "best_Testing_acc: 56.924\n"
     ]
    },
    {
     "name": "stderr",
     "output_type": "stream",
     "text": [
      "F:\\FER-2013 Project\\facialexpressionrecogination\\Lib\\site-packages\\sklearn\\metrics\\_classification.py:1531: UndefinedMetricWarning: Precision is ill-defined and being set to 0.0 in labels with no predicted samples. Use `zero_division` parameter to control this behavior.\n",
      "  _warn_prf(average, modifier, f\"{metric.capitalize()} is\", len(result))\n"
     ]
    },
    {
     "name": "stdout",
     "output_type": "stream",
     "text": [
      " [============================>.] | Loss: 1.130 | Acc: 56.924% (2043/3589)      29/29 \n",
      "Saving..\n",
      "best_Validation_acc: 56.924\n",
      "Metrics saved to FER2013_SqueezeNet\\metrics.csv\n",
      "\n",
      "Epoch: 12\n",
      "learning_rate: 0.01\n"
     ]
    },
    {
     "name": "stderr",
     "output_type": "stream",
     "text": [
      "F:\\FER-2013 Project\\facialexpressionrecogination\\Lib\\site-packages\\sklearn\\metrics\\_classification.py:1531: UndefinedMetricWarning: Precision is ill-defined and being set to 0.0 in labels with no predicted samples. Use `zero_division` parameter to control this behavior.\n",
      "  _warn_prf(average, modifier, f\"{metric.capitalize()} is\", len(result))\n"
     ]
    },
    {
     "name": "stdout",
     "output_type": "stream",
     "text": [
      " [=============================>] | Loss: 1.174 | Acc: 54.997% (15789/28709)    225/225 \n"
     ]
    },
    {
     "name": "stderr",
     "output_type": "stream",
     "text": [
      "F:\\FER-2013 Project\\facialexpressionrecogination\\Lib\\site-packages\\sklearn\\metrics\\_classification.py:1531: UndefinedMetricWarning: Precision is ill-defined and being set to 0.0 in labels with no predicted samples. Use `zero_division` parameter to control this behavior.\n",
      "  _warn_prf(average, modifier, f\"{metric.capitalize()} is\", len(result))\n"
     ]
    },
    {
     "name": "stdout",
     "output_type": "stream",
     "text": [
      " [============================>.] | Loss: 1.131 | Acc: 56.367% (2023/3589)      29/29 \n"
     ]
    },
    {
     "name": "stderr",
     "output_type": "stream",
     "text": [
      "F:\\FER-2013 Project\\facialexpressionrecogination\\Lib\\site-packages\\sklearn\\metrics\\_classification.py:1531: UndefinedMetricWarning: Precision is ill-defined and being set to 0.0 in labels with no predicted samples. Use `zero_division` parameter to control this behavior.\n",
      "  _warn_prf(average, modifier, f\"{metric.capitalize()} is\", len(result))\n",
      "F:\\FER-2013 Project\\facialexpressionrecogination\\Lib\\site-packages\\sklearn\\metrics\\_classification.py:1531: UndefinedMetricWarning: Recall is ill-defined and being set to 0.0 in labels with no true samples. Use `zero_division` parameter to control this behavior.\n",
      "  _warn_prf(average, modifier, f\"{metric.capitalize()} is\", len(result))\n"
     ]
    },
    {
     "name": "stdout",
     "output_type": "stream",
     "text": [
      " [============================>.] | Loss: 1.131 | Acc: 56.367% (2023/3589)      29/29 \n",
      "Metrics saved to FER2013_SqueezeNet\\metrics.csv\n",
      "\n",
      "Epoch: 13\n",
      "learning_rate: 0.01\n"
     ]
    },
    {
     "name": "stderr",
     "output_type": "stream",
     "text": [
      "F:\\FER-2013 Project\\facialexpressionrecogination\\Lib\\site-packages\\sklearn\\metrics\\_classification.py:1531: UndefinedMetricWarning: Precision is ill-defined and being set to 0.0 in labels with no predicted samples. Use `zero_division` parameter to control this behavior.\n",
      "  _warn_prf(average, modifier, f\"{metric.capitalize()} is\", len(result))\n",
      "F:\\FER-2013 Project\\facialexpressionrecogination\\Lib\\site-packages\\sklearn\\metrics\\_classification.py:1531: UndefinedMetricWarning: Recall is ill-defined and being set to 0.0 in labels with no true samples. Use `zero_division` parameter to control this behavior.\n",
      "  _warn_prf(average, modifier, f\"{metric.capitalize()} is\", len(result))\n"
     ]
    },
    {
     "name": "stdout",
     "output_type": "stream",
     "text": [
      " [=============================>] | Loss: 1.157 | Acc: 56.073% (16098/28709)    225/225 \n"
     ]
    },
    {
     "name": "stderr",
     "output_type": "stream",
     "text": [
      "F:\\FER-2013 Project\\facialexpressionrecogination\\Lib\\site-packages\\sklearn\\metrics\\_classification.py:1531: UndefinedMetricWarning: Precision is ill-defined and being set to 0.0 in labels with no predicted samples. Use `zero_division` parameter to control this behavior.\n",
      "  _warn_prf(average, modifier, f\"{metric.capitalize()} is\", len(result))\n"
     ]
    },
    {
     "name": "stdout",
     "output_type": "stream",
     "text": [
      " [============================>.] | Loss: 1.128 | Acc: 57.676% (2070/3589)      29/29 \n",
      "Saving..\n",
      "best_Testing_acc: 57.676\n"
     ]
    },
    {
     "name": "stderr",
     "output_type": "stream",
     "text": [
      "F:\\FER-2013 Project\\facialexpressionrecogination\\Lib\\site-packages\\sklearn\\metrics\\_classification.py:1531: UndefinedMetricWarning: Precision is ill-defined and being set to 0.0 in labels with no predicted samples. Use `zero_division` parameter to control this behavior.\n",
      "  _warn_prf(average, modifier, f\"{metric.capitalize()} is\", len(result))\n"
     ]
    },
    {
     "name": "stdout",
     "output_type": "stream",
     "text": [
      " [============================>.] | Loss: 1.128 | Acc: 57.676% (2070/3589)      29/29 \n",
      "Saving..\n",
      "best_Validation_acc: 57.676\n",
      "Metrics saved to FER2013_SqueezeNet\\metrics.csv\n",
      "\n",
      "Epoch: 14\n",
      "learning_rate: 0.01\n"
     ]
    },
    {
     "name": "stderr",
     "output_type": "stream",
     "text": [
      "F:\\FER-2013 Project\\facialexpressionrecogination\\Lib\\site-packages\\sklearn\\metrics\\_classification.py:1531: UndefinedMetricWarning: Precision is ill-defined and being set to 0.0 in labels with no predicted samples. Use `zero_division` parameter to control this behavior.\n",
      "  _warn_prf(average, modifier, f\"{metric.capitalize()} is\", len(result))\n"
     ]
    },
    {
     "name": "stdout",
     "output_type": "stream",
     "text": [
      " [=============================>] | Loss: 1.146 | Acc: 56.359% (16180/28709)    225/225 \n",
      " [============================>.] | Loss: 1.093 | Acc: 58.624% (2104/3589)      29/29 \n",
      "Saving..\n",
      "best_Testing_acc: 58.624\n"
     ]
    },
    {
     "name": "stderr",
     "output_type": "stream",
     "text": [
      "F:\\FER-2013 Project\\facialexpressionrecogination\\Lib\\site-packages\\sklearn\\metrics\\_classification.py:1531: UndefinedMetricWarning: Precision is ill-defined and being set to 0.0 in labels with no predicted samples. Use `zero_division` parameter to control this behavior.\n",
      "  _warn_prf(average, modifier, f\"{metric.capitalize()} is\", len(result))\n"
     ]
    },
    {
     "name": "stdout",
     "output_type": "stream",
     "text": [
      " [============================>.] | Loss: 1.093 | Acc: 58.624% (2104/3589)      29/29 \n",
      "Saving..\n",
      "best_Validation_acc: 58.624\n",
      "Metrics saved to FER2013_SqueezeNet\\metrics.csv\n",
      "\n",
      "Epoch: 15\n",
      "learning_rate: 0.01\n"
     ]
    },
    {
     "name": "stderr",
     "output_type": "stream",
     "text": [
      "F:\\FER-2013 Project\\facialexpressionrecogination\\Lib\\site-packages\\sklearn\\metrics\\_classification.py:1531: UndefinedMetricWarning: Precision is ill-defined and being set to 0.0 in labels with no predicted samples. Use `zero_division` parameter to control this behavior.\n",
      "  _warn_prf(average, modifier, f\"{metric.capitalize()} is\", len(result))\n"
     ]
    },
    {
     "name": "stdout",
     "output_type": "stream",
     "text": [
      " [=============================>] | Loss: 1.139 | Acc: 56.808% (16309/28709)    225/225 \n",
      " [============================>.] | Loss: 1.113 | Acc: 57.704% (2071/3589)      29/29 \n"
     ]
    },
    {
     "name": "stderr",
     "output_type": "stream",
     "text": [
      "F:\\FER-2013 Project\\facialexpressionrecogination\\Lib\\site-packages\\sklearn\\metrics\\_classification.py:1531: UndefinedMetricWarning: Precision is ill-defined and being set to 0.0 in labels with no predicted samples. Use `zero_division` parameter to control this behavior.\n",
      "  _warn_prf(average, modifier, f\"{metric.capitalize()} is\", len(result))\n"
     ]
    },
    {
     "name": "stdout",
     "output_type": "stream",
     "text": [
      " [============================>.] | Loss: 1.113 | Acc: 57.704% (2071/3589)      29/29 \n",
      "Metrics saved to FER2013_SqueezeNet\\metrics.csv\n",
      "\n",
      "Epoch: 16\n",
      "learning_rate: 0.01\n"
     ]
    },
    {
     "name": "stderr",
     "output_type": "stream",
     "text": [
      "F:\\FER-2013 Project\\facialexpressionrecogination\\Lib\\site-packages\\sklearn\\metrics\\_classification.py:1531: UndefinedMetricWarning: Precision is ill-defined and being set to 0.0 in labels with no predicted samples. Use `zero_division` parameter to control this behavior.\n",
      "  _warn_prf(average, modifier, f\"{metric.capitalize()} is\", len(result))\n"
     ]
    },
    {
     "name": "stdout",
     "output_type": "stream",
     "text": [
      " [=============================>] | Loss: 1.130 | Acc: 57.111% (16396/28709)    225/225 \n"
     ]
    },
    {
     "name": "stderr",
     "output_type": "stream",
     "text": [
      "F:\\FER-2013 Project\\facialexpressionrecogination\\Lib\\site-packages\\sklearn\\metrics\\_classification.py:1531: UndefinedMetricWarning: Precision is ill-defined and being set to 0.0 in labels with no predicted samples. Use `zero_division` parameter to control this behavior.\n",
      "  _warn_prf(average, modifier, f\"{metric.capitalize()} is\", len(result))\n"
     ]
    },
    {
     "name": "stdout",
     "output_type": "stream",
     "text": [
      " [============================>.] | Loss: 1.084 | Acc: 58.735% (2108/3589)      29/29 \n",
      "Saving..\n",
      "best_Testing_acc: 58.735\n"
     ]
    },
    {
     "name": "stderr",
     "output_type": "stream",
     "text": [
      "F:\\FER-2013 Project\\facialexpressionrecogination\\Lib\\site-packages\\sklearn\\metrics\\_classification.py:1531: UndefinedMetricWarning: Precision is ill-defined and being set to 0.0 in labels with no predicted samples. Use `zero_division` parameter to control this behavior.\n",
      "  _warn_prf(average, modifier, f\"{metric.capitalize()} is\", len(result))\n",
      "F:\\FER-2013 Project\\facialexpressionrecogination\\Lib\\site-packages\\sklearn\\metrics\\_classification.py:1531: UndefinedMetricWarning: Recall is ill-defined and being set to 0.0 in labels with no true samples. Use `zero_division` parameter to control this behavior.\n",
      "  _warn_prf(average, modifier, f\"{metric.capitalize()} is\", len(result))\n"
     ]
    },
    {
     "name": "stdout",
     "output_type": "stream",
     "text": [
      " [============================>.] | Loss: 1.084 | Acc: 58.735% (2108/3589)      29/29 \n",
      "Saving..\n",
      "best_Validation_acc: 58.735\n",
      "Metrics saved to FER2013_SqueezeNet\\metrics.csv\n",
      "\n",
      "Epoch: 17\n",
      "learning_rate: 0.01\n"
     ]
    },
    {
     "name": "stderr",
     "output_type": "stream",
     "text": [
      "F:\\FER-2013 Project\\facialexpressionrecogination\\Lib\\site-packages\\sklearn\\metrics\\_classification.py:1531: UndefinedMetricWarning: Precision is ill-defined and being set to 0.0 in labels with no predicted samples. Use `zero_division` parameter to control this behavior.\n",
      "  _warn_prf(average, modifier, f\"{metric.capitalize()} is\", len(result))\n",
      "F:\\FER-2013 Project\\facialexpressionrecogination\\Lib\\site-packages\\sklearn\\metrics\\_classification.py:1531: UndefinedMetricWarning: Recall is ill-defined and being set to 0.0 in labels with no true samples. Use `zero_division` parameter to control this behavior.\n",
      "  _warn_prf(average, modifier, f\"{metric.capitalize()} is\", len(result))\n"
     ]
    },
    {
     "name": "stdout",
     "output_type": "stream",
     "text": [
      " [=============================>] | Loss: 1.114 | Acc: 57.672% (16557/28709)    225/225 =================>............] | Loss: 1.110 | Acc: 57.958% (9941/17152)     134/225 ==================>...........] | Loss: 1.112 | Acc: 57.914% (10304/17792)    139/225 =====================>........] | Loss: 1.114 | Acc: 57.708% (12114/20992)    164/225 \n"
     ]
    },
    {
     "name": "stderr",
     "output_type": "stream",
     "text": [
      "F:\\FER-2013 Project\\facialexpressionrecogination\\Lib\\site-packages\\sklearn\\metrics\\_classification.py:1531: UndefinedMetricWarning: Precision is ill-defined and being set to 0.0 in labels with no predicted samples. Use `zero_division` parameter to control this behavior.\n",
      "  _warn_prf(average, modifier, f\"{metric.capitalize()} is\", len(result))\n"
     ]
    },
    {
     "name": "stdout",
     "output_type": "stream",
     "text": [
      " [============================>.] | Loss: 1.118 | Acc: 57.816% (2075/3589)      29/29 \n"
     ]
    },
    {
     "name": "stderr",
     "output_type": "stream",
     "text": [
      "F:\\FER-2013 Project\\facialexpressionrecogination\\Lib\\site-packages\\sklearn\\metrics\\_classification.py:1531: UndefinedMetricWarning: Precision is ill-defined and being set to 0.0 in labels with no predicted samples. Use `zero_division` parameter to control this behavior.\n",
      "  _warn_prf(average, modifier, f\"{metric.capitalize()} is\", len(result))\n",
      "F:\\FER-2013 Project\\facialexpressionrecogination\\Lib\\site-packages\\sklearn\\metrics\\_classification.py:1531: UndefinedMetricWarning: Recall is ill-defined and being set to 0.0 in labels with no true samples. Use `zero_division` parameter to control this behavior.\n",
      "  _warn_prf(average, modifier, f\"{metric.capitalize()} is\", len(result))\n"
     ]
    },
    {
     "name": "stdout",
     "output_type": "stream",
     "text": [
      " [============================>.] | Loss: 1.118 | Acc: 57.816% (2075/3589)      29/29 \n",
      "Metrics saved to FER2013_SqueezeNet\\metrics.csv\n",
      "\n",
      "Epoch: 18\n",
      "learning_rate: 0.01\n",
      " [>.............................] | Loss: 1.104 | Acc: 57.812% (74/128)         1/225 \r"
     ]
    },
    {
     "name": "stderr",
     "output_type": "stream",
     "text": [
      "F:\\FER-2013 Project\\facialexpressionrecogination\\Lib\\site-packages\\sklearn\\metrics\\_classification.py:1531: UndefinedMetricWarning: Precision is ill-defined and being set to 0.0 in labels with no predicted samples. Use `zero_division` parameter to control this behavior.\n",
      "  _warn_prf(average, modifier, f\"{metric.capitalize()} is\", len(result))\n",
      "F:\\FER-2013 Project\\facialexpressionrecogination\\Lib\\site-packages\\sklearn\\metrics\\_classification.py:1531: UndefinedMetricWarning: Recall is ill-defined and being set to 0.0 in labels with no true samples. Use `zero_division` parameter to control this behavior.\n",
      "  _warn_prf(average, modifier, f\"{metric.capitalize()} is\", len(result))\n"
     ]
    },
    {
     "name": "stdout",
     "output_type": "stream",
     "text": [
      " [=============================>] | Loss: 1.119 | Acc: 57.703% (16566/28709)    225/225 =>...........................] | Loss: 1.120 | Acc: 57.670% (1624/2816)      22/225 =====>........................] | Loss: 1.121 | Acc: 57.383% (2938/5120)      40/225 ====================>.........] | Loss: 1.116 | Acc: 57.675% (11295/19584)    153/225 =========================>....] | Loss: 1.115 | Acc: 57.739% (14116/24448)    191/225 \n",
      " [============================>.] | Loss: 1.080 | Acc: 58.484% (2099/3589)      29/29 \n"
     ]
    },
    {
     "name": "stderr",
     "output_type": "stream",
     "text": [
      "F:\\FER-2013 Project\\facialexpressionrecogination\\Lib\\site-packages\\sklearn\\metrics\\_classification.py:1531: UndefinedMetricWarning: Precision is ill-defined and being set to 0.0 in labels with no predicted samples. Use `zero_division` parameter to control this behavior.\n",
      "  _warn_prf(average, modifier, f\"{metric.capitalize()} is\", len(result))\n",
      "F:\\FER-2013 Project\\facialexpressionrecogination\\Lib\\site-packages\\sklearn\\metrics\\_classification.py:1531: UndefinedMetricWarning: Recall is ill-defined and being set to 0.0 in labels with no true samples. Use `zero_division` parameter to control this behavior.\n",
      "  _warn_prf(average, modifier, f\"{metric.capitalize()} is\", len(result))\n"
     ]
    },
    {
     "name": "stdout",
     "output_type": "stream",
     "text": [
      " [============================>.] | Loss: 1.080 | Acc: 58.484% (2099/3589)      29/29 \n",
      "Metrics saved to FER2013_SqueezeNet\\metrics.csv\n",
      "\n",
      "Epoch: 19\n",
      "learning_rate: 0.01\n",
      " [>.............................] | Loss: 1.145 | Acc: 57.031% (73/128)         1/225 \r"
     ]
    },
    {
     "name": "stderr",
     "output_type": "stream",
     "text": [
      "F:\\FER-2013 Project\\facialexpressionrecogination\\Lib\\site-packages\\sklearn\\metrics\\_classification.py:1531: UndefinedMetricWarning: Precision is ill-defined and being set to 0.0 in labels with no predicted samples. Use `zero_division` parameter to control this behavior.\n",
      "  _warn_prf(average, modifier, f\"{metric.capitalize()} is\", len(result))\n",
      "F:\\FER-2013 Project\\facialexpressionrecogination\\Lib\\site-packages\\sklearn\\metrics\\_classification.py:1531: UndefinedMetricWarning: Recall is ill-defined and being set to 0.0 in labels with no true samples. Use `zero_division` parameter to control this behavior.\n",
      "  _warn_prf(average, modifier, f\"{metric.capitalize()} is\", len(result))\n"
     ]
    },
    {
     "name": "stdout",
     "output_type": "stream",
     "text": [
      " [=============================>] | Loss: 1.104 | Acc: 58.334% (16747/28709)    225/225 ==========================>...] | Loss: 1.106 | Acc: 58.262% (14766/25344)    198/225 \n"
     ]
    },
    {
     "name": "stderr",
     "output_type": "stream",
     "text": [
      "F:\\FER-2013 Project\\facialexpressionrecogination\\Lib\\site-packages\\sklearn\\metrics\\_classification.py:1531: UndefinedMetricWarning: Precision is ill-defined and being set to 0.0 in labels with no predicted samples. Use `zero_division` parameter to control this behavior.\n",
      "  _warn_prf(average, modifier, f\"{metric.capitalize()} is\", len(result))\n"
     ]
    },
    {
     "name": "stdout",
     "output_type": "stream",
     "text": [
      " [============================>.] | Loss: 1.098 | Acc: 58.596% (2103/3589)      29/29 \n"
     ]
    },
    {
     "name": "stderr",
     "output_type": "stream",
     "text": [
      "F:\\FER-2013 Project\\facialexpressionrecogination\\Lib\\site-packages\\sklearn\\metrics\\_classification.py:1531: UndefinedMetricWarning: Precision is ill-defined and being set to 0.0 in labels with no predicted samples. Use `zero_division` parameter to control this behavior.\n",
      "  _warn_prf(average, modifier, f\"{metric.capitalize()} is\", len(result))\n",
      "F:\\FER-2013 Project\\facialexpressionrecogination\\Lib\\site-packages\\sklearn\\metrics\\_classification.py:1531: UndefinedMetricWarning: Recall is ill-defined and being set to 0.0 in labels with no true samples. Use `zero_division` parameter to control this behavior.\n",
      "  _warn_prf(average, modifier, f\"{metric.capitalize()} is\", len(result))\n"
     ]
    },
    {
     "name": "stdout",
     "output_type": "stream",
     "text": [
      " [============================>.] | Loss: 1.098 | Acc: 58.596% (2103/3589)      29/29 \n",
      "Metrics saved to FER2013_SqueezeNet\\metrics.csv\n",
      "\n",
      "Epoch: 20\n",
      "learning_rate: 0.01\n",
      " [>.............................] | Loss: 1.071 | Acc: 57.031% (73/128)         1/225 \r"
     ]
    },
    {
     "name": "stderr",
     "output_type": "stream",
     "text": [
      "F:\\FER-2013 Project\\facialexpressionrecogination\\Lib\\site-packages\\sklearn\\metrics\\_classification.py:1531: UndefinedMetricWarning: Precision is ill-defined and being set to 0.0 in labels with no predicted samples. Use `zero_division` parameter to control this behavior.\n",
      "  _warn_prf(average, modifier, f\"{metric.capitalize()} is\", len(result))\n",
      "F:\\FER-2013 Project\\facialexpressionrecogination\\Lib\\site-packages\\sklearn\\metrics\\_classification.py:1531: UndefinedMetricWarning: Recall is ill-defined and being set to 0.0 in labels with no true samples. Use `zero_division` parameter to control this behavior.\n",
      "  _warn_prf(average, modifier, f\"{metric.capitalize()} is\", len(result))\n"
     ]
    },
    {
     "name": "stdout",
     "output_type": "stream",
     "text": [
      " [=============================>] | Loss: 1.099 | Acc: 58.351% (16752/28709)    225/225 ===>.........................] | Loss: 1.101 | Acc: 58.824% (2560/4352)      34/225 ====================>.........] | Loss: 1.099 | Acc: 58.415% (11739/20096)    157/225 187/225 \n",
      " [============================>.] | Loss: 1.057 | Acc: 60.379% (2167/3589)      29/29 \n",
      "Saving..\n",
      "best_Testing_acc: 60.379\n"
     ]
    },
    {
     "name": "stderr",
     "output_type": "stream",
     "text": [
      "F:\\FER-2013 Project\\facialexpressionrecogination\\Lib\\site-packages\\sklearn\\metrics\\_classification.py:1531: UndefinedMetricWarning: Precision is ill-defined and being set to 0.0 in labels with no predicted samples. Use `zero_division` parameter to control this behavior.\n",
      "  _warn_prf(average, modifier, f\"{metric.capitalize()} is\", len(result))\n",
      "F:\\FER-2013 Project\\facialexpressionrecogination\\Lib\\site-packages\\sklearn\\metrics\\_classification.py:1531: UndefinedMetricWarning: Recall is ill-defined and being set to 0.0 in labels with no true samples. Use `zero_division` parameter to control this behavior.\n",
      "  _warn_prf(average, modifier, f\"{metric.capitalize()} is\", len(result))\n"
     ]
    },
    {
     "name": "stdout",
     "output_type": "stream",
     "text": [
      " [============================>.] | Loss: 1.057 | Acc: 60.379% (2167/3589)      29/29 \n",
      "Saving..\n",
      "best_Validation_acc: 60.379\n",
      "Metrics saved to FER2013_SqueezeNet\\metrics.csv\n",
      "\n",
      "Epoch: 21\n",
      "learning_rate: 0.01\n",
      " [>.............................] | Loss: 1.003 | Acc: 56.250% (72/128)         1/225 \r"
     ]
    },
    {
     "name": "stderr",
     "output_type": "stream",
     "text": [
      "F:\\FER-2013 Project\\facialexpressionrecogination\\Lib\\site-packages\\sklearn\\metrics\\_classification.py:1531: UndefinedMetricWarning: Precision is ill-defined and being set to 0.0 in labels with no predicted samples. Use `zero_division` parameter to control this behavior.\n",
      "  _warn_prf(average, modifier, f\"{metric.capitalize()} is\", len(result))\n",
      "F:\\FER-2013 Project\\facialexpressionrecogination\\Lib\\site-packages\\sklearn\\metrics\\_classification.py:1531: UndefinedMetricWarning: Recall is ill-defined and being set to 0.0 in labels with no true samples. Use `zero_division` parameter to control this behavior.\n",
      "  _warn_prf(average, modifier, f\"{metric.capitalize()} is\", len(result))\n"
     ]
    },
    {
     "name": "stdout",
     "output_type": "stream",
     "text": [
      " [=============================>] | Loss: 1.084 | Acc: 58.936% (16920/28709)    225/225 ............................] | Loss: 1.038 | Acc: 59.505% (457/768)        6/22 18/225 41/225 ======>.......................] | Loss: 1.084 | Acc: 58.394% (3513/6016)      47/225 ====================>.........] | Loss: 1.084 | Acc: 58.645% (11410/19456)    152/225 162/225 ========================>.....] | Loss: 1.079 | Acc: 58.974% (13965/23680)    185/22 193/225 \n",
      " [============================>.] | Loss: 1.059 | Acc: 59.794% (2146/3589)      29/29 \n"
     ]
    },
    {
     "name": "stderr",
     "output_type": "stream",
     "text": [
      "F:\\FER-2013 Project\\facialexpressionrecogination\\Lib\\site-packages\\sklearn\\metrics\\_classification.py:1531: UndefinedMetricWarning: Precision is ill-defined and being set to 0.0 in labels with no predicted samples. Use `zero_division` parameter to control this behavior.\n",
      "  _warn_prf(average, modifier, f\"{metric.capitalize()} is\", len(result))\n",
      "F:\\FER-2013 Project\\facialexpressionrecogination\\Lib\\site-packages\\sklearn\\metrics\\_classification.py:1531: UndefinedMetricWarning: Recall is ill-defined and being set to 0.0 in labels with no true samples. Use `zero_division` parameter to control this behavior.\n",
      "  _warn_prf(average, modifier, f\"{metric.capitalize()} is\", len(result))\n"
     ]
    },
    {
     "name": "stdout",
     "output_type": "stream",
     "text": [
      " [============================>.] | Loss: 1.059 | Acc: 59.794% (2146/3589)      29/29 \n",
      "Metrics saved to FER2013_SqueezeNet\\metrics.csv\n",
      "\n",
      "Epoch: 22\n",
      "learning_rate: 0.01\n",
      " [>.............................] | Loss: 1.083 | Acc: 58.594% (75/128)         1/225 \r"
     ]
    },
    {
     "name": "stderr",
     "output_type": "stream",
     "text": [
      "F:\\FER-2013 Project\\facialexpressionrecogination\\Lib\\site-packages\\sklearn\\metrics\\_classification.py:1531: UndefinedMetricWarning: Precision is ill-defined and being set to 0.0 in labels with no predicted samples. Use `zero_division` parameter to control this behavior.\n",
      "  _warn_prf(average, modifier, f\"{metric.capitalize()} is\", len(result))\n",
      "F:\\FER-2013 Project\\facialexpressionrecogination\\Lib\\site-packages\\sklearn\\metrics\\_classification.py:1531: UndefinedMetricWarning: Recall is ill-defined and being set to 0.0 in labels with no true samples. Use `zero_division` parameter to control this behavior.\n",
      "  _warn_prf(average, modifier, f\"{metric.capitalize()} is\", len(result))\n"
     ]
    },
    {
     "name": "stdout",
     "output_type": "stream",
     "text": [
      " [=============================>] | Loss: 1.090 | Acc: 58.759% (16869/28709)    225/225 6/225 ======================>.......] | Loss: 1.090 | Acc: 58.685% (12845/21888)    171/225 \n"
     ]
    },
    {
     "name": "stderr",
     "output_type": "stream",
     "text": [
      "F:\\FER-2013 Project\\facialexpressionrecogination\\Lib\\site-packages\\sklearn\\metrics\\_classification.py:1531: UndefinedMetricWarning: Precision is ill-defined and being set to 0.0 in labels with no predicted samples. Use `zero_division` parameter to control this behavior.\n",
      "  _warn_prf(average, modifier, f\"{metric.capitalize()} is\", len(result))\n"
     ]
    },
    {
     "name": "stdout",
     "output_type": "stream",
     "text": [
      " [============================>.] | Loss: 1.079 | Acc: 59.209% (2125/3589)      29/29 \n"
     ]
    },
    {
     "name": "stderr",
     "output_type": "stream",
     "text": [
      "F:\\FER-2013 Project\\facialexpressionrecogination\\Lib\\site-packages\\sklearn\\metrics\\_classification.py:1531: UndefinedMetricWarning: Precision is ill-defined and being set to 0.0 in labels with no predicted samples. Use `zero_division` parameter to control this behavior.\n",
      "  _warn_prf(average, modifier, f\"{metric.capitalize()} is\", len(result))\n",
      "F:\\FER-2013 Project\\facialexpressionrecogination\\Lib\\site-packages\\sklearn\\metrics\\_classification.py:1531: UndefinedMetricWarning: Recall is ill-defined and being set to 0.0 in labels with no true samples. Use `zero_division` parameter to control this behavior.\n",
      "  _warn_prf(average, modifier, f\"{metric.capitalize()} is\", len(result))\n"
     ]
    },
    {
     "name": "stdout",
     "output_type": "stream",
     "text": [
      " [============================>.] | Loss: 1.079 | Acc: 59.209% (2125/3589)      29/29 \n",
      "Metrics saved to FER2013_SqueezeNet\\metrics.csv\n",
      "\n",
      "Epoch: 23\n",
      "learning_rate: 0.01\n",
      " [>.............................] | Loss: 1.040 | Acc: 59.375% (76/128)         1/225 \r"
     ]
    },
    {
     "name": "stderr",
     "output_type": "stream",
     "text": [
      "F:\\FER-2013 Project\\facialexpressionrecogination\\Lib\\site-packages\\sklearn\\metrics\\_classification.py:1531: UndefinedMetricWarning: Precision is ill-defined and being set to 0.0 in labels with no predicted samples. Use `zero_division` parameter to control this behavior.\n",
      "  _warn_prf(average, modifier, f\"{metric.capitalize()} is\", len(result))\n",
      "F:\\FER-2013 Project\\facialexpressionrecogination\\Lib\\site-packages\\sklearn\\metrics\\_classification.py:1531: UndefinedMetricWarning: Recall is ill-defined and being set to 0.0 in labels with no true samples. Use `zero_division` parameter to control this behavior.\n",
      "  _warn_prf(average, modifier, f\"{metric.capitalize()} is\", len(result))\n"
     ]
    },
    {
     "name": "stdout",
     "output_type": "stream",
     "text": [
      " [=============================>] | Loss: 1.083 | Acc: 59.156% (16983/28709)    225/225 ====>........................] | Loss: 1.069 | Acc: 59.617% (3205/5376)      42/225 =====>........................] | Loss: 1.068 | Acc: 59.635% (3435/5760)      45/225 ============>.................] | Loss: 1.069 | Acc: 59.248% (6977/11776)     92/225 ===============>..............] | Loss: 1.073 | Acc: 59.342% (9115/15360)     120/225 ================>.............] | Loss: 1.076 | Acc: 59.203% (9624/16256)     127/225 ========================>.....] | Loss: 1.081 | Acc: 59.243% (13953/23552)    184/225 \n"
     ]
    },
    {
     "name": "stderr",
     "output_type": "stream",
     "text": [
      "F:\\FER-2013 Project\\facialexpressionrecogination\\Lib\\site-packages\\sklearn\\metrics\\_classification.py:1531: UndefinedMetricWarning: Precision is ill-defined and being set to 0.0 in labels with no predicted samples. Use `zero_division` parameter to control this behavior.\n",
      "  _warn_prf(average, modifier, f\"{metric.capitalize()} is\", len(result))\n"
     ]
    },
    {
     "name": "stdout",
     "output_type": "stream",
     "text": [
      " [============================>.] | Loss: 1.036 | Acc: 60.630% (2176/3589)      29/29 \n",
      "Saving..\n",
      "best_Testing_acc: 60.630\n"
     ]
    },
    {
     "name": "stderr",
     "output_type": "stream",
     "text": [
      "F:\\FER-2013 Project\\facialexpressionrecogination\\Lib\\site-packages\\sklearn\\metrics\\_classification.py:1531: UndefinedMetricWarning: Precision is ill-defined and being set to 0.0 in labels with no predicted samples. Use `zero_division` parameter to control this behavior.\n",
      "  _warn_prf(average, modifier, f\"{metric.capitalize()} is\", len(result))\n",
      "F:\\FER-2013 Project\\facialexpressionrecogination\\Lib\\site-packages\\sklearn\\metrics\\_classification.py:1531: UndefinedMetricWarning: Recall is ill-defined and being set to 0.0 in labels with no true samples. Use `zero_division` parameter to control this behavior.\n",
      "  _warn_prf(average, modifier, f\"{metric.capitalize()} is\", len(result))\n"
     ]
    },
    {
     "name": "stdout",
     "output_type": "stream",
     "text": [
      " [============================>.] | Loss: 1.036 | Acc: 60.630% (2176/3589)      29/29 \n",
      "Saving..\n",
      "best_Validation_acc: 60.630\n",
      "Metrics saved to FER2013_SqueezeNet\\metrics.csv\n",
      "\n",
      "Epoch: 24\n",
      "learning_rate: 0.01\n",
      " [>.............................] | Loss: 1.083 | Acc: 57.031% (73/128)         1/225 \r"
     ]
    },
    {
     "name": "stderr",
     "output_type": "stream",
     "text": [
      "F:\\FER-2013 Project\\facialexpressionrecogination\\Lib\\site-packages\\sklearn\\metrics\\_classification.py:1531: UndefinedMetricWarning: Precision is ill-defined and being set to 0.0 in labels with no predicted samples. Use `zero_division` parameter to control this behavior.\n",
      "  _warn_prf(average, modifier, f\"{metric.capitalize()} is\", len(result))\n",
      "F:\\FER-2013 Project\\facialexpressionrecogination\\Lib\\site-packages\\sklearn\\metrics\\_classification.py:1531: UndefinedMetricWarning: Recall is ill-defined and being set to 0.0 in labels with no true samples. Use `zero_division` parameter to control this behavior.\n",
      "  _warn_prf(average, modifier, f\"{metric.capitalize()} is\", len(result))\n"
     ]
    },
    {
     "name": "stdout",
     "output_type": "stream",
     "text": [
      " [=============================>] | Loss: 1.064 | Acc: 59.654% (17126/28709)    225/225 \n",
      " [============================>.] | Loss: 1.110 | Acc: 57.788% (2074/3589)      29/29 \n"
     ]
    },
    {
     "name": "stderr",
     "output_type": "stream",
     "text": [
      "F:\\FER-2013 Project\\facialexpressionrecogination\\Lib\\site-packages\\sklearn\\metrics\\_classification.py:1531: UndefinedMetricWarning: Precision is ill-defined and being set to 0.0 in labels with no predicted samples. Use `zero_division` parameter to control this behavior.\n",
      "  _warn_prf(average, modifier, f\"{metric.capitalize()} is\", len(result))\n",
      "F:\\FER-2013 Project\\facialexpressionrecogination\\Lib\\site-packages\\sklearn\\metrics\\_classification.py:1531: UndefinedMetricWarning: Recall is ill-defined and being set to 0.0 in labels with no true samples. Use `zero_division` parameter to control this behavior.\n",
      "  _warn_prf(average, modifier, f\"{metric.capitalize()} is\", len(result))\n"
     ]
    },
    {
     "name": "stdout",
     "output_type": "stream",
     "text": [
      " [============================>.] | Loss: 1.110 | Acc: 57.788% (2074/3589)      29/29 \n",
      "Metrics saved to FER2013_SqueezeNet\\metrics.csv\n",
      "\n",
      "Epoch: 25\n",
      "learning_rate: 0.01\n",
      " [>.............................] | Loss: 1.214 | Acc: 54.688% (70/128)         1/225 \r"
     ]
    },
    {
     "name": "stderr",
     "output_type": "stream",
     "text": [
      "F:\\FER-2013 Project\\facialexpressionrecogination\\Lib\\site-packages\\sklearn\\metrics\\_classification.py:1531: UndefinedMetricWarning: Precision is ill-defined and being set to 0.0 in labels with no predicted samples. Use `zero_division` parameter to control this behavior.\n",
      "  _warn_prf(average, modifier, f\"{metric.capitalize()} is\", len(result))\n",
      "F:\\FER-2013 Project\\facialexpressionrecogination\\Lib\\site-packages\\sklearn\\metrics\\_classification.py:1531: UndefinedMetricWarning: Recall is ill-defined and being set to 0.0 in labels with no true samples. Use `zero_division` parameter to control this behavior.\n",
      "  _warn_prf(average, modifier, f\"{metric.capitalize()} is\", len(result))\n"
     ]
    },
    {
     "name": "stdout",
     "output_type": "stream",
     "text": [
      " [=============================>] | Loss: 1.061 | Acc: 60.002% (17226/28709)    225/225 =============>................] | Loss: 1.065 | Acc: 59.645% (7940/13312)     104/225 ====================>.........] | Loss: 1.065 | Acc: 59.804% (11712/19584)    153/225 ======================>.......] | Loss: 1.062 | Acc: 59.925% (12963/21632)    169/225    179/225 ==========================>...] | Loss: 1.063 | Acc: 59.958% (15119/25216)    197/225 \n",
      " [============================>.] | Loss: 1.037 | Acc: 60.463% (2170/3589)      29/29 \n"
     ]
    },
    {
     "name": "stderr",
     "output_type": "stream",
     "text": [
      "F:\\FER-2013 Project\\facialexpressionrecogination\\Lib\\site-packages\\sklearn\\metrics\\_classification.py:1531: UndefinedMetricWarning: Precision is ill-defined and being set to 0.0 in labels with no predicted samples. Use `zero_division` parameter to control this behavior.\n",
      "  _warn_prf(average, modifier, f\"{metric.capitalize()} is\", len(result))\n",
      "F:\\FER-2013 Project\\facialexpressionrecogination\\Lib\\site-packages\\sklearn\\metrics\\_classification.py:1531: UndefinedMetricWarning: Recall is ill-defined and being set to 0.0 in labels with no true samples. Use `zero_division` parameter to control this behavior.\n",
      "  _warn_prf(average, modifier, f\"{metric.capitalize()} is\", len(result))\n"
     ]
    },
    {
     "name": "stdout",
     "output_type": "stream",
     "text": [
      " [============================>.] | Loss: 1.037 | Acc: 60.463% (2170/3589)      29/29 \n",
      "Metrics saved to FER2013_SqueezeNet\\metrics.csv\n",
      "\n",
      "Epoch: 26\n",
      "learning_rate: 0.01\n",
      " [>.............................] | Loss: 1.122 | Acc: 52.344% (67/128)         1/225 \r"
     ]
    },
    {
     "name": "stderr",
     "output_type": "stream",
     "text": [
      "F:\\FER-2013 Project\\facialexpressionrecogination\\Lib\\site-packages\\sklearn\\metrics\\_classification.py:1531: UndefinedMetricWarning: Precision is ill-defined and being set to 0.0 in labels with no predicted samples. Use `zero_division` parameter to control this behavior.\n",
      "  _warn_prf(average, modifier, f\"{metric.capitalize()} is\", len(result))\n",
      "F:\\FER-2013 Project\\facialexpressionrecogination\\Lib\\site-packages\\sklearn\\metrics\\_classification.py:1531: UndefinedMetricWarning: Recall is ill-defined and being set to 0.0 in labels with no true samples. Use `zero_division` parameter to control this behavior.\n",
      "  _warn_prf(average, modifier, f\"{metric.capitalize()} is\", len(result))\n"
     ]
    },
    {
     "name": "stdout",
     "output_type": "stream",
     "text": [
      " [=============================>] | Loss: 1.062 | Acc: 59.758% (17156/28709)    225/225 =>...........................] | Loss: 1.067 | Acc: 59.970% (1612/2688)      21/225 ===>..........................] | Loss: 1.066 | Acc: 60.062% (1922/3200)      25/225 =====>........................] | Loss: 1.062 | Acc: 59.588% (3356/5632)      44/225 ===============>..............] | Loss: 1.055 | Acc: 59.654% (8781/14720)     115/225 ==================>...........] | Loss: 1.055 | Acc: 59.747% (10936/18304)    143/225 ====================>.........] | Loss: 1.052 | Acc: 59.929% (12120/20224)    158/225 ======================>.......] | Loss: 1.050 | Acc: 60.034% (13294/22144)    173/225 =======================>......] | Loss: 1.051 | Acc: 59.961% (13508/22528)    176/225 \n",
      " [============================>.] | Loss: 1.068 | Acc: 59.237% (2126/3589)      29/29 \n"
     ]
    },
    {
     "name": "stderr",
     "output_type": "stream",
     "text": [
      "F:\\FER-2013 Project\\facialexpressionrecogination\\Lib\\site-packages\\sklearn\\metrics\\_classification.py:1531: UndefinedMetricWarning: Precision is ill-defined and being set to 0.0 in labels with no predicted samples. Use `zero_division` parameter to control this behavior.\n",
      "  _warn_prf(average, modifier, f\"{metric.capitalize()} is\", len(result))\n",
      "F:\\FER-2013 Project\\facialexpressionrecogination\\Lib\\site-packages\\sklearn\\metrics\\_classification.py:1531: UndefinedMetricWarning: Recall is ill-defined and being set to 0.0 in labels with no true samples. Use `zero_division` parameter to control this behavior.\n",
      "  _warn_prf(average, modifier, f\"{metric.capitalize()} is\", len(result))\n"
     ]
    },
    {
     "name": "stdout",
     "output_type": "stream",
     "text": [
      " [============================>.] | Loss: 1.068 | Acc: 59.237% (2126/3589)      29/29 \n",
      "Metrics saved to FER2013_SqueezeNet\\metrics.csv\n",
      "\n",
      "Epoch: 27\n",
      "learning_rate: 0.01\n",
      " [>.............................] | Loss: 1.046 | Acc: 54.688% (70/128)         1/225 \r"
     ]
    },
    {
     "name": "stderr",
     "output_type": "stream",
     "text": [
      "F:\\FER-2013 Project\\facialexpressionrecogination\\Lib\\site-packages\\sklearn\\metrics\\_classification.py:1531: UndefinedMetricWarning: Precision is ill-defined and being set to 0.0 in labels with no predicted samples. Use `zero_division` parameter to control this behavior.\n",
      "  _warn_prf(average, modifier, f\"{metric.capitalize()} is\", len(result))\n",
      "F:\\FER-2013 Project\\facialexpressionrecogination\\Lib\\site-packages\\sklearn\\metrics\\_classification.py:1531: UndefinedMetricWarning: Recall is ill-defined and being set to 0.0 in labels with no true samples. Use `zero_division` parameter to control this behavior.\n",
      "  _warn_prf(average, modifier, f\"{metric.capitalize()} is\", len(result))\n"
     ]
    },
    {
     "name": "stdout",
     "output_type": "stream",
     "text": [
      " [=============================>] | Loss: 1.052 | Acc: 60.016% (17230/28709)    225/225 ==========>..................] | Loss: 1.049 | Acc: 60.102% (6616/11008)     86/225 =================>............] | Loss: 1.046 | Acc: 60.065% (9918/16512)     129/225 ===================>..........] | Loss: 1.045 | Acc: 60.319% (11118/18432)    144/225 =========================>....] | Loss: 1.049 | Acc: 60.060% (14991/24960)    195/225 213/225 \n",
      " [============================>.] | Loss: 1.054 | Acc: 59.905% (2150/3589)      29/29 \n"
     ]
    },
    {
     "name": "stderr",
     "output_type": "stream",
     "text": [
      "F:\\FER-2013 Project\\facialexpressionrecogination\\Lib\\site-packages\\sklearn\\metrics\\_classification.py:1531: UndefinedMetricWarning: Precision is ill-defined and being set to 0.0 in labels with no predicted samples. Use `zero_division` parameter to control this behavior.\n",
      "  _warn_prf(average, modifier, f\"{metric.capitalize()} is\", len(result))\n",
      "F:\\FER-2013 Project\\facialexpressionrecogination\\Lib\\site-packages\\sklearn\\metrics\\_classification.py:1531: UndefinedMetricWarning: Recall is ill-defined and being set to 0.0 in labels with no true samples. Use `zero_division` parameter to control this behavior.\n",
      "  _warn_prf(average, modifier, f\"{metric.capitalize()} is\", len(result))\n"
     ]
    },
    {
     "name": "stdout",
     "output_type": "stream",
     "text": [
      " [============================>.] | Loss: 1.054 | Acc: 59.905% (2150/3589)      29/29 \n",
      "Metrics saved to FER2013_SqueezeNet\\metrics.csv\n",
      "\n",
      "Epoch: 28\n",
      "learning_rate: 0.01\n",
      " [>.............................] | Loss: 1.002 | Acc: 56.250% (72/128)         1/225 \r"
     ]
    },
    {
     "name": "stderr",
     "output_type": "stream",
     "text": [
      "F:\\FER-2013 Project\\facialexpressionrecogination\\Lib\\site-packages\\sklearn\\metrics\\_classification.py:1531: UndefinedMetricWarning: Precision is ill-defined and being set to 0.0 in labels with no predicted samples. Use `zero_division` parameter to control this behavior.\n",
      "  _warn_prf(average, modifier, f\"{metric.capitalize()} is\", len(result))\n",
      "F:\\FER-2013 Project\\facialexpressionrecogination\\Lib\\site-packages\\sklearn\\metrics\\_classification.py:1531: UndefinedMetricWarning: Recall is ill-defined and being set to 0.0 in labels with no true samples. Use `zero_division` parameter to control this behavior.\n",
      "  _warn_prf(average, modifier, f\"{metric.capitalize()} is\", len(result))\n"
     ]
    },
    {
     "name": "stdout",
     "output_type": "stream",
     "text": [
      " [=============================>] | Loss: 1.046 | Acc: 60.441% (17352/28709)    225/225  115/225 ==========================>...] | Loss: 1.046 | Acc: 60.299% (15668/25984)    203/225 \n"
     ]
    },
    {
     "name": "stderr",
     "output_type": "stream",
     "text": [
      "F:\\FER-2013 Project\\facialexpressionrecogination\\Lib\\site-packages\\sklearn\\metrics\\_classification.py:1531: UndefinedMetricWarning: Precision is ill-defined and being set to 0.0 in labels with no predicted samples. Use `zero_division` parameter to control this behavior.\n",
      "  _warn_prf(average, modifier, f\"{metric.capitalize()} is\", len(result))\n"
     ]
    },
    {
     "name": "stdout",
     "output_type": "stream",
     "text": [
      " [============================>.] | Loss: 1.037 | Acc: 60.964% (2188/3589)      29/29 \n",
      "Saving..\n",
      "best_Testing_acc: 60.964\n"
     ]
    },
    {
     "name": "stderr",
     "output_type": "stream",
     "text": [
      "F:\\FER-2013 Project\\facialexpressionrecogination\\Lib\\site-packages\\sklearn\\metrics\\_classification.py:1531: UndefinedMetricWarning: Precision is ill-defined and being set to 0.0 in labels with no predicted samples. Use `zero_division` parameter to control this behavior.\n",
      "  _warn_prf(average, modifier, f\"{metric.capitalize()} is\", len(result))\n",
      "F:\\FER-2013 Project\\facialexpressionrecogination\\Lib\\site-packages\\sklearn\\metrics\\_classification.py:1531: UndefinedMetricWarning: Recall is ill-defined and being set to 0.0 in labels with no true samples. Use `zero_division` parameter to control this behavior.\n",
      "  _warn_prf(average, modifier, f\"{metric.capitalize()} is\", len(result))\n"
     ]
    },
    {
     "name": "stdout",
     "output_type": "stream",
     "text": [
      " [============================>.] | Loss: 1.037 | Acc: 60.964% (2188/3589)      29/29 \n",
      "Saving..\n",
      "best_Validation_acc: 60.964\n",
      "Metrics saved to FER2013_SqueezeNet\\metrics.csv\n",
      "\n",
      "Epoch: 29\n",
      "learning_rate: 0.01\n",
      " [>.............................] | Loss: 1.177 | Acc: 53.906% (69/128)         1/225 \r"
     ]
    },
    {
     "name": "stderr",
     "output_type": "stream",
     "text": [
      "F:\\FER-2013 Project\\facialexpressionrecogination\\Lib\\site-packages\\sklearn\\metrics\\_classification.py:1531: UndefinedMetricWarning: Precision is ill-defined and being set to 0.0 in labels with no predicted samples. Use `zero_division` parameter to control this behavior.\n",
      "  _warn_prf(average, modifier, f\"{metric.capitalize()} is\", len(result))\n",
      "F:\\FER-2013 Project\\facialexpressionrecogination\\Lib\\site-packages\\sklearn\\metrics\\_classification.py:1531: UndefinedMetricWarning: Recall is ill-defined and being set to 0.0 in labels with no true samples. Use `zero_division` parameter to control this behavior.\n",
      "  _warn_prf(average, modifier, f\"{metric.capitalize()} is\", len(result))\n"
     ]
    },
    {
     "name": "stdout",
     "output_type": "stream",
     "text": [
      " [=============================>] | Loss: 1.049 | Acc: 60.239% (17294/28709)    225/225 ===>.........................] | Loss: 1.036 | Acc: 60.557% (2868/4736)      37/225 ====>.........................] | Loss: 1.039 | Acc: 60.629% (2949/4864)      38/225 =======>......................] | Loss: 1.040 | Acc: 60.547% (4340/7168)      56/225 ================>.............] | Loss: 1.047 | Acc: 60.118% (9542/15872)     124/225 ========================>.....] | Loss: 1.048 | Acc: 60.260% (13961/23168)    181/225 ========================>.....] | Loss: 1.047 | Acc: 60.261% (14424/23936)    187/225 ============================>.] | Loss: 1.049 | Acc: 60.234% (16268/27008)    211/225 \n"
     ]
    },
    {
     "name": "stderr",
     "output_type": "stream",
     "text": [
      "F:\\FER-2013 Project\\facialexpressionrecogination\\Lib\\site-packages\\sklearn\\metrics\\_classification.py:1531: UndefinedMetricWarning: Precision is ill-defined and being set to 0.0 in labels with no predicted samples. Use `zero_division` parameter to control this behavior.\n",
      "  _warn_prf(average, modifier, f\"{metric.capitalize()} is\", len(result))\n"
     ]
    },
    {
     "name": "stdout",
     "output_type": "stream",
     "text": [
      " [============================>.] | Loss: 1.038 | Acc: 60.546% (2173/3589)      29/29 \n"
     ]
    },
    {
     "name": "stderr",
     "output_type": "stream",
     "text": [
      "F:\\FER-2013 Project\\facialexpressionrecogination\\Lib\\site-packages\\sklearn\\metrics\\_classification.py:1531: UndefinedMetricWarning: Precision is ill-defined and being set to 0.0 in labels with no predicted samples. Use `zero_division` parameter to control this behavior.\n",
      "  _warn_prf(average, modifier, f\"{metric.capitalize()} is\", len(result))\n",
      "F:\\FER-2013 Project\\facialexpressionrecogination\\Lib\\site-packages\\sklearn\\metrics\\_classification.py:1531: UndefinedMetricWarning: Recall is ill-defined and being set to 0.0 in labels with no true samples. Use `zero_division` parameter to control this behavior.\n",
      "  _warn_prf(average, modifier, f\"{metric.capitalize()} is\", len(result))\n"
     ]
    },
    {
     "name": "stdout",
     "output_type": "stream",
     "text": [
      " [============================>.] | Loss: 1.038 | Acc: 60.546% (2173/3589)      29/29 \n",
      "Metrics saved to FER2013_SqueezeNet\\metrics.csv\n",
      "\n",
      "Epoch: 30\n",
      "learning_rate: 0.01\n"
     ]
    },
    {
     "name": "stderr",
     "output_type": "stream",
     "text": [
      "F:\\FER-2013 Project\\facialexpressionrecogination\\Lib\\site-packages\\sklearn\\metrics\\_classification.py:1531: UndefinedMetricWarning: Precision is ill-defined and being set to 0.0 in labels with no predicted samples. Use `zero_division` parameter to control this behavior.\n",
      "  _warn_prf(average, modifier, f\"{metric.capitalize()} is\", len(result))\n",
      "F:\\FER-2013 Project\\facialexpressionrecogination\\Lib\\site-packages\\sklearn\\metrics\\_classification.py:1531: UndefinedMetricWarning: Recall is ill-defined and being set to 0.0 in labels with no true samples. Use `zero_division` parameter to control this behavior.\n",
      "  _warn_prf(average, modifier, f\"{metric.capitalize()} is\", len(result))\n"
     ]
    },
    {
     "name": "stdout",
     "output_type": "stream",
     "text": [
      " [=============================>] | Loss: 1.042 | Acc: 60.626% (17405/28709)    225/225 =====>.......................] | Loss: 1.042 | Acc: 60.693% (3729/6144)      48/225 ================>.............] | Loss: 1.043 | Acc: 60.618% (9854/16256)     127/225 ========================>.....] | Loss: 1.041 | Acc: 60.688% (14604/24064)    188/225 ============================>.] | Loss: 1.042 | Acc: 60.633% (16919/27904)    218/225 =============================>] | Loss: 1.043 | Acc: 60.610% (17223/28416)    222/225 \n",
      " [============================>.] | Loss: 1.024 | Acc: 60.602% (2175/3589)      29/29 \n"
     ]
    },
    {
     "name": "stderr",
     "output_type": "stream",
     "text": [
      "F:\\FER-2013 Project\\facialexpressionrecogination\\Lib\\site-packages\\sklearn\\metrics\\_classification.py:1531: UndefinedMetricWarning: Precision is ill-defined and being set to 0.0 in labels with no predicted samples. Use `zero_division` parameter to control this behavior.\n",
      "  _warn_prf(average, modifier, f\"{metric.capitalize()} is\", len(result))\n",
      "F:\\FER-2013 Project\\facialexpressionrecogination\\Lib\\site-packages\\sklearn\\metrics\\_classification.py:1531: UndefinedMetricWarning: Recall is ill-defined and being set to 0.0 in labels with no true samples. Use `zero_division` parameter to control this behavior.\n",
      "  _warn_prf(average, modifier, f\"{metric.capitalize()} is\", len(result))\n"
     ]
    },
    {
     "name": "stdout",
     "output_type": "stream",
     "text": [
      " [============================>.] | Loss: 1.024 | Acc: 60.602% (2175/3589)      29/29 \n",
      "Metrics saved to FER2013_SqueezeNet\\metrics.csv\n",
      "\n",
      "Epoch: 31\n",
      "learning_rate: 0.01\n"
     ]
    },
    {
     "name": "stderr",
     "output_type": "stream",
     "text": [
      "F:\\FER-2013 Project\\facialexpressionrecogination\\Lib\\site-packages\\sklearn\\metrics\\_classification.py:1531: UndefinedMetricWarning: Precision is ill-defined and being set to 0.0 in labels with no predicted samples. Use `zero_division` parameter to control this behavior.\n",
      "  _warn_prf(average, modifier, f\"{metric.capitalize()} is\", len(result))\n",
      "F:\\FER-2013 Project\\facialexpressionrecogination\\Lib\\site-packages\\sklearn\\metrics\\_classification.py:1531: UndefinedMetricWarning: Recall is ill-defined and being set to 0.0 in labels with no true samples. Use `zero_division` parameter to control this behavior.\n",
      "  _warn_prf(average, modifier, f\"{metric.capitalize()} is\", len(result))\n"
     ]
    },
    {
     "name": "stdout",
     "output_type": "stream",
     "text": [
      " [=============================>] | Loss: 1.036 | Acc: 60.723% (17433/28709)    225/225 ===================>..........] | Loss: 1.033 | Acc: 60.485% (11226/18560)    145/225 ===================>..........] | Loss: 1.033 | Acc: 60.468% (11455/18944)    148/225 =============================>] | Loss: 1.036 | Acc: 60.688% (17012/28032)    219/225 \n",
      " [============================>.] | Loss: 1.062 | Acc: 59.794% (2146/3589)      29/29 \n"
     ]
    },
    {
     "name": "stderr",
     "output_type": "stream",
     "text": [
      "F:\\FER-2013 Project\\facialexpressionrecogination\\Lib\\site-packages\\sklearn\\metrics\\_classification.py:1531: UndefinedMetricWarning: Precision is ill-defined and being set to 0.0 in labels with no predicted samples. Use `zero_division` parameter to control this behavior.\n",
      "  _warn_prf(average, modifier, f\"{metric.capitalize()} is\", len(result))\n",
      "F:\\FER-2013 Project\\facialexpressionrecogination\\Lib\\site-packages\\sklearn\\metrics\\_classification.py:1531: UndefinedMetricWarning: Recall is ill-defined and being set to 0.0 in labels with no true samples. Use `zero_division` parameter to control this behavior.\n",
      "  _warn_prf(average, modifier, f\"{metric.capitalize()} is\", len(result))\n"
     ]
    },
    {
     "name": "stdout",
     "output_type": "stream",
     "text": [
      " [============================>.] | Loss: 1.062 | Acc: 59.794% (2146/3589)      29/29 \n",
      "Metrics saved to FER2013_SqueezeNet\\metrics.csv\n",
      "\n",
      "Epoch: 32\n",
      "learning_rate: 0.01\n"
     ]
    },
    {
     "name": "stderr",
     "output_type": "stream",
     "text": [
      "F:\\FER-2013 Project\\facialexpressionrecogination\\Lib\\site-packages\\sklearn\\metrics\\_classification.py:1531: UndefinedMetricWarning: Precision is ill-defined and being set to 0.0 in labels with no predicted samples. Use `zero_division` parameter to control this behavior.\n",
      "  _warn_prf(average, modifier, f\"{metric.capitalize()} is\", len(result))\n",
      "F:\\FER-2013 Project\\facialexpressionrecogination\\Lib\\site-packages\\sklearn\\metrics\\_classification.py:1531: UndefinedMetricWarning: Recall is ill-defined and being set to 0.0 in labels with no true samples. Use `zero_division` parameter to control this behavior.\n",
      "  _warn_prf(average, modifier, f\"{metric.capitalize()} is\", len(result))\n"
     ]
    },
    {
     "name": "stdout",
     "output_type": "stream",
     "text": [
      " [=============================>] | Loss: 1.035 | Acc: 60.782% (17450/28709)    225/225 ==========>..................] | Loss: 1.027 | Acc: 60.885% (7014/11520)     90/225 \n",
      " [============================>.] | Loss: 1.037 | Acc: 60.295% (2164/3589)      29/29 \n"
     ]
    },
    {
     "name": "stderr",
     "output_type": "stream",
     "text": [
      "F:\\FER-2013 Project\\facialexpressionrecogination\\Lib\\site-packages\\sklearn\\metrics\\_classification.py:1531: UndefinedMetricWarning: Precision is ill-defined and being set to 0.0 in labels with no predicted samples. Use `zero_division` parameter to control this behavior.\n",
      "  _warn_prf(average, modifier, f\"{metric.capitalize()} is\", len(result))\n",
      "F:\\FER-2013 Project\\facialexpressionrecogination\\Lib\\site-packages\\sklearn\\metrics\\_classification.py:1531: UndefinedMetricWarning: Recall is ill-defined and being set to 0.0 in labels with no true samples. Use `zero_division` parameter to control this behavior.\n",
      "  _warn_prf(average, modifier, f\"{metric.capitalize()} is\", len(result))\n"
     ]
    },
    {
     "name": "stdout",
     "output_type": "stream",
     "text": [
      " [============================>.] | Loss: 1.037 | Acc: 60.295% (2164/3589)      29/29 \n",
      "Metrics saved to FER2013_SqueezeNet\\metrics.csv\n",
      "\n",
      "Epoch: 33\n",
      "learning_rate: 0.01\n",
      " [>.............................] | Loss: 1.037 | Acc: 57.812% (74/128)         1/225 \r"
     ]
    },
    {
     "name": "stderr",
     "output_type": "stream",
     "text": [
      "F:\\FER-2013 Project\\facialexpressionrecogination\\Lib\\site-packages\\sklearn\\metrics\\_classification.py:1531: UndefinedMetricWarning: Precision is ill-defined and being set to 0.0 in labels with no predicted samples. Use `zero_division` parameter to control this behavior.\n",
      "  _warn_prf(average, modifier, f\"{metric.capitalize()} is\", len(result))\n",
      "F:\\FER-2013 Project\\facialexpressionrecogination\\Lib\\site-packages\\sklearn\\metrics\\_classification.py:1531: UndefinedMetricWarning: Recall is ill-defined and being set to 0.0 in labels with no true samples. Use `zero_division` parameter to control this behavior.\n",
      "  _warn_prf(average, modifier, f\"{metric.capitalize()} is\", len(result))\n"
     ]
    },
    {
     "name": "stdout",
     "output_type": "stream",
     "text": [
      " [=============================>] | Loss: 1.029 | Acc: 61.002% (17513/28709)    225/225 =====>.......................] | Loss: 1.026 | Acc: 61.209% (3839/6272)      49/225 82/22 92/225 =============>................] | Loss: 1.025 | Acc: 61.111% (7744/12672)     99/225 102/225 ===============>..............] | Loss: 1.026 | Acc: 61.061% (9379/15360)     120/225 ==================>...........] | Loss: 1.025 | Acc: 61.093% (10635/17408)    136/225 \n"
     ]
    },
    {
     "name": "stderr",
     "output_type": "stream",
     "text": [
      "F:\\FER-2013 Project\\facialexpressionrecogination\\Lib\\site-packages\\sklearn\\metrics\\_classification.py:1531: UndefinedMetricWarning: Recall is ill-defined and being set to 0.0 in labels with no true samples. Use `zero_division` parameter to control this behavior.\n",
      "  _warn_prf(average, modifier, f\"{metric.capitalize()} is\", len(result))\n"
     ]
    },
    {
     "name": "stdout",
     "output_type": "stream",
     "text": [
      " [============================>.] | Loss: 1.022 | Acc: 60.602% (2175/3589)      29/29 \n"
     ]
    },
    {
     "name": "stderr",
     "output_type": "stream",
     "text": [
      "F:\\FER-2013 Project\\facialexpressionrecogination\\Lib\\site-packages\\sklearn\\metrics\\_classification.py:1531: UndefinedMetricWarning: Precision is ill-defined and being set to 0.0 in labels with no predicted samples. Use `zero_division` parameter to control this behavior.\n",
      "  _warn_prf(average, modifier, f\"{metric.capitalize()} is\", len(result))\n",
      "F:\\FER-2013 Project\\facialexpressionrecogination\\Lib\\site-packages\\sklearn\\metrics\\_classification.py:1531: UndefinedMetricWarning: Recall is ill-defined and being set to 0.0 in labels with no true samples. Use `zero_division` parameter to control this behavior.\n",
      "  _warn_prf(average, modifier, f\"{metric.capitalize()} is\", len(result))\n"
     ]
    },
    {
     "name": "stdout",
     "output_type": "stream",
     "text": [
      " [============================>.] | Loss: 1.022 | Acc: 60.602% (2175/3589)      29/29 \n",
      "Metrics saved to FER2013_SqueezeNet\\metrics.csv\n",
      "\n",
      "Epoch: 34\n",
      "learning_rate: 0.01\n",
      " [>.............................] | Loss: 0.997 | Acc: 64.844% (83/128)         1/225 \r"
     ]
    },
    {
     "name": "stderr",
     "output_type": "stream",
     "text": [
      "F:\\FER-2013 Project\\facialexpressionrecogination\\Lib\\site-packages\\sklearn\\metrics\\_classification.py:1531: UndefinedMetricWarning: Precision is ill-defined and being set to 0.0 in labels with no predicted samples. Use `zero_division` parameter to control this behavior.\n",
      "  _warn_prf(average, modifier, f\"{metric.capitalize()} is\", len(result))\n",
      "F:\\FER-2013 Project\\facialexpressionrecogination\\Lib\\site-packages\\sklearn\\metrics\\_classification.py:1531: UndefinedMetricWarning: Recall is ill-defined and being set to 0.0 in labels with no true samples. Use `zero_division` parameter to control this behavior.\n",
      "  _warn_prf(average, modifier, f\"{metric.capitalize()} is\", len(result))\n"
     ]
    },
    {
     "name": "stdout",
     "output_type": "stream",
     "text": [
      " [=============================>] | Loss: 1.019 | Acc: 61.207% (17572/28709)    225/225 ==>..........................] | Loss: 0.996 | Acc: 61.970% (2221/3584)      28/225 =====================>........] | Loss: 1.014 | Acc: 61.481% (12906/20992)    164/225 \n"
     ]
    },
    {
     "name": "stderr",
     "output_type": "stream",
     "text": [
      "F:\\FER-2013 Project\\facialexpressionrecogination\\Lib\\site-packages\\sklearn\\metrics\\_classification.py:1531: UndefinedMetricWarning: Recall is ill-defined and being set to 0.0 in labels with no true samples. Use `zero_division` parameter to control this behavior.\n",
      "  _warn_prf(average, modifier, f\"{metric.capitalize()} is\", len(result))\n"
     ]
    },
    {
     "name": "stdout",
     "output_type": "stream",
     "text": [
      " [============================>.] | Loss: 1.032 | Acc: 61.076% (2192/3589)      29/29 \n",
      "Saving..\n",
      "best_Testing_acc: 61.076\n"
     ]
    },
    {
     "name": "stderr",
     "output_type": "stream",
     "text": [
      "F:\\FER-2013 Project\\facialexpressionrecogination\\Lib\\site-packages\\sklearn\\metrics\\_classification.py:1531: UndefinedMetricWarning: Precision is ill-defined and being set to 0.0 in labels with no predicted samples. Use `zero_division` parameter to control this behavior.\n",
      "  _warn_prf(average, modifier, f\"{metric.capitalize()} is\", len(result))\n",
      "F:\\FER-2013 Project\\facialexpressionrecogination\\Lib\\site-packages\\sklearn\\metrics\\_classification.py:1531: UndefinedMetricWarning: Recall is ill-defined and being set to 0.0 in labels with no true samples. Use `zero_division` parameter to control this behavior.\n",
      "  _warn_prf(average, modifier, f\"{metric.capitalize()} is\", len(result))\n"
     ]
    },
    {
     "name": "stdout",
     "output_type": "stream",
     "text": [
      " [============================>.] | Loss: 1.032 | Acc: 61.076% (2192/3589)      29/29 \n",
      "Saving..\n",
      "best_Validation_acc: 61.076\n",
      "Metrics saved to FER2013_SqueezeNet\\metrics.csv\n",
      "\n",
      "Epoch: 35\n",
      "learning_rate: 0.01\n",
      " [>.............................] | Loss: 0.974 | Acc: 64.844% (83/128)         1/225 \r"
     ]
    },
    {
     "name": "stderr",
     "output_type": "stream",
     "text": [
      "F:\\FER-2013 Project\\facialexpressionrecogination\\Lib\\site-packages\\sklearn\\metrics\\_classification.py:1531: UndefinedMetricWarning: Precision is ill-defined and being set to 0.0 in labels with no predicted samples. Use `zero_division` parameter to control this behavior.\n",
      "  _warn_prf(average, modifier, f\"{metric.capitalize()} is\", len(result))\n",
      "F:\\FER-2013 Project\\facialexpressionrecogination\\Lib\\site-packages\\sklearn\\metrics\\_classification.py:1531: UndefinedMetricWarning: Recall is ill-defined and being set to 0.0 in labels with no true samples. Use `zero_division` parameter to control this behavior.\n",
      "  _warn_prf(average, modifier, f\"{metric.capitalize()} is\", len(result))\n"
     ]
    },
    {
     "name": "stdout",
     "output_type": "stream",
     "text": [
      " [=============================>] | Loss: 1.025 | Acc: 61.260% (17587/28709)    225/225 ====>........................] | Loss: 1.018 | Acc: 61.795% (3243/5248)      41/22 111/225 ===========================>..] | Loss: 1.024 | Acc: 61.213% (15984/26112)    204/225 \n"
     ]
    },
    {
     "name": "stderr",
     "output_type": "stream",
     "text": [
      "F:\\FER-2013 Project\\facialexpressionrecogination\\Lib\\site-packages\\sklearn\\metrics\\_classification.py:1531: UndefinedMetricWarning: Precision is ill-defined and being set to 0.0 in labels with no predicted samples. Use `zero_division` parameter to control this behavior.\n",
      "  _warn_prf(average, modifier, f\"{metric.capitalize()} is\", len(result))\n"
     ]
    },
    {
     "name": "stdout",
     "output_type": "stream",
     "text": [
      " [============================>.] | Loss: 1.044 | Acc: 60.825% (2183/3589)      29/29 \n"
     ]
    },
    {
     "name": "stderr",
     "output_type": "stream",
     "text": [
      "F:\\FER-2013 Project\\facialexpressionrecogination\\Lib\\site-packages\\sklearn\\metrics\\_classification.py:1531: UndefinedMetricWarning: Precision is ill-defined and being set to 0.0 in labels with no predicted samples. Use `zero_division` parameter to control this behavior.\n",
      "  _warn_prf(average, modifier, f\"{metric.capitalize()} is\", len(result))\n",
      "F:\\FER-2013 Project\\facialexpressionrecogination\\Lib\\site-packages\\sklearn\\metrics\\_classification.py:1531: UndefinedMetricWarning: Recall is ill-defined and being set to 0.0 in labels with no true samples. Use `zero_division` parameter to control this behavior.\n",
      "  _warn_prf(average, modifier, f\"{metric.capitalize()} is\", len(result))\n"
     ]
    },
    {
     "name": "stdout",
     "output_type": "stream",
     "text": [
      " [============================>.] | Loss: 1.044 | Acc: 60.825% (2183/3589)      29/29 \n",
      "Metrics saved to FER2013_SqueezeNet\\metrics.csv\n",
      "\n",
      "Epoch: 36\n",
      "learning_rate: 0.01\n",
      " [>.............................] | Loss: 0.960 | Acc: 65.625% (84/128)         1/225 \r"
     ]
    },
    {
     "name": "stderr",
     "output_type": "stream",
     "text": [
      "F:\\FER-2013 Project\\facialexpressionrecogination\\Lib\\site-packages\\sklearn\\metrics\\_classification.py:1531: UndefinedMetricWarning: Precision is ill-defined and being set to 0.0 in labels with no predicted samples. Use `zero_division` parameter to control this behavior.\n",
      "  _warn_prf(average, modifier, f\"{metric.capitalize()} is\", len(result))\n",
      "F:\\FER-2013 Project\\facialexpressionrecogination\\Lib\\site-packages\\sklearn\\metrics\\_classification.py:1531: UndefinedMetricWarning: Recall is ill-defined and being set to 0.0 in labels with no true samples. Use `zero_division` parameter to control this behavior.\n",
      "  _warn_prf(average, modifier, f\"{metric.capitalize()} is\", len(result))\n"
     ]
    },
    {
     "name": "stdout",
     "output_type": "stream",
     "text": [
      " [=============================>] | Loss: 1.014 | Acc: 61.583% (17680/28709)    225/225 ==>..........................] | Loss: 0.986 | Acc: 62.500% (2160/3456)      27/22 45/225 ==================>...........] | Loss: 1.009 | Acc: 61.553% (11109/18048)    141/225 ===================>..........] | Loss: 1.009 | Acc: 61.661% (11681/18944)    148/225 ====================>.........] | Loss: 1.010 | Acc: 61.595% (11905/19328)    151/225  215/225 \n"
     ]
    },
    {
     "name": "stderr",
     "output_type": "stream",
     "text": [
      "F:\\FER-2013 Project\\facialexpressionrecogination\\Lib\\site-packages\\sklearn\\metrics\\_classification.py:1531: UndefinedMetricWarning: Precision is ill-defined and being set to 0.0 in labels with no predicted samples. Use `zero_division` parameter to control this behavior.\n",
      "  _warn_prf(average, modifier, f\"{metric.capitalize()} is\", len(result))\n"
     ]
    },
    {
     "name": "stdout",
     "output_type": "stream",
     "text": [
      " [============================>.] | Loss: 1.035 | Acc: 61.271% (2199/3589)      29/29 \n",
      "Saving..\n",
      "best_Testing_acc: 61.271\n"
     ]
    },
    {
     "name": "stderr",
     "output_type": "stream",
     "text": [
      "F:\\FER-2013 Project\\facialexpressionrecogination\\Lib\\site-packages\\sklearn\\metrics\\_classification.py:1531: UndefinedMetricWarning: Precision is ill-defined and being set to 0.0 in labels with no predicted samples. Use `zero_division` parameter to control this behavior.\n",
      "  _warn_prf(average, modifier, f\"{metric.capitalize()} is\", len(result))\n",
      "F:\\FER-2013 Project\\facialexpressionrecogination\\Lib\\site-packages\\sklearn\\metrics\\_classification.py:1531: UndefinedMetricWarning: Recall is ill-defined and being set to 0.0 in labels with no true samples. Use `zero_division` parameter to control this behavior.\n",
      "  _warn_prf(average, modifier, f\"{metric.capitalize()} is\", len(result))\n"
     ]
    },
    {
     "name": "stdout",
     "output_type": "stream",
     "text": [
      " [============================>.] | Loss: 1.035 | Acc: 61.271% (2199/3589)      29/29 \n",
      "Saving..\n",
      "best_Validation_acc: 61.271\n",
      "Metrics saved to FER2013_SqueezeNet\\metrics.csv\n",
      "\n",
      "Epoch: 37\n",
      "learning_rate: 0.01\n"
     ]
    },
    {
     "name": "stderr",
     "output_type": "stream",
     "text": [
      "F:\\FER-2013 Project\\facialexpressionrecogination\\Lib\\site-packages\\sklearn\\metrics\\_classification.py:1531: UndefinedMetricWarning: Precision is ill-defined and being set to 0.0 in labels with no predicted samples. Use `zero_division` parameter to control this behavior.\n",
      "  _warn_prf(average, modifier, f\"{metric.capitalize()} is\", len(result))\n",
      "F:\\FER-2013 Project\\facialexpressionrecogination\\Lib\\site-packages\\sklearn\\metrics\\_classification.py:1531: UndefinedMetricWarning: Recall is ill-defined and being set to 0.0 in labels with no true samples. Use `zero_division` parameter to control this behavior.\n",
      "  _warn_prf(average, modifier, f\"{metric.capitalize()} is\", len(result))\n"
     ]
    },
    {
     "name": "stdout",
     "output_type": "stream",
     "text": [
      " [=============================>] | Loss: 1.015 | Acc: 61.667% (17704/28709)    225/225 ====>........................] | Loss: 1.018 | Acc: 61.665% (3473/5632)      44/225 ========>.....................] | Loss: 1.009 | Acc: 61.766% (5218/8448)      66/225 =========>....................] | Loss: 1.012 | Acc: 61.651% (5445/8832)      69/225 =========================>....] | Loss: 1.012 | Acc: 61.748% (15017/24320)    190/225 \n",
      " [============================>.] | Loss: 1.019 | Acc: 61.159% (2195/3589)      29/29 \n"
     ]
    },
    {
     "name": "stderr",
     "output_type": "stream",
     "text": [
      "F:\\FER-2013 Project\\facialexpressionrecogination\\Lib\\site-packages\\sklearn\\metrics\\_classification.py:1531: UndefinedMetricWarning: Precision is ill-defined and being set to 0.0 in labels with no predicted samples. Use `zero_division` parameter to control this behavior.\n",
      "  _warn_prf(average, modifier, f\"{metric.capitalize()} is\", len(result))\n"
     ]
    },
    {
     "name": "stdout",
     "output_type": "stream",
     "text": [
      " [============================>.] | Loss: 1.019 | Acc: 61.159% (2195/3589)      29/29 \n",
      "Metrics saved to FER2013_SqueezeNet\\metrics.csv\n",
      "\n",
      "Epoch: 38\n",
      "learning_rate: 0.01\n",
      " [>.............................] | Loss: 1.059 | Acc: 60.938% (78/128)         1/225 \r"
     ]
    },
    {
     "name": "stderr",
     "output_type": "stream",
     "text": [
      "F:\\FER-2013 Project\\facialexpressionrecogination\\Lib\\site-packages\\sklearn\\metrics\\_classification.py:1531: UndefinedMetricWarning: Precision is ill-defined and being set to 0.0 in labels with no predicted samples. Use `zero_division` parameter to control this behavior.\n",
      "  _warn_prf(average, modifier, f\"{metric.capitalize()} is\", len(result))\n"
     ]
    },
    {
     "name": "stdout",
     "output_type": "stream",
     "text": [
      " [=============================>] | Loss: 1.015 | Acc: 61.740% (17725/28709)    225/225 =======>.....................] | Loss: 1.012 | Acc: 61.609% (5047/8192)      64/225 ===========>..................] | Loss: 1.006 | Acc: 62.033% (6908/11136)     87/225 ==================>...........] | Loss: 1.010 | Acc: 61.907% (10856/17536)    137/225 \n",
      " [============================>.] | Loss: 1.098 | Acc: 58.178% (2088/3589)      29/29 \n"
     ]
    },
    {
     "name": "stderr",
     "output_type": "stream",
     "text": [
      "F:\\FER-2013 Project\\facialexpressionrecogination\\Lib\\site-packages\\sklearn\\metrics\\_classification.py:1531: UndefinedMetricWarning: Precision is ill-defined and being set to 0.0 in labels with no predicted samples. Use `zero_division` parameter to control this behavior.\n",
      "  _warn_prf(average, modifier, f\"{metric.capitalize()} is\", len(result))\n",
      "F:\\FER-2013 Project\\facialexpressionrecogination\\Lib\\site-packages\\sklearn\\metrics\\_classification.py:1531: UndefinedMetricWarning: Recall is ill-defined and being set to 0.0 in labels with no true samples. Use `zero_division` parameter to control this behavior.\n",
      "  _warn_prf(average, modifier, f\"{metric.capitalize()} is\", len(result))\n"
     ]
    },
    {
     "name": "stdout",
     "output_type": "stream",
     "text": [
      " [============================>.] | Loss: 1.098 | Acc: 58.178% (2088/3589)      29/29 \n",
      "Metrics saved to FER2013_SqueezeNet\\metrics.csv\n",
      "\n",
      "Epoch: 39\n",
      "learning_rate: 0.01\n",
      " [>.............................] | Loss: 1.051 | Acc: 60.938% (78/128)         1/225 \r"
     ]
    },
    {
     "name": "stderr",
     "output_type": "stream",
     "text": [
      "F:\\FER-2013 Project\\facialexpressionrecogination\\Lib\\site-packages\\sklearn\\metrics\\_classification.py:1531: UndefinedMetricWarning: Precision is ill-defined and being set to 0.0 in labels with no predicted samples. Use `zero_division` parameter to control this behavior.\n",
      "  _warn_prf(average, modifier, f\"{metric.capitalize()} is\", len(result))\n",
      "F:\\FER-2013 Project\\facialexpressionrecogination\\Lib\\site-packages\\sklearn\\metrics\\_classification.py:1531: UndefinedMetricWarning: Recall is ill-defined and being set to 0.0 in labels with no true samples. Use `zero_division` parameter to control this behavior.\n",
      "  _warn_prf(average, modifier, f\"{metric.capitalize()} is\", len(result))\n"
     ]
    },
    {
     "name": "stdout",
     "output_type": "stream",
     "text": [
      " [=============================>] | Loss: 1.002 | Acc: 62.165% (17847/28709)    225/225 ========>....................] | Loss: 0.988 | Acc: 63.043% (5810/9216)      72/225 ==============>...............] | Loss: 0.994 | Acc: 62.797% (9083/14464)     113/225 ==================>...........] | Loss: 1.001 | Acc: 62.384% (11339/18176)    142/225 \n",
      " [============================>.] | Loss: 0.996 | Acc: 62.497% (2243/3589)      29/29 \n",
      "Saving..\n",
      "best_Testing_acc: 62.497\n"
     ]
    },
    {
     "name": "stderr",
     "output_type": "stream",
     "text": [
      "F:\\FER-2013 Project\\facialexpressionrecogination\\Lib\\site-packages\\sklearn\\metrics\\_classification.py:1531: UndefinedMetricWarning: Precision is ill-defined and being set to 0.0 in labels with no predicted samples. Use `zero_division` parameter to control this behavior.\n",
      "  _warn_prf(average, modifier, f\"{metric.capitalize()} is\", len(result))\n",
      "F:\\FER-2013 Project\\facialexpressionrecogination\\Lib\\site-packages\\sklearn\\metrics\\_classification.py:1531: UndefinedMetricWarning: Recall is ill-defined and being set to 0.0 in labels with no true samples. Use `zero_division` parameter to control this behavior.\n",
      "  _warn_prf(average, modifier, f\"{metric.capitalize()} is\", len(result))\n"
     ]
    },
    {
     "name": "stdout",
     "output_type": "stream",
     "text": [
      " [============================>.] | Loss: 0.996 | Acc: 62.497% (2243/3589)      29/29 \n",
      "Saving..\n",
      "best_Validation_acc: 62.497\n",
      "Metrics saved to FER2013_SqueezeNet\\metrics.csv\n",
      "\n",
      "Epoch: 40\n",
      "learning_rate: 0.01\n",
      " [>.............................] | Loss: 0.874 | Acc: 66.406% (85/128)         1/225 \r"
     ]
    },
    {
     "name": "stderr",
     "output_type": "stream",
     "text": [
      "F:\\FER-2013 Project\\facialexpressionrecogination\\Lib\\site-packages\\sklearn\\metrics\\_classification.py:1531: UndefinedMetricWarning: Precision is ill-defined and being set to 0.0 in labels with no predicted samples. Use `zero_division` parameter to control this behavior.\n",
      "  _warn_prf(average, modifier, f\"{metric.capitalize()} is\", len(result))\n",
      "F:\\FER-2013 Project\\facialexpressionrecogination\\Lib\\site-packages\\sklearn\\metrics\\_classification.py:1531: UndefinedMetricWarning: Recall is ill-defined and being set to 0.0 in labels with no true samples. Use `zero_division` parameter to control this behavior.\n",
      "  _warn_prf(average, modifier, f\"{metric.capitalize()} is\", len(result))\n"
     ]
    },
    {
     "name": "stdout",
     "output_type": "stream",
     "text": [
      " [=============================>] | Loss: 0.999 | Acc: 62.353% (17901/28709)    225/225 ===================>..........] | Loss: 0.998 | Acc: 62.474% (11995/19200)    150/225 \n"
     ]
    },
    {
     "name": "stderr",
     "output_type": "stream",
     "text": [
      "F:\\FER-2013 Project\\facialexpressionrecogination\\Lib\\site-packages\\sklearn\\metrics\\_classification.py:1531: UndefinedMetricWarning: Recall is ill-defined and being set to 0.0 in labels with no true samples. Use `zero_division` parameter to control this behavior.\n",
      "  _warn_prf(average, modifier, f\"{metric.capitalize()} is\", len(result))\n"
     ]
    },
    {
     "name": "stdout",
     "output_type": "stream",
     "text": [
      " [============================>.] | Loss: 1.005 | Acc: 61.716% (2215/3589)      29/29 \n"
     ]
    },
    {
     "name": "stderr",
     "output_type": "stream",
     "text": [
      "F:\\FER-2013 Project\\facialexpressionrecogination\\Lib\\site-packages\\sklearn\\metrics\\_classification.py:1531: UndefinedMetricWarning: Precision is ill-defined and being set to 0.0 in labels with no predicted samples. Use `zero_division` parameter to control this behavior.\n",
      "  _warn_prf(average, modifier, f\"{metric.capitalize()} is\", len(result))\n",
      "F:\\FER-2013 Project\\facialexpressionrecogination\\Lib\\site-packages\\sklearn\\metrics\\_classification.py:1531: UndefinedMetricWarning: Recall is ill-defined and being set to 0.0 in labels with no true samples. Use `zero_division` parameter to control this behavior.\n",
      "  _warn_prf(average, modifier, f\"{metric.capitalize()} is\", len(result))\n"
     ]
    },
    {
     "name": "stdout",
     "output_type": "stream",
     "text": [
      " [============================>.] | Loss: 1.005 | Acc: 61.716% (2215/3589)      29/29 \n",
      "Metrics saved to FER2013_SqueezeNet\\metrics.csv\n",
      "\n",
      "Epoch: 41\n",
      "learning_rate: 0.01\n",
      " [>.............................] | Loss: 0.978 | Acc: 61.719% (79/128)         1/225 \r"
     ]
    },
    {
     "name": "stderr",
     "output_type": "stream",
     "text": [
      "F:\\FER-2013 Project\\facialexpressionrecogination\\Lib\\site-packages\\sklearn\\metrics\\_classification.py:1531: UndefinedMetricWarning: Precision is ill-defined and being set to 0.0 in labels with no predicted samples. Use `zero_division` parameter to control this behavior.\n",
      "  _warn_prf(average, modifier, f\"{metric.capitalize()} is\", len(result))\n",
      "F:\\FER-2013 Project\\facialexpressionrecogination\\Lib\\site-packages\\sklearn\\metrics\\_classification.py:1531: UndefinedMetricWarning: Recall is ill-defined and being set to 0.0 in labels with no true samples. Use `zero_division` parameter to control this behavior.\n",
      "  _warn_prf(average, modifier, f\"{metric.capitalize()} is\", len(result))\n"
     ]
    },
    {
     "name": "stdout",
     "output_type": "stream",
     "text": [
      " [=============================>] | Loss: 0.991 | Acc: 62.587% (17968/28709)    225/225 ===================>..........] | Loss: 0.986 | Acc: 62.651% (12029/19200)    150/225 \n",
      " [============================>.] | Loss: 1.030 | Acc: 61.382% (2203/3589)      29/29 \n"
     ]
    },
    {
     "name": "stderr",
     "output_type": "stream",
     "text": [
      "F:\\FER-2013 Project\\facialexpressionrecogination\\Lib\\site-packages\\sklearn\\metrics\\_classification.py:1531: UndefinedMetricWarning: Precision is ill-defined and being set to 0.0 in labels with no predicted samples. Use `zero_division` parameter to control this behavior.\n",
      "  _warn_prf(average, modifier, f\"{metric.capitalize()} is\", len(result))\n"
     ]
    },
    {
     "name": "stdout",
     "output_type": "stream",
     "text": [
      " [============================>.] | Loss: 1.030 | Acc: 61.382% (2203/3589)      29/29 \n",
      "Metrics saved to FER2013_SqueezeNet\\metrics.csv\n",
      "\n",
      "Epoch: 42\n",
      "learning_rate: 0.01\n"
     ]
    },
    {
     "name": "stderr",
     "output_type": "stream",
     "text": [
      "F:\\FER-2013 Project\\facialexpressionrecogination\\Lib\\site-packages\\sklearn\\metrics\\_classification.py:1531: UndefinedMetricWarning: Precision is ill-defined and being set to 0.0 in labels with no predicted samples. Use `zero_division` parameter to control this behavior.\n",
      "  _warn_prf(average, modifier, f\"{metric.capitalize()} is\", len(result))\n"
     ]
    },
    {
     "name": "stdout",
     "output_type": "stream",
     "text": [
      " [=============================>] | Loss: 0.988 | Acc: 62.566% (17962/28709)    225/225 =====>.......................] | Loss: 0.988 | Acc: 62.420% (3915/6272)      49/225 =======>......................] | Loss: 0.990 | Acc: 62.040% (4447/7168)      56/225 ===========>..................] | Loss: 0.980 | Acc: 62.814% (6995/11136)     87/225 ===================>..........] | Loss: 0.991 | Acc: 62.457% (11672/18688)    146/225 ===================>..........] | Loss: 0.991 | Acc: 62.468% (11754/18816)    147/225 \n"
     ]
    },
    {
     "name": "stderr",
     "output_type": "stream",
     "text": [
      "F:\\FER-2013 Project\\facialexpressionrecogination\\Lib\\site-packages\\sklearn\\metrics\\_classification.py:1531: UndefinedMetricWarning: Recall is ill-defined and being set to 0.0 in labels with no true samples. Use `zero_division` parameter to control this behavior.\n",
      "  _warn_prf(average, modifier, f\"{metric.capitalize()} is\", len(result))\n"
     ]
    },
    {
     "name": "stdout",
     "output_type": "stream",
     "text": [
      " [============================>.] | Loss: 1.005 | Acc: 62.413% (2240/3589)      29/29 \n"
     ]
    },
    {
     "name": "stderr",
     "output_type": "stream",
     "text": [
      "F:\\FER-2013 Project\\facialexpressionrecogination\\Lib\\site-packages\\sklearn\\metrics\\_classification.py:1531: UndefinedMetricWarning: Precision is ill-defined and being set to 0.0 in labels with no predicted samples. Use `zero_division` parameter to control this behavior.\n",
      "  _warn_prf(average, modifier, f\"{metric.capitalize()} is\", len(result))\n",
      "F:\\FER-2013 Project\\facialexpressionrecogination\\Lib\\site-packages\\sklearn\\metrics\\_classification.py:1531: UndefinedMetricWarning: Recall is ill-defined and being set to 0.0 in labels with no true samples. Use `zero_division` parameter to control this behavior.\n",
      "  _warn_prf(average, modifier, f\"{metric.capitalize()} is\", len(result))\n"
     ]
    },
    {
     "name": "stdout",
     "output_type": "stream",
     "text": [
      " [============================>.] | Loss: 1.005 | Acc: 62.413% (2240/3589)      29/29 \n",
      "Metrics saved to FER2013_SqueezeNet\\metrics.csv\n",
      "\n",
      "Epoch: 43\n",
      "learning_rate: 0.01\n"
     ]
    },
    {
     "name": "stderr",
     "output_type": "stream",
     "text": [
      "F:\\FER-2013 Project\\facialexpressionrecogination\\Lib\\site-packages\\sklearn\\metrics\\_classification.py:1531: UndefinedMetricWarning: Precision is ill-defined and being set to 0.0 in labels with no predicted samples. Use `zero_division` parameter to control this behavior.\n",
      "  _warn_prf(average, modifier, f\"{metric.capitalize()} is\", len(result))\n",
      "F:\\FER-2013 Project\\facialexpressionrecogination\\Lib\\site-packages\\sklearn\\metrics\\_classification.py:1531: UndefinedMetricWarning: Recall is ill-defined and being set to 0.0 in labels with no true samples. Use `zero_division` parameter to control this behavior.\n",
      "  _warn_prf(average, modifier, f\"{metric.capitalize()} is\", len(result))\n"
     ]
    },
    {
     "name": "stdout",
     "output_type": "stream",
     "text": [
      " [=============================>] | Loss: 0.999 | Acc: 62.231% (17866/28709)    225/225 \n"
     ]
    },
    {
     "name": "stderr",
     "output_type": "stream",
     "text": [
      "F:\\FER-2013 Project\\facialexpressionrecogination\\Lib\\site-packages\\sklearn\\metrics\\_classification.py:1531: UndefinedMetricWarning: Recall is ill-defined and being set to 0.0 in labels with no true samples. Use `zero_division` parameter to control this behavior.\n",
      "  _warn_prf(average, modifier, f\"{metric.capitalize()} is\", len(result))\n"
     ]
    },
    {
     "name": "stdout",
     "output_type": "stream",
     "text": [
      " [============================>.] | Loss: 1.004 | Acc: 61.354% (2202/3589)      29/29 \n"
     ]
    },
    {
     "name": "stderr",
     "output_type": "stream",
     "text": [
      "F:\\FER-2013 Project\\facialexpressionrecogination\\Lib\\site-packages\\sklearn\\metrics\\_classification.py:1531: UndefinedMetricWarning: Precision is ill-defined and being set to 0.0 in labels with no predicted samples. Use `zero_division` parameter to control this behavior.\n",
      "  _warn_prf(average, modifier, f\"{metric.capitalize()} is\", len(result))\n"
     ]
    },
    {
     "name": "stdout",
     "output_type": "stream",
     "text": [
      " [============================>.] | Loss: 1.004 | Acc: 61.354% (2202/3589)      29/29 \n",
      "Metrics saved to FER2013_SqueezeNet\\metrics.csv\n",
      "\n",
      "Epoch: 44\n",
      "learning_rate: 0.01\n"
     ]
    },
    {
     "name": "stderr",
     "output_type": "stream",
     "text": [
      "F:\\FER-2013 Project\\facialexpressionrecogination\\Lib\\site-packages\\sklearn\\metrics\\_classification.py:1531: UndefinedMetricWarning: Precision is ill-defined and being set to 0.0 in labels with no predicted samples. Use `zero_division` parameter to control this behavior.\n",
      "  _warn_prf(average, modifier, f\"{metric.capitalize()} is\", len(result))\n"
     ]
    },
    {
     "name": "stdout",
     "output_type": "stream",
     "text": [
      " [=============================>] | Loss: 0.991 | Acc: 62.611% (17975/28709)    225/225 \n"
     ]
    },
    {
     "name": "stderr",
     "output_type": "stream",
     "text": [
      "F:\\FER-2013 Project\\facialexpressionrecogination\\Lib\\site-packages\\sklearn\\metrics\\_classification.py:1531: UndefinedMetricWarning: Precision is ill-defined and being set to 0.0 in labels with no predicted samples. Use `zero_division` parameter to control this behavior.\n",
      "  _warn_prf(average, modifier, f\"{metric.capitalize()} is\", len(result))\n"
     ]
    },
    {
     "name": "stdout",
     "output_type": "stream",
     "text": [
      " [============================>.] | Loss: 1.034 | Acc: 60.964% (2188/3589)      29/29 \n"
     ]
    },
    {
     "name": "stderr",
     "output_type": "stream",
     "text": [
      "F:\\FER-2013 Project\\facialexpressionrecogination\\Lib\\site-packages\\sklearn\\metrics\\_classification.py:1531: UndefinedMetricWarning: Precision is ill-defined and being set to 0.0 in labels with no predicted samples. Use `zero_division` parameter to control this behavior.\n",
      "  _warn_prf(average, modifier, f\"{metric.capitalize()} is\", len(result))\n",
      "F:\\FER-2013 Project\\facialexpressionrecogination\\Lib\\site-packages\\sklearn\\metrics\\_classification.py:1531: UndefinedMetricWarning: Recall is ill-defined and being set to 0.0 in labels with no true samples. Use `zero_division` parameter to control this behavior.\n",
      "  _warn_prf(average, modifier, f\"{metric.capitalize()} is\", len(result))\n"
     ]
    },
    {
     "name": "stdout",
     "output_type": "stream",
     "text": [
      " [============================>.] | Loss: 1.034 | Acc: 60.964% (2188/3589)      29/29 \n",
      "Metrics saved to FER2013_SqueezeNet\\metrics.csv\n",
      "\n",
      "Epoch: 45\n",
      "learning_rate: 0.01\n"
     ]
    },
    {
     "name": "stderr",
     "output_type": "stream",
     "text": [
      "F:\\FER-2013 Project\\facialexpressionrecogination\\Lib\\site-packages\\sklearn\\metrics\\_classification.py:1531: UndefinedMetricWarning: Precision is ill-defined and being set to 0.0 in labels with no predicted samples. Use `zero_division` parameter to control this behavior.\n",
      "  _warn_prf(average, modifier, f\"{metric.capitalize()} is\", len(result))\n",
      "F:\\FER-2013 Project\\facialexpressionrecogination\\Lib\\site-packages\\sklearn\\metrics\\_classification.py:1531: UndefinedMetricWarning: Recall is ill-defined and being set to 0.0 in labels with no true samples. Use `zero_division` parameter to control this behavior.\n",
      "  _warn_prf(average, modifier, f\"{metric.capitalize()} is\", len(result))\n"
     ]
    },
    {
     "name": "stdout",
     "output_type": "stream",
     "text": [
      " [=============================>] | Loss: 0.974 | Acc: 63.252% (18159/28709)    225/225 \n",
      " [============================>.] | Loss: 1.009 | Acc: 62.106% (2229/3589)      29/29 \n"
     ]
    },
    {
     "name": "stderr",
     "output_type": "stream",
     "text": [
      "F:\\FER-2013 Project\\facialexpressionrecogination\\Lib\\site-packages\\sklearn\\metrics\\_classification.py:1531: UndefinedMetricWarning: Precision is ill-defined and being set to 0.0 in labels with no predicted samples. Use `zero_division` parameter to control this behavior.\n",
      "  _warn_prf(average, modifier, f\"{metric.capitalize()} is\", len(result))\n",
      "F:\\FER-2013 Project\\facialexpressionrecogination\\Lib\\site-packages\\sklearn\\metrics\\_classification.py:1531: UndefinedMetricWarning: Recall is ill-defined and being set to 0.0 in labels with no true samples. Use `zero_division` parameter to control this behavior.\n",
      "  _warn_prf(average, modifier, f\"{metric.capitalize()} is\", len(result))\n"
     ]
    },
    {
     "name": "stdout",
     "output_type": "stream",
     "text": [
      " [============================>.] | Loss: 1.009 | Acc: 62.106% (2229/3589)      29/29 \n",
      "Metrics saved to FER2013_SqueezeNet\\metrics.csv\n",
      "\n",
      "Epoch: 46\n",
      "learning_rate: 0.01\n"
     ]
    },
    {
     "name": "stderr",
     "output_type": "stream",
     "text": [
      "F:\\FER-2013 Project\\facialexpressionrecogination\\Lib\\site-packages\\sklearn\\metrics\\_classification.py:1531: UndefinedMetricWarning: Precision is ill-defined and being set to 0.0 in labels with no predicted samples. Use `zero_division` parameter to control this behavior.\n",
      "  _warn_prf(average, modifier, f\"{metric.capitalize()} is\", len(result))\n",
      "F:\\FER-2013 Project\\facialexpressionrecogination\\Lib\\site-packages\\sklearn\\metrics\\_classification.py:1531: UndefinedMetricWarning: Recall is ill-defined and being set to 0.0 in labels with no true samples. Use `zero_division` parameter to control this behavior.\n",
      "  _warn_prf(average, modifier, f\"{metric.capitalize()} is\", len(result))\n"
     ]
    },
    {
     "name": "stdout",
     "output_type": "stream",
     "text": [
      " [=============================>] | Loss: 0.987 | Acc: 62.824% (18036/28709)    225/225 \n",
      " [============================>.] | Loss: 1.017 | Acc: 61.410% (2204/3589)      29/29 \n"
     ]
    },
    {
     "name": "stderr",
     "output_type": "stream",
     "text": [
      "F:\\FER-2013 Project\\facialexpressionrecogination\\Lib\\site-packages\\sklearn\\metrics\\_classification.py:1531: UndefinedMetricWarning: Precision is ill-defined and being set to 0.0 in labels with no predicted samples. Use `zero_division` parameter to control this behavior.\n",
      "  _warn_prf(average, modifier, f\"{metric.capitalize()} is\", len(result))\n",
      "F:\\FER-2013 Project\\facialexpressionrecogination\\Lib\\site-packages\\sklearn\\metrics\\_classification.py:1531: UndefinedMetricWarning: Recall is ill-defined and being set to 0.0 in labels with no true samples. Use `zero_division` parameter to control this behavior.\n",
      "  _warn_prf(average, modifier, f\"{metric.capitalize()} is\", len(result))\n"
     ]
    },
    {
     "name": "stdout",
     "output_type": "stream",
     "text": [
      " [============================>.] | Loss: 1.017 | Acc: 61.410% (2204/3589)      29/29 \n",
      "Metrics saved to FER2013_SqueezeNet\\metrics.csv\n",
      "\n",
      "Epoch: 47\n",
      "learning_rate: 0.01\n"
     ]
    },
    {
     "name": "stderr",
     "output_type": "stream",
     "text": [
      "F:\\FER-2013 Project\\facialexpressionrecogination\\Lib\\site-packages\\sklearn\\metrics\\_classification.py:1531: UndefinedMetricWarning: Precision is ill-defined and being set to 0.0 in labels with no predicted samples. Use `zero_division` parameter to control this behavior.\n",
      "  _warn_prf(average, modifier, f\"{metric.capitalize()} is\", len(result))\n",
      "F:\\FER-2013 Project\\facialexpressionrecogination\\Lib\\site-packages\\sklearn\\metrics\\_classification.py:1531: UndefinedMetricWarning: Recall is ill-defined and being set to 0.0 in labels with no true samples. Use `zero_division` parameter to control this behavior.\n",
      "  _warn_prf(average, modifier, f\"{metric.capitalize()} is\", len(result))\n"
     ]
    },
    {
     "name": "stdout",
     "output_type": "stream",
     "text": [
      " [=============================>] | Loss: 0.978 | Acc: 63.137% (18126/28709)    225/225 \n"
     ]
    },
    {
     "name": "stderr",
     "output_type": "stream",
     "text": [
      "F:\\FER-2013 Project\\facialexpressionrecogination\\Lib\\site-packages\\sklearn\\metrics\\_classification.py:1531: UndefinedMetricWarning: Precision is ill-defined and being set to 0.0 in labels with no predicted samples. Use `zero_division` parameter to control this behavior.\n",
      "  _warn_prf(average, modifier, f\"{metric.capitalize()} is\", len(result))\n"
     ]
    },
    {
     "name": "stdout",
     "output_type": "stream",
     "text": [
      " [============================>.] | Loss: 0.983 | Acc: 62.079% (2228/3589)      29/29 \n"
     ]
    },
    {
     "name": "stderr",
     "output_type": "stream",
     "text": [
      "F:\\FER-2013 Project\\facialexpressionrecogination\\Lib\\site-packages\\sklearn\\metrics\\_classification.py:1531: UndefinedMetricWarning: Precision is ill-defined and being set to 0.0 in labels with no predicted samples. Use `zero_division` parameter to control this behavior.\n",
      "  _warn_prf(average, modifier, f\"{metric.capitalize()} is\", len(result))\n",
      "F:\\FER-2013 Project\\facialexpressionrecogination\\Lib\\site-packages\\sklearn\\metrics\\_classification.py:1531: UndefinedMetricWarning: Recall is ill-defined and being set to 0.0 in labels with no true samples. Use `zero_division` parameter to control this behavior.\n",
      "  _warn_prf(average, modifier, f\"{metric.capitalize()} is\", len(result))\n"
     ]
    },
    {
     "name": "stdout",
     "output_type": "stream",
     "text": [
      " [============================>.] | Loss: 0.983 | Acc: 62.079% (2228/3589)      29/29 \n",
      "Metrics saved to FER2013_SqueezeNet\\metrics.csv\n",
      "\n",
      "Epoch: 48\n",
      "learning_rate: 0.01\n"
     ]
    },
    {
     "name": "stderr",
     "output_type": "stream",
     "text": [
      "F:\\FER-2013 Project\\facialexpressionrecogination\\Lib\\site-packages\\sklearn\\metrics\\_classification.py:1531: UndefinedMetricWarning: Precision is ill-defined and being set to 0.0 in labels with no predicted samples. Use `zero_division` parameter to control this behavior.\n",
      "  _warn_prf(average, modifier, f\"{metric.capitalize()} is\", len(result))\n",
      "F:\\FER-2013 Project\\facialexpressionrecogination\\Lib\\site-packages\\sklearn\\metrics\\_classification.py:1531: UndefinedMetricWarning: Recall is ill-defined and being set to 0.0 in labels with no true samples. Use `zero_division` parameter to control this behavior.\n",
      "  _warn_prf(average, modifier, f\"{metric.capitalize()} is\", len(result))\n"
     ]
    },
    {
     "name": "stdout",
     "output_type": "stream",
     "text": [
      " [=============================>] | Loss: 0.960 | Acc: 63.841% (18328/28709)    225/225 \n",
      " [============================>.] | Loss: 0.987 | Acc: 62.524% (2244/3589)      29/29 \n",
      "Saving..\n",
      "best_Testing_acc: 62.524\n"
     ]
    },
    {
     "name": "stderr",
     "output_type": "stream",
     "text": [
      "F:\\FER-2013 Project\\facialexpressionrecogination\\Lib\\site-packages\\sklearn\\metrics\\_classification.py:1531: UndefinedMetricWarning: Precision is ill-defined and being set to 0.0 in labels with no predicted samples. Use `zero_division` parameter to control this behavior.\n",
      "  _warn_prf(average, modifier, f\"{metric.capitalize()} is\", len(result))\n",
      "F:\\FER-2013 Project\\facialexpressionrecogination\\Lib\\site-packages\\sklearn\\metrics\\_classification.py:1531: UndefinedMetricWarning: Recall is ill-defined and being set to 0.0 in labels with no true samples. Use `zero_division` parameter to control this behavior.\n",
      "  _warn_prf(average, modifier, f\"{metric.capitalize()} is\", len(result))\n"
     ]
    },
    {
     "name": "stdout",
     "output_type": "stream",
     "text": [
      " [============================>.] | Loss: 0.987 | Acc: 62.524% (2244/3589)      29/29 \n",
      "Saving..\n",
      "best_Validation_acc: 62.524\n",
      "Metrics saved to FER2013_SqueezeNet\\metrics.csv\n",
      "\n",
      "Epoch: 49\n",
      "learning_rate: 0.01\n"
     ]
    },
    {
     "name": "stderr",
     "output_type": "stream",
     "text": [
      "F:\\FER-2013 Project\\facialexpressionrecogination\\Lib\\site-packages\\sklearn\\metrics\\_classification.py:1531: UndefinedMetricWarning: Precision is ill-defined and being set to 0.0 in labels with no predicted samples. Use `zero_division` parameter to control this behavior.\n",
      "  _warn_prf(average, modifier, f\"{metric.capitalize()} is\", len(result))\n",
      "F:\\FER-2013 Project\\facialexpressionrecogination\\Lib\\site-packages\\sklearn\\metrics\\_classification.py:1531: UndefinedMetricWarning: Recall is ill-defined and being set to 0.0 in labels with no true samples. Use `zero_division` parameter to control this behavior.\n",
      "  _warn_prf(average, modifier, f\"{metric.capitalize()} is\", len(result))\n"
     ]
    },
    {
     "name": "stdout",
     "output_type": "stream",
     "text": [
      " [=============================>] | Loss: 0.976 | Acc: 63.228% (18152/28709)    225/225 \n",
      " [============================>.] | Loss: 1.028 | Acc: 60.908% (2186/3589)      29/29 \n"
     ]
    },
    {
     "name": "stderr",
     "output_type": "stream",
     "text": [
      "F:\\FER-2013 Project\\facialexpressionrecogination\\Lib\\site-packages\\sklearn\\metrics\\_classification.py:1531: UndefinedMetricWarning: Precision is ill-defined and being set to 0.0 in labels with no predicted samples. Use `zero_division` parameter to control this behavior.\n",
      "  _warn_prf(average, modifier, f\"{metric.capitalize()} is\", len(result))\n",
      "F:\\FER-2013 Project\\facialexpressionrecogination\\Lib\\site-packages\\sklearn\\metrics\\_classification.py:1531: UndefinedMetricWarning: Recall is ill-defined and being set to 0.0 in labels with no true samples. Use `zero_division` parameter to control this behavior.\n",
      "  _warn_prf(average, modifier, f\"{metric.capitalize()} is\", len(result))\n"
     ]
    },
    {
     "name": "stdout",
     "output_type": "stream",
     "text": [
      " [============================>.] | Loss: 1.028 | Acc: 60.908% (2186/3589)      29/29 \n",
      "Metrics saved to FER2013_SqueezeNet\\metrics.csv\n",
      "\n",
      "Epoch: 50\n",
      "learning_rate: 0.01\n"
     ]
    },
    {
     "name": "stderr",
     "output_type": "stream",
     "text": [
      "F:\\FER-2013 Project\\facialexpressionrecogination\\Lib\\site-packages\\sklearn\\metrics\\_classification.py:1531: UndefinedMetricWarning: Precision is ill-defined and being set to 0.0 in labels with no predicted samples. Use `zero_division` parameter to control this behavior.\n",
      "  _warn_prf(average, modifier, f\"{metric.capitalize()} is\", len(result))\n",
      "F:\\FER-2013 Project\\facialexpressionrecogination\\Lib\\site-packages\\sklearn\\metrics\\_classification.py:1531: UndefinedMetricWarning: Recall is ill-defined and being set to 0.0 in labels with no true samples. Use `zero_division` parameter to control this behavior.\n",
      "  _warn_prf(average, modifier, f\"{metric.capitalize()} is\", len(result))\n"
     ]
    },
    {
     "name": "stdout",
     "output_type": "stream",
     "text": [
      " [=============================>] | Loss: 0.966 | Acc: 63.322% (18179/28709)    225/225 \n"
     ]
    },
    {
     "name": "stderr",
     "output_type": "stream",
     "text": [
      "F:\\FER-2013 Project\\facialexpressionrecogination\\Lib\\site-packages\\sklearn\\metrics\\_classification.py:1531: UndefinedMetricWarning: Recall is ill-defined and being set to 0.0 in labels with no true samples. Use `zero_division` parameter to control this behavior.\n",
      "  _warn_prf(average, modifier, f\"{metric.capitalize()} is\", len(result))\n"
     ]
    },
    {
     "name": "stdout",
     "output_type": "stream",
     "text": [
      " [============================>.] | Loss: 1.004 | Acc: 62.329% (2237/3589)      29/29 \n"
     ]
    },
    {
     "name": "stderr",
     "output_type": "stream",
     "text": [
      "F:\\FER-2013 Project\\facialexpressionrecogination\\Lib\\site-packages\\sklearn\\metrics\\_classification.py:1531: UndefinedMetricWarning: Precision is ill-defined and being set to 0.0 in labels with no predicted samples. Use `zero_division` parameter to control this behavior.\n",
      "  _warn_prf(average, modifier, f\"{metric.capitalize()} is\", len(result))\n",
      "F:\\FER-2013 Project\\facialexpressionrecogination\\Lib\\site-packages\\sklearn\\metrics\\_classification.py:1531: UndefinedMetricWarning: Recall is ill-defined and being set to 0.0 in labels with no true samples. Use `zero_division` parameter to control this behavior.\n",
      "  _warn_prf(average, modifier, f\"{metric.capitalize()} is\", len(result))\n"
     ]
    },
    {
     "name": "stdout",
     "output_type": "stream",
     "text": [
      " [============================>.] | Loss: 1.004 | Acc: 62.329% (2237/3589)      29/29 \n",
      "Metrics saved to FER2013_SqueezeNet\\metrics.csv\n",
      "\n",
      "Epoch: 51\n",
      "learning_rate: 0.01\n"
     ]
    },
    {
     "name": "stderr",
     "output_type": "stream",
     "text": [
      "F:\\FER-2013 Project\\facialexpressionrecogination\\Lib\\site-packages\\sklearn\\metrics\\_classification.py:1531: UndefinedMetricWarning: Precision is ill-defined and being set to 0.0 in labels with no predicted samples. Use `zero_division` parameter to control this behavior.\n",
      "  _warn_prf(average, modifier, f\"{metric.capitalize()} is\", len(result))\n",
      "F:\\FER-2013 Project\\facialexpressionrecogination\\Lib\\site-packages\\sklearn\\metrics\\_classification.py:1531: UndefinedMetricWarning: Recall is ill-defined and being set to 0.0 in labels with no true samples. Use `zero_division` parameter to control this behavior.\n",
      "  _warn_prf(average, modifier, f\"{metric.capitalize()} is\", len(result))\n"
     ]
    },
    {
     "name": "stdout",
     "output_type": "stream",
     "text": [
      " [=============================>] | Loss: 0.960 | Acc: 63.914% (18349/28709)    225/225 \n"
     ]
    },
    {
     "name": "stderr",
     "output_type": "stream",
     "text": [
      "F:\\FER-2013 Project\\facialexpressionrecogination\\Lib\\site-packages\\sklearn\\metrics\\_classification.py:1531: UndefinedMetricWarning: Recall is ill-defined and being set to 0.0 in labels with no true samples. Use `zero_division` parameter to control this behavior.\n",
      "  _warn_prf(average, modifier, f\"{metric.capitalize()} is\", len(result))\n"
     ]
    },
    {
     "name": "stdout",
     "output_type": "stream",
     "text": [
      " [============================>.] | Loss: 0.996 | Acc: 62.580% (2246/3589)      29/29 \n",
      "Saving..\n",
      "best_Testing_acc: 62.580\n"
     ]
    },
    {
     "name": "stderr",
     "output_type": "stream",
     "text": [
      "F:\\FER-2013 Project\\facialexpressionrecogination\\Lib\\site-packages\\sklearn\\metrics\\_classification.py:1531: UndefinedMetricWarning: Precision is ill-defined and being set to 0.0 in labels with no predicted samples. Use `zero_division` parameter to control this behavior.\n",
      "  _warn_prf(average, modifier, f\"{metric.capitalize()} is\", len(result))\n",
      "F:\\FER-2013 Project\\facialexpressionrecogination\\Lib\\site-packages\\sklearn\\metrics\\_classification.py:1531: UndefinedMetricWarning: Recall is ill-defined and being set to 0.0 in labels with no true samples. Use `zero_division` parameter to control this behavior.\n",
      "  _warn_prf(average, modifier, f\"{metric.capitalize()} is\", len(result))\n"
     ]
    },
    {
     "name": "stdout",
     "output_type": "stream",
     "text": [
      " [============================>.] | Loss: 0.996 | Acc: 62.580% (2246/3589)      29/29 \n",
      "Saving..\n",
      "best_Validation_acc: 62.580\n",
      "Metrics saved to FER2013_SqueezeNet\\metrics.csv\n",
      "\n",
      "Epoch: 52\n",
      "learning_rate: 0.01\n"
     ]
    },
    {
     "name": "stderr",
     "output_type": "stream",
     "text": [
      "F:\\FER-2013 Project\\facialexpressionrecogination\\Lib\\site-packages\\sklearn\\metrics\\_classification.py:1531: UndefinedMetricWarning: Precision is ill-defined and being set to 0.0 in labels with no predicted samples. Use `zero_division` parameter to control this behavior.\n",
      "  _warn_prf(average, modifier, f\"{metric.capitalize()} is\", len(result))\n",
      "F:\\FER-2013 Project\\facialexpressionrecogination\\Lib\\site-packages\\sklearn\\metrics\\_classification.py:1531: UndefinedMetricWarning: Recall is ill-defined and being set to 0.0 in labels with no true samples. Use `zero_division` parameter to control this behavior.\n",
      "  _warn_prf(average, modifier, f\"{metric.capitalize()} is\", len(result))\n"
     ]
    },
    {
     "name": "stdout",
     "output_type": "stream",
     "text": [
      " [=============================>] | Loss: 0.964 | Acc: 63.882% (18340/28709)    225/225 \n",
      " [============================>.] | Loss: 0.974 | Acc: 64.001% (2297/3589)      29/29 \n",
      "Saving..\n",
      "best_Testing_acc: 64.001\n"
     ]
    },
    {
     "name": "stderr",
     "output_type": "stream",
     "text": [
      "F:\\FER-2013 Project\\facialexpressionrecogination\\Lib\\site-packages\\sklearn\\metrics\\_classification.py:1531: UndefinedMetricWarning: Precision is ill-defined and being set to 0.0 in labels with no predicted samples. Use `zero_division` parameter to control this behavior.\n",
      "  _warn_prf(average, modifier, f\"{metric.capitalize()} is\", len(result))\n",
      "F:\\FER-2013 Project\\facialexpressionrecogination\\Lib\\site-packages\\sklearn\\metrics\\_classification.py:1531: UndefinedMetricWarning: Recall is ill-defined and being set to 0.0 in labels with no true samples. Use `zero_division` parameter to control this behavior.\n",
      "  _warn_prf(average, modifier, f\"{metric.capitalize()} is\", len(result))\n"
     ]
    },
    {
     "name": "stdout",
     "output_type": "stream",
     "text": [
      " [============================>.] | Loss: 0.974 | Acc: 64.001% (2297/3589)      29/29 \n",
      "Saving..\n",
      "best_Validation_acc: 64.001\n",
      "Metrics saved to FER2013_SqueezeNet\\metrics.csv\n",
      "\n",
      "Epoch: 53\n",
      "learning_rate: 0.01\n"
     ]
    },
    {
     "name": "stderr",
     "output_type": "stream",
     "text": [
      "F:\\FER-2013 Project\\facialexpressionrecogination\\Lib\\site-packages\\sklearn\\metrics\\_classification.py:1531: UndefinedMetricWarning: Precision is ill-defined and being set to 0.0 in labels with no predicted samples. Use `zero_division` parameter to control this behavior.\n",
      "  _warn_prf(average, modifier, f\"{metric.capitalize()} is\", len(result))\n",
      "F:\\FER-2013 Project\\facialexpressionrecogination\\Lib\\site-packages\\sklearn\\metrics\\_classification.py:1531: UndefinedMetricWarning: Recall is ill-defined and being set to 0.0 in labels with no true samples. Use `zero_division` parameter to control this behavior.\n",
      "  _warn_prf(average, modifier, f\"{metric.capitalize()} is\", len(result))\n"
     ]
    },
    {
     "name": "stdout",
     "output_type": "stream",
     "text": [
      " [=============================>] | Loss: 0.963 | Acc: 63.635% (18269/28709)    225/225 \n",
      " [============================>.] | Loss: 1.047 | Acc: 60.630% (2176/3589)      29/29 \n"
     ]
    },
    {
     "name": "stderr",
     "output_type": "stream",
     "text": [
      "F:\\FER-2013 Project\\facialexpressionrecogination\\Lib\\site-packages\\sklearn\\metrics\\_classification.py:1531: UndefinedMetricWarning: Precision is ill-defined and being set to 0.0 in labels with no predicted samples. Use `zero_division` parameter to control this behavior.\n",
      "  _warn_prf(average, modifier, f\"{metric.capitalize()} is\", len(result))\n",
      "F:\\FER-2013 Project\\facialexpressionrecogination\\Lib\\site-packages\\sklearn\\metrics\\_classification.py:1531: UndefinedMetricWarning: Recall is ill-defined and being set to 0.0 in labels with no true samples. Use `zero_division` parameter to control this behavior.\n",
      "  _warn_prf(average, modifier, f\"{metric.capitalize()} is\", len(result))\n"
     ]
    },
    {
     "name": "stdout",
     "output_type": "stream",
     "text": [
      " [============================>.] | Loss: 1.047 | Acc: 60.630% (2176/3589)      29/29 \n",
      "Metrics saved to FER2013_SqueezeNet\\metrics.csv\n",
      "\n",
      "Epoch: 54\n",
      "learning_rate: 0.01\n"
     ]
    },
    {
     "name": "stderr",
     "output_type": "stream",
     "text": [
      "F:\\FER-2013 Project\\facialexpressionrecogination\\Lib\\site-packages\\sklearn\\metrics\\_classification.py:1531: UndefinedMetricWarning: Precision is ill-defined and being set to 0.0 in labels with no predicted samples. Use `zero_division` parameter to control this behavior.\n",
      "  _warn_prf(average, modifier, f\"{metric.capitalize()} is\", len(result))\n",
      "F:\\FER-2013 Project\\facialexpressionrecogination\\Lib\\site-packages\\sklearn\\metrics\\_classification.py:1531: UndefinedMetricWarning: Recall is ill-defined and being set to 0.0 in labels with no true samples. Use `zero_division` parameter to control this behavior.\n",
      "  _warn_prf(average, modifier, f\"{metric.capitalize()} is\", len(result))\n"
     ]
    },
    {
     "name": "stdout",
     "output_type": "stream",
     "text": [
      " [=============================>] | Loss: 0.965 | Acc: 63.287% (18169/28709)    225/225 \n",
      " [============================>.] | Loss: 1.038 | Acc: 61.772% (2217/3589)      29/29 \n"
     ]
    },
    {
     "name": "stderr",
     "output_type": "stream",
     "text": [
      "F:\\FER-2013 Project\\facialexpressionrecogination\\Lib\\site-packages\\sklearn\\metrics\\_classification.py:1531: UndefinedMetricWarning: Precision is ill-defined and being set to 0.0 in labels with no predicted samples. Use `zero_division` parameter to control this behavior.\n",
      "  _warn_prf(average, modifier, f\"{metric.capitalize()} is\", len(result))\n",
      "F:\\FER-2013 Project\\facialexpressionrecogination\\Lib\\site-packages\\sklearn\\metrics\\_classification.py:1531: UndefinedMetricWarning: Recall is ill-defined and being set to 0.0 in labels with no true samples. Use `zero_division` parameter to control this behavior.\n",
      "  _warn_prf(average, modifier, f\"{metric.capitalize()} is\", len(result))\n"
     ]
    },
    {
     "name": "stdout",
     "output_type": "stream",
     "text": [
      " [============================>.] | Loss: 1.038 | Acc: 61.772% (2217/3589)      29/29 \n",
      "Metrics saved to FER2013_SqueezeNet\\metrics.csv\n",
      "\n",
      "Epoch: 55\n",
      "learning_rate: 0.01\n"
     ]
    },
    {
     "name": "stderr",
     "output_type": "stream",
     "text": [
      "F:\\FER-2013 Project\\facialexpressionrecogination\\Lib\\site-packages\\sklearn\\metrics\\_classification.py:1531: UndefinedMetricWarning: Precision is ill-defined and being set to 0.0 in labels with no predicted samples. Use `zero_division` parameter to control this behavior.\n",
      "  _warn_prf(average, modifier, f\"{metric.capitalize()} is\", len(result))\n",
      "F:\\FER-2013 Project\\facialexpressionrecogination\\Lib\\site-packages\\sklearn\\metrics\\_classification.py:1531: UndefinedMetricWarning: Recall is ill-defined and being set to 0.0 in labels with no true samples. Use `zero_division` parameter to control this behavior.\n",
      "  _warn_prf(average, modifier, f\"{metric.capitalize()} is\", len(result))\n"
     ]
    },
    {
     "name": "stdout",
     "output_type": "stream",
     "text": [
      " [=============================>] | Loss: 0.960 | Acc: 63.747% (18301/28709)    225/225 \n"
     ]
    },
    {
     "name": "stderr",
     "output_type": "stream",
     "text": [
      "F:\\FER-2013 Project\\facialexpressionrecogination\\Lib\\site-packages\\sklearn\\metrics\\_classification.py:1531: UndefinedMetricWarning: Precision is ill-defined and being set to 0.0 in labels with no predicted samples. Use `zero_division` parameter to control this behavior.\n",
      "  _warn_prf(average, modifier, f\"{metric.capitalize()} is\", len(result))\n"
     ]
    },
    {
     "name": "stdout",
     "output_type": "stream",
     "text": [
      " [============================>.] | Loss: 1.007 | Acc: 62.134% (2230/3589)      29/29 \n"
     ]
    },
    {
     "name": "stderr",
     "output_type": "stream",
     "text": [
      "F:\\FER-2013 Project\\facialexpressionrecogination\\Lib\\site-packages\\sklearn\\metrics\\_classification.py:1531: UndefinedMetricWarning: Precision is ill-defined and being set to 0.0 in labels with no predicted samples. Use `zero_division` parameter to control this behavior.\n",
      "  _warn_prf(average, modifier, f\"{metric.capitalize()} is\", len(result))\n",
      "F:\\FER-2013 Project\\facialexpressionrecogination\\Lib\\site-packages\\sklearn\\metrics\\_classification.py:1531: UndefinedMetricWarning: Recall is ill-defined and being set to 0.0 in labels with no true samples. Use `zero_division` parameter to control this behavior.\n",
      "  _warn_prf(average, modifier, f\"{metric.capitalize()} is\", len(result))\n"
     ]
    },
    {
     "name": "stdout",
     "output_type": "stream",
     "text": [
      " [============================>.] | Loss: 1.007 | Acc: 62.134% (2230/3589)      29/29 \n",
      "Metrics saved to FER2013_SqueezeNet\\metrics.csv\n",
      "\n",
      "Epoch: 56\n",
      "learning_rate: 0.01\n"
     ]
    },
    {
     "name": "stderr",
     "output_type": "stream",
     "text": [
      "F:\\FER-2013 Project\\facialexpressionrecogination\\Lib\\site-packages\\sklearn\\metrics\\_classification.py:1531: UndefinedMetricWarning: Precision is ill-defined and being set to 0.0 in labels with no predicted samples. Use `zero_division` parameter to control this behavior.\n",
      "  _warn_prf(average, modifier, f\"{metric.capitalize()} is\", len(result))\n",
      "F:\\FER-2013 Project\\facialexpressionrecogination\\Lib\\site-packages\\sklearn\\metrics\\_classification.py:1531: UndefinedMetricWarning: Recall is ill-defined and being set to 0.0 in labels with no true samples. Use `zero_division` parameter to control this behavior.\n",
      "  _warn_prf(average, modifier, f\"{metric.capitalize()} is\", len(result))\n"
     ]
    },
    {
     "name": "stdout",
     "output_type": "stream",
     "text": [
      " [=============================>] | Loss: 0.955 | Acc: 63.928% (18353/28709)    225/225 \n"
     ]
    },
    {
     "name": "stderr",
     "output_type": "stream",
     "text": [
      "F:\\FER-2013 Project\\facialexpressionrecogination\\Lib\\site-packages\\sklearn\\metrics\\_classification.py:1531: UndefinedMetricWarning: Precision is ill-defined and being set to 0.0 in labels with no predicted samples. Use `zero_division` parameter to control this behavior.\n",
      "  _warn_prf(average, modifier, f\"{metric.capitalize()} is\", len(result))\n"
     ]
    },
    {
     "name": "stdout",
     "output_type": "stream",
     "text": [
      " [============================>.] | Loss: 0.999 | Acc: 61.326% (2201/3589)      29/29 \n"
     ]
    },
    {
     "name": "stderr",
     "output_type": "stream",
     "text": [
      "F:\\FER-2013 Project\\facialexpressionrecogination\\Lib\\site-packages\\sklearn\\metrics\\_classification.py:1531: UndefinedMetricWarning: Precision is ill-defined and being set to 0.0 in labels with no predicted samples. Use `zero_division` parameter to control this behavior.\n",
      "  _warn_prf(average, modifier, f\"{metric.capitalize()} is\", len(result))\n",
      "F:\\FER-2013 Project\\facialexpressionrecogination\\Lib\\site-packages\\sklearn\\metrics\\_classification.py:1531: UndefinedMetricWarning: Recall is ill-defined and being set to 0.0 in labels with no true samples. Use `zero_division` parameter to control this behavior.\n",
      "  _warn_prf(average, modifier, f\"{metric.capitalize()} is\", len(result))\n"
     ]
    },
    {
     "name": "stdout",
     "output_type": "stream",
     "text": [
      " [============================>.] | Loss: 0.999 | Acc: 61.326% (2201/3589)      29/29 \n",
      "Metrics saved to FER2013_SqueezeNet\\metrics.csv\n",
      "\n",
      "Epoch: 57\n",
      "learning_rate: 0.01\n"
     ]
    },
    {
     "name": "stderr",
     "output_type": "stream",
     "text": [
      "F:\\FER-2013 Project\\facialexpressionrecogination\\Lib\\site-packages\\sklearn\\metrics\\_classification.py:1531: UndefinedMetricWarning: Precision is ill-defined and being set to 0.0 in labels with no predicted samples. Use `zero_division` parameter to control this behavior.\n",
      "  _warn_prf(average, modifier, f\"{metric.capitalize()} is\", len(result))\n",
      "F:\\FER-2013 Project\\facialexpressionrecogination\\Lib\\site-packages\\sklearn\\metrics\\_classification.py:1531: UndefinedMetricWarning: Recall is ill-defined and being set to 0.0 in labels with no true samples. Use `zero_division` parameter to control this behavior.\n",
      "  _warn_prf(average, modifier, f\"{metric.capitalize()} is\", len(result))\n"
     ]
    },
    {
     "name": "stdout",
     "output_type": "stream",
     "text": [
      " [=============================>] | Loss: 0.959 | Acc: 63.774% (18309/28709)    225/225 \n",
      " [============================>.] | Loss: 1.008 | Acc: 62.552% (2245/3589)      29/29 \n"
     ]
    },
    {
     "name": "stderr",
     "output_type": "stream",
     "text": [
      "F:\\FER-2013 Project\\facialexpressionrecogination\\Lib\\site-packages\\sklearn\\metrics\\_classification.py:1531: UndefinedMetricWarning: Precision is ill-defined and being set to 0.0 in labels with no predicted samples. Use `zero_division` parameter to control this behavior.\n",
      "  _warn_prf(average, modifier, f\"{metric.capitalize()} is\", len(result))\n",
      "F:\\FER-2013 Project\\facialexpressionrecogination\\Lib\\site-packages\\sklearn\\metrics\\_classification.py:1531: UndefinedMetricWarning: Recall is ill-defined and being set to 0.0 in labels with no true samples. Use `zero_division` parameter to control this behavior.\n",
      "  _warn_prf(average, modifier, f\"{metric.capitalize()} is\", len(result))\n"
     ]
    },
    {
     "name": "stdout",
     "output_type": "stream",
     "text": [
      " [============================>.] | Loss: 1.008 | Acc: 62.552% (2245/3589)      29/29 \n",
      "Metrics saved to FER2013_SqueezeNet\\metrics.csv\n",
      "\n",
      "Epoch: 58\n",
      "learning_rate: 0.01\n"
     ]
    },
    {
     "name": "stderr",
     "output_type": "stream",
     "text": [
      "F:\\FER-2013 Project\\facialexpressionrecogination\\Lib\\site-packages\\sklearn\\metrics\\_classification.py:1531: UndefinedMetricWarning: Precision is ill-defined and being set to 0.0 in labels with no predicted samples. Use `zero_division` parameter to control this behavior.\n",
      "  _warn_prf(average, modifier, f\"{metric.capitalize()} is\", len(result))\n",
      "F:\\FER-2013 Project\\facialexpressionrecogination\\Lib\\site-packages\\sklearn\\metrics\\_classification.py:1531: UndefinedMetricWarning: Recall is ill-defined and being set to 0.0 in labels with no true samples. Use `zero_division` parameter to control this behavior.\n",
      "  _warn_prf(average, modifier, f\"{metric.capitalize()} is\", len(result))\n"
     ]
    },
    {
     "name": "stdout",
     "output_type": "stream",
     "text": [
      " [=============================>] | Loss: 0.941 | Acc: 64.401% (18489/28709)    225/225 \n",
      " [============================>.] | Loss: 0.972 | Acc: 62.608% (2247/3589)      29/29 \n"
     ]
    },
    {
     "name": "stderr",
     "output_type": "stream",
     "text": [
      "F:\\FER-2013 Project\\facialexpressionrecogination\\Lib\\site-packages\\sklearn\\metrics\\_classification.py:1531: UndefinedMetricWarning: Precision is ill-defined and being set to 0.0 in labels with no predicted samples. Use `zero_division` parameter to control this behavior.\n",
      "  _warn_prf(average, modifier, f\"{metric.capitalize()} is\", len(result))\n"
     ]
    },
    {
     "name": "stdout",
     "output_type": "stream",
     "text": [
      " [============================>.] | Loss: 0.972 | Acc: 62.608% (2247/3589)      29/29 \n",
      "Metrics saved to FER2013_SqueezeNet\\metrics.csv\n",
      "\n",
      "Epoch: 59\n",
      "learning_rate: 0.01\n"
     ]
    },
    {
     "name": "stderr",
     "output_type": "stream",
     "text": [
      "F:\\FER-2013 Project\\facialexpressionrecogination\\Lib\\site-packages\\sklearn\\metrics\\_classification.py:1531: UndefinedMetricWarning: Precision is ill-defined and being set to 0.0 in labels with no predicted samples. Use `zero_division` parameter to control this behavior.\n",
      "  _warn_prf(average, modifier, f\"{metric.capitalize()} is\", len(result))\n"
     ]
    },
    {
     "name": "stdout",
     "output_type": "stream",
     "text": [
      " [=============================>] | Loss: 0.945 | Acc: 64.443% (18501/28709)    225/225 \n"
     ]
    },
    {
     "name": "stderr",
     "output_type": "stream",
     "text": [
      "F:\\FER-2013 Project\\facialexpressionrecogination\\Lib\\site-packages\\sklearn\\metrics\\_classification.py:1531: UndefinedMetricWarning: Recall is ill-defined and being set to 0.0 in labels with no true samples. Use `zero_division` parameter to control this behavior.\n",
      "  _warn_prf(average, modifier, f\"{metric.capitalize()} is\", len(result))\n"
     ]
    },
    {
     "name": "stdout",
     "output_type": "stream",
     "text": [
      " [============================>.] | Loss: 0.975 | Acc: 62.552% (2245/3589)      29/29 \n"
     ]
    },
    {
     "name": "stderr",
     "output_type": "stream",
     "text": [
      "F:\\FER-2013 Project\\facialexpressionrecogination\\Lib\\site-packages\\sklearn\\metrics\\_classification.py:1531: UndefinedMetricWarning: Precision is ill-defined and being set to 0.0 in labels with no predicted samples. Use `zero_division` parameter to control this behavior.\n",
      "  _warn_prf(average, modifier, f\"{metric.capitalize()} is\", len(result))\n",
      "F:\\FER-2013 Project\\facialexpressionrecogination\\Lib\\site-packages\\sklearn\\metrics\\_classification.py:1531: UndefinedMetricWarning: Recall is ill-defined and being set to 0.0 in labels with no true samples. Use `zero_division` parameter to control this behavior.\n",
      "  _warn_prf(average, modifier, f\"{metric.capitalize()} is\", len(result))\n"
     ]
    },
    {
     "name": "stdout",
     "output_type": "stream",
     "text": [
      " [============================>.] | Loss: 0.975 | Acc: 62.552% (2245/3589)      29/29 \n",
      "Metrics saved to FER2013_SqueezeNet\\metrics.csv\n",
      "\n",
      "Epoch: 60\n",
      "learning_rate: 0.01\n"
     ]
    },
    {
     "name": "stderr",
     "output_type": "stream",
     "text": [
      "F:\\FER-2013 Project\\facialexpressionrecogination\\Lib\\site-packages\\sklearn\\metrics\\_classification.py:1531: UndefinedMetricWarning: Precision is ill-defined and being set to 0.0 in labels with no predicted samples. Use `zero_division` parameter to control this behavior.\n",
      "  _warn_prf(average, modifier, f\"{metric.capitalize()} is\", len(result))\n",
      "F:\\FER-2013 Project\\facialexpressionrecogination\\Lib\\site-packages\\sklearn\\metrics\\_classification.py:1531: UndefinedMetricWarning: Recall is ill-defined and being set to 0.0 in labels with no true samples. Use `zero_division` parameter to control this behavior.\n",
      "  _warn_prf(average, modifier, f\"{metric.capitalize()} is\", len(result))\n"
     ]
    },
    {
     "name": "stdout",
     "output_type": "stream",
     "text": [
      " [=============================>] | Loss: 0.957 | Acc: 64.123% (18409/28709)    225/225 \n"
     ]
    },
    {
     "name": "stderr",
     "output_type": "stream",
     "text": [
      "F:\\FER-2013 Project\\facialexpressionrecogination\\Lib\\site-packages\\sklearn\\metrics\\_classification.py:1531: UndefinedMetricWarning: Precision is ill-defined and being set to 0.0 in labels with no predicted samples. Use `zero_division` parameter to control this behavior.\n",
      "  _warn_prf(average, modifier, f\"{metric.capitalize()} is\", len(result))\n"
     ]
    },
    {
     "name": "stdout",
     "output_type": "stream",
     "text": [
      " [============================>.] | Loss: 1.015 | Acc: 61.967% (2224/3589)      29/29 \n"
     ]
    },
    {
     "name": "stderr",
     "output_type": "stream",
     "text": [
      "F:\\FER-2013 Project\\facialexpressionrecogination\\Lib\\site-packages\\sklearn\\metrics\\_classification.py:1531: UndefinedMetricWarning: Precision is ill-defined and being set to 0.0 in labels with no predicted samples. Use `zero_division` parameter to control this behavior.\n",
      "  _warn_prf(average, modifier, f\"{metric.capitalize()} is\", len(result))\n",
      "F:\\FER-2013 Project\\facialexpressionrecogination\\Lib\\site-packages\\sklearn\\metrics\\_classification.py:1531: UndefinedMetricWarning: Recall is ill-defined and being set to 0.0 in labels with no true samples. Use `zero_division` parameter to control this behavior.\n",
      "  _warn_prf(average, modifier, f\"{metric.capitalize()} is\", len(result))\n"
     ]
    },
    {
     "name": "stdout",
     "output_type": "stream",
     "text": [
      " [============================>.] | Loss: 1.015 | Acc: 61.967% (2224/3589)      29/29 \n",
      "Metrics saved to FER2013_SqueezeNet\\metrics.csv\n",
      "\n",
      "Epoch: 61\n",
      "learning_rate: 0.01\n"
     ]
    },
    {
     "name": "stderr",
     "output_type": "stream",
     "text": [
      "F:\\FER-2013 Project\\facialexpressionrecogination\\Lib\\site-packages\\sklearn\\metrics\\_classification.py:1531: UndefinedMetricWarning: Precision is ill-defined and being set to 0.0 in labels with no predicted samples. Use `zero_division` parameter to control this behavior.\n",
      "  _warn_prf(average, modifier, f\"{metric.capitalize()} is\", len(result))\n",
      "F:\\FER-2013 Project\\facialexpressionrecogination\\Lib\\site-packages\\sklearn\\metrics\\_classification.py:1531: UndefinedMetricWarning: Recall is ill-defined and being set to 0.0 in labels with no true samples. Use `zero_division` parameter to control this behavior.\n",
      "  _warn_prf(average, modifier, f\"{metric.capitalize()} is\", len(result))\n"
     ]
    },
    {
     "name": "stdout",
     "output_type": "stream",
     "text": [
      " [=============================>] | Loss: 0.948 | Acc: 64.126% (18410/28709)    225/225 \n",
      " [============================>.] | Loss: 0.976 | Acc: 63.722% (2287/3589)      29/29 \n"
     ]
    },
    {
     "name": "stderr",
     "output_type": "stream",
     "text": [
      "F:\\FER-2013 Project\\facialexpressionrecogination\\Lib\\site-packages\\sklearn\\metrics\\_classification.py:1531: UndefinedMetricWarning: Precision is ill-defined and being set to 0.0 in labels with no predicted samples. Use `zero_division` parameter to control this behavior.\n",
      "  _warn_prf(average, modifier, f\"{metric.capitalize()} is\", len(result))\n",
      "F:\\FER-2013 Project\\facialexpressionrecogination\\Lib\\site-packages\\sklearn\\metrics\\_classification.py:1531: UndefinedMetricWarning: Recall is ill-defined and being set to 0.0 in labels with no true samples. Use `zero_division` parameter to control this behavior.\n",
      "  _warn_prf(average, modifier, f\"{metric.capitalize()} is\", len(result))\n"
     ]
    },
    {
     "name": "stdout",
     "output_type": "stream",
     "text": [
      " [============================>.] | Loss: 0.976 | Acc: 63.722% (2287/3589)      29/29 \n",
      "Metrics saved to FER2013_SqueezeNet\\metrics.csv\n",
      "\n",
      "Epoch: 62\n",
      "learning_rate: 0.01\n"
     ]
    },
    {
     "name": "stderr",
     "output_type": "stream",
     "text": [
      "F:\\FER-2013 Project\\facialexpressionrecogination\\Lib\\site-packages\\sklearn\\metrics\\_classification.py:1531: UndefinedMetricWarning: Precision is ill-defined and being set to 0.0 in labels with no predicted samples. Use `zero_division` parameter to control this behavior.\n",
      "  _warn_prf(average, modifier, f\"{metric.capitalize()} is\", len(result))\n",
      "F:\\FER-2013 Project\\facialexpressionrecogination\\Lib\\site-packages\\sklearn\\metrics\\_classification.py:1531: UndefinedMetricWarning: Recall is ill-defined and being set to 0.0 in labels with no true samples. Use `zero_division` parameter to control this behavior.\n",
      "  _warn_prf(average, modifier, f\"{metric.capitalize()} is\", len(result))\n"
     ]
    },
    {
     "name": "stdout",
     "output_type": "stream",
     "text": [
      " [=============================>] | Loss: 0.938 | Acc: 65.018% (18666/28709)    225/225 \n",
      " [============================>.] | Loss: 0.974 | Acc: 63.500% (2279/3589)      29/29 \n"
     ]
    },
    {
     "name": "stderr",
     "output_type": "stream",
     "text": [
      "F:\\FER-2013 Project\\facialexpressionrecogination\\Lib\\site-packages\\sklearn\\metrics\\_classification.py:1531: UndefinedMetricWarning: Precision is ill-defined and being set to 0.0 in labels with no predicted samples. Use `zero_division` parameter to control this behavior.\n",
      "  _warn_prf(average, modifier, f\"{metric.capitalize()} is\", len(result))\n",
      "F:\\FER-2013 Project\\facialexpressionrecogination\\Lib\\site-packages\\sklearn\\metrics\\_classification.py:1531: UndefinedMetricWarning: Recall is ill-defined and being set to 0.0 in labels with no true samples. Use `zero_division` parameter to control this behavior.\n",
      "  _warn_prf(average, modifier, f\"{metric.capitalize()} is\", len(result))\n"
     ]
    },
    {
     "name": "stdout",
     "output_type": "stream",
     "text": [
      " [============================>.] | Loss: 0.974 | Acc: 63.500% (2279/3589)      29/29 \n",
      "Metrics saved to FER2013_SqueezeNet\\metrics.csv\n",
      "\n",
      "Epoch: 63\n",
      "learning_rate: 0.01\n"
     ]
    },
    {
     "name": "stderr",
     "output_type": "stream",
     "text": [
      "F:\\FER-2013 Project\\facialexpressionrecogination\\Lib\\site-packages\\sklearn\\metrics\\_classification.py:1531: UndefinedMetricWarning: Precision is ill-defined and being set to 0.0 in labels with no predicted samples. Use `zero_division` parameter to control this behavior.\n",
      "  _warn_prf(average, modifier, f\"{metric.capitalize()} is\", len(result))\n",
      "F:\\FER-2013 Project\\facialexpressionrecogination\\Lib\\site-packages\\sklearn\\metrics\\_classification.py:1531: UndefinedMetricWarning: Recall is ill-defined and being set to 0.0 in labels with no true samples. Use `zero_division` parameter to control this behavior.\n",
      "  _warn_prf(average, modifier, f\"{metric.capitalize()} is\", len(result))\n"
     ]
    },
    {
     "name": "stdout",
     "output_type": "stream",
     "text": [
      " [=============================>] | Loss: 0.948 | Acc: 64.352% (18451/28672)    224/225 =============================>] | Loss: 0.948 | Acc: 64.342% (18472/28709)    225/225 \n",
      " [============================>.] | Loss: 1.002 | Acc: 62.357% (2238/3589)      29/29 \n"
     ]
    },
    {
     "name": "stderr",
     "output_type": "stream",
     "text": [
      "F:\\FER-2013 Project\\facialexpressionrecogination\\Lib\\site-packages\\sklearn\\metrics\\_classification.py:1531: UndefinedMetricWarning: Precision is ill-defined and being set to 0.0 in labels with no predicted samples. Use `zero_division` parameter to control this behavior.\n",
      "  _warn_prf(average, modifier, f\"{metric.capitalize()} is\", len(result))\n",
      "F:\\FER-2013 Project\\facialexpressionrecogination\\Lib\\site-packages\\sklearn\\metrics\\_classification.py:1531: UndefinedMetricWarning: Recall is ill-defined and being set to 0.0 in labels with no true samples. Use `zero_division` parameter to control this behavior.\n",
      "  _warn_prf(average, modifier, f\"{metric.capitalize()} is\", len(result))\n"
     ]
    },
    {
     "name": "stdout",
     "output_type": "stream",
     "text": [
      " [============================>.] | Loss: 1.002 | Acc: 62.357% (2238/3589)      29/29 \n",
      "Metrics saved to FER2013_SqueezeNet\\metrics.csv\n",
      "\n",
      "Epoch: 64\n",
      "learning_rate: 0.01\n"
     ]
    },
    {
     "name": "stderr",
     "output_type": "stream",
     "text": [
      "F:\\FER-2013 Project\\facialexpressionrecogination\\Lib\\site-packages\\sklearn\\metrics\\_classification.py:1531: UndefinedMetricWarning: Precision is ill-defined and being set to 0.0 in labels with no predicted samples. Use `zero_division` parameter to control this behavior.\n",
      "  _warn_prf(average, modifier, f\"{metric.capitalize()} is\", len(result))\n",
      "F:\\FER-2013 Project\\facialexpressionrecogination\\Lib\\site-packages\\sklearn\\metrics\\_classification.py:1531: UndefinedMetricWarning: Recall is ill-defined and being set to 0.0 in labels with no true samples. Use `zero_division` parameter to control this behavior.\n",
      "  _warn_prf(average, modifier, f\"{metric.capitalize()} is\", len(result))\n"
     ]
    },
    {
     "name": "stdout",
     "output_type": "stream",
     "text": [
      " [=============================>] | Loss: 0.940 | Acc: 64.384% (18484/28709)    225/225 \n"
     ]
    },
    {
     "name": "stderr",
     "output_type": "stream",
     "text": [
      "F:\\FER-2013 Project\\facialexpressionrecogination\\Lib\\site-packages\\sklearn\\metrics\\_classification.py:1531: UndefinedMetricWarning: Recall is ill-defined and being set to 0.0 in labels with no true samples. Use `zero_division` parameter to control this behavior.\n",
      "  _warn_prf(average, modifier, f\"{metric.capitalize()} is\", len(result))\n"
     ]
    },
    {
     "name": "stdout",
     "output_type": "stream",
     "text": [
      " [============================>.] | Loss: 1.009 | Acc: 61.800% (2218/3589)      29/29 \n"
     ]
    },
    {
     "name": "stderr",
     "output_type": "stream",
     "text": [
      "F:\\FER-2013 Project\\facialexpressionrecogination\\Lib\\site-packages\\sklearn\\metrics\\_classification.py:1531: UndefinedMetricWarning: Precision is ill-defined and being set to 0.0 in labels with no predicted samples. Use `zero_division` parameter to control this behavior.\n",
      "  _warn_prf(average, modifier, f\"{metric.capitalize()} is\", len(result))\n",
      "F:\\FER-2013 Project\\facialexpressionrecogination\\Lib\\site-packages\\sklearn\\metrics\\_classification.py:1531: UndefinedMetricWarning: Recall is ill-defined and being set to 0.0 in labels with no true samples. Use `zero_division` parameter to control this behavior.\n",
      "  _warn_prf(average, modifier, f\"{metric.capitalize()} is\", len(result))\n"
     ]
    },
    {
     "name": "stdout",
     "output_type": "stream",
     "text": [
      " [============================>.] | Loss: 1.009 | Acc: 61.800% (2218/3589)      29/29 \n",
      "Metrics saved to FER2013_SqueezeNet\\metrics.csv\n",
      "\n",
      "Epoch: 65\n",
      "learning_rate: 0.01\n"
     ]
    },
    {
     "name": "stderr",
     "output_type": "stream",
     "text": [
      "F:\\FER-2013 Project\\facialexpressionrecogination\\Lib\\site-packages\\sklearn\\metrics\\_classification.py:1531: UndefinedMetricWarning: Precision is ill-defined and being set to 0.0 in labels with no predicted samples. Use `zero_division` parameter to control this behavior.\n",
      "  _warn_prf(average, modifier, f\"{metric.capitalize()} is\", len(result))\n",
      "F:\\FER-2013 Project\\facialexpressionrecogination\\Lib\\site-packages\\sklearn\\metrics\\_classification.py:1531: UndefinedMetricWarning: Recall is ill-defined and being set to 0.0 in labels with no true samples. Use `zero_division` parameter to control this behavior.\n",
      "  _warn_prf(average, modifier, f\"{metric.capitalize()} is\", len(result))\n"
     ]
    },
    {
     "name": "stdout",
     "output_type": "stream",
     "text": [
      " [=============================>] | Loss: 0.933 | Acc: 64.948% (18646/28709)    225/225 \n",
      " [============================>.] | Loss: 1.016 | Acc: 61.410% (2204/3589)      29/29 \n"
     ]
    },
    {
     "name": "stderr",
     "output_type": "stream",
     "text": [
      "F:\\FER-2013 Project\\facialexpressionrecogination\\Lib\\site-packages\\sklearn\\metrics\\_classification.py:1531: UndefinedMetricWarning: Precision is ill-defined and being set to 0.0 in labels with no predicted samples. Use `zero_division` parameter to control this behavior.\n",
      "  _warn_prf(average, modifier, f\"{metric.capitalize()} is\", len(result))\n",
      "F:\\FER-2013 Project\\facialexpressionrecogination\\Lib\\site-packages\\sklearn\\metrics\\_classification.py:1531: UndefinedMetricWarning: Recall is ill-defined and being set to 0.0 in labels with no true samples. Use `zero_division` parameter to control this behavior.\n",
      "  _warn_prf(average, modifier, f\"{metric.capitalize()} is\", len(result))\n"
     ]
    },
    {
     "name": "stdout",
     "output_type": "stream",
     "text": [
      " [============================>.] | Loss: 1.016 | Acc: 61.410% (2204/3589)      29/29 \n",
      "Metrics saved to FER2013_SqueezeNet\\metrics.csv\n",
      "\n",
      "Epoch: 66\n",
      "learning_rate: 0.01\n"
     ]
    },
    {
     "name": "stderr",
     "output_type": "stream",
     "text": [
      "F:\\FER-2013 Project\\facialexpressionrecogination\\Lib\\site-packages\\sklearn\\metrics\\_classification.py:1531: UndefinedMetricWarning: Precision is ill-defined and being set to 0.0 in labels with no predicted samples. Use `zero_division` parameter to control this behavior.\n",
      "  _warn_prf(average, modifier, f\"{metric.capitalize()} is\", len(result))\n",
      "F:\\FER-2013 Project\\facialexpressionrecogination\\Lib\\site-packages\\sklearn\\metrics\\_classification.py:1531: UndefinedMetricWarning: Recall is ill-defined and being set to 0.0 in labels with no true samples. Use `zero_division` parameter to control this behavior.\n",
      "  _warn_prf(average, modifier, f\"{metric.capitalize()} is\", len(result))\n"
     ]
    },
    {
     "name": "stdout",
     "output_type": "stream",
     "text": [
      " [=============================>] | Loss: 0.929 | Acc: 65.439% (18787/28709)    225/225 \n",
      " [============================>.] | Loss: 0.973 | Acc: 63.722% (2287/3589)      29/29 \n"
     ]
    },
    {
     "name": "stderr",
     "output_type": "stream",
     "text": [
      "F:\\FER-2013 Project\\facialexpressionrecogination\\Lib\\site-packages\\sklearn\\metrics\\_classification.py:1531: UndefinedMetricWarning: Precision is ill-defined and being set to 0.0 in labels with no predicted samples. Use `zero_division` parameter to control this behavior.\n",
      "  _warn_prf(average, modifier, f\"{metric.capitalize()} is\", len(result))\n",
      "F:\\FER-2013 Project\\facialexpressionrecogination\\Lib\\site-packages\\sklearn\\metrics\\_classification.py:1531: UndefinedMetricWarning: Recall is ill-defined and being set to 0.0 in labels with no true samples. Use `zero_division` parameter to control this behavior.\n",
      "  _warn_prf(average, modifier, f\"{metric.capitalize()} is\", len(result))\n"
     ]
    },
    {
     "name": "stdout",
     "output_type": "stream",
     "text": [
      " [============================>.] | Loss: 0.973 | Acc: 63.722% (2287/3589)      29/29 \n",
      "Metrics saved to FER2013_SqueezeNet\\metrics.csv\n",
      "\n",
      "Epoch: 67\n",
      "learning_rate: 0.01\n"
     ]
    },
    {
     "name": "stderr",
     "output_type": "stream",
     "text": [
      "F:\\FER-2013 Project\\facialexpressionrecogination\\Lib\\site-packages\\sklearn\\metrics\\_classification.py:1531: UndefinedMetricWarning: Precision is ill-defined and being set to 0.0 in labels with no predicted samples. Use `zero_division` parameter to control this behavior.\n",
      "  _warn_prf(average, modifier, f\"{metric.capitalize()} is\", len(result))\n",
      "F:\\FER-2013 Project\\facialexpressionrecogination\\Lib\\site-packages\\sklearn\\metrics\\_classification.py:1531: UndefinedMetricWarning: Recall is ill-defined and being set to 0.0 in labels with no true samples. Use `zero_division` parameter to control this behavior.\n",
      "  _warn_prf(average, modifier, f\"{metric.capitalize()} is\", len(result))\n"
     ]
    },
    {
     "name": "stdout",
     "output_type": "stream",
     "text": [
      " [=============================>] | Loss: 0.935 | Acc: 64.997% (18660/28709)    225/225 \n",
      " [============================>.] | Loss: 0.992 | Acc: 62.106% (2229/3589)      29/29 \n"
     ]
    },
    {
     "name": "stderr",
     "output_type": "stream",
     "text": [
      "F:\\FER-2013 Project\\facialexpressionrecogination\\Lib\\site-packages\\sklearn\\metrics\\_classification.py:1531: UndefinedMetricWarning: Precision is ill-defined and being set to 0.0 in labels with no predicted samples. Use `zero_division` parameter to control this behavior.\n",
      "  _warn_prf(average, modifier, f\"{metric.capitalize()} is\", len(result))\n"
     ]
    },
    {
     "name": "stdout",
     "output_type": "stream",
     "text": [
      " [============================>.] | Loss: 0.992 | Acc: 62.106% (2229/3589)      29/29 \n",
      "Metrics saved to FER2013_SqueezeNet\\metrics.csv\n",
      "\n",
      "Epoch: 68\n",
      "learning_rate: 0.01\n"
     ]
    },
    {
     "name": "stderr",
     "output_type": "stream",
     "text": [
      "F:\\FER-2013 Project\\facialexpressionrecogination\\Lib\\site-packages\\sklearn\\metrics\\_classification.py:1531: UndefinedMetricWarning: Precision is ill-defined and being set to 0.0 in labels with no predicted samples. Use `zero_division` parameter to control this behavior.\n",
      "  _warn_prf(average, modifier, f\"{metric.capitalize()} is\", len(result))\n"
     ]
    },
    {
     "name": "stdout",
     "output_type": "stream",
     "text": [
      " [=============================>] | Loss: 0.922 | Acc: 65.220% (18724/28709)    225/225 \n"
     ]
    },
    {
     "name": "stderr",
     "output_type": "stream",
     "text": [
      "F:\\FER-2013 Project\\facialexpressionrecogination\\Lib\\site-packages\\sklearn\\metrics\\_classification.py:1531: UndefinedMetricWarning: Precision is ill-defined and being set to 0.0 in labels with no predicted samples. Use `zero_division` parameter to control this behavior.\n",
      "  _warn_prf(average, modifier, f\"{metric.capitalize()} is\", len(result))\n"
     ]
    },
    {
     "name": "stdout",
     "output_type": "stream",
     "text": [
      " [============================>.] | Loss: 0.958 | Acc: 63.695% (2286/3589)      29/29 \n"
     ]
    },
    {
     "name": "stderr",
     "output_type": "stream",
     "text": [
      "F:\\FER-2013 Project\\facialexpressionrecogination\\Lib\\site-packages\\sklearn\\metrics\\_classification.py:1531: UndefinedMetricWarning: Precision is ill-defined and being set to 0.0 in labels with no predicted samples. Use `zero_division` parameter to control this behavior.\n",
      "  _warn_prf(average, modifier, f\"{metric.capitalize()} is\", len(result))\n",
      "F:\\FER-2013 Project\\facialexpressionrecogination\\Lib\\site-packages\\sklearn\\metrics\\_classification.py:1531: UndefinedMetricWarning: Recall is ill-defined and being set to 0.0 in labels with no true samples. Use `zero_division` parameter to control this behavior.\n",
      "  _warn_prf(average, modifier, f\"{metric.capitalize()} is\", len(result))\n"
     ]
    },
    {
     "name": "stdout",
     "output_type": "stream",
     "text": [
      " [============================>.] | Loss: 0.958 | Acc: 63.695% (2286/3589)      29/29 \n",
      "Metrics saved to FER2013_SqueezeNet\\metrics.csv\n",
      "\n",
      "Epoch: 69\n",
      "learning_rate: 0.01\n",
      " [>.............................] | Loss: 0.868 | Acc: 63.281% (81/128)         1/225 \r"
     ]
    },
    {
     "name": "stderr",
     "output_type": "stream",
     "text": [
      "F:\\FER-2013 Project\\facialexpressionrecogination\\Lib\\site-packages\\sklearn\\metrics\\_classification.py:1531: UndefinedMetricWarning: Precision is ill-defined and being set to 0.0 in labels with no predicted samples. Use `zero_division` parameter to control this behavior.\n",
      "  _warn_prf(average, modifier, f\"{metric.capitalize()} is\", len(result))\n",
      "F:\\FER-2013 Project\\facialexpressionrecogination\\Lib\\site-packages\\sklearn\\metrics\\_classification.py:1531: UndefinedMetricWarning: Recall is ill-defined and being set to 0.0 in labels with no true samples. Use `zero_division` parameter to control this behavior.\n",
      "  _warn_prf(average, modifier, f\"{metric.capitalize()} is\", len(result))\n"
     ]
    },
    {
     "name": "stdout",
     "output_type": "stream",
     "text": [
      " [=============================>] | Loss: 0.921 | Acc: 65.300% (18747/28709)    225/225 ========>....................] | Loss: 0.910 | Acc: 65.548% (5957/9088)      71/225 ================>.............] | Loss: 0.909 | Acc: 65.786% (10189/15488)    121/225 =================>............] | Loss: 0.913 | Acc: 65.480% (11315/17280)    135/225 \n",
      " [============================>.] | Loss: 0.965 | Acc: 63.500% (2279/3589)      29/29 \n"
     ]
    },
    {
     "name": "stderr",
     "output_type": "stream",
     "text": [
      "F:\\FER-2013 Project\\facialexpressionrecogination\\Lib\\site-packages\\sklearn\\metrics\\_classification.py:1531: UndefinedMetricWarning: Precision is ill-defined and being set to 0.0 in labels with no predicted samples. Use `zero_division` parameter to control this behavior.\n",
      "  _warn_prf(average, modifier, f\"{metric.capitalize()} is\", len(result))\n"
     ]
    },
    {
     "name": "stdout",
     "output_type": "stream",
     "text": [
      " [============================>.] | Loss: 0.965 | Acc: 63.500% (2279/3589)      29/29 \n",
      "Metrics saved to FER2013_SqueezeNet\\metrics.csv\n",
      "\n",
      "Epoch: 70\n",
      "learning_rate: 0.01\n"
     ]
    },
    {
     "name": "stderr",
     "output_type": "stream",
     "text": [
      "F:\\FER-2013 Project\\facialexpressionrecogination\\Lib\\site-packages\\sklearn\\metrics\\_classification.py:1531: UndefinedMetricWarning: Precision is ill-defined and being set to 0.0 in labels with no predicted samples. Use `zero_division` parameter to control this behavior.\n",
      "  _warn_prf(average, modifier, f\"{metric.capitalize()} is\", len(result))\n"
     ]
    },
    {
     "name": "stdout",
     "output_type": "stream",
     "text": [
      " [=============================>] | Loss: 0.919 | Acc: 65.422% (18782/28709)    225/225 ===>.........................] | Loss: 0.962 | Acc: 64.246% (2796/4352)      34/225 ====>.........................] | Loss: 0.956 | Acc: 64.337% (3047/4736)      37/225 =====>........................] | Loss: 0.958 | Acc: 64.343% (3212/4992)      39/225 =========>....................] | Loss: 0.933 | Acc: 64.967% (5821/8960)      70/225 ==========>...................] | Loss: 0.923 | Acc: 65.349% (6859/10496)     82/225 ============>.................] | Loss: 0.922 | Acc: 65.430% (7705/11776)     92/225 ===============>..............] | Loss: 0.918 | Acc: 65.378% (10042/15360)    120/225 =================>............] | Loss: 0.920 | Acc: 65.284% (11281/17280)    135/225 ========================>.....] | Loss: 0.921 | Acc: 65.358% (15644/23936)    187/225 =========================>....] | Loss: 0.921 | Acc: 65.310% (15967/24448)    191/225 ==========================>...] | Loss: 0.921 | Acc: 65.350% (16897/25856)    202/225 ============================>.] | Loss: 0.921 | Acc: 65.400% (17747/27136)    212/225 \n",
      " [============================>.] | Loss: 0.969 | Acc: 63.722% (2287/3589)      29/29 \n"
     ]
    },
    {
     "name": "stderr",
     "output_type": "stream",
     "text": [
      "F:\\FER-2013 Project\\facialexpressionrecogination\\Lib\\site-packages\\sklearn\\metrics\\_classification.py:1531: UndefinedMetricWarning: Precision is ill-defined and being set to 0.0 in labels with no predicted samples. Use `zero_division` parameter to control this behavior.\n",
      "  _warn_prf(average, modifier, f\"{metric.capitalize()} is\", len(result))\n",
      "F:\\FER-2013 Project\\facialexpressionrecogination\\Lib\\site-packages\\sklearn\\metrics\\_classification.py:1531: UndefinedMetricWarning: Recall is ill-defined and being set to 0.0 in labels with no true samples. Use `zero_division` parameter to control this behavior.\n",
      "  _warn_prf(average, modifier, f\"{metric.capitalize()} is\", len(result))\n"
     ]
    },
    {
     "name": "stdout",
     "output_type": "stream",
     "text": [
      " [============================>.] | Loss: 0.969 | Acc: 63.722% (2287/3589)      29/29 \n",
      "Metrics saved to FER2013_SqueezeNet\\metrics.csv\n",
      "\n",
      "Epoch: 71\n",
      "learning_rate: 0.01\n",
      " [>.............................] | Loss: 0.946 | Acc: 65.625% (84/128)         1/225 \r"
     ]
    },
    {
     "name": "stderr",
     "output_type": "stream",
     "text": [
      "F:\\FER-2013 Project\\facialexpressionrecogination\\Lib\\site-packages\\sklearn\\metrics\\_classification.py:1531: UndefinedMetricWarning: Precision is ill-defined and being set to 0.0 in labels with no predicted samples. Use `zero_division` parameter to control this behavior.\n",
      "  _warn_prf(average, modifier, f\"{metric.capitalize()} is\", len(result))\n",
      "F:\\FER-2013 Project\\facialexpressionrecogination\\Lib\\site-packages\\sklearn\\metrics\\_classification.py:1531: UndefinedMetricWarning: Recall is ill-defined and being set to 0.0 in labels with no true samples. Use `zero_division` parameter to control this behavior.\n",
      "  _warn_prf(average, modifier, f\"{metric.capitalize()} is\", len(result))\n"
     ]
    },
    {
     "name": "stdout",
     "output_type": "stream",
     "text": [
      " [=============================>] | Loss: 0.927 | Acc: 65.377% (18769/28709)    225/225 ==============>...............] | Loss: 0.919 | Acc: 65.681% (9416/14336)     112/225 =================>............] | Loss: 0.920 | Acc: 65.583% (10829/16512)    129/22 160/225 \n",
      " [============================>.] | Loss: 1.001 | Acc: 62.636% (2248/3589)      29/29 \n"
     ]
    },
    {
     "name": "stderr",
     "output_type": "stream",
     "text": [
      "F:\\FER-2013 Project\\facialexpressionrecogination\\Lib\\site-packages\\sklearn\\metrics\\_classification.py:1531: UndefinedMetricWarning: Precision is ill-defined and being set to 0.0 in labels with no predicted samples. Use `zero_division` parameter to control this behavior.\n",
      "  _warn_prf(average, modifier, f\"{metric.capitalize()} is\", len(result))\n"
     ]
    },
    {
     "name": "stdout",
     "output_type": "stream",
     "text": [
      " [============================>.] | Loss: 1.001 | Acc: 62.636% (2248/3589)      29/29 \n",
      "Metrics saved to FER2013_SqueezeNet\\metrics.csv\n",
      "\n",
      "Epoch: 72\n",
      "learning_rate: 0.01\n",
      " [>.............................] | Loss: 0.973 | Acc: 66.406% (85/128)         1/225 \r"
     ]
    },
    {
     "name": "stderr",
     "output_type": "stream",
     "text": [
      "F:\\FER-2013 Project\\facialexpressionrecogination\\Lib\\site-packages\\sklearn\\metrics\\_classification.py:1531: UndefinedMetricWarning: Precision is ill-defined and being set to 0.0 in labels with no predicted samples. Use `zero_division` parameter to control this behavior.\n",
      "  _warn_prf(average, modifier, f\"{metric.capitalize()} is\", len(result))\n"
     ]
    },
    {
     "name": "stdout",
     "output_type": "stream",
     "text": [
      " [=============================>] | Loss: 0.921 | Acc: 65.499% (18804/28709)    225/225 ............................] | Loss: 0.918 | Acc: 66.172% (847/1280)       10/225 \n",
      " [============================>.] | Loss: 0.983 | Acc: 62.719% (2251/3589)      29/29 \n"
     ]
    },
    {
     "name": "stderr",
     "output_type": "stream",
     "text": [
      "F:\\FER-2013 Project\\facialexpressionrecogination\\Lib\\site-packages\\sklearn\\metrics\\_classification.py:1531: UndefinedMetricWarning: Precision is ill-defined and being set to 0.0 in labels with no predicted samples. Use `zero_division` parameter to control this behavior.\n",
      "  _warn_prf(average, modifier, f\"{metric.capitalize()} is\", len(result))\n",
      "F:\\FER-2013 Project\\facialexpressionrecogination\\Lib\\site-packages\\sklearn\\metrics\\_classification.py:1531: UndefinedMetricWarning: Recall is ill-defined and being set to 0.0 in labels with no true samples. Use `zero_division` parameter to control this behavior.\n",
      "  _warn_prf(average, modifier, f\"{metric.capitalize()} is\", len(result))\n"
     ]
    },
    {
     "name": "stdout",
     "output_type": "stream",
     "text": [
      " [============================>.] | Loss: 0.983 | Acc: 62.719% (2251/3589)      29/29 \n",
      "Metrics saved to FER2013_SqueezeNet\\metrics.csv\n",
      "\n",
      "Epoch: 73\n",
      "learning_rate: 0.01\n",
      " [>.............................] | Loss: 0.960 | Acc: 60.156% (77/128)         1/225 \r"
     ]
    },
    {
     "name": "stderr",
     "output_type": "stream",
     "text": [
      "F:\\FER-2013 Project\\facialexpressionrecogination\\Lib\\site-packages\\sklearn\\metrics\\_classification.py:1531: UndefinedMetricWarning: Precision is ill-defined and being set to 0.0 in labels with no predicted samples. Use `zero_division` parameter to control this behavior.\n",
      "  _warn_prf(average, modifier, f\"{metric.capitalize()} is\", len(result))\n",
      "F:\\FER-2013 Project\\facialexpressionrecogination\\Lib\\site-packages\\sklearn\\metrics\\_classification.py:1531: UndefinedMetricWarning: Recall is ill-defined and being set to 0.0 in labels with no true samples. Use `zero_division` parameter to control this behavior.\n",
      "  _warn_prf(average, modifier, f\"{metric.capitalize()} is\", len(result))\n"
     ]
    },
    {
     "name": "stdout",
     "output_type": "stream",
     "text": [
      " [=============================>] | Loss: 0.914 | Acc: 65.589% (18830/28709)    225/225 =>...........................] | Loss: 0.974 | Acc: 63.438% (1624/2560)      20/225 ===>..........................] | Loss: 0.964 | Acc: 64.312% (2058/3200)      25/225 ===>..........................] | Loss: 0.959 | Acc: 64.323% (2223/3456)      27/225 ===>..........................] | Loss: 0.948 | Acc: 64.453% (2475/3840)      30/225 ====>.........................] | Loss: 0.947 | Acc: 64.227% (3124/4864)      38/225 =====>........................] | Loss: 0.940 | Acc: 64.535% (3552/5504)      43/225 ========>.....................] | Loss: 0.937 | Acc: 64.447% (5032/7808)      61/225 ==========>...................] | Loss: 0.922 | Acc: 65.244% (6681/10240)     80/225 ==========>...................] | Loss: 0.922 | Acc: 65.272% (6851/10496)     82/22 128/225 179/225 =========================>....] | Loss: 0.919 | Acc: 65.318% (15969/24448)    191/225 \n",
      " [============================>.] | Loss: 0.990 | Acc: 62.942% (2259/3589)      29/29 \n"
     ]
    },
    {
     "name": "stderr",
     "output_type": "stream",
     "text": [
      "F:\\FER-2013 Project\\facialexpressionrecogination\\Lib\\site-packages\\sklearn\\metrics\\_classification.py:1531: UndefinedMetricWarning: Precision is ill-defined and being set to 0.0 in labels with no predicted samples. Use `zero_division` parameter to control this behavior.\n",
      "  _warn_prf(average, modifier, f\"{metric.capitalize()} is\", len(result))\n",
      "F:\\FER-2013 Project\\facialexpressionrecogination\\Lib\\site-packages\\sklearn\\metrics\\_classification.py:1531: UndefinedMetricWarning: Recall is ill-defined and being set to 0.0 in labels with no true samples. Use `zero_division` parameter to control this behavior.\n",
      "  _warn_prf(average, modifier, f\"{metric.capitalize()} is\", len(result))\n"
     ]
    },
    {
     "name": "stdout",
     "output_type": "stream",
     "text": [
      " [============================>.] | Loss: 0.990 | Acc: 62.942% (2259/3589)      29/29 \n",
      "Metrics saved to FER2013_SqueezeNet\\metrics.csv\n",
      "\n",
      "Epoch: 74\n",
      "learning_rate: 0.01\n",
      " [>.............................] | Loss: 0.918 | Acc: 63.281% (81/128)         1/225 \r"
     ]
    },
    {
     "name": "stderr",
     "output_type": "stream",
     "text": [
      "F:\\FER-2013 Project\\facialexpressionrecogination\\Lib\\site-packages\\sklearn\\metrics\\_classification.py:1531: UndefinedMetricWarning: Precision is ill-defined and being set to 0.0 in labels with no predicted samples. Use `zero_division` parameter to control this behavior.\n",
      "  _warn_prf(average, modifier, f\"{metric.capitalize()} is\", len(result))\n",
      "F:\\FER-2013 Project\\facialexpressionrecogination\\Lib\\site-packages\\sklearn\\metrics\\_classification.py:1531: UndefinedMetricWarning: Recall is ill-defined and being set to 0.0 in labels with no true samples. Use `zero_division` parameter to control this behavior.\n",
      "  _warn_prf(average, modifier, f\"{metric.capitalize()} is\", len(result))\n"
     ]
    },
    {
     "name": "stdout",
     "output_type": "stream",
     "text": [
      " [=============================>] | Loss: 0.914 | Acc: 65.624% (18840/28709)    225/225 .........] | Loss: 0.900 | Acc: 66.127% (2370/3584)      28/22 65/225 =================>............] | Loss: 0.907 | Acc: 65.938% (11394/17280)    135/225 ==================>...........] | Loss: 0.909 | Acc: 65.869% (11888/18048)    141/225 198/225 =============================>] | Loss: 0.914 | Acc: 65.596% (18388/28032)    219/225 \n",
      " [============================>.] | Loss: 1.013 | Acc: 61.744% (2216/3589)      29/29 \n"
     ]
    },
    {
     "name": "stderr",
     "output_type": "stream",
     "text": [
      "F:\\FER-2013 Project\\facialexpressionrecogination\\Lib\\site-packages\\sklearn\\metrics\\_classification.py:1531: UndefinedMetricWarning: Precision is ill-defined and being set to 0.0 in labels with no predicted samples. Use `zero_division` parameter to control this behavior.\n",
      "  _warn_prf(average, modifier, f\"{metric.capitalize()} is\", len(result))\n",
      "F:\\FER-2013 Project\\facialexpressionrecogination\\Lib\\site-packages\\sklearn\\metrics\\_classification.py:1531: UndefinedMetricWarning: Recall is ill-defined and being set to 0.0 in labels with no true samples. Use `zero_division` parameter to control this behavior.\n",
      "  _warn_prf(average, modifier, f\"{metric.capitalize()} is\", len(result))\n"
     ]
    },
    {
     "name": "stdout",
     "output_type": "stream",
     "text": [
      " [============================>.] | Loss: 1.013 | Acc: 61.744% (2216/3589)      29/29 \n",
      "Metrics saved to FER2013_SqueezeNet\\metrics.csv\n",
      "\n",
      "Epoch: 75\n",
      "learning_rate: 0.01\n",
      " [>.............................] | Loss: 1.054 | Acc: 59.375% (76/128)         1/225 \r"
     ]
    },
    {
     "name": "stderr",
     "output_type": "stream",
     "text": [
      "F:\\FER-2013 Project\\facialexpressionrecogination\\Lib\\site-packages\\sklearn\\metrics\\_classification.py:1531: UndefinedMetricWarning: Precision is ill-defined and being set to 0.0 in labels with no predicted samples. Use `zero_division` parameter to control this behavior.\n",
      "  _warn_prf(average, modifier, f\"{metric.capitalize()} is\", len(result))\n",
      "F:\\FER-2013 Project\\facialexpressionrecogination\\Lib\\site-packages\\sklearn\\metrics\\_classification.py:1531: UndefinedMetricWarning: Recall is ill-defined and being set to 0.0 in labels with no true samples. Use `zero_division` parameter to control this behavior.\n",
      "  _warn_prf(average, modifier, f\"{metric.capitalize()} is\", len(result))\n"
     ]
    },
    {
     "name": "stdout",
     "output_type": "stream",
     "text": [
      " [=============================>] | Loss: 0.917 | Acc: 65.492% (18802/28709)    225/225 ............................] | Loss: 1.007 | Acc: 61.979% (238/384)        3/225 57/225 ====================>.........] | Loss: 0.916 | Acc: 65.474% (12990/19840)    155/225 \n",
      " [============================>.] | Loss: 0.968 | Acc: 63.388% (2275/3589)      29/29 \n"
     ]
    },
    {
     "name": "stderr",
     "output_type": "stream",
     "text": [
      "F:\\FER-2013 Project\\facialexpressionrecogination\\Lib\\site-packages\\sklearn\\metrics\\_classification.py:1531: UndefinedMetricWarning: Precision is ill-defined and being set to 0.0 in labels with no predicted samples. Use `zero_division` parameter to control this behavior.\n",
      "  _warn_prf(average, modifier, f\"{metric.capitalize()} is\", len(result))\n",
      "F:\\FER-2013 Project\\facialexpressionrecogination\\Lib\\site-packages\\sklearn\\metrics\\_classification.py:1531: UndefinedMetricWarning: Recall is ill-defined and being set to 0.0 in labels with no true samples. Use `zero_division` parameter to control this behavior.\n",
      "  _warn_prf(average, modifier, f\"{metric.capitalize()} is\", len(result))\n"
     ]
    },
    {
     "name": "stdout",
     "output_type": "stream",
     "text": [
      " [============================>.] | Loss: 0.968 | Acc: 63.388% (2275/3589)      29/29 \n",
      "Metrics saved to FER2013_SqueezeNet\\metrics.csv\n",
      "\n",
      "Epoch: 76\n",
      "learning_rate: 0.01\n",
      " [>.............................] | Loss: 0.918 | Acc: 60.938% (78/128)         1/225 \r"
     ]
    },
    {
     "name": "stderr",
     "output_type": "stream",
     "text": [
      "F:\\FER-2013 Project\\facialexpressionrecogination\\Lib\\site-packages\\sklearn\\metrics\\_classification.py:1531: UndefinedMetricWarning: Precision is ill-defined and being set to 0.0 in labels with no predicted samples. Use `zero_division` parameter to control this behavior.\n",
      "  _warn_prf(average, modifier, f\"{metric.capitalize()} is\", len(result))\n",
      "F:\\FER-2013 Project\\facialexpressionrecogination\\Lib\\site-packages\\sklearn\\metrics\\_classification.py:1531: UndefinedMetricWarning: Recall is ill-defined and being set to 0.0 in labels with no true samples. Use `zero_division` parameter to control this behavior.\n",
      "  _warn_prf(average, modifier, f\"{metric.capitalize()} is\", len(result))\n"
     ]
    },
    {
     "name": "stdout",
     "output_type": "stream",
     "text": [
      " [=============================>] | Loss: 0.917 | Acc: 65.436% (18786/28709)    225/225 \n",
      " [============================>.] | Loss: 1.003 | Acc: 62.218% (2233/3589)      29/29 \n"
     ]
    },
    {
     "name": "stderr",
     "output_type": "stream",
     "text": [
      "F:\\FER-2013 Project\\facialexpressionrecogination\\Lib\\site-packages\\sklearn\\metrics\\_classification.py:1531: UndefinedMetricWarning: Precision is ill-defined and being set to 0.0 in labels with no predicted samples. Use `zero_division` parameter to control this behavior.\n",
      "  _warn_prf(average, modifier, f\"{metric.capitalize()} is\", len(result))\n",
      "F:\\FER-2013 Project\\facialexpressionrecogination\\Lib\\site-packages\\sklearn\\metrics\\_classification.py:1531: UndefinedMetricWarning: Recall is ill-defined and being set to 0.0 in labels with no true samples. Use `zero_division` parameter to control this behavior.\n",
      "  _warn_prf(average, modifier, f\"{metric.capitalize()} is\", len(result))\n"
     ]
    },
    {
     "name": "stdout",
     "output_type": "stream",
     "text": [
      " [============================>.] | Loss: 1.003 | Acc: 62.218% (2233/3589)      29/29 \n",
      "Metrics saved to FER2013_SqueezeNet\\metrics.csv\n",
      "\n",
      "Epoch: 77\n",
      "learning_rate: 0.01\n",
      " [>.............................] | Loss: 0.849 | Acc: 64.844% (83/128)         1/225 \r"
     ]
    },
    {
     "name": "stderr",
     "output_type": "stream",
     "text": [
      "F:\\FER-2013 Project\\facialexpressionrecogination\\Lib\\site-packages\\sklearn\\metrics\\_classification.py:1531: UndefinedMetricWarning: Precision is ill-defined and being set to 0.0 in labels with no predicted samples. Use `zero_division` parameter to control this behavior.\n",
      "  _warn_prf(average, modifier, f\"{metric.capitalize()} is\", len(result))\n",
      "F:\\FER-2013 Project\\facialexpressionrecogination\\Lib\\site-packages\\sklearn\\metrics\\_classification.py:1531: UndefinedMetricWarning: Recall is ill-defined and being set to 0.0 in labels with no true samples. Use `zero_division` parameter to control this behavior.\n",
      "  _warn_prf(average, modifier, f\"{metric.capitalize()} is\", len(result))\n"
     ]
    },
    {
     "name": "stdout",
     "output_type": "stream",
     "text": [
      " [=============================>] | Loss: 0.911 | Acc: 65.861% (18908/28709)    225/225 ======================>.......] | Loss: 0.912 | Acc: 65.770% (14059/21376)    167/225 204/225 \n",
      " [============================>.] | Loss: 0.978 | Acc: 63.137% (2266/3589)      29/29 \n"
     ]
    },
    {
     "name": "stderr",
     "output_type": "stream",
     "text": [
      "F:\\FER-2013 Project\\facialexpressionrecogination\\Lib\\site-packages\\sklearn\\metrics\\_classification.py:1531: UndefinedMetricWarning: Precision is ill-defined and being set to 0.0 in labels with no predicted samples. Use `zero_division` parameter to control this behavior.\n",
      "  _warn_prf(average, modifier, f\"{metric.capitalize()} is\", len(result))\n",
      "F:\\FER-2013 Project\\facialexpressionrecogination\\Lib\\site-packages\\sklearn\\metrics\\_classification.py:1531: UndefinedMetricWarning: Recall is ill-defined and being set to 0.0 in labels with no true samples. Use `zero_division` parameter to control this behavior.\n",
      "  _warn_prf(average, modifier, f\"{metric.capitalize()} is\", len(result))\n"
     ]
    },
    {
     "name": "stdout",
     "output_type": "stream",
     "text": [
      " [============================>.] | Loss: 0.978 | Acc: 63.137% (2266/3589)      29/29 \n",
      "Metrics saved to FER2013_SqueezeNet\\metrics.csv\n",
      "\n",
      "Epoch: 78\n",
      "learning_rate: 0.01\n",
      " [>.............................] | Loss: 0.869 | Acc: 68.750% (88/128)         1/225 \r"
     ]
    },
    {
     "name": "stderr",
     "output_type": "stream",
     "text": [
      "F:\\FER-2013 Project\\facialexpressionrecogination\\Lib\\site-packages\\sklearn\\metrics\\_classification.py:1531: UndefinedMetricWarning: Precision is ill-defined and being set to 0.0 in labels with no predicted samples. Use `zero_division` parameter to control this behavior.\n",
      "  _warn_prf(average, modifier, f\"{metric.capitalize()} is\", len(result))\n",
      "F:\\FER-2013 Project\\facialexpressionrecogination\\Lib\\site-packages\\sklearn\\metrics\\_classification.py:1531: UndefinedMetricWarning: Recall is ill-defined and being set to 0.0 in labels with no true samples. Use `zero_division` parameter to control this behavior.\n",
      "  _warn_prf(average, modifier, f\"{metric.capitalize()} is\", len(result))\n"
     ]
    },
    {
     "name": "stdout",
     "output_type": "stream",
     "text": [
      " [=============================>] | Loss: 0.913 | Acc: 65.941% (18931/28709)    225/225 ============>................] | Loss: 0.910 | Acc: 65.828% (8426/12800)     100/225 \n",
      " [============================>.] | Loss: 0.967 | Acc: 63.416% (2276/3589)      29/29 \n"
     ]
    },
    {
     "name": "stderr",
     "output_type": "stream",
     "text": [
      "F:\\FER-2013 Project\\facialexpressionrecogination\\Lib\\site-packages\\sklearn\\metrics\\_classification.py:1531: UndefinedMetricWarning: Precision is ill-defined and being set to 0.0 in labels with no predicted samples. Use `zero_division` parameter to control this behavior.\n",
      "  _warn_prf(average, modifier, f\"{metric.capitalize()} is\", len(result))\n",
      "F:\\FER-2013 Project\\facialexpressionrecogination\\Lib\\site-packages\\sklearn\\metrics\\_classification.py:1531: UndefinedMetricWarning: Recall is ill-defined and being set to 0.0 in labels with no true samples. Use `zero_division` parameter to control this behavior.\n",
      "  _warn_prf(average, modifier, f\"{metric.capitalize()} is\", len(result))\n"
     ]
    },
    {
     "name": "stdout",
     "output_type": "stream",
     "text": [
      " [============================>.] | Loss: 0.967 | Acc: 63.416% (2276/3589)      29/29 \n",
      "Metrics saved to FER2013_SqueezeNet\\metrics.csv\n",
      "\n",
      "Epoch: 79\n",
      "learning_rate: 0.01\n",
      " [>.............................] | Loss: 0.703 | Acc: 74.219% (95/128)         1/225 \r"
     ]
    },
    {
     "name": "stderr",
     "output_type": "stream",
     "text": [
      "F:\\FER-2013 Project\\facialexpressionrecogination\\Lib\\site-packages\\sklearn\\metrics\\_classification.py:1531: UndefinedMetricWarning: Precision is ill-defined and being set to 0.0 in labels with no predicted samples. Use `zero_division` parameter to control this behavior.\n",
      "  _warn_prf(average, modifier, f\"{metric.capitalize()} is\", len(result))\n",
      "F:\\FER-2013 Project\\facialexpressionrecogination\\Lib\\site-packages\\sklearn\\metrics\\_classification.py:1531: UndefinedMetricWarning: Recall is ill-defined and being set to 0.0 in labels with no true samples. Use `zero_division` parameter to control this behavior.\n",
      "  _warn_prf(average, modifier, f\"{metric.capitalize()} is\", len(result))\n"
     ]
    },
    {
     "name": "stdout",
     "output_type": "stream",
     "text": [
      " [=============================>] | Loss: 0.900 | Acc: 66.021% (18954/28709)    225/225 =>...........................] | Loss: 0.901 | Acc: 65.441% (1424/2176)      17/225 =====>........................] | Loss: 0.889 | Acc: 66.486% (3319/4992)      39/225 ==========>...................] | Loss: 0.886 | Acc: 66.883% (7020/10496)     82/225 ====================>.........] | Loss: 0.894 | Acc: 66.366% (13167/19840)    155/225 ======================>.......] | Loss: 0.897 | Acc: 66.183% (14232/21504)    168/225 ======================>.......] | Loss: 0.898 | Acc: 66.091% (14466/21888)    171/225 =========================>....] | Loss: 0.899 | Acc: 65.989% (16133/24448)    191/225 ==========================>...] | Loss: 0.899 | Acc: 66.010% (16645/25216)    197/225 ===========================>..] | Loss: 0.898 | Acc: 66.038% (17582/26624)    208/225 =============================>] | Loss: 0.900 | Acc: 66.042% (18513/28032)    219/225 =============================>] | Loss: 0.899 | Acc: 66.053% (18685/28288)    221/225 =============================>] | Loss: 0.900 | Acc: 66.044% (18767/28416)    222/225 \n"
     ]
    },
    {
     "name": "stderr",
     "output_type": "stream",
     "text": [
      "F:\\FER-2013 Project\\facialexpressionrecogination\\Lib\\site-packages\\sklearn\\metrics\\_classification.py:1531: UndefinedMetricWarning: Recall is ill-defined and being set to 0.0 in labels with no true samples. Use `zero_division` parameter to control this behavior.\n",
      "  _warn_prf(average, modifier, f\"{metric.capitalize()} is\", len(result))\n"
     ]
    },
    {
     "name": "stdout",
     "output_type": "stream",
     "text": [
      " [============================>.] | Loss: 0.981 | Acc: 63.332% (2273/3589)      29/29 \n"
     ]
    },
    {
     "name": "stderr",
     "output_type": "stream",
     "text": [
      "F:\\FER-2013 Project\\facialexpressionrecogination\\Lib\\site-packages\\sklearn\\metrics\\_classification.py:1531: UndefinedMetricWarning: Precision is ill-defined and being set to 0.0 in labels with no predicted samples. Use `zero_division` parameter to control this behavior.\n",
      "  _warn_prf(average, modifier, f\"{metric.capitalize()} is\", len(result))\n",
      "F:\\FER-2013 Project\\facialexpressionrecogination\\Lib\\site-packages\\sklearn\\metrics\\_classification.py:1531: UndefinedMetricWarning: Recall is ill-defined and being set to 0.0 in labels with no true samples. Use `zero_division` parameter to control this behavior.\n",
      "  _warn_prf(average, modifier, f\"{metric.capitalize()} is\", len(result))\n"
     ]
    },
    {
     "name": "stdout",
     "output_type": "stream",
     "text": [
      " [============================>.] | Loss: 0.981 | Acc: 63.332% (2273/3589)      29/29 \n",
      "Metrics saved to FER2013_SqueezeNet\\metrics.csv\n",
      "\n",
      "Epoch: 80\n",
      "learning_rate: 0.01\n",
      " [>.............................] | Loss: 0.834 | Acc: 67.969% (87/128)         1/225 \r"
     ]
    },
    {
     "name": "stderr",
     "output_type": "stream",
     "text": [
      "F:\\FER-2013 Project\\facialexpressionrecogination\\Lib\\site-packages\\sklearn\\metrics\\_classification.py:1531: UndefinedMetricWarning: Precision is ill-defined and being set to 0.0 in labels with no predicted samples. Use `zero_division` parameter to control this behavior.\n",
      "  _warn_prf(average, modifier, f\"{metric.capitalize()} is\", len(result))\n",
      "F:\\FER-2013 Project\\facialexpressionrecogination\\Lib\\site-packages\\sklearn\\metrics\\_classification.py:1531: UndefinedMetricWarning: Recall is ill-defined and being set to 0.0 in labels with no true samples. Use `zero_division` parameter to control this behavior.\n",
      "  _warn_prf(average, modifier, f\"{metric.capitalize()} is\", len(result))\n"
     ]
    },
    {
     "name": "stdout",
     "output_type": "stream",
     "text": [
      " [=============================>] | Loss: 0.902 | Acc: 66.296% (19033/28709)    225/225 0/225 =============>................] | Loss: 0.886 | Acc: 67.293% (8958/13312)     104/225 =================>............] | Loss: 0.899 | Acc: 66.752% (11193/16768)    131/22 189/225 \n",
      " [============================>.] | Loss: 0.958 | Acc: 64.280% (2307/3589)      29/29 \n",
      "Saving..\n",
      "best_Testing_acc: 64.280\n"
     ]
    },
    {
     "name": "stderr",
     "output_type": "stream",
     "text": [
      "F:\\FER-2013 Project\\facialexpressionrecogination\\Lib\\site-packages\\sklearn\\metrics\\_classification.py:1531: UndefinedMetricWarning: Precision is ill-defined and being set to 0.0 in labels with no predicted samples. Use `zero_division` parameter to control this behavior.\n",
      "  _warn_prf(average, modifier, f\"{metric.capitalize()} is\", len(result))\n",
      "F:\\FER-2013 Project\\facialexpressionrecogination\\Lib\\site-packages\\sklearn\\metrics\\_classification.py:1531: UndefinedMetricWarning: Recall is ill-defined and being set to 0.0 in labels with no true samples. Use `zero_division` parameter to control this behavior.\n",
      "  _warn_prf(average, modifier, f\"{metric.capitalize()} is\", len(result))\n"
     ]
    },
    {
     "name": "stdout",
     "output_type": "stream",
     "text": [
      " [============================>.] | Loss: 0.958 | Acc: 64.280% (2307/3589)      29/29 \n",
      "Saving..\n",
      "best_Validation_acc: 64.280\n",
      "Metrics saved to FER2013_SqueezeNet\\metrics.csv\n",
      "\n",
      "Epoch: 81\n",
      "learning_rate: 0.01\n",
      " [>.............................] | Loss: 0.807 | Acc: 71.875% (92/128)         1/225 \r"
     ]
    },
    {
     "name": "stderr",
     "output_type": "stream",
     "text": [
      "F:\\FER-2013 Project\\facialexpressionrecogination\\Lib\\site-packages\\sklearn\\metrics\\_classification.py:1531: UndefinedMetricWarning: Precision is ill-defined and being set to 0.0 in labels with no predicted samples. Use `zero_division` parameter to control this behavior.\n",
      "  _warn_prf(average, modifier, f\"{metric.capitalize()} is\", len(result))\n",
      "F:\\FER-2013 Project\\facialexpressionrecogination\\Lib\\site-packages\\sklearn\\metrics\\_classification.py:1531: UndefinedMetricWarning: Recall is ill-defined and being set to 0.0 in labels with no true samples. Use `zero_division` parameter to control this behavior.\n",
      "  _warn_prf(average, modifier, f\"{metric.capitalize()} is\", len(result))\n"
     ]
    },
    {
     "name": "stdout",
     "output_type": "stream",
     "text": [
      " [=============================>] | Loss: 0.906 | Acc: 65.732% (18871/28709)    225/225 ===========================>..] | Loss: 0.905 | Acc: 65.748% (17589/26752)    209/225 \n",
      " [============================>.] | Loss: 0.986 | Acc: 62.775% (2253/3589)      29/29 \n"
     ]
    },
    {
     "name": "stderr",
     "output_type": "stream",
     "text": [
      "F:\\FER-2013 Project\\facialexpressionrecogination\\Lib\\site-packages\\sklearn\\metrics\\_classification.py:1531: UndefinedMetricWarning: Precision is ill-defined and being set to 0.0 in labels with no predicted samples. Use `zero_division` parameter to control this behavior.\n",
      "  _warn_prf(average, modifier, f\"{metric.capitalize()} is\", len(result))\n",
      "F:\\FER-2013 Project\\facialexpressionrecogination\\Lib\\site-packages\\sklearn\\metrics\\_classification.py:1531: UndefinedMetricWarning: Recall is ill-defined and being set to 0.0 in labels with no true samples. Use `zero_division` parameter to control this behavior.\n",
      "  _warn_prf(average, modifier, f\"{metric.capitalize()} is\", len(result))\n"
     ]
    },
    {
     "name": "stdout",
     "output_type": "stream",
     "text": [
      " [============================>.] | Loss: 0.986 | Acc: 62.775% (2253/3589)      29/29 \n",
      "Metrics saved to FER2013_SqueezeNet\\metrics.csv\n",
      "\n",
      "Epoch: 82\n",
      "learning_rate: 0.01\n"
     ]
    },
    {
     "name": "stderr",
     "output_type": "stream",
     "text": [
      "F:\\FER-2013 Project\\facialexpressionrecogination\\Lib\\site-packages\\sklearn\\metrics\\_classification.py:1531: UndefinedMetricWarning: Precision is ill-defined and being set to 0.0 in labels with no predicted samples. Use `zero_division` parameter to control this behavior.\n",
      "  _warn_prf(average, modifier, f\"{metric.capitalize()} is\", len(result))\n",
      "F:\\FER-2013 Project\\facialexpressionrecogination\\Lib\\site-packages\\sklearn\\metrics\\_classification.py:1531: UndefinedMetricWarning: Recall is ill-defined and being set to 0.0 in labels with no true samples. Use `zero_division` parameter to control this behavior.\n",
      "  _warn_prf(average, modifier, f\"{metric.capitalize()} is\", len(result))\n"
     ]
    },
    {
     "name": "stdout",
     "output_type": "stream",
     "text": [
      " [=============================>] | Loss: 0.895 | Acc: 66.143% (18989/28709)    225/225 =======>.....................] | Loss: 0.887 | Acc: 66.153% (5758/8704)      68/225 ===============>..............] | Loss: 0.889 | Acc: 66.012% (9886/14976)     117/225 ===========================>..] | Loss: 0.892 | Acc: 66.226% (17632/26624)    208/225 \n"
     ]
    },
    {
     "name": "stderr",
     "output_type": "stream",
     "text": [
      "F:\\FER-2013 Project\\facialexpressionrecogination\\Lib\\site-packages\\sklearn\\metrics\\_classification.py:1531: UndefinedMetricWarning: Precision is ill-defined and being set to 0.0 in labels with no predicted samples. Use `zero_division` parameter to control this behavior.\n",
      "  _warn_prf(average, modifier, f\"{metric.capitalize()} is\", len(result))\n"
     ]
    },
    {
     "name": "stdout",
     "output_type": "stream",
     "text": [
      " [============================>.] | Loss: 0.970 | Acc: 64.085% (2300/3589)      29/29 \n"
     ]
    },
    {
     "name": "stderr",
     "output_type": "stream",
     "text": [
      "F:\\FER-2013 Project\\facialexpressionrecogination\\Lib\\site-packages\\sklearn\\metrics\\_classification.py:1531: UndefinedMetricWarning: Precision is ill-defined and being set to 0.0 in labels with no predicted samples. Use `zero_division` parameter to control this behavior.\n",
      "  _warn_prf(average, modifier, f\"{metric.capitalize()} is\", len(result))\n",
      "F:\\FER-2013 Project\\facialexpressionrecogination\\Lib\\site-packages\\sklearn\\metrics\\_classification.py:1531: UndefinedMetricWarning: Recall is ill-defined and being set to 0.0 in labels with no true samples. Use `zero_division` parameter to control this behavior.\n",
      "  _warn_prf(average, modifier, f\"{metric.capitalize()} is\", len(result))\n"
     ]
    },
    {
     "name": "stdout",
     "output_type": "stream",
     "text": [
      " [============================>.] | Loss: 0.970 | Acc: 64.085% (2300/3589)      29/29 \n",
      "Metrics saved to FER2013_SqueezeNet\\metrics.csv\n",
      "\n",
      "Epoch: 83\n",
      "learning_rate: 0.01\n",
      " [>.............................] | Loss: 0.975 | Acc: 61.719% (79/128)         1/225 \r"
     ]
    },
    {
     "name": "stderr",
     "output_type": "stream",
     "text": [
      "F:\\FER-2013 Project\\facialexpressionrecogination\\Lib\\site-packages\\sklearn\\metrics\\_classification.py:1531: UndefinedMetricWarning: Precision is ill-defined and being set to 0.0 in labels with no predicted samples. Use `zero_division` parameter to control this behavior.\n",
      "  _warn_prf(average, modifier, f\"{metric.capitalize()} is\", len(result))\n",
      "F:\\FER-2013 Project\\facialexpressionrecogination\\Lib\\site-packages\\sklearn\\metrics\\_classification.py:1531: UndefinedMetricWarning: Recall is ill-defined and being set to 0.0 in labels with no true samples. Use `zero_division` parameter to control this behavior.\n",
      "  _warn_prf(average, modifier, f\"{metric.capitalize()} is\", len(result))\n"
     ]
    },
    {
     "name": "stdout",
     "output_type": "stream",
     "text": [
      " [=============================>] | Loss: 0.898 | Acc: 66.296% (19033/28709)    225/225 ==========================>...] | Loss: 0.894 | Acc: 66.429% (17176/25856)    202/225 \n",
      " [============================>.] | Loss: 0.985 | Acc: 62.469% (2242/3589)      29/29 \n"
     ]
    },
    {
     "name": "stderr",
     "output_type": "stream",
     "text": [
      "F:\\FER-2013 Project\\facialexpressionrecogination\\Lib\\site-packages\\sklearn\\metrics\\_classification.py:1531: UndefinedMetricWarning: Precision is ill-defined and being set to 0.0 in labels with no predicted samples. Use `zero_division` parameter to control this behavior.\n",
      "  _warn_prf(average, modifier, f\"{metric.capitalize()} is\", len(result))\n",
      "F:\\FER-2013 Project\\facialexpressionrecogination\\Lib\\site-packages\\sklearn\\metrics\\_classification.py:1531: UndefinedMetricWarning: Recall is ill-defined and being set to 0.0 in labels with no true samples. Use `zero_division` parameter to control this behavior.\n",
      "  _warn_prf(average, modifier, f\"{metric.capitalize()} is\", len(result))\n"
     ]
    },
    {
     "name": "stdout",
     "output_type": "stream",
     "text": [
      " [============================>.] | Loss: 0.985 | Acc: 62.469% (2242/3589)      29/29 \n",
      "Metrics saved to FER2013_SqueezeNet\\metrics.csv\n",
      "\n",
      "Epoch: 84\n",
      "learning_rate: 0.01\n",
      " [>.............................] | Loss: 0.860 | Acc: 68.750% (88/128)         1/225 \r"
     ]
    },
    {
     "name": "stderr",
     "output_type": "stream",
     "text": [
      "F:\\FER-2013 Project\\facialexpressionrecogination\\Lib\\site-packages\\sklearn\\metrics\\_classification.py:1531: UndefinedMetricWarning: Precision is ill-defined and being set to 0.0 in labels with no predicted samples. Use `zero_division` parameter to control this behavior.\n",
      "  _warn_prf(average, modifier, f\"{metric.capitalize()} is\", len(result))\n",
      "F:\\FER-2013 Project\\facialexpressionrecogination\\Lib\\site-packages\\sklearn\\metrics\\_classification.py:1531: UndefinedMetricWarning: Recall is ill-defined and being set to 0.0 in labels with no true samples. Use `zero_division` parameter to control this behavior.\n",
      "  _warn_prf(average, modifier, f\"{metric.capitalize()} is\", len(result))\n"
     ]
    },
    {
     "name": "stdout",
     "output_type": "stream",
     "text": [
      " [=============================>] | Loss: 0.889 | Acc: 66.439% (19074/28709)    225/225 =====>.......................] | Loss: 0.864 | Acc: 66.958% (4371/6528)      51/225 72/225 ==========>...................] | Loss: 0.879 | Acc: 66.536% (6643/9984)      78/22 128/225 =====================>........] | Loss: 0.886 | Acc: 66.431% (13520/20352)    159/225 =========================>....] | Loss: 0.888 | Acc: 66.390% (16486/24832)    194/225 \n",
      " [============================>.] | Loss: 0.963 | Acc: 63.890% (2293/3589)      29/29 \n"
     ]
    },
    {
     "name": "stderr",
     "output_type": "stream",
     "text": [
      "F:\\FER-2013 Project\\facialexpressionrecogination\\Lib\\site-packages\\sklearn\\metrics\\_classification.py:1531: UndefinedMetricWarning: Precision is ill-defined and being set to 0.0 in labels with no predicted samples. Use `zero_division` parameter to control this behavior.\n",
      "  _warn_prf(average, modifier, f\"{metric.capitalize()} is\", len(result))\n"
     ]
    },
    {
     "name": "stdout",
     "output_type": "stream",
     "text": [
      " [============================>.] | Loss: 0.963 | Acc: 63.890% (2293/3589)      29/29 \n",
      "Metrics saved to FER2013_SqueezeNet\\metrics.csv\n",
      "\n",
      "Epoch: 85\n",
      "learning_rate: 0.009000000000000001\n",
      " [>.............................] | Loss: 0.777 | Acc: 71.875% (92/128)         1/225 \r"
     ]
    },
    {
     "name": "stderr",
     "output_type": "stream",
     "text": [
      "F:\\FER-2013 Project\\facialexpressionrecogination\\Lib\\site-packages\\sklearn\\metrics\\_classification.py:1531: UndefinedMetricWarning: Precision is ill-defined and being set to 0.0 in labels with no predicted samples. Use `zero_division` parameter to control this behavior.\n",
      "  _warn_prf(average, modifier, f\"{metric.capitalize()} is\", len(result))\n"
     ]
    },
    {
     "name": "stdout",
     "output_type": "stream",
     "text": [
      " [=============================>] | Loss: 0.877 | Acc: 67.233% (19302/28709)    225/225 | Loss: 0.888 | Acc: 67.366% (3018/4480)      35/225 =====>........................] | Loss: 0.887 | Acc: 67.274% (3875/5760)      45/225 =======>......................] | Loss: 0.879 | Acc: 67.829% (4862/7168)      56/225 ============>.................] | Loss: 0.875 | Acc: 67.844% (8163/12032)     94/225 =============>................] | Loss: 0.878 | Acc: 67.758% (9020/13312)     104/225 ==============>...............] | Loss: 0.880 | Acc: 67.613% (9693/14336)     112/225 150/225 ===========================>..] | Loss: 0.876 | Acc: 67.389% (17683/26240)    205/225 ===========================>..] | Loss: 0.876 | Acc: 67.362% (17762/26368)    206/225 ===========================>..] | Loss: 0.877 | Acc: 67.307% (18006/26752)    209/22 216/225 \n",
      " [============================>.] | Loss: 0.955 | Acc: 65.227% (2341/3589)      29/29 \n",
      "Saving..\n",
      "best_Testing_acc: 65.227\n"
     ]
    },
    {
     "name": "stderr",
     "output_type": "stream",
     "text": [
      "F:\\FER-2013 Project\\facialexpressionrecogination\\Lib\\site-packages\\sklearn\\metrics\\_classification.py:1531: UndefinedMetricWarning: Precision is ill-defined and being set to 0.0 in labels with no predicted samples. Use `zero_division` parameter to control this behavior.\n",
      "  _warn_prf(average, modifier, f\"{metric.capitalize()} is\", len(result))\n",
      "F:\\FER-2013 Project\\facialexpressionrecogination\\Lib\\site-packages\\sklearn\\metrics\\_classification.py:1531: UndefinedMetricWarning: Recall is ill-defined and being set to 0.0 in labels with no true samples. Use `zero_division` parameter to control this behavior.\n",
      "  _warn_prf(average, modifier, f\"{metric.capitalize()} is\", len(result))\n"
     ]
    },
    {
     "name": "stdout",
     "output_type": "stream",
     "text": [
      " [============================>.] | Loss: 0.955 | Acc: 65.227% (2341/3589)      29/29 \n",
      "Saving..\n",
      "best_Validation_acc: 65.227\n",
      "Metrics saved to FER2013_SqueezeNet\\metrics.csv\n",
      "\n",
      "Epoch: 86\n",
      "learning_rate: 0.009000000000000001\n",
      " [>.............................] | Loss: 0.884 | Acc: 67.969% (87/128)         1/225 \r"
     ]
    },
    {
     "name": "stderr",
     "output_type": "stream",
     "text": [
      "F:\\FER-2013 Project\\facialexpressionrecogination\\Lib\\site-packages\\sklearn\\metrics\\_classification.py:1531: UndefinedMetricWarning: Precision is ill-defined and being set to 0.0 in labels with no predicted samples. Use `zero_division` parameter to control this behavior.\n",
      "  _warn_prf(average, modifier, f\"{metric.capitalize()} is\", len(result))\n",
      "F:\\FER-2013 Project\\facialexpressionrecogination\\Lib\\site-packages\\sklearn\\metrics\\_classification.py:1531: UndefinedMetricWarning: Recall is ill-defined and being set to 0.0 in labels with no true samples. Use `zero_division` parameter to control this behavior.\n",
      "  _warn_prf(average, modifier, f\"{metric.capitalize()} is\", len(result))\n"
     ]
    },
    {
     "name": "stdout",
     "output_type": "stream",
     "text": [
      " [=============================>] | Loss: 0.882 | Acc: 67.097% (19263/28709)    225/225 ............................] | Loss: 0.817 | Acc: 70.312% (450/640)        5/225 ==============>...............] | Loss: 0.892 | Acc: 66.736% (9311/13952)     109/225 134/225 ====================>.........] | Loss: 0.892 | Acc: 66.748% (12901/19328)    151/225 =====================>........] | Loss: 0.888 | Acc: 66.916% (13790/20608)    161/225 \n",
      " [============================>.] | Loss: 0.998 | Acc: 63.277% (2271/3589)      29/29 \n"
     ]
    },
    {
     "name": "stderr",
     "output_type": "stream",
     "text": [
      "F:\\FER-2013 Project\\facialexpressionrecogination\\Lib\\site-packages\\sklearn\\metrics\\_classification.py:1531: UndefinedMetricWarning: Precision is ill-defined and being set to 0.0 in labels with no predicted samples. Use `zero_division` parameter to control this behavior.\n",
      "  _warn_prf(average, modifier, f\"{metric.capitalize()} is\", len(result))\n",
      "F:\\FER-2013 Project\\facialexpressionrecogination\\Lib\\site-packages\\sklearn\\metrics\\_classification.py:1531: UndefinedMetricWarning: Recall is ill-defined and being set to 0.0 in labels with no true samples. Use `zero_division` parameter to control this behavior.\n",
      "  _warn_prf(average, modifier, f\"{metric.capitalize()} is\", len(result))\n"
     ]
    },
    {
     "name": "stdout",
     "output_type": "stream",
     "text": [
      " [============================>.] | Loss: 0.998 | Acc: 63.277% (2271/3589)      29/29 \n",
      "Metrics saved to FER2013_SqueezeNet\\metrics.csv\n",
      "\n",
      "Epoch: 87\n",
      "learning_rate: 0.009000000000000001\n",
      " [>.............................] | Loss: 0.992 | Acc: 57.031% (73/128)         1/225 \r"
     ]
    },
    {
     "name": "stderr",
     "output_type": "stream",
     "text": [
      "F:\\FER-2013 Project\\facialexpressionrecogination\\Lib\\site-packages\\sklearn\\metrics\\_classification.py:1531: UndefinedMetricWarning: Precision is ill-defined and being set to 0.0 in labels with no predicted samples. Use `zero_division` parameter to control this behavior.\n",
      "  _warn_prf(average, modifier, f\"{metric.capitalize()} is\", len(result))\n",
      "F:\\FER-2013 Project\\facialexpressionrecogination\\Lib\\site-packages\\sklearn\\metrics\\_classification.py:1531: UndefinedMetricWarning: Recall is ill-defined and being set to 0.0 in labels with no true samples. Use `zero_division` parameter to control this behavior.\n",
      "  _warn_prf(average, modifier, f\"{metric.capitalize()} is\", len(result))\n"
     ]
    },
    {
     "name": "stdout",
     "output_type": "stream",
     "text": [
      " [=============================>] | Loss: 0.877 | Acc: 67.261% (19310/28709)    225/225 ............................] | Loss: 0.820 | Acc: 68.652% (703/1024)       8/225 =>............................] | Loss: 0.809 | Acc: 68.750% (880/1280)       10/225 =>............................] | Loss: 0.796 | Acc: 69.602% (980/1408)       11/225 ==>...........................] | Loss: 0.844 | Acc: 67.765% (1995/2944)      23/225 =====>........................] | Loss: 0.873 | Acc: 67.111% (3522/5248)      41/225 =====>........................] | Loss: 0.874 | Acc: 67.150% (3610/5376)      42/225 =======>......................] | Loss: 0.865 | Acc: 67.565% (5016/7424)      58/225 =======>......................] | Loss: 0.864 | Acc: 67.611% (5106/7552)      59/225 =======>......................] | Loss: 0.864 | Acc: 67.656% (5196/7680)      60/225 ========>.....................] | Loss: 0.861 | Acc: 67.615% (5539/8192)      64/225 =========>....................] | Loss: 0.858 | Acc: 67.645% (6061/8960)      70/225 =========>....................] | Loss: 0.862 | Acc: 67.434% (6301/9344)      73/225 ==========>...................] | Loss: 0.860 | Acc: 67.598% (6749/9984)      78/225 ============>.................] | Loss: 0.873 | Acc: 67.028% (7979/11904)     93/225 ================>.............] | Loss: 0.879 | Acc: 67.001% (10806/16128)    126/22 164/225 ===========================>..] | Loss: 0.877 | Acc: 67.225% (17898/26624)    208/225 =============================>] | Loss: 0.876 | Acc: 67.261% (19113/28416)    222/225 \n",
      " [============================>.] | Loss: 0.966 | Acc: 64.670% (2321/3589)      29/29 \n"
     ]
    },
    {
     "name": "stderr",
     "output_type": "stream",
     "text": [
      "F:\\FER-2013 Project\\facialexpressionrecogination\\Lib\\site-packages\\sklearn\\metrics\\_classification.py:1531: UndefinedMetricWarning: Precision is ill-defined and being set to 0.0 in labels with no predicted samples. Use `zero_division` parameter to control this behavior.\n",
      "  _warn_prf(average, modifier, f\"{metric.capitalize()} is\", len(result))\n",
      "F:\\FER-2013 Project\\facialexpressionrecogination\\Lib\\site-packages\\sklearn\\metrics\\_classification.py:1531: UndefinedMetricWarning: Recall is ill-defined and being set to 0.0 in labels with no true samples. Use `zero_division` parameter to control this behavior.\n",
      "  _warn_prf(average, modifier, f\"{metric.capitalize()} is\", len(result))\n"
     ]
    },
    {
     "name": "stdout",
     "output_type": "stream",
     "text": [
      " [============================>.] | Loss: 0.966 | Acc: 64.670% (2321/3589)      29/29 \n",
      "Metrics saved to FER2013_SqueezeNet\\metrics.csv\n",
      "\n",
      "Epoch: 88\n",
      "learning_rate: 0.009000000000000001\n"
     ]
    },
    {
     "name": "stderr",
     "output_type": "stream",
     "text": [
      "F:\\FER-2013 Project\\facialexpressionrecogination\\Lib\\site-packages\\sklearn\\metrics\\_classification.py:1531: UndefinedMetricWarning: Precision is ill-defined and being set to 0.0 in labels with no predicted samples. Use `zero_division` parameter to control this behavior.\n",
      "  _warn_prf(average, modifier, f\"{metric.capitalize()} is\", len(result))\n",
      "F:\\FER-2013 Project\\facialexpressionrecogination\\Lib\\site-packages\\sklearn\\metrics\\_classification.py:1531: UndefinedMetricWarning: Recall is ill-defined and being set to 0.0 in labels with no true samples. Use `zero_division` parameter to control this behavior.\n",
      "  _warn_prf(average, modifier, f\"{metric.capitalize()} is\", len(result))\n"
     ]
    },
    {
     "name": "stdout",
     "output_type": "stream",
     "text": [
      " [=============================>] | Loss: 0.867 | Acc: 67.853% (19480/28709)    225/225 ===>.........................] | Loss: 0.844 | Acc: 68.473% (2717/3968)      31/225 ====>.........................] | Loss: 0.840 | Acc: 68.681% (2989/4352)      34/225 ====>.........................] | Loss: 0.830 | Acc: 69.223% (3367/4864)      38/225 ======>.......................] | Loss: 0.842 | Acc: 68.811% (4492/6528)      51/225 ===========>..................] | Loss: 0.859 | Acc: 68.084% (7669/11264)     88/225 ===========>..................] | Loss: 0.858 | Acc: 68.144% (7763/11392)     89/225 ============>.................] | Loss: 0.856 | Acc: 68.204% (8119/11904)     93/225 ===============>..............] | Loss: 0.863 | Acc: 67.949% (10176/14976)    117/225 ================>.............] | Loss: 0.864 | Acc: 67.981% (10790/15872)    124/225 ====================>.........] | Loss: 0.865 | Acc: 67.839% (13633/20096)    157/225 =====================>........] | Loss: 0.861 | Acc: 67.997% (14274/20992)    164/225 ===========================>..] | Loss: 0.867 | Acc: 67.920% (17996/26496)    207/225 \n",
      " [============================>.] | Loss: 0.971 | Acc: 63.639% (2284/3589)      29/29 \n"
     ]
    },
    {
     "name": "stderr",
     "output_type": "stream",
     "text": [
      "F:\\FER-2013 Project\\facialexpressionrecogination\\Lib\\site-packages\\sklearn\\metrics\\_classification.py:1531: UndefinedMetricWarning: Precision is ill-defined and being set to 0.0 in labels with no predicted samples. Use `zero_division` parameter to control this behavior.\n",
      "  _warn_prf(average, modifier, f\"{metric.capitalize()} is\", len(result))\n",
      "F:\\FER-2013 Project\\facialexpressionrecogination\\Lib\\site-packages\\sklearn\\metrics\\_classification.py:1531: UndefinedMetricWarning: Recall is ill-defined and being set to 0.0 in labels with no true samples. Use `zero_division` parameter to control this behavior.\n",
      "  _warn_prf(average, modifier, f\"{metric.capitalize()} is\", len(result))\n"
     ]
    },
    {
     "name": "stdout",
     "output_type": "stream",
     "text": [
      " [============================>.] | Loss: 0.971 | Acc: 63.639% (2284/3589)      29/29 \n",
      "Metrics saved to FER2013_SqueezeNet\\metrics.csv\n",
      "\n",
      "Epoch: 89\n",
      "learning_rate: 0.009000000000000001\n",
      " [>.............................] | Loss: 0.756 | Acc: 71.094% (91/128)         1/225 \r"
     ]
    },
    {
     "name": "stderr",
     "output_type": "stream",
     "text": [
      "F:\\FER-2013 Project\\facialexpressionrecogination\\Lib\\site-packages\\sklearn\\metrics\\_classification.py:1531: UndefinedMetricWarning: Precision is ill-defined and being set to 0.0 in labels with no predicted samples. Use `zero_division` parameter to control this behavior.\n",
      "  _warn_prf(average, modifier, f\"{metric.capitalize()} is\", len(result))\n",
      "F:\\FER-2013 Project\\facialexpressionrecogination\\Lib\\site-packages\\sklearn\\metrics\\_classification.py:1531: UndefinedMetricWarning: Recall is ill-defined and being set to 0.0 in labels with no true samples. Use `zero_division` parameter to control this behavior.\n",
      "  _warn_prf(average, modifier, f\"{metric.capitalize()} is\", len(result))\n"
     ]
    },
    {
     "name": "stdout",
     "output_type": "stream",
     "text": [
      " [=============================>] | Loss: 0.872 | Acc: 67.491% (19376/28709)    225/225 ==>..........................] | Loss: 0.882 | Acc: 67.917% (2608/3840)      30/225 =======>......................] | Loss: 0.862 | Acc: 68.432% (5168/7552)      59/225 =========>....................] | Loss: 0.860 | Acc: 68.371% (6126/8960)      70/225 =============>................] | Loss: 0.861 | Acc: 68.211% (8993/13184)     103/225 ===============>..............] | Loss: 0.857 | Acc: 68.451% (10514/15360)    120/225 ================>.............] | Loss: 0.858 | Acc: 68.427% (10598/15488)    121/225 141/225 ===================>..........] | Loss: 0.864 | Acc: 68.017% (12798/18816)    147/225 ===================>..........] | Loss: 0.864 | Acc: 68.016% (12885/18944)    148/225 ====================>.........] | Loss: 0.863 | Acc: 68.117% (13340/19584)    153/225 =====================>........] | Loss: 0.868 | Acc: 67.887% (14077/20736)    162/225 =====================>........] | Loss: 0.868 | Acc: 67.873% (14161/20864)    163/225 ========================>.....] | Loss: 0.871 | Acc: 67.633% (15929/23552)    184/225 ========================>.....] | Loss: 0.872 | Acc: 67.601% (16008/23680)    185/225 =========================>....] | Loss: 0.872 | Acc: 67.614% (16790/24832)    194/225 \n"
     ]
    },
    {
     "name": "stderr",
     "output_type": "stream",
     "text": [
      "F:\\FER-2013 Project\\facialexpressionrecogination\\Lib\\site-packages\\sklearn\\metrics\\_classification.py:1531: UndefinedMetricWarning: Precision is ill-defined and being set to 0.0 in labels with no predicted samples. Use `zero_division` parameter to control this behavior.\n",
      "  _warn_prf(average, modifier, f\"{metric.capitalize()} is\", len(result))\n"
     ]
    },
    {
     "name": "stdout",
     "output_type": "stream",
     "text": [
      " [============================>.] | Loss: 0.988 | Acc: 63.862% (2292/3589)      29/29 \n"
     ]
    },
    {
     "name": "stderr",
     "output_type": "stream",
     "text": [
      "F:\\FER-2013 Project\\facialexpressionrecogination\\Lib\\site-packages\\sklearn\\metrics\\_classification.py:1531: UndefinedMetricWarning: Precision is ill-defined and being set to 0.0 in labels with no predicted samples. Use `zero_division` parameter to control this behavior.\n",
      "  _warn_prf(average, modifier, f\"{metric.capitalize()} is\", len(result))\n",
      "F:\\FER-2013 Project\\facialexpressionrecogination\\Lib\\site-packages\\sklearn\\metrics\\_classification.py:1531: UndefinedMetricWarning: Recall is ill-defined and being set to 0.0 in labels with no true samples. Use `zero_division` parameter to control this behavior.\n",
      "  _warn_prf(average, modifier, f\"{metric.capitalize()} is\", len(result))\n"
     ]
    },
    {
     "name": "stdout",
     "output_type": "stream",
     "text": [
      " [============================>.] | Loss: 0.988 | Acc: 63.862% (2292/3589)      29/29 \n",
      "Metrics saved to FER2013_SqueezeNet\\metrics.csv\n",
      "\n",
      "Epoch: 90\n",
      "learning_rate: 0.008100000000000001\n"
     ]
    },
    {
     "name": "stderr",
     "output_type": "stream",
     "text": [
      "F:\\FER-2013 Project\\facialexpressionrecogination\\Lib\\site-packages\\sklearn\\metrics\\_classification.py:1531: UndefinedMetricWarning: Precision is ill-defined and being set to 0.0 in labels with no predicted samples. Use `zero_division` parameter to control this behavior.\n",
      "  _warn_prf(average, modifier, f\"{metric.capitalize()} is\", len(result))\n",
      "F:\\FER-2013 Project\\facialexpressionrecogination\\Lib\\site-packages\\sklearn\\metrics\\_classification.py:1531: UndefinedMetricWarning: Recall is ill-defined and being set to 0.0 in labels with no true samples. Use `zero_division` parameter to control this behavior.\n",
      "  _warn_prf(average, modifier, f\"{metric.capitalize()} is\", len(result))\n"
     ]
    },
    {
     "name": "stdout",
     "output_type": "stream",
     "text": [
      " [=============================>] | Loss: 0.868 | Acc: 67.477% (19372/28709)    225/225 ............................] | Loss: 0.807 | Acc: 69.688% (446/640)        5/225 ==>...........................] | Loss: 0.813 | Acc: 69.961% (1791/2560)      20/225 ==>...........................] | Loss: 0.804 | Acc: 70.007% (2061/2944)      23/225 ===>..........................] | Loss: 0.803 | Acc: 69.712% (2320/3328)      26/225  | Loss: 0.846 | Acc: 68.470% (8063/11776)     92/225 ============>.................] | Loss: 0.846 | Acc: 68.487% (8328/12160)     95/225 =====================>........] | Loss: 0.857 | Acc: 67.934% (13826/20352)    159/225 ======================>.......] | Loss: 0.860 | Acc: 67.792% (14925/22016)    172/225 =========================>....] | Loss: 0.866 | Acc: 67.468% (16581/24576)    192/225 ============================>.] | Loss: 0.867 | Acc: 67.476% (18483/27392)    214/225 \n"
     ]
    },
    {
     "name": "stderr",
     "output_type": "stream",
     "text": [
      "F:\\FER-2013 Project\\facialexpressionrecogination\\Lib\\site-packages\\sklearn\\metrics\\_classification.py:1531: UndefinedMetricWarning: Recall is ill-defined and being set to 0.0 in labels with no true samples. Use `zero_division` parameter to control this behavior.\n",
      "  _warn_prf(average, modifier, f\"{metric.capitalize()} is\", len(result))\n"
     ]
    },
    {
     "name": "stdout",
     "output_type": "stream",
     "text": [
      " [============================>.] | Loss: 0.936 | Acc: 64.976% (2332/3589)      29/29 \n"
     ]
    },
    {
     "name": "stderr",
     "output_type": "stream",
     "text": [
      "F:\\FER-2013 Project\\facialexpressionrecogination\\Lib\\site-packages\\sklearn\\metrics\\_classification.py:1531: UndefinedMetricWarning: Precision is ill-defined and being set to 0.0 in labels with no predicted samples. Use `zero_division` parameter to control this behavior.\n",
      "  _warn_prf(average, modifier, f\"{metric.capitalize()} is\", len(result))\n",
      "F:\\FER-2013 Project\\facialexpressionrecogination\\Lib\\site-packages\\sklearn\\metrics\\_classification.py:1531: UndefinedMetricWarning: Recall is ill-defined and being set to 0.0 in labels with no true samples. Use `zero_division` parameter to control this behavior.\n",
      "  _warn_prf(average, modifier, f\"{metric.capitalize()} is\", len(result))\n"
     ]
    },
    {
     "name": "stdout",
     "output_type": "stream",
     "text": [
      " [============================>.] | Loss: 0.936 | Acc: 64.976% (2332/3589)      29/29 \n",
      "Metrics saved to FER2013_SqueezeNet\\metrics.csv\n",
      "\n",
      "Epoch: 91\n",
      "learning_rate: 0.008100000000000001\n"
     ]
    },
    {
     "name": "stderr",
     "output_type": "stream",
     "text": [
      "F:\\FER-2013 Project\\facialexpressionrecogination\\Lib\\site-packages\\sklearn\\metrics\\_classification.py:1531: UndefinedMetricWarning: Precision is ill-defined and being set to 0.0 in labels with no predicted samples. Use `zero_division` parameter to control this behavior.\n",
      "  _warn_prf(average, modifier, f\"{metric.capitalize()} is\", len(result))\n",
      "F:\\FER-2013 Project\\facialexpressionrecogination\\Lib\\site-packages\\sklearn\\metrics\\_classification.py:1531: UndefinedMetricWarning: Recall is ill-defined and being set to 0.0 in labels with no true samples. Use `zero_division` parameter to control this behavior.\n",
      "  _warn_prf(average, modifier, f\"{metric.capitalize()} is\", len(result))\n"
     ]
    },
    {
     "name": "stdout",
     "output_type": "stream",
     "text": [
      " [=============================>] | Loss: 0.869 | Acc: 67.397% (19349/28709)    225/225 >............................] | Loss: 0.817 | Acc: 69.111% (1150/1664)      13/225 ==>...........................] | Loss: 0.817 | Acc: 69.314% (1597/2304)      18/225 ===>..........................] | Loss: 0.835 | Acc: 68.490% (2630/3840)      30/225 ======>.......................] | Loss: 0.838 | Acc: 68.953% (4413/6400)      50/225 =======>......................] | Loss: 0.846 | Acc: 68.576% (4740/6912)      54/225 =======>......................] | Loss: 0.846 | Acc: 68.471% (4908/7168)      56/225 ========>.....................] | Loss: 0.847 | Acc: 68.259% (5417/7936)      62/225 85/225 ==============>...............] | Loss: 0.848 | Acc: 68.141% (9507/13952)     109/225 ===============>..............] | Loss: 0.852 | Acc: 68.003% (10010/14720)    115/225 =========================>....] | Loss: 0.861 | Acc: 67.613% (16530/24448)    191/225 =========================>....] | Loss: 0.861 | Acc: 67.631% (16621/24576)    192/225 ==========================>...] | Loss: 0.864 | Acc: 67.542% (17550/25984)    203/225 ============================>.] | Loss: 0.866 | Acc: 67.438% (18300/27136)    212/225 ============================>.] | Loss: 0.867 | Acc: 67.389% (18718/27776)    217/225 =============================>] | Loss: 0.868 | Acc: 67.418% (19330/28672)    224/225 \n",
      " [============================>.] | Loss: 0.933 | Acc: 66.202% (2376/3589)      29/29 \n",
      "Saving..\n",
      "best_Testing_acc: 66.202\n"
     ]
    },
    {
     "name": "stderr",
     "output_type": "stream",
     "text": [
      "F:\\FER-2013 Project\\facialexpressionrecogination\\Lib\\site-packages\\sklearn\\metrics\\_classification.py:1531: UndefinedMetricWarning: Precision is ill-defined and being set to 0.0 in labels with no predicted samples. Use `zero_division` parameter to control this behavior.\n",
      "  _warn_prf(average, modifier, f\"{metric.capitalize()} is\", len(result))\n",
      "F:\\FER-2013 Project\\facialexpressionrecogination\\Lib\\site-packages\\sklearn\\metrics\\_classification.py:1531: UndefinedMetricWarning: Recall is ill-defined and being set to 0.0 in labels with no true samples. Use `zero_division` parameter to control this behavior.\n",
      "  _warn_prf(average, modifier, f\"{metric.capitalize()} is\", len(result))\n"
     ]
    },
    {
     "name": "stdout",
     "output_type": "stream",
     "text": [
      " [============================>.] | Loss: 0.933 | Acc: 66.202% (2376/3589)      29/29 \n",
      "Saving..\n",
      "best_Validation_acc: 66.202\n",
      "Metrics saved to FER2013_SqueezeNet\\metrics.csv\n",
      "\n",
      "Epoch: 92\n",
      "learning_rate: 0.008100000000000001\n"
     ]
    },
    {
     "name": "stderr",
     "output_type": "stream",
     "text": [
      "F:\\FER-2013 Project\\facialexpressionrecogination\\Lib\\site-packages\\sklearn\\metrics\\_classification.py:1531: UndefinedMetricWarning: Precision is ill-defined and being set to 0.0 in labels with no predicted samples. Use `zero_division` parameter to control this behavior.\n",
      "  _warn_prf(average, modifier, f\"{metric.capitalize()} is\", len(result))\n",
      "F:\\FER-2013 Project\\facialexpressionrecogination\\Lib\\site-packages\\sklearn\\metrics\\_classification.py:1531: UndefinedMetricWarning: Recall is ill-defined and being set to 0.0 in labels with no true samples. Use `zero_division` parameter to control this behavior.\n",
      "  _warn_prf(average, modifier, f\"{metric.capitalize()} is\", len(result))\n"
     ]
    },
    {
     "name": "stdout",
     "output_type": "stream",
     "text": [
      " [=============================>] | Loss: 0.851 | Acc: 68.182% (19549/28672)    224/225 =============================>] | Loss: 0.851 | Acc: 68.174% (19572/28709)    225/225 \n",
      " [============================>.] | Loss: 0.972 | Acc: 63.862% (2292/3589)      29/29 \n"
     ]
    },
    {
     "name": "stderr",
     "output_type": "stream",
     "text": [
      "F:\\FER-2013 Project\\facialexpressionrecogination\\Lib\\site-packages\\sklearn\\metrics\\_classification.py:1531: UndefinedMetricWarning: Precision is ill-defined and being set to 0.0 in labels with no predicted samples. Use `zero_division` parameter to control this behavior.\n",
      "  _warn_prf(average, modifier, f\"{metric.capitalize()} is\", len(result))\n",
      "F:\\FER-2013 Project\\facialexpressionrecogination\\Lib\\site-packages\\sklearn\\metrics\\_classification.py:1531: UndefinedMetricWarning: Recall is ill-defined and being set to 0.0 in labels with no true samples. Use `zero_division` parameter to control this behavior.\n",
      "  _warn_prf(average, modifier, f\"{metric.capitalize()} is\", len(result))\n"
     ]
    },
    {
     "name": "stdout",
     "output_type": "stream",
     "text": [
      " [============================>.] | Loss: 0.972 | Acc: 63.862% (2292/3589)      29/29 \n",
      "Metrics saved to FER2013_SqueezeNet\\metrics.csv\n",
      "\n",
      "Epoch: 93\n",
      "learning_rate: 0.008100000000000001\n"
     ]
    },
    {
     "name": "stderr",
     "output_type": "stream",
     "text": [
      "F:\\FER-2013 Project\\facialexpressionrecogination\\Lib\\site-packages\\sklearn\\metrics\\_classification.py:1531: UndefinedMetricWarning: Precision is ill-defined and being set to 0.0 in labels with no predicted samples. Use `zero_division` parameter to control this behavior.\n",
      "  _warn_prf(average, modifier, f\"{metric.capitalize()} is\", len(result))\n",
      "F:\\FER-2013 Project\\facialexpressionrecogination\\Lib\\site-packages\\sklearn\\metrics\\_classification.py:1531: UndefinedMetricWarning: Recall is ill-defined and being set to 0.0 in labels with no true samples. Use `zero_division` parameter to control this behavior.\n",
      "  _warn_prf(average, modifier, f\"{metric.capitalize()} is\", len(result))\n"
     ]
    },
    {
     "name": "stdout",
     "output_type": "stream",
     "text": [
      " [=============================>] | Loss: 0.853 | Acc: 68.111% (19554/28709)    225/225 \n",
      " [============================>.] | Loss: 0.972 | Acc: 64.085% (2300/3589)      29/29 \n"
     ]
    },
    {
     "name": "stderr",
     "output_type": "stream",
     "text": [
      "F:\\FER-2013 Project\\facialexpressionrecogination\\Lib\\site-packages\\sklearn\\metrics\\_classification.py:1531: UndefinedMetricWarning: Precision is ill-defined and being set to 0.0 in labels with no predicted samples. Use `zero_division` parameter to control this behavior.\n",
      "  _warn_prf(average, modifier, f\"{metric.capitalize()} is\", len(result))\n",
      "F:\\FER-2013 Project\\facialexpressionrecogination\\Lib\\site-packages\\sklearn\\metrics\\_classification.py:1531: UndefinedMetricWarning: Recall is ill-defined and being set to 0.0 in labels with no true samples. Use `zero_division` parameter to control this behavior.\n",
      "  _warn_prf(average, modifier, f\"{metric.capitalize()} is\", len(result))\n"
     ]
    },
    {
     "name": "stdout",
     "output_type": "stream",
     "text": [
      " [============================>.] | Loss: 0.972 | Acc: 64.085% (2300/3589)      29/29 \n"
     ]
    },
    {
     "name": "stderr",
     "output_type": "stream",
     "text": [
      "F:\\FER-2013 Project\\facialexpressionrecogination\\Lib\\site-packages\\sklearn\\metrics\\_classification.py:1531: UndefinedMetricWarning: Precision is ill-defined and being set to 0.0 in labels with no predicted samples. Use `zero_division` parameter to control this behavior.\n",
      "  _warn_prf(average, modifier, f\"{metric.capitalize()} is\", len(result))\n",
      "F:\\FER-2013 Project\\facialexpressionrecogination\\Lib\\site-packages\\sklearn\\metrics\\_classification.py:1531: UndefinedMetricWarning: Recall is ill-defined and being set to 0.0 in labels with no true samples. Use `zero_division` parameter to control this behavior.\n",
      "  _warn_prf(average, modifier, f\"{metric.capitalize()} is\", len(result))\n"
     ]
    },
    {
     "name": "stdout",
     "output_type": "stream",
     "text": [
      "Metrics saved to FER2013_SqueezeNet\\metrics.csv\n",
      "\n",
      "Epoch: 94\n",
      "learning_rate: 0.008100000000000001\n",
      " [=============================>] | Loss: 0.852 | Acc: 68.156% (19567/28709)    225/225 \n",
      " [============================>.] | Loss: 0.946 | Acc: 64.726% (2323/3589)      29/29 \n"
     ]
    },
    {
     "name": "stderr",
     "output_type": "stream",
     "text": [
      "F:\\FER-2013 Project\\facialexpressionrecogination\\Lib\\site-packages\\sklearn\\metrics\\_classification.py:1531: UndefinedMetricWarning: Precision is ill-defined and being set to 0.0 in labels with no predicted samples. Use `zero_division` parameter to control this behavior.\n",
      "  _warn_prf(average, modifier, f\"{metric.capitalize()} is\", len(result))\n",
      "F:\\FER-2013 Project\\facialexpressionrecogination\\Lib\\site-packages\\sklearn\\metrics\\_classification.py:1531: UndefinedMetricWarning: Recall is ill-defined and being set to 0.0 in labels with no true samples. Use `zero_division` parameter to control this behavior.\n",
      "  _warn_prf(average, modifier, f\"{metric.capitalize()} is\", len(result))\n"
     ]
    },
    {
     "name": "stdout",
     "output_type": "stream",
     "text": [
      " [============================>.] | Loss: 0.946 | Acc: 64.726% (2323/3589)      29/29 \n",
      "Metrics saved to FER2013_SqueezeNet\\metrics.csv\n",
      "\n",
      "Epoch: 95\n",
      "learning_rate: 0.007290000000000001\n"
     ]
    },
    {
     "name": "stderr",
     "output_type": "stream",
     "text": [
      "F:\\FER-2013 Project\\facialexpressionrecogination\\Lib\\site-packages\\sklearn\\metrics\\_classification.py:1531: UndefinedMetricWarning: Precision is ill-defined and being set to 0.0 in labels with no predicted samples. Use `zero_division` parameter to control this behavior.\n",
      "  _warn_prf(average, modifier, f\"{metric.capitalize()} is\", len(result))\n",
      "F:\\FER-2013 Project\\facialexpressionrecogination\\Lib\\site-packages\\sklearn\\metrics\\_classification.py:1531: UndefinedMetricWarning: Recall is ill-defined and being set to 0.0 in labels with no true samples. Use `zero_division` parameter to control this behavior.\n",
      "  _warn_prf(average, modifier, f\"{metric.capitalize()} is\", len(result))\n"
     ]
    },
    {
     "name": "stdout",
     "output_type": "stream",
     "text": [
      " [=============================>] | Loss: 0.841 | Acc: 68.578% (19688/28709)    225/225 \n",
      " [============================>.] | Loss: 0.966 | Acc: 63.918% (2294/3589)      29/29 \n"
     ]
    },
    {
     "name": "stderr",
     "output_type": "stream",
     "text": [
      "F:\\FER-2013 Project\\facialexpressionrecogination\\Lib\\site-packages\\sklearn\\metrics\\_classification.py:1531: UndefinedMetricWarning: Precision is ill-defined and being set to 0.0 in labels with no predicted samples. Use `zero_division` parameter to control this behavior.\n",
      "  _warn_prf(average, modifier, f\"{metric.capitalize()} is\", len(result))\n",
      "F:\\FER-2013 Project\\facialexpressionrecogination\\Lib\\site-packages\\sklearn\\metrics\\_classification.py:1531: UndefinedMetricWarning: Recall is ill-defined and being set to 0.0 in labels with no true samples. Use `zero_division` parameter to control this behavior.\n",
      "  _warn_prf(average, modifier, f\"{metric.capitalize()} is\", len(result))\n"
     ]
    },
    {
     "name": "stdout",
     "output_type": "stream",
     "text": [
      " [============================>.] | Loss: 0.966 | Acc: 63.918% (2294/3589)      29/29 \n",
      "Metrics saved to FER2013_SqueezeNet\\metrics.csv\n",
      "\n",
      "Epoch: 96\n",
      "learning_rate: 0.007290000000000001\n"
     ]
    },
    {
     "name": "stderr",
     "output_type": "stream",
     "text": [
      "F:\\FER-2013 Project\\facialexpressionrecogination\\Lib\\site-packages\\sklearn\\metrics\\_classification.py:1531: UndefinedMetricWarning: Precision is ill-defined and being set to 0.0 in labels with no predicted samples. Use `zero_division` parameter to control this behavior.\n",
      "  _warn_prf(average, modifier, f\"{metric.capitalize()} is\", len(result))\n",
      "F:\\FER-2013 Project\\facialexpressionrecogination\\Lib\\site-packages\\sklearn\\metrics\\_classification.py:1531: UndefinedMetricWarning: Recall is ill-defined and being set to 0.0 in labels with no true samples. Use `zero_division` parameter to control this behavior.\n",
      "  _warn_prf(average, modifier, f\"{metric.capitalize()} is\", len(result))\n"
     ]
    },
    {
     "name": "stdout",
     "output_type": "stream",
     "text": [
      " [=============================>] | Loss: 0.831 | Acc: 68.874% (19773/28709)    225/225 \n",
      " [============================>.] | Loss: 0.951 | Acc: 64.335% (2309/3589)      29/29 \n"
     ]
    },
    {
     "name": "stderr",
     "output_type": "stream",
     "text": [
      "F:\\FER-2013 Project\\facialexpressionrecogination\\Lib\\site-packages\\sklearn\\metrics\\_classification.py:1531: UndefinedMetricWarning: Precision is ill-defined and being set to 0.0 in labels with no predicted samples. Use `zero_division` parameter to control this behavior.\n",
      "  _warn_prf(average, modifier, f\"{metric.capitalize()} is\", len(result))\n",
      "F:\\FER-2013 Project\\facialexpressionrecogination\\Lib\\site-packages\\sklearn\\metrics\\_classification.py:1531: UndefinedMetricWarning: Recall is ill-defined and being set to 0.0 in labels with no true samples. Use `zero_division` parameter to control this behavior.\n",
      "  _warn_prf(average, modifier, f\"{metric.capitalize()} is\", len(result))\n"
     ]
    },
    {
     "name": "stdout",
     "output_type": "stream",
     "text": [
      " [============================>.] | Loss: 0.951 | Acc: 64.335% (2309/3589)      29/29 \n",
      "Metrics saved to FER2013_SqueezeNet\\metrics.csv\n",
      "\n",
      "Epoch: 97\n",
      "learning_rate: 0.007290000000000001\n"
     ]
    },
    {
     "name": "stderr",
     "output_type": "stream",
     "text": [
      "F:\\FER-2013 Project\\facialexpressionrecogination\\Lib\\site-packages\\sklearn\\metrics\\_classification.py:1531: UndefinedMetricWarning: Precision is ill-defined and being set to 0.0 in labels with no predicted samples. Use `zero_division` parameter to control this behavior.\n",
      "  _warn_prf(average, modifier, f\"{metric.capitalize()} is\", len(result))\n",
      "F:\\FER-2013 Project\\facialexpressionrecogination\\Lib\\site-packages\\sklearn\\metrics\\_classification.py:1531: UndefinedMetricWarning: Recall is ill-defined and being set to 0.0 in labels with no true samples. Use `zero_division` parameter to control this behavior.\n",
      "  _warn_prf(average, modifier, f\"{metric.capitalize()} is\", len(result))\n"
     ]
    },
    {
     "name": "stdout",
     "output_type": "stream",
     "text": [
      " [=============================>] | Loss: 0.839 | Acc: 68.536% (19676/28709)    225/225 \n"
     ]
    },
    {
     "name": "stderr",
     "output_type": "stream",
     "text": [
      "F:\\FER-2013 Project\\facialexpressionrecogination\\Lib\\site-packages\\sklearn\\metrics\\_classification.py:1531: UndefinedMetricWarning: Precision is ill-defined and being set to 0.0 in labels with no predicted samples. Use `zero_division` parameter to control this behavior.\n",
      "  _warn_prf(average, modifier, f\"{metric.capitalize()} is\", len(result))\n"
     ]
    },
    {
     "name": "stdout",
     "output_type": "stream",
     "text": [
      " [============================>.] | Loss: 0.954 | Acc: 64.308% (2308/3589)      29/29 \n"
     ]
    },
    {
     "name": "stderr",
     "output_type": "stream",
     "text": [
      "F:\\FER-2013 Project\\facialexpressionrecogination\\Lib\\site-packages\\sklearn\\metrics\\_classification.py:1531: UndefinedMetricWarning: Precision is ill-defined and being set to 0.0 in labels with no predicted samples. Use `zero_division` parameter to control this behavior.\n",
      "  _warn_prf(average, modifier, f\"{metric.capitalize()} is\", len(result))\n",
      "F:\\FER-2013 Project\\facialexpressionrecogination\\Lib\\site-packages\\sklearn\\metrics\\_classification.py:1531: UndefinedMetricWarning: Recall is ill-defined and being set to 0.0 in labels with no true samples. Use `zero_division` parameter to control this behavior.\n",
      "  _warn_prf(average, modifier, f\"{metric.capitalize()} is\", len(result))\n"
     ]
    },
    {
     "name": "stdout",
     "output_type": "stream",
     "text": [
      " [============================>.] | Loss: 0.954 | Acc: 64.308% (2308/3589)      29/29 \n",
      "Metrics saved to FER2013_SqueezeNet\\metrics.csv\n",
      "\n",
      "Epoch: 98\n",
      "learning_rate: 0.007290000000000001\n"
     ]
    },
    {
     "name": "stderr",
     "output_type": "stream",
     "text": [
      "F:\\FER-2013 Project\\facialexpressionrecogination\\Lib\\site-packages\\sklearn\\metrics\\_classification.py:1531: UndefinedMetricWarning: Precision is ill-defined and being set to 0.0 in labels with no predicted samples. Use `zero_division` parameter to control this behavior.\n",
      "  _warn_prf(average, modifier, f\"{metric.capitalize()} is\", len(result))\n",
      "F:\\FER-2013 Project\\facialexpressionrecogination\\Lib\\site-packages\\sklearn\\metrics\\_classification.py:1531: UndefinedMetricWarning: Recall is ill-defined and being set to 0.0 in labels with no true samples. Use `zero_division` parameter to control this behavior.\n",
      "  _warn_prf(average, modifier, f\"{metric.capitalize()} is\", len(result))\n"
     ]
    },
    {
     "name": "stdout",
     "output_type": "stream",
     "text": [
      " [=============================>] | Loss: 0.832 | Acc: 68.919% (19786/28709)    225/225 \n"
     ]
    },
    {
     "name": "stderr",
     "output_type": "stream",
     "text": [
      "F:\\FER-2013 Project\\facialexpressionrecogination\\Lib\\site-packages\\sklearn\\metrics\\_classification.py:1531: UndefinedMetricWarning: Recall is ill-defined and being set to 0.0 in labels with no true samples. Use `zero_division` parameter to control this behavior.\n",
      "  _warn_prf(average, modifier, f\"{metric.capitalize()} is\", len(result))\n"
     ]
    },
    {
     "name": "stdout",
     "output_type": "stream",
     "text": [
      " [============================>.] | Loss: 0.945 | Acc: 65.116% (2337/3589)      29/29 \n"
     ]
    },
    {
     "name": "stderr",
     "output_type": "stream",
     "text": [
      "F:\\FER-2013 Project\\facialexpressionrecogination\\Lib\\site-packages\\sklearn\\metrics\\_classification.py:1531: UndefinedMetricWarning: Precision is ill-defined and being set to 0.0 in labels with no predicted samples. Use `zero_division` parameter to control this behavior.\n",
      "  _warn_prf(average, modifier, f\"{metric.capitalize()} is\", len(result))\n",
      "F:\\FER-2013 Project\\facialexpressionrecogination\\Lib\\site-packages\\sklearn\\metrics\\_classification.py:1531: UndefinedMetricWarning: Recall is ill-defined and being set to 0.0 in labels with no true samples. Use `zero_division` parameter to control this behavior.\n",
      "  _warn_prf(average, modifier, f\"{metric.capitalize()} is\", len(result))\n"
     ]
    },
    {
     "name": "stdout",
     "output_type": "stream",
     "text": [
      " [============================>.] | Loss: 0.945 | Acc: 65.116% (2337/3589)      29/29 \n",
      "Metrics saved to FER2013_SqueezeNet\\metrics.csv\n",
      "\n",
      "Epoch: 99\n",
      "learning_rate: 0.007290000000000001\n"
     ]
    },
    {
     "name": "stderr",
     "output_type": "stream",
     "text": [
      "F:\\FER-2013 Project\\facialexpressionrecogination\\Lib\\site-packages\\sklearn\\metrics\\_classification.py:1531: UndefinedMetricWarning: Precision is ill-defined and being set to 0.0 in labels with no predicted samples. Use `zero_division` parameter to control this behavior.\n",
      "  _warn_prf(average, modifier, f\"{metric.capitalize()} is\", len(result))\n",
      "F:\\FER-2013 Project\\facialexpressionrecogination\\Lib\\site-packages\\sklearn\\metrics\\_classification.py:1531: UndefinedMetricWarning: Recall is ill-defined and being set to 0.0 in labels with no true samples. Use `zero_division` parameter to control this behavior.\n",
      "  _warn_prf(average, modifier, f\"{metric.capitalize()} is\", len(result))\n"
     ]
    },
    {
     "name": "stdout",
     "output_type": "stream",
     "text": [
      " [=============================>] | Loss: 0.826 | Acc: 69.159% (19855/28709)    225/225 \n",
      " [============================>.] | Loss: 0.935 | Acc: 64.865% (2328/3589)      29/29 \n"
     ]
    },
    {
     "name": "stderr",
     "output_type": "stream",
     "text": [
      "F:\\FER-2013 Project\\facialexpressionrecogination\\Lib\\site-packages\\sklearn\\metrics\\_classification.py:1531: UndefinedMetricWarning: Precision is ill-defined and being set to 0.0 in labels with no predicted samples. Use `zero_division` parameter to control this behavior.\n",
      "  _warn_prf(average, modifier, f\"{metric.capitalize()} is\", len(result))\n",
      "F:\\FER-2013 Project\\facialexpressionrecogination\\Lib\\site-packages\\sklearn\\metrics\\_classification.py:1531: UndefinedMetricWarning: Recall is ill-defined and being set to 0.0 in labels with no true samples. Use `zero_division` parameter to control this behavior.\n",
      "  _warn_prf(average, modifier, f\"{metric.capitalize()} is\", len(result))\n"
     ]
    },
    {
     "name": "stdout",
     "output_type": "stream",
     "text": [
      " [============================>.] | Loss: 0.935 | Acc: 64.865% (2328/3589)      29/29 \n",
      "Metrics saved to FER2013_SqueezeNet\\metrics.csv\n"
     ]
    },
    {
     "name": "stderr",
     "output_type": "stream",
     "text": [
      "F:\\FER-2013 Project\\facialexpressionrecogination\\Lib\\site-packages\\sklearn\\metrics\\_classification.py:1531: UndefinedMetricWarning: Precision is ill-defined and being set to 0.0 in labels with no predicted samples. Use `zero_division` parameter to control this behavior.\n",
      "  _warn_prf(average, modifier, f\"{metric.capitalize()} is\", len(result))\n",
      "F:\\FER-2013 Project\\facialexpressionrecogination\\Lib\\site-packages\\sklearn\\metrics\\_classification.py:1531: UndefinedMetricWarning: Recall is ill-defined and being set to 0.0 in labels with no true samples. Use `zero_division` parameter to control this behavior.\n",
      "  _warn_prf(average, modifier, f\"{metric.capitalize()} is\", len(result))\n"
     ]
    }
   ],
   "source": [
    "for epoch in range(start_epoch, total_epoch):\n",
    "    train(epoch)\n",
    "    Testing(epoch)\n",
    "    Validation(epoch)\n",
    "    save_metrics()"
   ]
  },
  {
   "cell_type": "code",
   "execution_count": null,
   "id": "48e9dc2d-aaf2-4e5d-aa79-959dddab6f92",
   "metadata": {},
   "outputs": [],
   "source": []
  }
 ],
 "metadata": {
  "kernelspec": {
   "display_name": "Facial Expression Recognition",
   "language": "python",
   "name": "facialexpressionrecogination"
  },
  "language_info": {
   "codemirror_mode": {
    "name": "ipython",
    "version": 3
   },
   "file_extension": ".py",
   "mimetype": "text/x-python",
   "name": "python",
   "nbconvert_exporter": "python",
   "pygments_lexer": "ipython3",
   "version": "3.12.1"
  }
 },
 "nbformat": 4,
 "nbformat_minor": 5
}

{
 "cells": [
  {
   "cell_type": "code",
   "execution_count": 1,
   "id": "321e07d1-f9c2-4404-8d3c-88436b9caadf",
   "metadata": {},
   "outputs": [],
   "source": [
    "from __future__ import print_function\n",
    "\n",
    "import torch\n",
    "import torch.nn as nn\n",
    "import torch.optim as optim\n",
    "import torch.nn.functional as F\n",
    "import torch.backends.cudnn as cudnn\n",
    "import torchvision.transforms as transforms\n",
    "import numpy as np\n",
    "import os\n",
    "import argparse\n",
    "import utils\n",
    "from fer import FER2013\n",
    "from torch.autograd import Variable\n",
    "from models import *\n",
    "from torchvision import models\n",
    "from sklearn.metrics import precision_score, recall_score, f1_score, roc_auc_score, confusion_matrix\n",
    "from sklearn.metrics import precision_recall_fscore_support, roc_auc_score\n",
    "import csv"
   ]
  },
  {
   "cell_type": "code",
   "execution_count": 2,
   "id": "478672ad-9703-456c-ad30-02a27aafa7ab",
   "metadata": {},
   "outputs": [
    {
     "name": "stderr",
     "output_type": "stream",
     "text": [
      "F:\\FER-2013 Project\\facialexpressionrecogination\\Lib\\site-packages\\torchvision\\models\\_utils.py:208: UserWarning: The parameter 'pretrained' is deprecated since 0.13 and may be removed in the future, please use 'weights' instead.\n",
      "  warnings.warn(\n",
      "F:\\FER-2013 Project\\facialexpressionrecogination\\Lib\\site-packages\\torchvision\\models\\_utils.py:223: UserWarning: Arguments other than a weight enum or `None` for 'weights' are deprecated since 0.13 and may be removed in the future. The current behavior is equivalent to passing `weights=EfficientNet_B0_Weights.IMAGENET1K_V1`. You can also use `weights=EfficientNet_B0_Weights.DEFAULT` to get the most up-to-date weights.\n",
      "  warnings.warn(msg)\n"
     ]
    }
   ],
   "source": [
    "model = models.efficientnet_b0(pretrained=True)\n",
    "model.classifier[1] = nn.Linear(model.classifier[1].in_features, 7)"
   ]
  },
  {
   "cell_type": "code",
   "execution_count": 3,
   "id": "7125a86f-7281-4420-9bc1-b3e1c1cd9e14",
   "metadata": {},
   "outputs": [],
   "source": [
    "class Opt:\n",
    "    def __init__(self):\n",
    "        self.model = 'EfficientNetB0'  \n",
    "        self.dataset = 'FER2013'\n",
    "        self.bs = 128\n",
    "        self.lr = 0.01\n",
    "        self.resume = False\n",
    "\n",
    "opt = Opt()"
   ]
  },
  {
   "cell_type": "code",
   "execution_count": 4,
   "id": "fd22a488-3fd0-41ed-9d6d-e65f10533d72",
   "metadata": {},
   "outputs": [],
   "source": [
    "use_cuda = torch.cuda.is_available()\n",
    "best_Testing_acc = 0 \n",
    "best_Testing_acc_epoch = 0\n",
    "best_Validation_acc = 0 \n",
    "best_Validation_acc_epoch = 0\n",
    "start_epoch = 0  \n",
    "\n",
    "learning_rate_decay_start = 80\n",
    "learning_rate_decay_every = 5\n",
    "learning_rate_decay_rate = 0.9\n",
    "\n",
    "cut_size = 44\n",
    "total_epoch = 50\n",
    "\n",
    "path = os.path.join(opt.dataset + '_' + opt.model)\n",
    "\n",
    "# Lists to save metrics\n",
    "train_acc_list = []\n",
    "train_loss_list = []\n",
    "testing_acc_list = []\n",
    "testing_loss_list = []\n",
    "validation_acc_list = []\n",
    "validation_loss_list = []\n",
    "train_precision_list, train_recall_list, train_f1_list, train_auc_list = [], [], [], []\n",
    "testing_precision_list, testing_recall_list, testing_f1_list, testing_auc_list = [], [], [], []\n",
    "validation_precision_list, validation_recall_list, validation_f1_list, validation_auc_list = [], [], [], []"
   ]
  },
  {
   "cell_type": "code",
   "execution_count": 5,
   "id": "4f964a6b-b854-4c5d-93e2-2f6c7c4e32f0",
   "metadata": {},
   "outputs": [
    {
     "name": "stdout",
     "output_type": "stream",
     "text": [
      "==> Preparing data..\n"
     ]
    }
   ],
   "source": [
    "print('==> Preparing data..')\n",
    "transform_train = transforms.Compose([\n",
    "    transforms.RandomCrop(44),\n",
    "    transforms.RandomHorizontalFlip(),\n",
    "    transforms.ToTensor(),\n",
    "])\n",
    "\n",
    "transform_test = transforms.Compose([\n",
    "    transforms.TenCrop(cut_size),\n",
    "    transforms.Lambda(lambda crops: torch.stack([transforms.ToTensor()(crop) for crop in crops])),\n",
    "])\n",
    "\n",
    "trainset = FER2013(split='Training', transform=transform_train)\n",
    "trainloader = torch.utils.data.DataLoader(trainset, batch_size=opt.bs, shuffle=True, num_workers=0)\n",
    "Testingset = FER2013(split='Testing', transform=transform_test)\n",
    "Testingloader = torch.utils.data.DataLoader(Testingset, batch_size=opt.bs, shuffle=False, num_workers=0)\n",
    "Validationset = FER2013(split='Validation', transform=transform_test)\n",
    "Validationloader = torch.utils.data.DataLoader(Validationset, batch_size=opt.bs, shuffle=False, num_workers=0)\n"
   ]
  },
  {
   "cell_type": "code",
   "execution_count": 6,
   "id": "02ba3753-b509-4315-b8f6-4a3167af57c8",
   "metadata": {},
   "outputs": [
    {
     "name": "stdout",
     "output_type": "stream",
     "text": [
      "==> Building model..\n",
      "==> Starting training from scratch.\n"
     ]
    }
   ],
   "source": [
    "print('==> Building model..')\n",
    "net = models.efficientnet_b0(pretrained=True)\n",
    "net.classifier[1] = nn.Linear(net.classifier[1].in_features, 7)\n",
    "\n",
    "if not os.path.isdir(path):\n",
    "    print(\"No checkpoint directory found. Starting training from scratch.\")\n",
    "    opt.resume = False\n",
    "\n",
    "if opt.resume:\n",
    "    print('==> Resuming from checkpoint..')\n",
    "    checkpoint = torch.load(os.path.join(path, 'Validation_model.t7'), map_location=torch.device('cpu'))\n",
    "    net.load_state_dict(checkpoint['net'])\n",
    "    best_Testing_acc = checkpoint['best_Testing_acc']\n",
    "    best_Validation_acc = checkpoint['best_Validation_acc']\n",
    "    best_Testing_acc_epoch = checkpoint['best_Testing_acc_epoch']\n",
    "    best_Validation_acc_epoch = checkpoint['best_Validation_acc_epoch']\n",
    "    start_epoch = checkpoint['best_Validation_acc_epoch'] + 1\n",
    "else:\n",
    "    print('==> Starting training from scratch.')\n",
    "\n",
    "criterion = nn.CrossEntropyLoss()\n",
    "optimizer = optim.SGD(net.parameters(), lr=opt.lr, momentum=0.9, weight_decay=5e-4)"
   ]
  },
  {
   "cell_type": "code",
   "execution_count": 7,
   "id": "9cc83304-1a1a-4654-aea9-3244519b3333",
   "metadata": {},
   "outputs": [],
   "source": [
    "def train(epoch):\n",
    "    print('\\nEpoch: %d' % epoch)\n",
    "    global Train_acc\n",
    "    net.train()\n",
    "    train_loss = 0\n",
    "    correct = 0\n",
    "    total = 0\n",
    "\n",
    "    if epoch > learning_rate_decay_start and learning_rate_decay_start >= 0:\n",
    "        frac = (epoch - learning_rate_decay_start) // learning_rate_decay_every\n",
    "        decay_factor = learning_rate_decay_rate ** frac\n",
    "        current_lr = opt.lr * decay_factor\n",
    "        utils.set_lr(optimizer, current_lr)\n",
    "    else:\n",
    "        current_lr = opt.lr\n",
    "    print('learning_rate: %s' % str(current_lr))\n",
    "\n",
    "    for batch_idx, (inputs, targets) in enumerate(trainloader):\n",
    "        inputs, targets = inputs, targets\n",
    "        optimizer.zero_grad()\n",
    "        inputs, targets = Variable(inputs), Variable(targets)\n",
    "        outputs = net(inputs)\n",
    "        loss = criterion(outputs, targets)\n",
    "        loss.backward()\n",
    "        utils.clip_gradient(optimizer, 0.1)\n",
    "        optimizer.step()\n",
    "        train_loss += loss.item()  \n",
    "        _, predicted = torch.max(outputs.data, 1)\n",
    "        total += targets.size(0)\n",
    "        correct += predicted.eq(targets.data).sum().item()\n",
    "\n",
    "        utils.progress_bar(batch_idx, len(trainloader), 'Loss: %.3f | Acc: %.3f%% (%d/%d)'\n",
    "                           % (train_loss/(batch_idx+1), 100.*correct/total, correct, total))\n",
    "\n",
    "    Train_acc = 100.*correct/total\n",
    "    train_acc_list.append(Train_acc)\n",
    "    train_loss_list.append(train_loss / len(trainloader))\n",
    "\n",
    "    outputs_np = outputs.detach().cpu().numpy()\n",
    "    targets_np = targets.detach().cpu().numpy()\n",
    "    predicted_np = np.argmax(outputs_np, axis=1)\n",
    "    \n",
    "    precision, recall, f1, _ = precision_recall_fscore_support(targets_np, predicted_np, average='weighted')\n",
    "    try:\n",
    "        auc = roc_auc_score(targets_np, outputs_np, multi_class='ovr')\n",
    "    except ValueError:\n",
    "        auc = 0.0  # Handle cases where AUC cannot be calculated\n",
    "    \n",
    "    train_precision_list.append(precision)\n",
    "    train_recall_list.append(recall)\n",
    "    train_f1_list.append(f1)\n",
    "    train_auc_list.append(auc)"
   ]
  },
  {
   "cell_type": "code",
   "execution_count": 8,
   "id": "95e10531-2ba3-492d-8caa-9f41f04ec64c",
   "metadata": {},
   "outputs": [],
   "source": [
    "def Testing(epoch):\n",
    "    global Testing_acc\n",
    "    global best_Testing_acc\n",
    "    global best_Testing_acc_epoch\n",
    "    net.eval()\n",
    "    Testing_loss = 0\n",
    "    correct = 0\n",
    "    total = 0\n",
    "    for batch_idx, (inputs, targets) in enumerate(Testingloader):\n",
    "        bs, ncrops, c, h, w = np.shape(inputs)\n",
    "        inputs = inputs.view(-1, c, h, w)\n",
    "        inputs, targets = inputs, targets\n",
    "        with torch.no_grad():\n",
    "            outputs = net(inputs)\n",
    "            outputs_avg = outputs.view(bs, ncrops, -1).mean(1)\n",
    "            loss = criterion(outputs_avg, targets)\n",
    "            Testing_loss += loss.item()\n",
    "            _, predicted = torch.max(outputs_avg.data, 1)\n",
    "            total += targets.size(0)\n",
    "            correct += predicted.eq(targets.data).sum().item()\n",
    "\n",
    "        utils.progress_bar(batch_idx, len(Testingloader), 'Loss: %.3f | Acc: %.3f%% (%d/%d)'\n",
    "                           % (Testing_loss / (batch_idx + 1), 100. * correct / total, correct, total))\n",
    "\n",
    "    Testing_acc = 100.*correct/total\n",
    "    if Testing_acc > best_Testing_acc:\n",
    "        print('Saving..')\n",
    "        print(\"best_Testing_acc: %0.3f\" % Testing_acc)\n",
    "        state = {\n",
    "            'net': net.state_dict(),\n",
    "            'acc': Testing_acc,\n",
    "            'epoch': epoch,\n",
    "        }\n",
    "        if not os.path.isdir(path):\n",
    "            os.mkdir(path)\n",
    "        torch.save(state, os.path.join(path, 'Testing_model.t7'))\n",
    "        best_Testing_acc = Testing_acc\n",
    "        best_Testing_acc_epoch = epoch\n",
    "\n",
    "    testing_acc_list.append(Testing_acc)\n",
    "    testing_loss_list.append(Testing_loss / len(Testingloader))\n",
    "    outputs_np = outputs_avg.detach().cpu().numpy()\n",
    "    targets_np = targets.detach().cpu().numpy()\n",
    "    predicted_np = np.argmax(outputs_np, axis=1)\n",
    "    \n",
    "    precision, recall, f1, _ = precision_recall_fscore_support(targets_np, predicted_np, average='weighted')\n",
    "    try:\n",
    "        auc = roc_auc_score(targets_np, outputs_np, multi_class='ovr')\n",
    "    except ValueError:\n",
    "        auc = 0.0\n",
    "    \n",
    "    testing_precision_list.append(precision)\n",
    "    testing_recall_list.append(recall)\n",
    "    testing_f1_list.append(f1)\n",
    "    testing_auc_list.append(auc)"
   ]
  },
  {
   "cell_type": "code",
   "execution_count": 9,
   "id": "0bac7ee8-5e14-4158-81cd-efdcde970968",
   "metadata": {},
   "outputs": [],
   "source": [
    "def Validation(epoch):\n",
    "    global Validation_acc\n",
    "    global best_Validation_acc\n",
    "    global best_Validation_acc_epoch\n",
    "    net.eval()\n",
    "    Validation_loss = 0\n",
    "    correct = 0\n",
    "    total = 0\n",
    "\n",
    "    with torch.no_grad():\n",
    "        for batch_idx, (inputs, targets) in enumerate(Validationloader):\n",
    "            bs, ncrops, c, h, w = np.shape(inputs)\n",
    "            inputs = inputs.view(-1, c, h, w)\n",
    "            inputs, targets = inputs, targets\n",
    "\n",
    "            outputs = net(inputs)\n",
    "            outputs_avg = outputs.view(bs, ncrops, -1).mean(1)\n",
    "            loss = criterion(outputs_avg, targets)\n",
    "            Validation_loss += loss.item()\n",
    "\n",
    "            _, predicted = torch.max(outputs_avg.data, 1)\n",
    "            correct += predicted.eq(targets.data).sum().item()\n",
    "            total += targets.size(0)\n",
    "\n",
    "            utils.progress_bar(batch_idx, len(Validationloader), 'Loss: %.3f | Acc: %.3f%% (%d/%d)'\n",
    "                               % (Validation_loss / (batch_idx + 1), 100. * correct / total, correct, total))\n",
    "\n",
    "    Validation_acc = 100. * correct / total\n",
    "    if Validation_acc > best_Validation_acc:\n",
    "        print('Saving..')\n",
    "        print(\"best_Validation_acc: %0.3f\" % Validation_acc)\n",
    "        state = {\n",
    "            'net': net.state_dict(),\n",
    "            'best_Validation_acc': Validation_acc,\n",
    "            'best_Validation_acc_epoch': epoch,\n",
    "        }\n",
    "        if not os.path.isdir(path):\n",
    "            os.mkdir(path)\n",
    "        torch.save(state, os.path.join(path, 'Validation_model.t7'))\n",
    "        best_Validation_acc = Validation_acc\n",
    "        best_Validation_acc_epoch = epoch\n",
    "\n",
    "    validation_acc_list.append(Validation_acc)\n",
    "    validation_loss_list.append(Validation_loss / len(Validationloader))\n",
    "    outputs_np = outputs_avg.detach().cpu().numpy()\n",
    "    targets_np = targets.detach().cpu().numpy()\n",
    "    predicted_np = np.argmax(outputs_np, axis=1)\n",
    "    \n",
    "    precision, recall, f1, _ = precision_recall_fscore_support(targets_np, predicted_np, average='weighted')\n",
    "    try:\n",
    "        auc = roc_auc_score(targets_np, outputs_np, multi_class='ovr')\n",
    "    except ValueError:\n",
    "        auc = 0.0\n",
    "    \n",
    "    validation_precision_list.append(precision)\n",
    "    validation_recall_list.append(recall)\n",
    "    validation_f1_list.append(f1)\n",
    "    validation_auc_list.append(auc)"
   ]
  },
  {
   "cell_type": "code",
   "execution_count": 10,
   "id": "e55190fd-30fd-415e-9115-0dd6e4998c06",
   "metadata": {},
   "outputs": [],
   "source": [
    "def save_metrics():\n",
    "    metrics_file_path = os.path.join(path, \"metrics.csv\")\n",
    "    \n",
    "    # Combine all metrics into a single table\n",
    "    metrics = zip(\n",
    "        range(1, len(train_acc_list) + 1),  # Epoch numbers\n",
    "        train_acc_list, train_loss_list, train_precision_list, train_recall_list, train_f1_list, train_auc_list,\n",
    "        testing_acc_list, testing_loss_list, testing_precision_list, testing_recall_list, testing_f1_list, testing_auc_list,\n",
    "        validation_acc_list, validation_loss_list, validation_precision_list, validation_recall_list, validation_f1_list, validation_auc_list,\n",
    "    )\n",
    "    \n",
    "    # Write metrics to the CSV file\n",
    "    with open(metrics_file_path, 'w', newline='') as f:\n",
    "        writer = csv.writer(f)\n",
    "        writer.writerow([\n",
    "            \"Epoch\", \n",
    "            \"Train Accuracy\", \"Train Loss\", \"Train Precision\", \"Train Recall\", \"Train F1\", \"Train AUC\",\n",
    "            \"Testing Accuracy\", \"Testing Loss\", \"Testing Precision\", \"Testing Recall\", \"Testing F1\", \"Testing AUC\",\n",
    "            \"Validation Accuracy\", \"Validation Loss\", \"Validation Precision\", \"Validation Recall\", \"Validation F1\", \"Validation AUC\",\n",
    "        ])\n",
    "        for row in metrics:\n",
    "            writer.writerow(row)\n",
    "    \n",
    "    print(f\"Metrics saved to {metrics_file_path}\")"
   ]
  },
  {
   "cell_type": "code",
   "execution_count": 12,
   "id": "1f2e55ae-f998-49df-889c-86d503661f59",
   "metadata": {},
   "outputs": [
    {
     "name": "stdout",
     "output_type": "stream",
     "text": [
      "\n",
      "Epoch: 0\n",
      "learning_rate: 0.01\n",
      " [=============================>] | Loss: 1.582 | Acc: 38.507% (11055/28709)    225/225 \n",
      " [============================>.] | Loss: 1.279 | Acc: 50.376% (1808/3589)      29/29 \n",
      "Saving..\n",
      "best_Testing_acc: 50.376\n"
     ]
    },
    {
     "name": "stderr",
     "output_type": "stream",
     "text": [
      "F:\\FER-2013 Project\\facialexpressionrecogination\\Lib\\site-packages\\sklearn\\metrics\\_classification.py:1531: UndefinedMetricWarning: Precision is ill-defined and being set to 0.0 in labels with no predicted samples. Use `zero_division` parameter to control this behavior.\n",
      "  _warn_prf(average, modifier, f\"{metric.capitalize()} is\", len(result))\n",
      "F:\\FER-2013 Project\\facialexpressionrecogination\\Lib\\site-packages\\sklearn\\metrics\\_classification.py:1531: UndefinedMetricWarning: Recall is ill-defined and being set to 0.0 in labels with no true samples. Use `zero_division` parameter to control this behavior.\n",
      "  _warn_prf(average, modifier, f\"{metric.capitalize()} is\", len(result))\n"
     ]
    },
    {
     "name": "stdout",
     "output_type": "stream",
     "text": [
      " [============================>.] | Loss: 1.279 | Acc: 50.376% (1808/3589)      29/29 \n",
      "Saving..\n",
      "best_Validation_acc: 50.376\n",
      "Metrics saved to FER2013_EfficientNetB0\\metrics.csv\n",
      "\n",
      "Epoch: 1\n",
      "learning_rate: 0.01\n"
     ]
    },
    {
     "name": "stderr",
     "output_type": "stream",
     "text": [
      "F:\\FER-2013 Project\\facialexpressionrecogination\\Lib\\site-packages\\sklearn\\metrics\\_classification.py:1531: UndefinedMetricWarning: Precision is ill-defined and being set to 0.0 in labels with no predicted samples. Use `zero_division` parameter to control this behavior.\n",
      "  _warn_prf(average, modifier, f\"{metric.capitalize()} is\", len(result))\n",
      "F:\\FER-2013 Project\\facialexpressionrecogination\\Lib\\site-packages\\sklearn\\metrics\\_classification.py:1531: UndefinedMetricWarning: Recall is ill-defined and being set to 0.0 in labels with no true samples. Use `zero_division` parameter to control this behavior.\n",
      "  _warn_prf(average, modifier, f\"{metric.capitalize()} is\", len(result))\n"
     ]
    },
    {
     "name": "stdout",
     "output_type": "stream",
     "text": [
      " [=============================>] | Loss: 1.300 | Acc: 50.462% (14487/28709)    225/225 \n"
     ]
    },
    {
     "name": "stderr",
     "output_type": "stream",
     "text": [
      "F:\\FER-2013 Project\\facialexpressionrecogination\\Lib\\site-packages\\sklearn\\metrics\\_classification.py:1531: UndefinedMetricWarning: Recall is ill-defined and being set to 0.0 in labels with no true samples. Use `zero_division` parameter to control this behavior.\n",
      "  _warn_prf(average, modifier, f\"{metric.capitalize()} is\", len(result))\n"
     ]
    },
    {
     "name": "stdout",
     "output_type": "stream",
     "text": [
      " [============================>.] | Loss: 1.143 | Acc: 55.754% (2001/3589)      29/29 \n",
      "Saving..\n",
      "best_Testing_acc: 55.754\n"
     ]
    },
    {
     "name": "stderr",
     "output_type": "stream",
     "text": [
      "F:\\FER-2013 Project\\facialexpressionrecogination\\Lib\\site-packages\\sklearn\\metrics\\_classification.py:1531: UndefinedMetricWarning: Precision is ill-defined and being set to 0.0 in labels with no predicted samples. Use `zero_division` parameter to control this behavior.\n",
      "  _warn_prf(average, modifier, f\"{metric.capitalize()} is\", len(result))\n",
      "F:\\FER-2013 Project\\facialexpressionrecogination\\Lib\\site-packages\\sklearn\\metrics\\_classification.py:1531: UndefinedMetricWarning: Recall is ill-defined and being set to 0.0 in labels with no true samples. Use `zero_division` parameter to control this behavior.\n",
      "  _warn_prf(average, modifier, f\"{metric.capitalize()} is\", len(result))\n"
     ]
    },
    {
     "name": "stdout",
     "output_type": "stream",
     "text": [
      " [============================>.] | Loss: 1.143 | Acc: 55.754% (2001/3589)      29/29 \n",
      "Saving..\n",
      "best_Validation_acc: 55.754\n",
      "Metrics saved to FER2013_EfficientNetB0\\metrics.csv\n",
      "\n",
      "Epoch: 2\n",
      "learning_rate: 0.01\n"
     ]
    },
    {
     "name": "stderr",
     "output_type": "stream",
     "text": [
      "F:\\FER-2013 Project\\facialexpressionrecogination\\Lib\\site-packages\\sklearn\\metrics\\_classification.py:1531: UndefinedMetricWarning: Precision is ill-defined and being set to 0.0 in labels with no predicted samples. Use `zero_division` parameter to control this behavior.\n",
      "  _warn_prf(average, modifier, f\"{metric.capitalize()} is\", len(result))\n",
      "F:\\FER-2013 Project\\facialexpressionrecogination\\Lib\\site-packages\\sklearn\\metrics\\_classification.py:1531: UndefinedMetricWarning: Recall is ill-defined and being set to 0.0 in labels with no true samples. Use `zero_division` parameter to control this behavior.\n",
      "  _warn_prf(average, modifier, f\"{metric.capitalize()} is\", len(result))\n"
     ]
    },
    {
     "name": "stdout",
     "output_type": "stream",
     "text": [
      " [=============================>] | Loss: 1.167 | Acc: 55.526% (15941/28709)    225/225 \n",
      " [============================>.] | Loss: 1.080 | Acc: 58.401% (2096/3589)      29/29 \n",
      "Saving..\n",
      "best_Testing_acc: 58.401\n"
     ]
    },
    {
     "name": "stderr",
     "output_type": "stream",
     "text": [
      "F:\\FER-2013 Project\\facialexpressionrecogination\\Lib\\site-packages\\sklearn\\metrics\\_classification.py:1531: UndefinedMetricWarning: Precision is ill-defined and being set to 0.0 in labels with no predicted samples. Use `zero_division` parameter to control this behavior.\n",
      "  _warn_prf(average, modifier, f\"{metric.capitalize()} is\", len(result))\n",
      "F:\\FER-2013 Project\\facialexpressionrecogination\\Lib\\site-packages\\sklearn\\metrics\\_classification.py:1531: UndefinedMetricWarning: Recall is ill-defined and being set to 0.0 in labels with no true samples. Use `zero_division` parameter to control this behavior.\n",
      "  _warn_prf(average, modifier, f\"{metric.capitalize()} is\", len(result))\n"
     ]
    },
    {
     "name": "stdout",
     "output_type": "stream",
     "text": [
      " [============================>.] | Loss: 1.080 | Acc: 58.401% (2096/3589)      29/29 \n",
      "Saving..\n",
      "best_Validation_acc: 58.401\n",
      "Metrics saved to FER2013_EfficientNetB0\\metrics.csv\n",
      "\n",
      "Epoch: 3\n",
      "learning_rate: 0.01\n"
     ]
    },
    {
     "name": "stderr",
     "output_type": "stream",
     "text": [
      "F:\\FER-2013 Project\\facialexpressionrecogination\\Lib\\site-packages\\sklearn\\metrics\\_classification.py:1531: UndefinedMetricWarning: Precision is ill-defined and being set to 0.0 in labels with no predicted samples. Use `zero_division` parameter to control this behavior.\n",
      "  _warn_prf(average, modifier, f\"{metric.capitalize()} is\", len(result))\n",
      "F:\\FER-2013 Project\\facialexpressionrecogination\\Lib\\site-packages\\sklearn\\metrics\\_classification.py:1531: UndefinedMetricWarning: Recall is ill-defined and being set to 0.0 in labels with no true samples. Use `zero_division` parameter to control this behavior.\n",
      "  _warn_prf(average, modifier, f\"{metric.capitalize()} is\", len(result))\n"
     ]
    },
    {
     "name": "stdout",
     "output_type": "stream",
     "text": [
      " [=============================>] | Loss: 1.089 | Acc: 58.734% (16862/28709)    225/225 \n",
      " [============================>.] | Loss: 1.033 | Acc: 59.237% (2126/3589)      29/29 \n",
      "Saving..\n",
      "best_Testing_acc: 59.237\n"
     ]
    },
    {
     "name": "stderr",
     "output_type": "stream",
     "text": [
      "F:\\FER-2013 Project\\facialexpressionrecogination\\Lib\\site-packages\\sklearn\\metrics\\_classification.py:1531: UndefinedMetricWarning: Precision is ill-defined and being set to 0.0 in labels with no predicted samples. Use `zero_division` parameter to control this behavior.\n",
      "  _warn_prf(average, modifier, f\"{metric.capitalize()} is\", len(result))\n",
      "F:\\FER-2013 Project\\facialexpressionrecogination\\Lib\\site-packages\\sklearn\\metrics\\_classification.py:1531: UndefinedMetricWarning: Recall is ill-defined and being set to 0.0 in labels with no true samples. Use `zero_division` parameter to control this behavior.\n",
      "  _warn_prf(average, modifier, f\"{metric.capitalize()} is\", len(result))\n"
     ]
    },
    {
     "name": "stdout",
     "output_type": "stream",
     "text": [
      " [============================>.] | Loss: 1.033 | Acc: 59.237% (2126/3589)      29/29 \n",
      "Saving..\n",
      "best_Validation_acc: 59.237\n",
      "Metrics saved to FER2013_EfficientNetB0\\metrics.csv\n",
      "\n",
      "Epoch: 4\n",
      "learning_rate: 0.01\n"
     ]
    },
    {
     "name": "stderr",
     "output_type": "stream",
     "text": [
      "F:\\FER-2013 Project\\facialexpressionrecogination\\Lib\\site-packages\\sklearn\\metrics\\_classification.py:1531: UndefinedMetricWarning: Precision is ill-defined and being set to 0.0 in labels with no predicted samples. Use `zero_division` parameter to control this behavior.\n",
      "  _warn_prf(average, modifier, f\"{metric.capitalize()} is\", len(result))\n",
      "F:\\FER-2013 Project\\facialexpressionrecogination\\Lib\\site-packages\\sklearn\\metrics\\_classification.py:1531: UndefinedMetricWarning: Recall is ill-defined and being set to 0.0 in labels with no true samples. Use `zero_division` parameter to control this behavior.\n",
      "  _warn_prf(average, modifier, f\"{metric.capitalize()} is\", len(result))\n"
     ]
    },
    {
     "name": "stdout",
     "output_type": "stream",
     "text": [
      " [=============================>] | Loss: 1.023 | Acc: 61.371% (17619/28709)    225/225 \n"
     ]
    },
    {
     "name": "stderr",
     "output_type": "stream",
     "text": [
      "F:\\FER-2013 Project\\facialexpressionrecogination\\Lib\\site-packages\\sklearn\\metrics\\_classification.py:1531: UndefinedMetricWarning: Precision is ill-defined and being set to 0.0 in labels with no predicted samples. Use `zero_division` parameter to control this behavior.\n",
      "  _warn_prf(average, modifier, f\"{metric.capitalize()} is\", len(result))\n"
     ]
    },
    {
     "name": "stdout",
     "output_type": "stream",
     "text": [
      " [============================>.] | Loss: 0.995 | Acc: 62.497% (2243/3589)      29/29 \n",
      "Saving..\n",
      "best_Testing_acc: 62.497\n"
     ]
    },
    {
     "name": "stderr",
     "output_type": "stream",
     "text": [
      "F:\\FER-2013 Project\\facialexpressionrecogination\\Lib\\site-packages\\sklearn\\metrics\\_classification.py:1531: UndefinedMetricWarning: Precision is ill-defined and being set to 0.0 in labels with no predicted samples. Use `zero_division` parameter to control this behavior.\n",
      "  _warn_prf(average, modifier, f\"{metric.capitalize()} is\", len(result))\n",
      "F:\\FER-2013 Project\\facialexpressionrecogination\\Lib\\site-packages\\sklearn\\metrics\\_classification.py:1531: UndefinedMetricWarning: Recall is ill-defined and being set to 0.0 in labels with no true samples. Use `zero_division` parameter to control this behavior.\n",
      "  _warn_prf(average, modifier, f\"{metric.capitalize()} is\", len(result))\n"
     ]
    },
    {
     "name": "stdout",
     "output_type": "stream",
     "text": [
      " [============================>.] | Loss: 0.995 | Acc: 62.497% (2243/3589)      29/29 \n",
      "Saving..\n",
      "best_Validation_acc: 62.497\n",
      "Metrics saved to FER2013_EfficientNetB0\\metrics.csv\n",
      "\n",
      "Epoch: 5\n",
      "learning_rate: 0.01\n"
     ]
    },
    {
     "name": "stderr",
     "output_type": "stream",
     "text": [
      "F:\\FER-2013 Project\\facialexpressionrecogination\\Lib\\site-packages\\sklearn\\metrics\\_classification.py:1531: UndefinedMetricWarning: Precision is ill-defined and being set to 0.0 in labels with no predicted samples. Use `zero_division` parameter to control this behavior.\n",
      "  _warn_prf(average, modifier, f\"{metric.capitalize()} is\", len(result))\n",
      "F:\\FER-2013 Project\\facialexpressionrecogination\\Lib\\site-packages\\sklearn\\metrics\\_classification.py:1531: UndefinedMetricWarning: Recall is ill-defined and being set to 0.0 in labels with no true samples. Use `zero_division` parameter to control this behavior.\n",
      "  _warn_prf(average, modifier, f\"{metric.capitalize()} is\", len(result))\n"
     ]
    },
    {
     "name": "stdout",
     "output_type": "stream",
     "text": [
      " [=============================>] | Loss: 0.976 | Acc: 63.022% (18093/28709)    225/225 \n",
      " [===========================>..] | Loss: 0.991 | Acc: 63.253% (2267/3584)      28/29 ============================>.] | Loss: 0.979 | Acc: 63.249% (2270/3589)      29/29 \n",
      "Saving..\n",
      "best_Testing_acc: 63.249\n"
     ]
    },
    {
     "name": "stderr",
     "output_type": "stream",
     "text": [
      "F:\\FER-2013 Project\\facialexpressionrecogination\\Lib\\site-packages\\sklearn\\metrics\\_classification.py:1531: UndefinedMetricWarning: Precision is ill-defined and being set to 0.0 in labels with no predicted samples. Use `zero_division` parameter to control this behavior.\n",
      "  _warn_prf(average, modifier, f\"{metric.capitalize()} is\", len(result))\n",
      "F:\\FER-2013 Project\\facialexpressionrecogination\\Lib\\site-packages\\sklearn\\metrics\\_classification.py:1531: UndefinedMetricWarning: Recall is ill-defined and being set to 0.0 in labels with no true samples. Use `zero_division` parameter to control this behavior.\n",
      "  _warn_prf(average, modifier, f\"{metric.capitalize()} is\", len(result))\n"
     ]
    },
    {
     "name": "stdout",
     "output_type": "stream",
     "text": [
      " [============================>.] | Loss: 0.979 | Acc: 63.249% (2270/3589)      29/29 \n",
      "Saving..\n",
      "best_Validation_acc: 63.249\n",
      "Metrics saved to FER2013_EfficientNetB0\\metrics.csv\n",
      "\n",
      "Epoch: 6\n",
      "learning_rate: 0.01\n"
     ]
    },
    {
     "name": "stderr",
     "output_type": "stream",
     "text": [
      "F:\\FER-2013 Project\\facialexpressionrecogination\\Lib\\site-packages\\sklearn\\metrics\\_classification.py:1531: UndefinedMetricWarning: Precision is ill-defined and being set to 0.0 in labels with no predicted samples. Use `zero_division` parameter to control this behavior.\n",
      "  _warn_prf(average, modifier, f\"{metric.capitalize()} is\", len(result))\n",
      "F:\\FER-2013 Project\\facialexpressionrecogination\\Lib\\site-packages\\sklearn\\metrics\\_classification.py:1531: UndefinedMetricWarning: Recall is ill-defined and being set to 0.0 in labels with no true samples. Use `zero_division` parameter to control this behavior.\n",
      "  _warn_prf(average, modifier, f\"{metric.capitalize()} is\", len(result))\n"
     ]
    },
    {
     "name": "stdout",
     "output_type": "stream",
     "text": [
      " [=============================>] | Loss: 0.923 | Acc: 65.286% (18743/28709)    225/225 \n"
     ]
    },
    {
     "name": "stderr",
     "output_type": "stream",
     "text": [
      "F:\\FER-2013 Project\\facialexpressionrecogination\\Lib\\site-packages\\sklearn\\metrics\\_classification.py:1531: UndefinedMetricWarning: Precision is ill-defined and being set to 0.0 in labels with no predicted samples. Use `zero_division` parameter to control this behavior.\n",
      "  _warn_prf(average, modifier, f\"{metric.capitalize()} is\", len(result))\n"
     ]
    },
    {
     "name": "stdout",
     "output_type": "stream",
     "text": [
      " [============================>.] | Loss: 0.967 | Acc: 62.831% (2255/3589)      29/29 \n"
     ]
    },
    {
     "name": "stderr",
     "output_type": "stream",
     "text": [
      "F:\\FER-2013 Project\\facialexpressionrecogination\\Lib\\site-packages\\sklearn\\metrics\\_classification.py:1531: UndefinedMetricWarning: Precision is ill-defined and being set to 0.0 in labels with no predicted samples. Use `zero_division` parameter to control this behavior.\n",
      "  _warn_prf(average, modifier, f\"{metric.capitalize()} is\", len(result))\n",
      "F:\\FER-2013 Project\\facialexpressionrecogination\\Lib\\site-packages\\sklearn\\metrics\\_classification.py:1531: UndefinedMetricWarning: Recall is ill-defined and being set to 0.0 in labels with no true samples. Use `zero_division` parameter to control this behavior.\n",
      "  _warn_prf(average, modifier, f\"{metric.capitalize()} is\", len(result))\n"
     ]
    },
    {
     "name": "stdout",
     "output_type": "stream",
     "text": [
      " [============================>.] | Loss: 0.967 | Acc: 62.831% (2255/3589)      29/29 \n",
      "Metrics saved to FER2013_EfficientNetB0\\metrics.csv\n",
      "\n",
      "Epoch: 7\n",
      "learning_rate: 0.01\n"
     ]
    },
    {
     "name": "stderr",
     "output_type": "stream",
     "text": [
      "F:\\FER-2013 Project\\facialexpressionrecogination\\Lib\\site-packages\\sklearn\\metrics\\_classification.py:1531: UndefinedMetricWarning: Precision is ill-defined and being set to 0.0 in labels with no predicted samples. Use `zero_division` parameter to control this behavior.\n",
      "  _warn_prf(average, modifier, f\"{metric.capitalize()} is\", len(result))\n",
      "F:\\FER-2013 Project\\facialexpressionrecogination\\Lib\\site-packages\\sklearn\\metrics\\_classification.py:1531: UndefinedMetricWarning: Recall is ill-defined and being set to 0.0 in labels with no true samples. Use `zero_division` parameter to control this behavior.\n",
      "  _warn_prf(average, modifier, f\"{metric.capitalize()} is\", len(result))\n"
     ]
    },
    {
     "name": "stdout",
     "output_type": "stream",
     "text": [
      " [=============================>] | Loss: 0.881 | Acc: 66.794% (19176/28709)    225/225 \n",
      " [============================>.] | Loss: 0.952 | Acc: 64.224% (2305/3589)      29/29 \n",
      "Saving..\n",
      "best_Testing_acc: 64.224\n"
     ]
    },
    {
     "name": "stderr",
     "output_type": "stream",
     "text": [
      "F:\\FER-2013 Project\\facialexpressionrecogination\\Lib\\site-packages\\sklearn\\metrics\\_classification.py:1531: UndefinedMetricWarning: Precision is ill-defined and being set to 0.0 in labels with no predicted samples. Use `zero_division` parameter to control this behavior.\n",
      "  _warn_prf(average, modifier, f\"{metric.capitalize()} is\", len(result))\n",
      "F:\\FER-2013 Project\\facialexpressionrecogination\\Lib\\site-packages\\sklearn\\metrics\\_classification.py:1531: UndefinedMetricWarning: Recall is ill-defined and being set to 0.0 in labels with no true samples. Use `zero_division` parameter to control this behavior.\n",
      "  _warn_prf(average, modifier, f\"{metric.capitalize()} is\", len(result))\n"
     ]
    },
    {
     "name": "stdout",
     "output_type": "stream",
     "text": [
      " [============================>.] | Loss: 0.952 | Acc: 64.224% (2305/3589)      29/29 \n",
      "Saving..\n",
      "best_Validation_acc: 64.224\n",
      "Metrics saved to FER2013_EfficientNetB0\\metrics.csv\n",
      "\n",
      "Epoch: 8\n",
      "learning_rate: 0.01\n"
     ]
    },
    {
     "name": "stderr",
     "output_type": "stream",
     "text": [
      "F:\\FER-2013 Project\\facialexpressionrecogination\\Lib\\site-packages\\sklearn\\metrics\\_classification.py:1531: UndefinedMetricWarning: Precision is ill-defined and being set to 0.0 in labels with no predicted samples. Use `zero_division` parameter to control this behavior.\n",
      "  _warn_prf(average, modifier, f\"{metric.capitalize()} is\", len(result))\n",
      "F:\\FER-2013 Project\\facialexpressionrecogination\\Lib\\site-packages\\sklearn\\metrics\\_classification.py:1531: UndefinedMetricWarning: Recall is ill-defined and being set to 0.0 in labels with no true samples. Use `zero_division` parameter to control this behavior.\n",
      "  _warn_prf(average, modifier, f\"{metric.capitalize()} is\", len(result))\n"
     ]
    },
    {
     "name": "stdout",
     "output_type": "stream",
     "text": [
      " [=============================>] | Loss: 0.841 | Acc: 68.223% (19586/28709)    225/225 \n",
      " [============================>.] | Loss: 0.937 | Acc: 65.171% (2339/3589)      29/29 \n",
      "Saving..\n",
      "best_Testing_acc: 65.171\n"
     ]
    },
    {
     "name": "stderr",
     "output_type": "stream",
     "text": [
      "F:\\FER-2013 Project\\facialexpressionrecogination\\Lib\\site-packages\\sklearn\\metrics\\_classification.py:1531: UndefinedMetricWarning: Precision is ill-defined and being set to 0.0 in labels with no predicted samples. Use `zero_division` parameter to control this behavior.\n",
      "  _warn_prf(average, modifier, f\"{metric.capitalize()} is\", len(result))\n",
      "F:\\FER-2013 Project\\facialexpressionrecogination\\Lib\\site-packages\\sklearn\\metrics\\_classification.py:1531: UndefinedMetricWarning: Recall is ill-defined and being set to 0.0 in labels with no true samples. Use `zero_division` parameter to control this behavior.\n",
      "  _warn_prf(average, modifier, f\"{metric.capitalize()} is\", len(result))\n"
     ]
    },
    {
     "name": "stdout",
     "output_type": "stream",
     "text": [
      " [============================>.] | Loss: 0.937 | Acc: 65.171% (2339/3589)      29/29 \n",
      "Saving..\n",
      "best_Validation_acc: 65.171\n",
      "Metrics saved to FER2013_EfficientNetB0\\metrics.csv\n",
      "\n",
      "Epoch: 9\n",
      "learning_rate: 0.01\n"
     ]
    },
    {
     "name": "stderr",
     "output_type": "stream",
     "text": [
      "F:\\FER-2013 Project\\facialexpressionrecogination\\Lib\\site-packages\\sklearn\\metrics\\_classification.py:1531: UndefinedMetricWarning: Precision is ill-defined and being set to 0.0 in labels with no predicted samples. Use `zero_division` parameter to control this behavior.\n",
      "  _warn_prf(average, modifier, f\"{metric.capitalize()} is\", len(result))\n",
      "F:\\FER-2013 Project\\facialexpressionrecogination\\Lib\\site-packages\\sklearn\\metrics\\_classification.py:1531: UndefinedMetricWarning: Recall is ill-defined and being set to 0.0 in labels with no true samples. Use `zero_division` parameter to control this behavior.\n",
      "  _warn_prf(average, modifier, f\"{metric.capitalize()} is\", len(result))\n"
     ]
    },
    {
     "name": "stdout",
     "output_type": "stream",
     "text": [
      " [=============================>] | Loss: 0.800 | Acc: 69.874% (20060/28709)    225/225 \n",
      " [============================>.] | Loss: 0.946 | Acc: 64.531% (2316/3589)      29/29 \n"
     ]
    },
    {
     "name": "stderr",
     "output_type": "stream",
     "text": [
      "F:\\FER-2013 Project\\facialexpressionrecogination\\Lib\\site-packages\\sklearn\\metrics\\_classification.py:1531: UndefinedMetricWarning: Precision is ill-defined and being set to 0.0 in labels with no predicted samples. Use `zero_division` parameter to control this behavior.\n",
      "  _warn_prf(average, modifier, f\"{metric.capitalize()} is\", len(result))\n",
      "F:\\FER-2013 Project\\facialexpressionrecogination\\Lib\\site-packages\\sklearn\\metrics\\_classification.py:1531: UndefinedMetricWarning: Recall is ill-defined and being set to 0.0 in labels with no true samples. Use `zero_division` parameter to control this behavior.\n",
      "  _warn_prf(average, modifier, f\"{metric.capitalize()} is\", len(result))\n"
     ]
    },
    {
     "name": "stdout",
     "output_type": "stream",
     "text": [
      " [============================>.] | Loss: 0.946 | Acc: 64.531% (2316/3589)      29/29 \n",
      "Metrics saved to FER2013_EfficientNetB0\\metrics.csv\n",
      "\n",
      "Epoch: 10\n",
      "learning_rate: 0.01\n"
     ]
    },
    {
     "name": "stderr",
     "output_type": "stream",
     "text": [
      "F:\\FER-2013 Project\\facialexpressionrecogination\\Lib\\site-packages\\sklearn\\metrics\\_classification.py:1531: UndefinedMetricWarning: Precision is ill-defined and being set to 0.0 in labels with no predicted samples. Use `zero_division` parameter to control this behavior.\n",
      "  _warn_prf(average, modifier, f\"{metric.capitalize()} is\", len(result))\n",
      "F:\\FER-2013 Project\\facialexpressionrecogination\\Lib\\site-packages\\sklearn\\metrics\\_classification.py:1531: UndefinedMetricWarning: Recall is ill-defined and being set to 0.0 in labels with no true samples. Use `zero_division` parameter to control this behavior.\n",
      "  _warn_prf(average, modifier, f\"{metric.capitalize()} is\", len(result))\n"
     ]
    },
    {
     "name": "stdout",
     "output_type": "stream",
     "text": [
      " [=============================>] | Loss: 0.762 | Acc: 71.556% (20543/28709)    225/225 \n",
      " [============================>.] | Loss: 0.933 | Acc: 65.311% (2344/3589)      29/29 \n",
      "Saving..\n",
      "best_Testing_acc: 65.311\n"
     ]
    },
    {
     "name": "stderr",
     "output_type": "stream",
     "text": [
      "F:\\FER-2013 Project\\facialexpressionrecogination\\Lib\\site-packages\\sklearn\\metrics\\_classification.py:1531: UndefinedMetricWarning: Precision is ill-defined and being set to 0.0 in labels with no predicted samples. Use `zero_division` parameter to control this behavior.\n",
      "  _warn_prf(average, modifier, f\"{metric.capitalize()} is\", len(result))\n",
      "F:\\FER-2013 Project\\facialexpressionrecogination\\Lib\\site-packages\\sklearn\\metrics\\_classification.py:1531: UndefinedMetricWarning: Recall is ill-defined and being set to 0.0 in labels with no true samples. Use `zero_division` parameter to control this behavior.\n",
      "  _warn_prf(average, modifier, f\"{metric.capitalize()} is\", len(result))\n"
     ]
    },
    {
     "name": "stdout",
     "output_type": "stream",
     "text": [
      " [============================>.] | Loss: 0.933 | Acc: 65.311% (2344/3589)      29/29 \n",
      "Saving..\n",
      "best_Validation_acc: 65.311\n",
      "Metrics saved to FER2013_EfficientNetB0\\metrics.csv\n",
      "\n",
      "Epoch: 11\n",
      "learning_rate: 0.01\n"
     ]
    },
    {
     "name": "stderr",
     "output_type": "stream",
     "text": [
      "F:\\FER-2013 Project\\facialexpressionrecogination\\Lib\\site-packages\\sklearn\\metrics\\_classification.py:1531: UndefinedMetricWarning: Precision is ill-defined and being set to 0.0 in labels with no predicted samples. Use `zero_division` parameter to control this behavior.\n",
      "  _warn_prf(average, modifier, f\"{metric.capitalize()} is\", len(result))\n",
      "F:\\FER-2013 Project\\facialexpressionrecogination\\Lib\\site-packages\\sklearn\\metrics\\_classification.py:1531: UndefinedMetricWarning: Recall is ill-defined and being set to 0.0 in labels with no true samples. Use `zero_division` parameter to control this behavior.\n",
      "  _warn_prf(average, modifier, f\"{metric.capitalize()} is\", len(result))\n"
     ]
    },
    {
     "name": "stdout",
     "output_type": "stream",
     "text": [
      " [=============================>] | Loss: 0.731 | Acc: 72.824% (20907/28709)    225/225 \n",
      " [============================>.] | Loss: 0.976 | Acc: 64.948% (2331/3589)      29/29 \n"
     ]
    },
    {
     "name": "stderr",
     "output_type": "stream",
     "text": [
      "F:\\FER-2013 Project\\facialexpressionrecogination\\Lib\\site-packages\\sklearn\\metrics\\_classification.py:1531: UndefinedMetricWarning: Precision is ill-defined and being set to 0.0 in labels with no predicted samples. Use `zero_division` parameter to control this behavior.\n",
      "  _warn_prf(average, modifier, f\"{metric.capitalize()} is\", len(result))\n",
      "F:\\FER-2013 Project\\facialexpressionrecogination\\Lib\\site-packages\\sklearn\\metrics\\_classification.py:1531: UndefinedMetricWarning: Recall is ill-defined and being set to 0.0 in labels with no true samples. Use `zero_division` parameter to control this behavior.\n",
      "  _warn_prf(average, modifier, f\"{metric.capitalize()} is\", len(result))\n"
     ]
    },
    {
     "name": "stdout",
     "output_type": "stream",
     "text": [
      " [============================>.] | Loss: 0.976 | Acc: 64.948% (2331/3589)      29/29 \n",
      "Metrics saved to FER2013_EfficientNetB0\\metrics.csv\n",
      "\n",
      "Epoch: 12\n",
      "learning_rate: 0.01\n"
     ]
    },
    {
     "name": "stderr",
     "output_type": "stream",
     "text": [
      "F:\\FER-2013 Project\\facialexpressionrecogination\\Lib\\site-packages\\sklearn\\metrics\\_classification.py:1531: UndefinedMetricWarning: Precision is ill-defined and being set to 0.0 in labels with no predicted samples. Use `zero_division` parameter to control this behavior.\n",
      "  _warn_prf(average, modifier, f\"{metric.capitalize()} is\", len(result))\n",
      "F:\\FER-2013 Project\\facialexpressionrecogination\\Lib\\site-packages\\sklearn\\metrics\\_classification.py:1531: UndefinedMetricWarning: Recall is ill-defined and being set to 0.0 in labels with no true samples. Use `zero_division` parameter to control this behavior.\n",
      "  _warn_prf(average, modifier, f\"{metric.capitalize()} is\", len(result))\n"
     ]
    },
    {
     "name": "stdout",
     "output_type": "stream",
     "text": [
      " [=============================>] | Loss: 0.694 | Acc: 74.165% (21292/28709)    225/225 \n",
      " [============================>.] | Loss: 0.945 | Acc: 65.812% (2362/3589)      29/29 \n",
      "Saving..\n",
      "best_Testing_acc: 65.812\n"
     ]
    },
    {
     "name": "stderr",
     "output_type": "stream",
     "text": [
      "F:\\FER-2013 Project\\facialexpressionrecogination\\Lib\\site-packages\\sklearn\\metrics\\_classification.py:1531: UndefinedMetricWarning: Precision is ill-defined and being set to 0.0 in labels with no predicted samples. Use `zero_division` parameter to control this behavior.\n",
      "  _warn_prf(average, modifier, f\"{metric.capitalize()} is\", len(result))\n",
      "F:\\FER-2013 Project\\facialexpressionrecogination\\Lib\\site-packages\\sklearn\\metrics\\_classification.py:1531: UndefinedMetricWarning: Recall is ill-defined and being set to 0.0 in labels with no true samples. Use `zero_division` parameter to control this behavior.\n",
      "  _warn_prf(average, modifier, f\"{metric.capitalize()} is\", len(result))\n"
     ]
    },
    {
     "name": "stdout",
     "output_type": "stream",
     "text": [
      " [============================>.] | Loss: 0.945 | Acc: 65.812% (2362/3589)      29/29 \n",
      "Saving..\n",
      "best_Validation_acc: 65.812\n",
      "Metrics saved to FER2013_EfficientNetB0\\metrics.csv\n",
      "\n",
      "Epoch: 13\n",
      "learning_rate: 0.01\n"
     ]
    },
    {
     "name": "stderr",
     "output_type": "stream",
     "text": [
      "F:\\FER-2013 Project\\facialexpressionrecogination\\Lib\\site-packages\\sklearn\\metrics\\_classification.py:1531: UndefinedMetricWarning: Precision is ill-defined and being set to 0.0 in labels with no predicted samples. Use `zero_division` parameter to control this behavior.\n",
      "  _warn_prf(average, modifier, f\"{metric.capitalize()} is\", len(result))\n",
      "F:\\FER-2013 Project\\facialexpressionrecogination\\Lib\\site-packages\\sklearn\\metrics\\_classification.py:1531: UndefinedMetricWarning: Recall is ill-defined and being set to 0.0 in labels with no true samples. Use `zero_division` parameter to control this behavior.\n",
      "  _warn_prf(average, modifier, f\"{metric.capitalize()} is\", len(result))\n"
     ]
    },
    {
     "name": "stdout",
     "output_type": "stream",
     "text": [
      " [=============================>] | Loss: 0.658 | Acc: 75.680% (21727/28709)    225/225 \n",
      " [============================>.] | Loss: 0.979 | Acc: 65.450% (2349/3589)      29/29 \n"
     ]
    },
    {
     "name": "stderr",
     "output_type": "stream",
     "text": [
      "F:\\FER-2013 Project\\facialexpressionrecogination\\Lib\\site-packages\\sklearn\\metrics\\_classification.py:1531: UndefinedMetricWarning: Precision is ill-defined and being set to 0.0 in labels with no predicted samples. Use `zero_division` parameter to control this behavior.\n",
      "  _warn_prf(average, modifier, f\"{metric.capitalize()} is\", len(result))\n",
      "F:\\FER-2013 Project\\facialexpressionrecogination\\Lib\\site-packages\\sklearn\\metrics\\_classification.py:1531: UndefinedMetricWarning: Recall is ill-defined and being set to 0.0 in labels with no true samples. Use `zero_division` parameter to control this behavior.\n",
      "  _warn_prf(average, modifier, f\"{metric.capitalize()} is\", len(result))\n"
     ]
    },
    {
     "name": "stdout",
     "output_type": "stream",
     "text": [
      " [============================>.] | Loss: 0.979 | Acc: 65.450% (2349/3589)      29/29 \n",
      "Metrics saved to FER2013_EfficientNetB0\\metrics.csv\n",
      "\n",
      "Epoch: 14\n",
      "learning_rate: 0.01\n"
     ]
    },
    {
     "name": "stderr",
     "output_type": "stream",
     "text": [
      "F:\\FER-2013 Project\\facialexpressionrecogination\\Lib\\site-packages\\sklearn\\metrics\\_classification.py:1531: UndefinedMetricWarning: Precision is ill-defined and being set to 0.0 in labels with no predicted samples. Use `zero_division` parameter to control this behavior.\n",
      "  _warn_prf(average, modifier, f\"{metric.capitalize()} is\", len(result))\n",
      "F:\\FER-2013 Project\\facialexpressionrecogination\\Lib\\site-packages\\sklearn\\metrics\\_classification.py:1531: UndefinedMetricWarning: Recall is ill-defined and being set to 0.0 in labels with no true samples. Use `zero_division` parameter to control this behavior.\n",
      "  _warn_prf(average, modifier, f\"{metric.capitalize()} is\", len(result))\n"
     ]
    },
    {
     "name": "stdout",
     "output_type": "stream",
     "text": [
      " [=============================>] | Loss: 0.624 | Acc: 76.533% (21972/28709)    225/225 \n",
      " [============================>.] | Loss: 0.963 | Acc: 66.481% (2386/3589)      29/29 \n",
      "Saving..\n",
      "best_Testing_acc: 66.481\n"
     ]
    },
    {
     "name": "stderr",
     "output_type": "stream",
     "text": [
      "F:\\FER-2013 Project\\facialexpressionrecogination\\Lib\\site-packages\\sklearn\\metrics\\_classification.py:1531: UndefinedMetricWarning: Precision is ill-defined and being set to 0.0 in labels with no predicted samples. Use `zero_division` parameter to control this behavior.\n",
      "  _warn_prf(average, modifier, f\"{metric.capitalize()} is\", len(result))\n",
      "F:\\FER-2013 Project\\facialexpressionrecogination\\Lib\\site-packages\\sklearn\\metrics\\_classification.py:1531: UndefinedMetricWarning: Recall is ill-defined and being set to 0.0 in labels with no true samples. Use `zero_division` parameter to control this behavior.\n",
      "  _warn_prf(average, modifier, f\"{metric.capitalize()} is\", len(result))\n"
     ]
    },
    {
     "name": "stdout",
     "output_type": "stream",
     "text": [
      " [============================>.] | Loss: 0.963 | Acc: 66.481% (2386/3589)      29/29 \n",
      "Saving..\n",
      "best_Validation_acc: 66.481\n",
      "Metrics saved to FER2013_EfficientNetB0\\metrics.csv\n",
      "\n",
      "Epoch: 15\n",
      "learning_rate: 0.01\n"
     ]
    },
    {
     "name": "stderr",
     "output_type": "stream",
     "text": [
      "F:\\FER-2013 Project\\facialexpressionrecogination\\Lib\\site-packages\\sklearn\\metrics\\_classification.py:1531: UndefinedMetricWarning: Precision is ill-defined and being set to 0.0 in labels with no predicted samples. Use `zero_division` parameter to control this behavior.\n",
      "  _warn_prf(average, modifier, f\"{metric.capitalize()} is\", len(result))\n",
      "F:\\FER-2013 Project\\facialexpressionrecogination\\Lib\\site-packages\\sklearn\\metrics\\_classification.py:1531: UndefinedMetricWarning: Recall is ill-defined and being set to 0.0 in labels with no true samples. Use `zero_division` parameter to control this behavior.\n",
      "  _warn_prf(average, modifier, f\"{metric.capitalize()} is\", len(result))\n"
     ]
    },
    {
     "name": "stdout",
     "output_type": "stream",
     "text": [
      " [=============================>] | Loss: 0.599 | Acc: 77.780% (22330/28709)    225/225 \n",
      " [============================>.] | Loss: 0.988 | Acc: 66.007% (2369/3589)      29/29 \n"
     ]
    },
    {
     "name": "stderr",
     "output_type": "stream",
     "text": [
      "F:\\FER-2013 Project\\facialexpressionrecogination\\Lib\\site-packages\\sklearn\\metrics\\_classification.py:1531: UndefinedMetricWarning: Precision is ill-defined and being set to 0.0 in labels with no predicted samples. Use `zero_division` parameter to control this behavior.\n",
      "  _warn_prf(average, modifier, f\"{metric.capitalize()} is\", len(result))\n",
      "F:\\FER-2013 Project\\facialexpressionrecogination\\Lib\\site-packages\\sklearn\\metrics\\_classification.py:1531: UndefinedMetricWarning: Recall is ill-defined and being set to 0.0 in labels with no true samples. Use `zero_division` parameter to control this behavior.\n",
      "  _warn_prf(average, modifier, f\"{metric.capitalize()} is\", len(result))\n"
     ]
    },
    {
     "name": "stdout",
     "output_type": "stream",
     "text": [
      " [============================>.] | Loss: 0.988 | Acc: 66.007% (2369/3589)      29/29 \n",
      "Metrics saved to FER2013_EfficientNetB0\\metrics.csv\n",
      "\n",
      "Epoch: 16\n",
      "learning_rate: 0.01\n"
     ]
    },
    {
     "name": "stderr",
     "output_type": "stream",
     "text": [
      "F:\\FER-2013 Project\\facialexpressionrecogination\\Lib\\site-packages\\sklearn\\metrics\\_classification.py:1531: UndefinedMetricWarning: Precision is ill-defined and being set to 0.0 in labels with no predicted samples. Use `zero_division` parameter to control this behavior.\n",
      "  _warn_prf(average, modifier, f\"{metric.capitalize()} is\", len(result))\n",
      "F:\\FER-2013 Project\\facialexpressionrecogination\\Lib\\site-packages\\sklearn\\metrics\\_classification.py:1531: UndefinedMetricWarning: Recall is ill-defined and being set to 0.0 in labels with no true samples. Use `zero_division` parameter to control this behavior.\n",
      "  _warn_prf(average, modifier, f\"{metric.capitalize()} is\", len(result))\n"
     ]
    },
    {
     "name": "stdout",
     "output_type": "stream",
     "text": [
      " [=============================>] | Loss: 0.556 | Acc: 79.351% (22781/28709)    225/225 \n",
      " [============================>.] | Loss: 0.983 | Acc: 66.955% (2403/3589)      29/29 \n",
      "Saving..\n",
      "best_Testing_acc: 66.955\n"
     ]
    },
    {
     "name": "stderr",
     "output_type": "stream",
     "text": [
      "F:\\FER-2013 Project\\facialexpressionrecogination\\Lib\\site-packages\\sklearn\\metrics\\_classification.py:1531: UndefinedMetricWarning: Precision is ill-defined and being set to 0.0 in labels with no predicted samples. Use `zero_division` parameter to control this behavior.\n",
      "  _warn_prf(average, modifier, f\"{metric.capitalize()} is\", len(result))\n",
      "F:\\FER-2013 Project\\facialexpressionrecogination\\Lib\\site-packages\\sklearn\\metrics\\_classification.py:1531: UndefinedMetricWarning: Recall is ill-defined and being set to 0.0 in labels with no true samples. Use `zero_division` parameter to control this behavior.\n",
      "  _warn_prf(average, modifier, f\"{metric.capitalize()} is\", len(result))\n"
     ]
    },
    {
     "name": "stdout",
     "output_type": "stream",
     "text": [
      " [============================>.] | Loss: 0.983 | Acc: 66.955% (2403/3589)      29/29 \n",
      "Saving..\n",
      "best_Validation_acc: 66.955\n",
      "Metrics saved to FER2013_EfficientNetB0\\metrics.csv\n",
      "\n",
      "Epoch: 17\n",
      "learning_rate: 0.01\n"
     ]
    },
    {
     "name": "stderr",
     "output_type": "stream",
     "text": [
      "F:\\FER-2013 Project\\facialexpressionrecogination\\Lib\\site-packages\\sklearn\\metrics\\_classification.py:1531: UndefinedMetricWarning: Precision is ill-defined and being set to 0.0 in labels with no predicted samples. Use `zero_division` parameter to control this behavior.\n",
      "  _warn_prf(average, modifier, f\"{metric.capitalize()} is\", len(result))\n",
      "F:\\FER-2013 Project\\facialexpressionrecogination\\Lib\\site-packages\\sklearn\\metrics\\_classification.py:1531: UndefinedMetricWarning: Recall is ill-defined and being set to 0.0 in labels with no true samples. Use `zero_division` parameter to control this behavior.\n",
      "  _warn_prf(average, modifier, f\"{metric.capitalize()} is\", len(result))\n"
     ]
    },
    {
     "name": "stdout",
     "output_type": "stream",
     "text": [
      " [=============================>] | Loss: 0.538 | Acc: 80.205% (23026/28709)    225/225 \n",
      " [============================>.] | Loss: 1.003 | Acc: 66.899% (2401/3589)      29/29 \n"
     ]
    },
    {
     "name": "stderr",
     "output_type": "stream",
     "text": [
      "F:\\FER-2013 Project\\facialexpressionrecogination\\Lib\\site-packages\\sklearn\\metrics\\_classification.py:1531: UndefinedMetricWarning: Precision is ill-defined and being set to 0.0 in labels with no predicted samples. Use `zero_division` parameter to control this behavior.\n",
      "  _warn_prf(average, modifier, f\"{metric.capitalize()} is\", len(result))\n",
      "F:\\FER-2013 Project\\facialexpressionrecogination\\Lib\\site-packages\\sklearn\\metrics\\_classification.py:1531: UndefinedMetricWarning: Recall is ill-defined and being set to 0.0 in labels with no true samples. Use `zero_division` parameter to control this behavior.\n",
      "  _warn_prf(average, modifier, f\"{metric.capitalize()} is\", len(result))\n"
     ]
    },
    {
     "name": "stdout",
     "output_type": "stream",
     "text": [
      " [============================>.] | Loss: 1.003 | Acc: 66.899% (2401/3589)      29/29 \n",
      "Metrics saved to FER2013_EfficientNetB0\\metrics.csv\n",
      "\n",
      "Epoch: 18\n",
      "learning_rate: 0.01\n"
     ]
    },
    {
     "name": "stderr",
     "output_type": "stream",
     "text": [
      "F:\\FER-2013 Project\\facialexpressionrecogination\\Lib\\site-packages\\sklearn\\metrics\\_classification.py:1531: UndefinedMetricWarning: Precision is ill-defined and being set to 0.0 in labels with no predicted samples. Use `zero_division` parameter to control this behavior.\n",
      "  _warn_prf(average, modifier, f\"{metric.capitalize()} is\", len(result))\n",
      "F:\\FER-2013 Project\\facialexpressionrecogination\\Lib\\site-packages\\sklearn\\metrics\\_classification.py:1531: UndefinedMetricWarning: Recall is ill-defined and being set to 0.0 in labels with no true samples. Use `zero_division` parameter to control this behavior.\n",
      "  _warn_prf(average, modifier, f\"{metric.capitalize()} is\", len(result))\n"
     ]
    },
    {
     "name": "stdout",
     "output_type": "stream",
     "text": [
      " [=============================>] | Loss: 0.517 | Acc: 80.992% (23252/28709)    225/225 \n",
      " [============================>.] | Loss: 1.039 | Acc: 65.756% (2360/3589)      29/29 \n"
     ]
    },
    {
     "name": "stderr",
     "output_type": "stream",
     "text": [
      "F:\\FER-2013 Project\\facialexpressionrecogination\\Lib\\site-packages\\sklearn\\metrics\\_classification.py:1531: UndefinedMetricWarning: Precision is ill-defined and being set to 0.0 in labels with no predicted samples. Use `zero_division` parameter to control this behavior.\n",
      "  _warn_prf(average, modifier, f\"{metric.capitalize()} is\", len(result))\n",
      "F:\\FER-2013 Project\\facialexpressionrecogination\\Lib\\site-packages\\sklearn\\metrics\\_classification.py:1531: UndefinedMetricWarning: Recall is ill-defined and being set to 0.0 in labels with no true samples. Use `zero_division` parameter to control this behavior.\n",
      "  _warn_prf(average, modifier, f\"{metric.capitalize()} is\", len(result))\n"
     ]
    },
    {
     "name": "stdout",
     "output_type": "stream",
     "text": [
      " [============================>.] | Loss: 1.039 | Acc: 65.756% (2360/3589)      29/29 \n",
      "Metrics saved to FER2013_EfficientNetB0\\metrics.csv\n",
      "\n",
      "Epoch: 19\n",
      "learning_rate: 0.01\n"
     ]
    },
    {
     "name": "stderr",
     "output_type": "stream",
     "text": [
      "F:\\FER-2013 Project\\facialexpressionrecogination\\Lib\\site-packages\\sklearn\\metrics\\_classification.py:1531: UndefinedMetricWarning: Precision is ill-defined and being set to 0.0 in labels with no predicted samples. Use `zero_division` parameter to control this behavior.\n",
      "  _warn_prf(average, modifier, f\"{metric.capitalize()} is\", len(result))\n",
      "F:\\FER-2013 Project\\facialexpressionrecogination\\Lib\\site-packages\\sklearn\\metrics\\_classification.py:1531: UndefinedMetricWarning: Recall is ill-defined and being set to 0.0 in labels with no true samples. Use `zero_division` parameter to control this behavior.\n",
      "  _warn_prf(average, modifier, f\"{metric.capitalize()} is\", len(result))\n"
     ]
    },
    {
     "name": "stdout",
     "output_type": "stream",
     "text": [
      " [=============================>] | Loss: 0.489 | Acc: 82.107% (23572/28709)    225/225 \n",
      " [============================>.] | Loss: 1.033 | Acc: 66.815% (2398/3589)      29/29 \n"
     ]
    },
    {
     "name": "stderr",
     "output_type": "stream",
     "text": [
      "F:\\FER-2013 Project\\facialexpressionrecogination\\Lib\\site-packages\\sklearn\\metrics\\_classification.py:1531: UndefinedMetricWarning: Precision is ill-defined and being set to 0.0 in labels with no predicted samples. Use `zero_division` parameter to control this behavior.\n",
      "  _warn_prf(average, modifier, f\"{metric.capitalize()} is\", len(result))\n",
      "F:\\FER-2013 Project\\facialexpressionrecogination\\Lib\\site-packages\\sklearn\\metrics\\_classification.py:1531: UndefinedMetricWarning: Recall is ill-defined and being set to 0.0 in labels with no true samples. Use `zero_division` parameter to control this behavior.\n",
      "  _warn_prf(average, modifier, f\"{metric.capitalize()} is\", len(result))\n"
     ]
    },
    {
     "name": "stdout",
     "output_type": "stream",
     "text": [
      " [============================>.] | Loss: 1.033 | Acc: 66.815% (2398/3589)      29/29 \n",
      "Metrics saved to FER2013_EfficientNetB0\\metrics.csv\n",
      "\n",
      "Epoch: 20\n",
      "learning_rate: 0.01\n"
     ]
    },
    {
     "name": "stderr",
     "output_type": "stream",
     "text": [
      "F:\\FER-2013 Project\\facialexpressionrecogination\\Lib\\site-packages\\sklearn\\metrics\\_classification.py:1531: UndefinedMetricWarning: Precision is ill-defined and being set to 0.0 in labels with no predicted samples. Use `zero_division` parameter to control this behavior.\n",
      "  _warn_prf(average, modifier, f\"{metric.capitalize()} is\", len(result))\n",
      "F:\\FER-2013 Project\\facialexpressionrecogination\\Lib\\site-packages\\sklearn\\metrics\\_classification.py:1531: UndefinedMetricWarning: Recall is ill-defined and being set to 0.0 in labels with no true samples. Use `zero_division` parameter to control this behavior.\n",
      "  _warn_prf(average, modifier, f\"{metric.capitalize()} is\", len(result))\n"
     ]
    },
    {
     "name": "stdout",
     "output_type": "stream",
     "text": [
      " [=============================>] | Loss: 0.463 | Acc: 83.040% (23840/28709)    225/225 \n",
      " [============================>.] | Loss: 1.068 | Acc: 66.871% (2400/3589)      29/29 \n"
     ]
    },
    {
     "name": "stderr",
     "output_type": "stream",
     "text": [
      "F:\\FER-2013 Project\\facialexpressionrecogination\\Lib\\site-packages\\sklearn\\metrics\\_classification.py:1531: UndefinedMetricWarning: Precision is ill-defined and being set to 0.0 in labels with no predicted samples. Use `zero_division` parameter to control this behavior.\n",
      "  _warn_prf(average, modifier, f\"{metric.capitalize()} is\", len(result))\n",
      "F:\\FER-2013 Project\\facialexpressionrecogination\\Lib\\site-packages\\sklearn\\metrics\\_classification.py:1531: UndefinedMetricWarning: Recall is ill-defined and being set to 0.0 in labels with no true samples. Use `zero_division` parameter to control this behavior.\n",
      "  _warn_prf(average, modifier, f\"{metric.capitalize()} is\", len(result))\n"
     ]
    },
    {
     "name": "stdout",
     "output_type": "stream",
     "text": [
      " [============================>.] | Loss: 1.068 | Acc: 66.871% (2400/3589)      29/29 \n",
      "Metrics saved to FER2013_EfficientNetB0\\metrics.csv\n",
      "\n",
      "Epoch: 21\n",
      "learning_rate: 0.01\n"
     ]
    },
    {
     "name": "stderr",
     "output_type": "stream",
     "text": [
      "F:\\FER-2013 Project\\facialexpressionrecogination\\Lib\\site-packages\\sklearn\\metrics\\_classification.py:1531: UndefinedMetricWarning: Precision is ill-defined and being set to 0.0 in labels with no predicted samples. Use `zero_division` parameter to control this behavior.\n",
      "  _warn_prf(average, modifier, f\"{metric.capitalize()} is\", len(result))\n",
      "F:\\FER-2013 Project\\facialexpressionrecogination\\Lib\\site-packages\\sklearn\\metrics\\_classification.py:1531: UndefinedMetricWarning: Recall is ill-defined and being set to 0.0 in labels with no true samples. Use `zero_division` parameter to control this behavior.\n",
      "  _warn_prf(average, modifier, f\"{metric.capitalize()} is\", len(result))\n"
     ]
    },
    {
     "name": "stdout",
     "output_type": "stream",
     "text": [
      " [=============================>] | Loss: 0.440 | Acc: 83.726% (24037/28709)    225/225 \n",
      " [============================>.] | Loss: 1.117 | Acc: 66.174% (2375/3589)      29/29 \n"
     ]
    },
    {
     "name": "stderr",
     "output_type": "stream",
     "text": [
      "F:\\FER-2013 Project\\facialexpressionrecogination\\Lib\\site-packages\\sklearn\\metrics\\_classification.py:1531: UndefinedMetricWarning: Precision is ill-defined and being set to 0.0 in labels with no predicted samples. Use `zero_division` parameter to control this behavior.\n",
      "  _warn_prf(average, modifier, f\"{metric.capitalize()} is\", len(result))\n",
      "F:\\FER-2013 Project\\facialexpressionrecogination\\Lib\\site-packages\\sklearn\\metrics\\_classification.py:1531: UndefinedMetricWarning: Recall is ill-defined and being set to 0.0 in labels with no true samples. Use `zero_division` parameter to control this behavior.\n",
      "  _warn_prf(average, modifier, f\"{metric.capitalize()} is\", len(result))\n"
     ]
    },
    {
     "name": "stdout",
     "output_type": "stream",
     "text": [
      " [============================>.] | Loss: 1.117 | Acc: 66.174% (2375/3589)      29/29 \n",
      "Metrics saved to FER2013_EfficientNetB0\\metrics.csv\n",
      "\n",
      "Epoch: 22\n",
      "learning_rate: 0.01\n"
     ]
    },
    {
     "name": "stderr",
     "output_type": "stream",
     "text": [
      "F:\\FER-2013 Project\\facialexpressionrecogination\\Lib\\site-packages\\sklearn\\metrics\\_classification.py:1531: UndefinedMetricWarning: Precision is ill-defined and being set to 0.0 in labels with no predicted samples. Use `zero_division` parameter to control this behavior.\n",
      "  _warn_prf(average, modifier, f\"{metric.capitalize()} is\", len(result))\n",
      "F:\\FER-2013 Project\\facialexpressionrecogination\\Lib\\site-packages\\sklearn\\metrics\\_classification.py:1531: UndefinedMetricWarning: Recall is ill-defined and being set to 0.0 in labels with no true samples. Use `zero_division` parameter to control this behavior.\n",
      "  _warn_prf(average, modifier, f\"{metric.capitalize()} is\", len(result))\n"
     ]
    },
    {
     "name": "stdout",
     "output_type": "stream",
     "text": [
      " [=============================>] | Loss: 0.418 | Acc: 84.691% (24314/28709)    225/225 \n",
      " [============================>.] | Loss: 1.089 | Acc: 66.453% (2385/3589)      29/29 \n"
     ]
    },
    {
     "name": "stderr",
     "output_type": "stream",
     "text": [
      "F:\\FER-2013 Project\\facialexpressionrecogination\\Lib\\site-packages\\sklearn\\metrics\\_classification.py:1531: UndefinedMetricWarning: Precision is ill-defined and being set to 0.0 in labels with no predicted samples. Use `zero_division` parameter to control this behavior.\n",
      "  _warn_prf(average, modifier, f\"{metric.capitalize()} is\", len(result))\n",
      "F:\\FER-2013 Project\\facialexpressionrecogination\\Lib\\site-packages\\sklearn\\metrics\\_classification.py:1531: UndefinedMetricWarning: Recall is ill-defined and being set to 0.0 in labels with no true samples. Use `zero_division` parameter to control this behavior.\n",
      "  _warn_prf(average, modifier, f\"{metric.capitalize()} is\", len(result))\n"
     ]
    },
    {
     "name": "stdout",
     "output_type": "stream",
     "text": [
      " [============================>.] | Loss: 1.089 | Acc: 66.453% (2385/3589)      29/29 \n",
      "Metrics saved to FER2013_EfficientNetB0\\metrics.csv\n",
      "\n",
      "Epoch: 23\n",
      "learning_rate: 0.01\n"
     ]
    },
    {
     "name": "stderr",
     "output_type": "stream",
     "text": [
      "F:\\FER-2013 Project\\facialexpressionrecogination\\Lib\\site-packages\\sklearn\\metrics\\_classification.py:1531: UndefinedMetricWarning: Precision is ill-defined and being set to 0.0 in labels with no predicted samples. Use `zero_division` parameter to control this behavior.\n",
      "  _warn_prf(average, modifier, f\"{metric.capitalize()} is\", len(result))\n",
      "F:\\FER-2013 Project\\facialexpressionrecogination\\Lib\\site-packages\\sklearn\\metrics\\_classification.py:1531: UndefinedMetricWarning: Recall is ill-defined and being set to 0.0 in labels with no true samples. Use `zero_division` parameter to control this behavior.\n",
      "  _warn_prf(average, modifier, f\"{metric.capitalize()} is\", len(result))\n"
     ]
    },
    {
     "name": "stdout",
     "output_type": "stream",
     "text": [
      " [=============================>] | Loss: 0.412 | Acc: 84.921% (24380/28709)    225/225 \n",
      " [============================>.] | Loss: 1.113 | Acc: 66.843% (2399/3589)      29/29 \n"
     ]
    },
    {
     "name": "stderr",
     "output_type": "stream",
     "text": [
      "F:\\FER-2013 Project\\facialexpressionrecogination\\Lib\\site-packages\\sklearn\\metrics\\_classification.py:1531: UndefinedMetricWarning: Precision is ill-defined and being set to 0.0 in labels with no predicted samples. Use `zero_division` parameter to control this behavior.\n",
      "  _warn_prf(average, modifier, f\"{metric.capitalize()} is\", len(result))\n",
      "F:\\FER-2013 Project\\facialexpressionrecogination\\Lib\\site-packages\\sklearn\\metrics\\_classification.py:1531: UndefinedMetricWarning: Recall is ill-defined and being set to 0.0 in labels with no true samples. Use `zero_division` parameter to control this behavior.\n",
      "  _warn_prf(average, modifier, f\"{metric.capitalize()} is\", len(result))\n"
     ]
    },
    {
     "name": "stdout",
     "output_type": "stream",
     "text": [
      " [============================>.] | Loss: 1.113 | Acc: 66.843% (2399/3589)      29/29 \n",
      "Metrics saved to FER2013_EfficientNetB0\\metrics.csv\n",
      "\n",
      "Epoch: 24\n",
      "learning_rate: 0.01\n"
     ]
    },
    {
     "name": "stderr",
     "output_type": "stream",
     "text": [
      "F:\\FER-2013 Project\\facialexpressionrecogination\\Lib\\site-packages\\sklearn\\metrics\\_classification.py:1531: UndefinedMetricWarning: Precision is ill-defined and being set to 0.0 in labels with no predicted samples. Use `zero_division` parameter to control this behavior.\n",
      "  _warn_prf(average, modifier, f\"{metric.capitalize()} is\", len(result))\n",
      "F:\\FER-2013 Project\\facialexpressionrecogination\\Lib\\site-packages\\sklearn\\metrics\\_classification.py:1531: UndefinedMetricWarning: Recall is ill-defined and being set to 0.0 in labels with no true samples. Use `zero_division` parameter to control this behavior.\n",
      "  _warn_prf(average, modifier, f\"{metric.capitalize()} is\", len(result))\n"
     ]
    },
    {
     "name": "stdout",
     "output_type": "stream",
     "text": [
      " [=============================>] | Loss: 0.382 | Acc: 85.889% (24658/28709)    225/225 \n",
      " [============================>.] | Loss: 1.113 | Acc: 66.509% (2387/3589)      29/29 \n"
     ]
    },
    {
     "name": "stderr",
     "output_type": "stream",
     "text": [
      "F:\\FER-2013 Project\\facialexpressionrecogination\\Lib\\site-packages\\sklearn\\metrics\\_classification.py:1531: UndefinedMetricWarning: Precision is ill-defined and being set to 0.0 in labels with no predicted samples. Use `zero_division` parameter to control this behavior.\n",
      "  _warn_prf(average, modifier, f\"{metric.capitalize()} is\", len(result))\n",
      "F:\\FER-2013 Project\\facialexpressionrecogination\\Lib\\site-packages\\sklearn\\metrics\\_classification.py:1531: UndefinedMetricWarning: Recall is ill-defined and being set to 0.0 in labels with no true samples. Use `zero_division` parameter to control this behavior.\n",
      "  _warn_prf(average, modifier, f\"{metric.capitalize()} is\", len(result))\n"
     ]
    },
    {
     "name": "stdout",
     "output_type": "stream",
     "text": [
      " [============================>.] | Loss: 1.113 | Acc: 66.509% (2387/3589)      29/29 \n",
      "Metrics saved to FER2013_EfficientNetB0\\metrics.csv\n",
      "\n",
      "Epoch: 25\n",
      "learning_rate: 0.01\n"
     ]
    },
    {
     "name": "stderr",
     "output_type": "stream",
     "text": [
      "F:\\FER-2013 Project\\facialexpressionrecogination\\Lib\\site-packages\\sklearn\\metrics\\_classification.py:1531: UndefinedMetricWarning: Precision is ill-defined and being set to 0.0 in labels with no predicted samples. Use `zero_division` parameter to control this behavior.\n",
      "  _warn_prf(average, modifier, f\"{metric.capitalize()} is\", len(result))\n",
      "F:\\FER-2013 Project\\facialexpressionrecogination\\Lib\\site-packages\\sklearn\\metrics\\_classification.py:1531: UndefinedMetricWarning: Recall is ill-defined and being set to 0.0 in labels with no true samples. Use `zero_division` parameter to control this behavior.\n",
      "  _warn_prf(average, modifier, f\"{metric.capitalize()} is\", len(result))\n"
     ]
    },
    {
     "name": "stdout",
     "output_type": "stream",
     "text": [
      " [=============================>] | Loss: 0.373 | Acc: 86.656% (24878/28709)    225/225 \n",
      " [============================>.] | Loss: 1.138 | Acc: 66.202% (2376/3589)      29/29 \n"
     ]
    },
    {
     "name": "stderr",
     "output_type": "stream",
     "text": [
      "F:\\FER-2013 Project\\facialexpressionrecogination\\Lib\\site-packages\\sklearn\\metrics\\_classification.py:1531: UndefinedMetricWarning: Precision is ill-defined and being set to 0.0 in labels with no predicted samples. Use `zero_division` parameter to control this behavior.\n",
      "  _warn_prf(average, modifier, f\"{metric.capitalize()} is\", len(result))\n",
      "F:\\FER-2013 Project\\facialexpressionrecogination\\Lib\\site-packages\\sklearn\\metrics\\_classification.py:1531: UndefinedMetricWarning: Recall is ill-defined and being set to 0.0 in labels with no true samples. Use `zero_division` parameter to control this behavior.\n",
      "  _warn_prf(average, modifier, f\"{metric.capitalize()} is\", len(result))\n"
     ]
    },
    {
     "name": "stdout",
     "output_type": "stream",
     "text": [
      " [============================>.] | Loss: 1.138 | Acc: 66.202% (2376/3589)      29/29 \n",
      "Metrics saved to FER2013_EfficientNetB0\\metrics.csv\n",
      "\n",
      "Epoch: 26\n",
      "learning_rate: 0.01\n"
     ]
    },
    {
     "name": "stderr",
     "output_type": "stream",
     "text": [
      "F:\\FER-2013 Project\\facialexpressionrecogination\\Lib\\site-packages\\sklearn\\metrics\\_classification.py:1531: UndefinedMetricWarning: Precision is ill-defined and being set to 0.0 in labels with no predicted samples. Use `zero_division` parameter to control this behavior.\n",
      "  _warn_prf(average, modifier, f\"{metric.capitalize()} is\", len(result))\n",
      "F:\\FER-2013 Project\\facialexpressionrecogination\\Lib\\site-packages\\sklearn\\metrics\\_classification.py:1531: UndefinedMetricWarning: Recall is ill-defined and being set to 0.0 in labels with no true samples. Use `zero_division` parameter to control this behavior.\n",
      "  _warn_prf(average, modifier, f\"{metric.capitalize()} is\", len(result))\n"
     ]
    },
    {
     "name": "stdout",
     "output_type": "stream",
     "text": [
      " [=============================>] | Loss: 0.357 | Acc: 87.070% (24997/28709)    225/225 \n",
      " [============================>.] | Loss: 1.148 | Acc: 66.787% (2397/3589)      29/29 \n",
      " [============================>.] | Loss: 1.148 | Acc: 66.787% (2397/3589)      29/29 \n",
      "Metrics saved to FER2013_EfficientNetB0\\metrics.csv\n",
      "\n",
      "Epoch: 27\n",
      "learning_rate: 0.01\n",
      " [=============================>] | Loss: 0.341 | Acc: 87.307% (25065/28709)    225/225 \n"
     ]
    },
    {
     "name": "stderr",
     "output_type": "stream",
     "text": [
      "F:\\FER-2013 Project\\facialexpressionrecogination\\Lib\\site-packages\\sklearn\\metrics\\_classification.py:1531: UndefinedMetricWarning: Recall is ill-defined and being set to 0.0 in labels with no true samples. Use `zero_division` parameter to control this behavior.\n",
      "  _warn_prf(average, modifier, f\"{metric.capitalize()} is\", len(result))\n"
     ]
    },
    {
     "name": "stdout",
     "output_type": "stream",
     "text": [
      " [============================>.] | Loss: 1.157 | Acc: 66.007% (2369/3589)      29/29 \n",
      " [============================>.] | Loss: 1.157 | Acc: 66.007% (2369/3589)      29/29 \n",
      "Metrics saved to FER2013_EfficientNetB0\\metrics.csv\n",
      "\n",
      "Epoch: 28\n",
      "learning_rate: 0.01\n",
      " [=============================>] | Loss: 0.329 | Acc: 88.087% (25289/28709)    225/225 \n",
      " [============================>.] | Loss: 1.198 | Acc: 67.373% (2418/3589)      29/29 \n",
      "Saving..\n",
      "best_Testing_acc: 67.373\n",
      " [============================>.] | Loss: 1.198 | Acc: 67.373% (2418/3589)      29/29 \n",
      "Saving..\n",
      "best_Validation_acc: 67.373\n",
      "Metrics saved to FER2013_EfficientNetB0\\metrics.csv\n",
      "\n",
      "Epoch: 29\n",
      "learning_rate: 0.01\n",
      " [=============================>] | Loss: 0.317 | Acc: 88.641% (25448/28709)    225/225 \n",
      " [============================>.] | Loss: 1.180 | Acc: 67.456% (2421/3589)      29/29 \n",
      "Saving..\n",
      "best_Testing_acc: 67.456\n",
      " [============================>.] | Loss: 1.180 | Acc: 67.456% (2421/3589)      29/29 \n",
      "Saving..\n",
      "best_Validation_acc: 67.456\n",
      "Metrics saved to FER2013_EfficientNetB0\\metrics.csv\n",
      "\n",
      "Epoch: 30\n",
      "learning_rate: 0.01\n",
      " [=============================>] | Loss: 0.306 | Acc: 89.003% (25552/28709)    225/225 \n",
      " [============================>.] | Loss: 1.225 | Acc: 66.091% (2372/3589)      29/29 \n"
     ]
    },
    {
     "name": "stderr",
     "output_type": "stream",
     "text": [
      "F:\\FER-2013 Project\\facialexpressionrecogination\\Lib\\site-packages\\sklearn\\metrics\\_classification.py:1531: UndefinedMetricWarning: Precision is ill-defined and being set to 0.0 in labels with no predicted samples. Use `zero_division` parameter to control this behavior.\n",
      "  _warn_prf(average, modifier, f\"{metric.capitalize()} is\", len(result))\n",
      "F:\\FER-2013 Project\\facialexpressionrecogination\\Lib\\site-packages\\sklearn\\metrics\\_classification.py:1531: UndefinedMetricWarning: Recall is ill-defined and being set to 0.0 in labels with no true samples. Use `zero_division` parameter to control this behavior.\n",
      "  _warn_prf(average, modifier, f\"{metric.capitalize()} is\", len(result))\n"
     ]
    },
    {
     "name": "stdout",
     "output_type": "stream",
     "text": [
      " [============================>.] | Loss: 1.225 | Acc: 66.091% (2372/3589)      29/29 \n",
      "Metrics saved to FER2013_EfficientNetB0\\metrics.csv\n",
      "\n",
      "Epoch: 31\n",
      "learning_rate: 0.01\n"
     ]
    },
    {
     "name": "stderr",
     "output_type": "stream",
     "text": [
      "F:\\FER-2013 Project\\facialexpressionrecogination\\Lib\\site-packages\\sklearn\\metrics\\_classification.py:1531: UndefinedMetricWarning: Precision is ill-defined and being set to 0.0 in labels with no predicted samples. Use `zero_division` parameter to control this behavior.\n",
      "  _warn_prf(average, modifier, f\"{metric.capitalize()} is\", len(result))\n",
      "F:\\FER-2013 Project\\facialexpressionrecogination\\Lib\\site-packages\\sklearn\\metrics\\_classification.py:1531: UndefinedMetricWarning: Recall is ill-defined and being set to 0.0 in labels with no true samples. Use `zero_division` parameter to control this behavior.\n",
      "  _warn_prf(average, modifier, f\"{metric.capitalize()} is\", len(result))\n"
     ]
    },
    {
     "name": "stdout",
     "output_type": "stream",
     "text": [
      " [=============================>] | Loss: 0.302 | Acc: 89.108% (25582/28709)    225/225 \n",
      " [============================>.] | Loss: 1.216 | Acc: 65.840% (2363/3589)      29/29 \n"
     ]
    },
    {
     "name": "stderr",
     "output_type": "stream",
     "text": [
      "F:\\FER-2013 Project\\facialexpressionrecogination\\Lib\\site-packages\\sklearn\\metrics\\_classification.py:1531: UndefinedMetricWarning: Precision is ill-defined and being set to 0.0 in labels with no predicted samples. Use `zero_division` parameter to control this behavior.\n",
      "  _warn_prf(average, modifier, f\"{metric.capitalize()} is\", len(result))\n"
     ]
    },
    {
     "name": "stdout",
     "output_type": "stream",
     "text": [
      " [============================>.] | Loss: 1.216 | Acc: 65.840% (2363/3589)      29/29 \n",
      "Metrics saved to FER2013_EfficientNetB0\\metrics.csv\n",
      "\n",
      "Epoch: 32\n",
      "learning_rate: 0.01\n"
     ]
    },
    {
     "name": "stderr",
     "output_type": "stream",
     "text": [
      "F:\\FER-2013 Project\\facialexpressionrecogination\\Lib\\site-packages\\sklearn\\metrics\\_classification.py:1531: UndefinedMetricWarning: Precision is ill-defined and being set to 0.0 in labels with no predicted samples. Use `zero_division` parameter to control this behavior.\n",
      "  _warn_prf(average, modifier, f\"{metric.capitalize()} is\", len(result))\n"
     ]
    },
    {
     "name": "stdout",
     "output_type": "stream",
     "text": [
      " [=============================>] | Loss: 0.288 | Acc: 89.916% (25814/28709)    225/225 \n",
      " [============================>.] | Loss: 1.244 | Acc: 66.899% (2401/3589)      29/29 \n"
     ]
    },
    {
     "name": "stderr",
     "output_type": "stream",
     "text": [
      "F:\\FER-2013 Project\\facialexpressionrecogination\\Lib\\site-packages\\sklearn\\metrics\\_classification.py:1531: UndefinedMetricWarning: Precision is ill-defined and being set to 0.0 in labels with no predicted samples. Use `zero_division` parameter to control this behavior.\n",
      "  _warn_prf(average, modifier, f\"{metric.capitalize()} is\", len(result))\n",
      "F:\\FER-2013 Project\\facialexpressionrecogination\\Lib\\site-packages\\sklearn\\metrics\\_classification.py:1531: UndefinedMetricWarning: Recall is ill-defined and being set to 0.0 in labels with no true samples. Use `zero_division` parameter to control this behavior.\n",
      "  _warn_prf(average, modifier, f\"{metric.capitalize()} is\", len(result))\n"
     ]
    },
    {
     "name": "stdout",
     "output_type": "stream",
     "text": [
      " [============================>.] | Loss: 1.244 | Acc: 66.899% (2401/3589)      29/29 \n",
      "Metrics saved to FER2013_EfficientNetB0\\metrics.csv\n",
      "\n",
      "Epoch: 33\n",
      "learning_rate: 0.01\n"
     ]
    },
    {
     "name": "stderr",
     "output_type": "stream",
     "text": [
      "F:\\FER-2013 Project\\facialexpressionrecogination\\Lib\\site-packages\\sklearn\\metrics\\_classification.py:1531: UndefinedMetricWarning: Precision is ill-defined and being set to 0.0 in labels with no predicted samples. Use `zero_division` parameter to control this behavior.\n",
      "  _warn_prf(average, modifier, f\"{metric.capitalize()} is\", len(result))\n",
      "F:\\FER-2013 Project\\facialexpressionrecogination\\Lib\\site-packages\\sklearn\\metrics\\_classification.py:1531: UndefinedMetricWarning: Recall is ill-defined and being set to 0.0 in labels with no true samples. Use `zero_division` parameter to control this behavior.\n",
      "  _warn_prf(average, modifier, f\"{metric.capitalize()} is\", len(result))\n"
     ]
    },
    {
     "name": "stdout",
     "output_type": "stream",
     "text": [
      " [=============================>] | Loss: 0.287 | Acc: 89.812% (25784/28709)    225/225 \n",
      " [============================>.] | Loss: 1.251 | Acc: 66.760% (2396/3589)      29/29 \n",
      " [============================>.] | Loss: 1.251 | Acc: 66.760% (2396/3589)      29/29 \n",
      "Metrics saved to FER2013_EfficientNetB0\\metrics.csv\n",
      "\n",
      "Epoch: 34\n",
      "learning_rate: 0.01\n",
      " [=============================>] | Loss: 0.278 | Acc: 90.010% (25841/28709)    225/225 \n",
      " [============================>.] | Loss: 1.297 | Acc: 67.345% (2417/3589)      29/29 \n"
     ]
    },
    {
     "name": "stderr",
     "output_type": "stream",
     "text": [
      "F:\\FER-2013 Project\\facialexpressionrecogination\\Lib\\site-packages\\sklearn\\metrics\\_classification.py:1531: UndefinedMetricWarning: Precision is ill-defined and being set to 0.0 in labels with no predicted samples. Use `zero_division` parameter to control this behavior.\n",
      "  _warn_prf(average, modifier, f\"{metric.capitalize()} is\", len(result))\n",
      "F:\\FER-2013 Project\\facialexpressionrecogination\\Lib\\site-packages\\sklearn\\metrics\\_classification.py:1531: UndefinedMetricWarning: Recall is ill-defined and being set to 0.0 in labels with no true samples. Use `zero_division` parameter to control this behavior.\n",
      "  _warn_prf(average, modifier, f\"{metric.capitalize()} is\", len(result))\n"
     ]
    },
    {
     "name": "stdout",
     "output_type": "stream",
     "text": [
      " [============================>.] | Loss: 1.297 | Acc: 67.345% (2417/3589)      29/29 \n",
      "Metrics saved to FER2013_EfficientNetB0\\metrics.csv\n",
      "\n",
      "Epoch: 35\n",
      "learning_rate: 0.01\n"
     ]
    },
    {
     "name": "stderr",
     "output_type": "stream",
     "text": [
      "F:\\FER-2013 Project\\facialexpressionrecogination\\Lib\\site-packages\\sklearn\\metrics\\_classification.py:1531: UndefinedMetricWarning: Precision is ill-defined and being set to 0.0 in labels with no predicted samples. Use `zero_division` parameter to control this behavior.\n",
      "  _warn_prf(average, modifier, f\"{metric.capitalize()} is\", len(result))\n",
      "F:\\FER-2013 Project\\facialexpressionrecogination\\Lib\\site-packages\\sklearn\\metrics\\_classification.py:1531: UndefinedMetricWarning: Recall is ill-defined and being set to 0.0 in labels with no true samples. Use `zero_division` parameter to control this behavior.\n",
      "  _warn_prf(average, modifier, f\"{metric.capitalize()} is\", len(result))\n"
     ]
    },
    {
     "name": "stdout",
     "output_type": "stream",
     "text": [
      " [=============================>] | Loss: 0.258 | Acc: 90.884% (26092/28709)    225/225 \n",
      " [============================>.] | Loss: 1.262 | Acc: 67.177% (2411/3589)      29/29 \n"
     ]
    },
    {
     "name": "stderr",
     "output_type": "stream",
     "text": [
      "F:\\FER-2013 Project\\facialexpressionrecogination\\Lib\\site-packages\\sklearn\\metrics\\_classification.py:1531: UndefinedMetricWarning: Precision is ill-defined and being set to 0.0 in labels with no predicted samples. Use `zero_division` parameter to control this behavior.\n",
      "  _warn_prf(average, modifier, f\"{metric.capitalize()} is\", len(result))\n"
     ]
    },
    {
     "name": "stdout",
     "output_type": "stream",
     "text": [
      " [============================>.] | Loss: 1.262 | Acc: 67.177% (2411/3589)      29/29 \n",
      "Metrics saved to FER2013_EfficientNetB0\\metrics.csv\n",
      "\n",
      "Epoch: 36\n",
      "learning_rate: 0.01\n"
     ]
    },
    {
     "name": "stderr",
     "output_type": "stream",
     "text": [
      "F:\\FER-2013 Project\\facialexpressionrecogination\\Lib\\site-packages\\sklearn\\metrics\\_classification.py:1531: UndefinedMetricWarning: Precision is ill-defined and being set to 0.0 in labels with no predicted samples. Use `zero_division` parameter to control this behavior.\n",
      "  _warn_prf(average, modifier, f\"{metric.capitalize()} is\", len(result))\n"
     ]
    },
    {
     "name": "stdout",
     "output_type": "stream",
     "text": [
      " [=============================>] | Loss: 0.258 | Acc: 90.724% (26046/28709)    225/225 \n",
      " [============================>.] | Loss: 1.254 | Acc: 66.843% (2399/3589)      29/29 \n"
     ]
    },
    {
     "name": "stderr",
     "output_type": "stream",
     "text": [
      "F:\\FER-2013 Project\\facialexpressionrecogination\\Lib\\site-packages\\sklearn\\metrics\\_classification.py:1531: UndefinedMetricWarning: Precision is ill-defined and being set to 0.0 in labels with no predicted samples. Use `zero_division` parameter to control this behavior.\n",
      "  _warn_prf(average, modifier, f\"{metric.capitalize()} is\", len(result))\n",
      "F:\\FER-2013 Project\\facialexpressionrecogination\\Lib\\site-packages\\sklearn\\metrics\\_classification.py:1531: UndefinedMetricWarning: Recall is ill-defined and being set to 0.0 in labels with no true samples. Use `zero_division` parameter to control this behavior.\n",
      "  _warn_prf(average, modifier, f\"{metric.capitalize()} is\", len(result))\n"
     ]
    },
    {
     "name": "stdout",
     "output_type": "stream",
     "text": [
      " [============================>.] | Loss: 1.254 | Acc: 66.843% (2399/3589)      29/29 \n",
      "Metrics saved to FER2013_EfficientNetB0\\metrics.csv\n",
      "\n",
      "Epoch: 37\n",
      "learning_rate: 0.01\n"
     ]
    },
    {
     "name": "stderr",
     "output_type": "stream",
     "text": [
      "F:\\FER-2013 Project\\facialexpressionrecogination\\Lib\\site-packages\\sklearn\\metrics\\_classification.py:1531: UndefinedMetricWarning: Precision is ill-defined and being set to 0.0 in labels with no predicted samples. Use `zero_division` parameter to control this behavior.\n",
      "  _warn_prf(average, modifier, f\"{metric.capitalize()} is\", len(result))\n",
      "F:\\FER-2013 Project\\facialexpressionrecogination\\Lib\\site-packages\\sklearn\\metrics\\_classification.py:1531: UndefinedMetricWarning: Recall is ill-defined and being set to 0.0 in labels with no true samples. Use `zero_division` parameter to control this behavior.\n",
      "  _warn_prf(average, modifier, f\"{metric.capitalize()} is\", len(result))\n"
     ]
    },
    {
     "name": "stdout",
     "output_type": "stream",
     "text": [
      " [=============================>] | Loss: 0.251 | Acc: 90.846% (26081/28709)    225/225 \n",
      " [============================>.] | Loss: 1.300 | Acc: 65.784% (2361/3589)      29/29 \n",
      " [============================>.] | Loss: 1.300 | Acc: 65.784% (2361/3589)      29/29 \n",
      "Metrics saved to FER2013_EfficientNetB0\\metrics.csv\n",
      "\n",
      "Epoch: 38\n",
      "learning_rate: 0.01\n",
      " [=============================>] | Loss: 0.255 | Acc: 90.919% (26102/28709)    225/225 \n",
      " [============================>.] | Loss: 1.266 | Acc: 66.899% (2401/3589)      29/29 \n"
     ]
    },
    {
     "name": "stderr",
     "output_type": "stream",
     "text": [
      "F:\\FER-2013 Project\\facialexpressionrecogination\\Lib\\site-packages\\sklearn\\metrics\\_classification.py:1531: UndefinedMetricWarning: Precision is ill-defined and being set to 0.0 in labels with no predicted samples. Use `zero_division` parameter to control this behavior.\n",
      "  _warn_prf(average, modifier, f\"{metric.capitalize()} is\", len(result))\n",
      "F:\\FER-2013 Project\\facialexpressionrecogination\\Lib\\site-packages\\sklearn\\metrics\\_classification.py:1531: UndefinedMetricWarning: Recall is ill-defined and being set to 0.0 in labels with no true samples. Use `zero_division` parameter to control this behavior.\n",
      "  _warn_prf(average, modifier, f\"{metric.capitalize()} is\", len(result))\n"
     ]
    },
    {
     "name": "stdout",
     "output_type": "stream",
     "text": [
      " [============================>.] | Loss: 1.266 | Acc: 66.899% (2401/3589)      29/29 \n",
      "Metrics saved to FER2013_EfficientNetB0\\metrics.csv\n",
      "\n",
      "Epoch: 39\n",
      "learning_rate: 0.01\n"
     ]
    },
    {
     "name": "stderr",
     "output_type": "stream",
     "text": [
      "F:\\FER-2013 Project\\facialexpressionrecogination\\Lib\\site-packages\\sklearn\\metrics\\_classification.py:1531: UndefinedMetricWarning: Precision is ill-defined and being set to 0.0 in labels with no predicted samples. Use `zero_division` parameter to control this behavior.\n",
      "  _warn_prf(average, modifier, f\"{metric.capitalize()} is\", len(result))\n",
      "F:\\FER-2013 Project\\facialexpressionrecogination\\Lib\\site-packages\\sklearn\\metrics\\_classification.py:1531: UndefinedMetricWarning: Recall is ill-defined and being set to 0.0 in labels with no true samples. Use `zero_division` parameter to control this behavior.\n",
      "  _warn_prf(average, modifier, f\"{metric.capitalize()} is\", len(result))\n"
     ]
    },
    {
     "name": "stdout",
     "output_type": "stream",
     "text": [
      " [=============================>] | Loss: 0.248 | Acc: 91.153% (26169/28709)    225/225 \n",
      " [============================>.] | Loss: 1.305 | Acc: 66.732% (2395/3589)      29/29 \n"
     ]
    },
    {
     "name": "stderr",
     "output_type": "stream",
     "text": [
      "F:\\FER-2013 Project\\facialexpressionrecogination\\Lib\\site-packages\\sklearn\\metrics\\_classification.py:1531: UndefinedMetricWarning: Precision is ill-defined and being set to 0.0 in labels with no predicted samples. Use `zero_division` parameter to control this behavior.\n",
      "  _warn_prf(average, modifier, f\"{metric.capitalize()} is\", len(result))\n",
      "F:\\FER-2013 Project\\facialexpressionrecogination\\Lib\\site-packages\\sklearn\\metrics\\_classification.py:1531: UndefinedMetricWarning: Recall is ill-defined and being set to 0.0 in labels with no true samples. Use `zero_division` parameter to control this behavior.\n",
      "  _warn_prf(average, modifier, f\"{metric.capitalize()} is\", len(result))\n"
     ]
    },
    {
     "name": "stdout",
     "output_type": "stream",
     "text": [
      " [============================>.] | Loss: 1.305 | Acc: 66.732% (2395/3589)      29/29 \n",
      "Metrics saved to FER2013_EfficientNetB0\\metrics.csv\n",
      "\n",
      "Epoch: 40\n",
      "learning_rate: 0.01\n"
     ]
    },
    {
     "name": "stderr",
     "output_type": "stream",
     "text": [
      "F:\\FER-2013 Project\\facialexpressionrecogination\\Lib\\site-packages\\sklearn\\metrics\\_classification.py:1531: UndefinedMetricWarning: Precision is ill-defined and being set to 0.0 in labels with no predicted samples. Use `zero_division` parameter to control this behavior.\n",
      "  _warn_prf(average, modifier, f\"{metric.capitalize()} is\", len(result))\n",
      "F:\\FER-2013 Project\\facialexpressionrecogination\\Lib\\site-packages\\sklearn\\metrics\\_classification.py:1531: UndefinedMetricWarning: Recall is ill-defined and being set to 0.0 in labels with no true samples. Use `zero_division` parameter to control this behavior.\n",
      "  _warn_prf(average, modifier, f\"{metric.capitalize()} is\", len(result))\n"
     ]
    },
    {
     "name": "stdout",
     "output_type": "stream",
     "text": [
      " [=============================>] | Loss: 0.239 | Acc: 91.351% (26226/28709)    225/225 \n",
      " [============================>.] | Loss: 1.310 | Acc: 65.896% (2365/3589)      29/29 \n",
      " [============================>.] | Loss: 1.310 | Acc: 65.896% (2365/3589)      29/29 \n",
      "Metrics saved to FER2013_EfficientNetB0\\metrics.csv\n",
      "\n",
      "Epoch: 41\n",
      "learning_rate: 0.01\n",
      " [=============================>] | Loss: 0.232 | Acc: 91.672% (26318/28709)    225/225 \n",
      " [============================>.] | Loss: 1.341 | Acc: 66.843% (2399/3589)      29/29 \n"
     ]
    },
    {
     "name": "stderr",
     "output_type": "stream",
     "text": [
      "F:\\FER-2013 Project\\facialexpressionrecogination\\Lib\\site-packages\\sklearn\\metrics\\_classification.py:1531: UndefinedMetricWarning: Precision is ill-defined and being set to 0.0 in labels with no predicted samples. Use `zero_division` parameter to control this behavior.\n",
      "  _warn_prf(average, modifier, f\"{metric.capitalize()} is\", len(result))\n",
      "F:\\FER-2013 Project\\facialexpressionrecogination\\Lib\\site-packages\\sklearn\\metrics\\_classification.py:1531: UndefinedMetricWarning: Recall is ill-defined and being set to 0.0 in labels with no true samples. Use `zero_division` parameter to control this behavior.\n",
      "  _warn_prf(average, modifier, f\"{metric.capitalize()} is\", len(result))\n"
     ]
    },
    {
     "name": "stdout",
     "output_type": "stream",
     "text": [
      " [============================>.] | Loss: 1.341 | Acc: 66.843% (2399/3589)      29/29 \n",
      "Metrics saved to FER2013_EfficientNetB0\\metrics.csv\n",
      "\n",
      "Epoch: 42\n",
      "learning_rate: 0.01\n"
     ]
    },
    {
     "name": "stderr",
     "output_type": "stream",
     "text": [
      "F:\\FER-2013 Project\\facialexpressionrecogination\\Lib\\site-packages\\sklearn\\metrics\\_classification.py:1531: UndefinedMetricWarning: Precision is ill-defined and being set to 0.0 in labels with no predicted samples. Use `zero_division` parameter to control this behavior.\n",
      "  _warn_prf(average, modifier, f\"{metric.capitalize()} is\", len(result))\n",
      "F:\\FER-2013 Project\\facialexpressionrecogination\\Lib\\site-packages\\sklearn\\metrics\\_classification.py:1531: UndefinedMetricWarning: Recall is ill-defined and being set to 0.0 in labels with no true samples. Use `zero_division` parameter to control this behavior.\n",
      "  _warn_prf(average, modifier, f\"{metric.capitalize()} is\", len(result))\n"
     ]
    },
    {
     "name": "stdout",
     "output_type": "stream",
     "text": [
      " [=============================>] | Loss: 0.238 | Acc: 91.431% (26249/28709)    225/225 \n",
      " [============================>.] | Loss: 1.351 | Acc: 66.760% (2396/3589)      29/29 \n",
      " [============================>.] | Loss: 1.351 | Acc: 66.760% (2396/3589)      29/29 \n",
      "Metrics saved to FER2013_EfficientNetB0\\metrics.csv\n",
      "\n",
      "Epoch: 43\n",
      "learning_rate: 0.01\n",
      " [=============================>] | Loss: 0.238 | Acc: 91.445% (26253/28709)    225/225 \n",
      " [============================>.] | Loss: 1.285 | Acc: 67.038% (2406/3589)      29/29 \n",
      " [============================>.] | Loss: 1.285 | Acc: 67.038% (2406/3589)      29/29 \n",
      "Metrics saved to FER2013_EfficientNetB0\\metrics.csv\n",
      "\n",
      "Epoch: 44\n",
      "learning_rate: 0.01\n",
      " [=============================>] | Loss: 0.243 | Acc: 91.389% (26237/28709)    225/225 \n"
     ]
    },
    {
     "name": "stderr",
     "output_type": "stream",
     "text": [
      "F:\\FER-2013 Project\\facialexpressionrecogination\\Lib\\site-packages\\sklearn\\metrics\\_classification.py:1531: UndefinedMetricWarning: Recall is ill-defined and being set to 0.0 in labels with no true samples. Use `zero_division` parameter to control this behavior.\n",
      "  _warn_prf(average, modifier, f\"{metric.capitalize()} is\", len(result))\n"
     ]
    },
    {
     "name": "stdout",
     "output_type": "stream",
     "text": [
      " [============================>.] | Loss: 1.275 | Acc: 67.094% (2408/3589)      29/29 \n",
      " [============================>.] | Loss: 1.275 | Acc: 67.094% (2408/3589)      29/29 \n",
      "Metrics saved to FER2013_EfficientNetB0\\metrics.csv\n",
      "\n",
      "Epoch: 45\n",
      "learning_rate: 0.01\n",
      " [=============================>] | Loss: 0.223 | Acc: 92.274% (26491/28709)    225/225 \n",
      " [============================>.] | Loss: 1.346 | Acc: 66.481% (2386/3589)      29/29 \n",
      " [============================>.] | Loss: 1.346 | Acc: 66.481% (2386/3589)      29/29 \n",
      "Metrics saved to FER2013_EfficientNetB0\\metrics.csv\n",
      "\n",
      "Epoch: 46\n",
      "learning_rate: 0.01\n",
      " [=============================>] | Loss: 0.212 | Acc: 92.497% (26555/28709)    225/225 \n",
      " [============================>.] | Loss: 1.350 | Acc: 67.038% (2406/3589)      29/29 \n",
      " [============================>.] | Loss: 1.350 | Acc: 67.038% (2406/3589)      29/29 \n",
      "Metrics saved to FER2013_EfficientNetB0\\metrics.csv\n",
      "\n",
      "Epoch: 47\n",
      "learning_rate: 0.01\n",
      " [=============================>] | Loss: 0.221 | Acc: 92.048% (26426/28709)    225/225 \n",
      " [============================>.] | Loss: 1.333 | Acc: 66.509% (2387/3589)      29/29 \n",
      " [============================>.] | Loss: 1.333 | Acc: 66.509% (2387/3589)      29/29 \n",
      "Metrics saved to FER2013_EfficientNetB0\\metrics.csv\n",
      "\n",
      "Epoch: 48\n",
      "learning_rate: 0.01\n",
      " [=============================>] | Loss: 0.217 | Acc: 92.225% (26477/28709)    225/225 \n",
      " [============================>.] | Loss: 1.278 | Acc: 67.958% (2439/3589)      29/29 \n",
      "Saving..\n",
      "best_Testing_acc: 67.958\n"
     ]
    },
    {
     "name": "stderr",
     "output_type": "stream",
     "text": [
      "F:\\FER-2013 Project\\facialexpressionrecogination\\Lib\\site-packages\\sklearn\\metrics\\_classification.py:1531: UndefinedMetricWarning: Precision is ill-defined and being set to 0.0 in labels with no predicted samples. Use `zero_division` parameter to control this behavior.\n",
      "  _warn_prf(average, modifier, f\"{metric.capitalize()} is\", len(result))\n",
      "F:\\FER-2013 Project\\facialexpressionrecogination\\Lib\\site-packages\\sklearn\\metrics\\_classification.py:1531: UndefinedMetricWarning: Recall is ill-defined and being set to 0.0 in labels with no true samples. Use `zero_division` parameter to control this behavior.\n",
      "  _warn_prf(average, modifier, f\"{metric.capitalize()} is\", len(result))\n"
     ]
    },
    {
     "name": "stdout",
     "output_type": "stream",
     "text": [
      " [============================>.] | Loss: 1.278 | Acc: 67.958% (2439/3589)      29/29 \n",
      "Saving..\n",
      "best_Validation_acc: 67.958\n",
      "Metrics saved to FER2013_EfficientNetB0\\metrics.csv\n",
      "\n",
      "Epoch: 49\n",
      "learning_rate: 0.01\n"
     ]
    },
    {
     "name": "stderr",
     "output_type": "stream",
     "text": [
      "F:\\FER-2013 Project\\facialexpressionrecogination\\Lib\\site-packages\\sklearn\\metrics\\_classification.py:1531: UndefinedMetricWarning: Precision is ill-defined and being set to 0.0 in labels with no predicted samples. Use `zero_division` parameter to control this behavior.\n",
      "  _warn_prf(average, modifier, f\"{metric.capitalize()} is\", len(result))\n",
      "F:\\FER-2013 Project\\facialexpressionrecogination\\Lib\\site-packages\\sklearn\\metrics\\_classification.py:1531: UndefinedMetricWarning: Recall is ill-defined and being set to 0.0 in labels with no true samples. Use `zero_division` parameter to control this behavior.\n",
      "  _warn_prf(average, modifier, f\"{metric.capitalize()} is\", len(result))\n"
     ]
    },
    {
     "name": "stdout",
     "output_type": "stream",
     "text": [
      " [=============================>] | Loss: 0.219 | Acc: 92.215% (26474/28709)    225/225 \n",
      " [============================>.] | Loss: 1.362 | Acc: 67.122% (2409/3589)      29/29 \n"
     ]
    },
    {
     "name": "stderr",
     "output_type": "stream",
     "text": [
      "F:\\FER-2013 Project\\facialexpressionrecogination\\Lib\\site-packages\\sklearn\\metrics\\_classification.py:1531: UndefinedMetricWarning: Precision is ill-defined and being set to 0.0 in labels with no predicted samples. Use `zero_division` parameter to control this behavior.\n",
      "  _warn_prf(average, modifier, f\"{metric.capitalize()} is\", len(result))\n",
      "F:\\FER-2013 Project\\facialexpressionrecogination\\Lib\\site-packages\\sklearn\\metrics\\_classification.py:1531: UndefinedMetricWarning: Recall is ill-defined and being set to 0.0 in labels with no true samples. Use `zero_division` parameter to control this behavior.\n",
      "  _warn_prf(average, modifier, f\"{metric.capitalize()} is\", len(result))\n"
     ]
    },
    {
     "name": "stdout",
     "output_type": "stream",
     "text": [
      " [============================>.] | Loss: 1.362 | Acc: 67.122% (2409/3589)      29/29 \n",
      "Metrics saved to FER2013_EfficientNetB0\\metrics.csv\n"
     ]
    },
    {
     "name": "stderr",
     "output_type": "stream",
     "text": [
      "F:\\FER-2013 Project\\facialexpressionrecogination\\Lib\\site-packages\\sklearn\\metrics\\_classification.py:1531: UndefinedMetricWarning: Precision is ill-defined and being set to 0.0 in labels with no predicted samples. Use `zero_division` parameter to control this behavior.\n",
      "  _warn_prf(average, modifier, f\"{metric.capitalize()} is\", len(result))\n",
      "F:\\FER-2013 Project\\facialexpressionrecogination\\Lib\\site-packages\\sklearn\\metrics\\_classification.py:1531: UndefinedMetricWarning: Recall is ill-defined and being set to 0.0 in labels with no true samples. Use `zero_division` parameter to control this behavior.\n",
      "  _warn_prf(average, modifier, f\"{metric.capitalize()} is\", len(result))\n"
     ]
    }
   ],
   "source": [
    "for epoch in range(start_epoch, total_epoch):\n",
    "    train(epoch)\n",
    "    Testing(epoch)\n",
    "    Validation(epoch)\n",
    "    save_metrics()"
   ]
  },
  {
   "cell_type": "code",
   "execution_count": 13,
   "id": "52e99965-d9b9-443d-9b11-60a7d789ef6f",
   "metadata": {},
   "outputs": [
    {
     "name": "stdout",
     "output_type": "stream",
     "text": [
      "Metrics saved to FER2013_EfficientNetB0\\metrics.csv\n"
     ]
    }
   ],
   "source": [
    "save_metrics()"
   ]
  }
 ],
 "metadata": {
  "kernelspec": {
   "display_name": "Facial Expression Recognition",
   "language": "python",
   "name": "facialexpressionrecogination"
  },
  "language_info": {
   "codemirror_mode": {
    "name": "ipython",
    "version": 3
   },
   "file_extension": ".py",
   "mimetype": "text/x-python",
   "name": "python",
   "nbconvert_exporter": "python",
   "pygments_lexer": "ipython3",
   "version": "3.12.1"
  }
 },
 "nbformat": 4,
 "nbformat_minor": 5
}
